{
 "cells": [
  {
   "cell_type": "markdown",
   "metadata": {},
   "source": [
    "# Assignmet 4 - Answer"
   ]
  },
  {
   "cell_type": "code",
   "execution_count": 1,
   "metadata": {},
   "outputs": [],
   "source": [
    "import pandas as pd\n",
    "import numpy as np\n",
    "import matplotlib.pyplot as plt"
   ]
  },
  {
   "cell_type": "markdown",
   "metadata": {},
   "source": [
    "1. if instructions are not given, make any assumption you like\n",
    "\n",
    "import csv file ../resources/company_sales_data.csv\n",
    "\n",
    "use style seaborn-whitegrid\n",
    "\n",
    "use subplots  (with any layout you like)"
   ]
  },
  {
   "cell_type": "code",
   "execution_count": 2,
   "metadata": {},
   "outputs": [
    {
     "ename": "FileNotFoundError",
     "evalue": "[Errno 2] File ../resources/company_sales_data.csv does not exist: '../resources/company_sales_data.csv'",
     "output_type": "error",
     "traceback": [
      "\u001b[0;31m---------------------------------------------------------------------------\u001b[0m",
      "\u001b[0;31mFileNotFoundError\u001b[0m                         Traceback (most recent call last)",
      "\u001b[0;32m<ipython-input-2-a63277c72fca>\u001b[0m in \u001b[0;36m<module>\u001b[0;34m\u001b[0m\n\u001b[1;32m      1\u001b[0m \u001b[0mplt\u001b[0m\u001b[0;34m.\u001b[0m\u001b[0mstyle\u001b[0m\u001b[0;34m.\u001b[0m\u001b[0muse\u001b[0m\u001b[0;34m(\u001b[0m\u001b[0;34m'seaborn-whitegrid'\u001b[0m\u001b[0;34m)\u001b[0m\u001b[0;34m\u001b[0m\u001b[0;34m\u001b[0m\u001b[0m\n\u001b[1;32m      2\u001b[0m \u001b[0;34m\u001b[0m\u001b[0m\n\u001b[0;32m----> 3\u001b[0;31m \u001b[0mdf\u001b[0m \u001b[0;34m=\u001b[0m \u001b[0mpd\u001b[0m\u001b[0;34m.\u001b[0m\u001b[0mread_csv\u001b[0m\u001b[0;34m(\u001b[0m\u001b[0;34m\"../resources/company_sales_data.csv\"\u001b[0m\u001b[0;34m)\u001b[0m\u001b[0;34m\u001b[0m\u001b[0;34m\u001b[0m\u001b[0m\n\u001b[0m\u001b[1;32m      4\u001b[0m \u001b[0;31m#optional - for convenience\u001b[0m\u001b[0;34m\u001b[0m\u001b[0;34m\u001b[0m\u001b[0;34m\u001b[0m\u001b[0m\n\u001b[1;32m      5\u001b[0m \u001b[0mtotal_profit\u001b[0m \u001b[0;34m=\u001b[0m \u001b[0mdf\u001b[0m\u001b[0;34m[\u001b[0m\u001b[0;34m'total_profit'\u001b[0m\u001b[0;34m]\u001b[0m\u001b[0;34m\u001b[0m\u001b[0;34m\u001b[0m\u001b[0m\n",
      "\u001b[0;32m/opt/conda/lib/python3.8/site-packages/pandas/io/parsers.py\u001b[0m in \u001b[0;36mparser_f\u001b[0;34m(filepath_or_buffer, sep, delimiter, header, names, index_col, usecols, squeeze, prefix, mangle_dupe_cols, dtype, engine, converters, true_values, false_values, skipinitialspace, skiprows, skipfooter, nrows, na_values, keep_default_na, na_filter, verbose, skip_blank_lines, parse_dates, infer_datetime_format, keep_date_col, date_parser, dayfirst, cache_dates, iterator, chunksize, compression, thousands, decimal, lineterminator, quotechar, quoting, doublequote, escapechar, comment, encoding, dialect, error_bad_lines, warn_bad_lines, delim_whitespace, low_memory, memory_map, float_precision)\u001b[0m\n\u001b[1;32m    674\u001b[0m         )\n\u001b[1;32m    675\u001b[0m \u001b[0;34m\u001b[0m\u001b[0m\n\u001b[0;32m--> 676\u001b[0;31m         \u001b[0;32mreturn\u001b[0m \u001b[0m_read\u001b[0m\u001b[0;34m(\u001b[0m\u001b[0mfilepath_or_buffer\u001b[0m\u001b[0;34m,\u001b[0m \u001b[0mkwds\u001b[0m\u001b[0;34m)\u001b[0m\u001b[0;34m\u001b[0m\u001b[0;34m\u001b[0m\u001b[0m\n\u001b[0m\u001b[1;32m    677\u001b[0m \u001b[0;34m\u001b[0m\u001b[0m\n\u001b[1;32m    678\u001b[0m     \u001b[0mparser_f\u001b[0m\u001b[0;34m.\u001b[0m\u001b[0m__name__\u001b[0m \u001b[0;34m=\u001b[0m \u001b[0mname\u001b[0m\u001b[0;34m\u001b[0m\u001b[0;34m\u001b[0m\u001b[0m\n",
      "\u001b[0;32m/opt/conda/lib/python3.8/site-packages/pandas/io/parsers.py\u001b[0m in \u001b[0;36m_read\u001b[0;34m(filepath_or_buffer, kwds)\u001b[0m\n\u001b[1;32m    446\u001b[0m \u001b[0;34m\u001b[0m\u001b[0m\n\u001b[1;32m    447\u001b[0m     \u001b[0;31m# Create the parser.\u001b[0m\u001b[0;34m\u001b[0m\u001b[0;34m\u001b[0m\u001b[0;34m\u001b[0m\u001b[0m\n\u001b[0;32m--> 448\u001b[0;31m     \u001b[0mparser\u001b[0m \u001b[0;34m=\u001b[0m \u001b[0mTextFileReader\u001b[0m\u001b[0;34m(\u001b[0m\u001b[0mfp_or_buf\u001b[0m\u001b[0;34m,\u001b[0m \u001b[0;34m**\u001b[0m\u001b[0mkwds\u001b[0m\u001b[0;34m)\u001b[0m\u001b[0;34m\u001b[0m\u001b[0;34m\u001b[0m\u001b[0m\n\u001b[0m\u001b[1;32m    449\u001b[0m \u001b[0;34m\u001b[0m\u001b[0m\n\u001b[1;32m    450\u001b[0m     \u001b[0;32mif\u001b[0m \u001b[0mchunksize\u001b[0m \u001b[0;32mor\u001b[0m \u001b[0miterator\u001b[0m\u001b[0;34m:\u001b[0m\u001b[0;34m\u001b[0m\u001b[0;34m\u001b[0m\u001b[0m\n",
      "\u001b[0;32m/opt/conda/lib/python3.8/site-packages/pandas/io/parsers.py\u001b[0m in \u001b[0;36m__init__\u001b[0;34m(self, f, engine, **kwds)\u001b[0m\n\u001b[1;32m    878\u001b[0m             \u001b[0mself\u001b[0m\u001b[0;34m.\u001b[0m\u001b[0moptions\u001b[0m\u001b[0;34m[\u001b[0m\u001b[0;34m\"has_index_names\"\u001b[0m\u001b[0;34m]\u001b[0m \u001b[0;34m=\u001b[0m \u001b[0mkwds\u001b[0m\u001b[0;34m[\u001b[0m\u001b[0;34m\"has_index_names\"\u001b[0m\u001b[0;34m]\u001b[0m\u001b[0;34m\u001b[0m\u001b[0;34m\u001b[0m\u001b[0m\n\u001b[1;32m    879\u001b[0m \u001b[0;34m\u001b[0m\u001b[0m\n\u001b[0;32m--> 880\u001b[0;31m         \u001b[0mself\u001b[0m\u001b[0;34m.\u001b[0m\u001b[0m_make_engine\u001b[0m\u001b[0;34m(\u001b[0m\u001b[0mself\u001b[0m\u001b[0;34m.\u001b[0m\u001b[0mengine\u001b[0m\u001b[0;34m)\u001b[0m\u001b[0;34m\u001b[0m\u001b[0;34m\u001b[0m\u001b[0m\n\u001b[0m\u001b[1;32m    881\u001b[0m \u001b[0;34m\u001b[0m\u001b[0m\n\u001b[1;32m    882\u001b[0m     \u001b[0;32mdef\u001b[0m \u001b[0mclose\u001b[0m\u001b[0;34m(\u001b[0m\u001b[0mself\u001b[0m\u001b[0;34m)\u001b[0m\u001b[0;34m:\u001b[0m\u001b[0;34m\u001b[0m\u001b[0;34m\u001b[0m\u001b[0m\n",
      "\u001b[0;32m/opt/conda/lib/python3.8/site-packages/pandas/io/parsers.py\u001b[0m in \u001b[0;36m_make_engine\u001b[0;34m(self, engine)\u001b[0m\n\u001b[1;32m   1112\u001b[0m     \u001b[0;32mdef\u001b[0m \u001b[0m_make_engine\u001b[0m\u001b[0;34m(\u001b[0m\u001b[0mself\u001b[0m\u001b[0;34m,\u001b[0m \u001b[0mengine\u001b[0m\u001b[0;34m=\u001b[0m\u001b[0;34m\"c\"\u001b[0m\u001b[0;34m)\u001b[0m\u001b[0;34m:\u001b[0m\u001b[0;34m\u001b[0m\u001b[0;34m\u001b[0m\u001b[0m\n\u001b[1;32m   1113\u001b[0m         \u001b[0;32mif\u001b[0m \u001b[0mengine\u001b[0m \u001b[0;34m==\u001b[0m \u001b[0;34m\"c\"\u001b[0m\u001b[0;34m:\u001b[0m\u001b[0;34m\u001b[0m\u001b[0;34m\u001b[0m\u001b[0m\n\u001b[0;32m-> 1114\u001b[0;31m             \u001b[0mself\u001b[0m\u001b[0;34m.\u001b[0m\u001b[0m_engine\u001b[0m \u001b[0;34m=\u001b[0m \u001b[0mCParserWrapper\u001b[0m\u001b[0;34m(\u001b[0m\u001b[0mself\u001b[0m\u001b[0;34m.\u001b[0m\u001b[0mf\u001b[0m\u001b[0;34m,\u001b[0m \u001b[0;34m**\u001b[0m\u001b[0mself\u001b[0m\u001b[0;34m.\u001b[0m\u001b[0moptions\u001b[0m\u001b[0;34m)\u001b[0m\u001b[0;34m\u001b[0m\u001b[0;34m\u001b[0m\u001b[0m\n\u001b[0m\u001b[1;32m   1115\u001b[0m         \u001b[0;32melse\u001b[0m\u001b[0;34m:\u001b[0m\u001b[0;34m\u001b[0m\u001b[0;34m\u001b[0m\u001b[0m\n\u001b[1;32m   1116\u001b[0m             \u001b[0;32mif\u001b[0m \u001b[0mengine\u001b[0m \u001b[0;34m==\u001b[0m \u001b[0;34m\"python\"\u001b[0m\u001b[0;34m:\u001b[0m\u001b[0;34m\u001b[0m\u001b[0;34m\u001b[0m\u001b[0m\n",
      "\u001b[0;32m/opt/conda/lib/python3.8/site-packages/pandas/io/parsers.py\u001b[0m in \u001b[0;36m__init__\u001b[0;34m(self, src, **kwds)\u001b[0m\n\u001b[1;32m   1889\u001b[0m         \u001b[0mkwds\u001b[0m\u001b[0;34m[\u001b[0m\u001b[0;34m\"usecols\"\u001b[0m\u001b[0;34m]\u001b[0m \u001b[0;34m=\u001b[0m \u001b[0mself\u001b[0m\u001b[0;34m.\u001b[0m\u001b[0musecols\u001b[0m\u001b[0;34m\u001b[0m\u001b[0;34m\u001b[0m\u001b[0m\n\u001b[1;32m   1890\u001b[0m \u001b[0;34m\u001b[0m\u001b[0m\n\u001b[0;32m-> 1891\u001b[0;31m         \u001b[0mself\u001b[0m\u001b[0;34m.\u001b[0m\u001b[0m_reader\u001b[0m \u001b[0;34m=\u001b[0m \u001b[0mparsers\u001b[0m\u001b[0;34m.\u001b[0m\u001b[0mTextReader\u001b[0m\u001b[0;34m(\u001b[0m\u001b[0msrc\u001b[0m\u001b[0;34m,\u001b[0m \u001b[0;34m**\u001b[0m\u001b[0mkwds\u001b[0m\u001b[0;34m)\u001b[0m\u001b[0;34m\u001b[0m\u001b[0;34m\u001b[0m\u001b[0m\n\u001b[0m\u001b[1;32m   1892\u001b[0m         \u001b[0mself\u001b[0m\u001b[0;34m.\u001b[0m\u001b[0munnamed_cols\u001b[0m \u001b[0;34m=\u001b[0m \u001b[0mself\u001b[0m\u001b[0;34m.\u001b[0m\u001b[0m_reader\u001b[0m\u001b[0;34m.\u001b[0m\u001b[0munnamed_cols\u001b[0m\u001b[0;34m\u001b[0m\u001b[0;34m\u001b[0m\u001b[0m\n\u001b[1;32m   1893\u001b[0m \u001b[0;34m\u001b[0m\u001b[0m\n",
      "\u001b[0;32mpandas/_libs/parsers.pyx\u001b[0m in \u001b[0;36mpandas._libs.parsers.TextReader.__cinit__\u001b[0;34m()\u001b[0m\n",
      "\u001b[0;32mpandas/_libs/parsers.pyx\u001b[0m in \u001b[0;36mpandas._libs.parsers.TextReader._setup_parser_source\u001b[0;34m()\u001b[0m\n",
      "\u001b[0;31mFileNotFoundError\u001b[0m: [Errno 2] File ../resources/company_sales_data.csv does not exist: '../resources/company_sales_data.csv'"
     ]
    }
   ],
   "source": [
    "plt.style.use('seaborn-whitegrid')\n",
    "\n",
    "df = pd.read_csv(\"../resources/company_sales_data.csv\")\n",
    "#optional - for convenience\n",
    "total_profit = df['total_profit']\n",
    "month = df['month_number']\n",
    "total_units = df['total_units']"
   ]
  },
  {
   "cell_type": "markdown",
   "metadata": {},
   "source": [
    "1.1 subplot 1\n",
    "\n",
    "plot with x as month number, and y as total profit with style circle markers and colored red\n",
    "\n",
    "title = Company profit per month\n",
    "\n",
    "put at least one ax/plt.text\n",
    "\n",
    "x label = month\n",
    "\n",
    "y label = total profit\n",
    "\n",
    "#set the ylimit to 100000 to 450000\n",
    "\n",
    "add guassian fitted line (does not require fill between)"
   ]
  },
  {
   "cell_type": "markdown",
   "metadata": {},
   "source": [
    "1.2. subplot2\n",
    "\n",
    "read each product sales and show it using a multiline plot\n",
    "\n",
    "x label = month\n",
    "\n",
    "y label = sales units in number\n",
    "\n",
    "legend on upper center, with columns of 3, set fontsize to 9 using prop params\n",
    "\n",
    "circle marker; linewidth=3\n",
    "\n",
    "title = sales data\n",
    "\n",
    "add one blue dotted line showing the average of all products, with text annotating \"average\""
   ]
  },
  {
   "cell_type": "markdown",
   "metadata": {},
   "source": [
    "1.3. subplot3\n",
    "\n",
    "plot toothpaste sales data of each using scatter plot\n",
    "\n",
    "use plt.grid(True, linestyle=\"--\") to show some gridlines  (I did not teach but its not difficult)\n",
    "\n",
    "x label = month\n",
    "\n",
    "y label = number of units sold\n",
    "\n",
    "title = tooth paste sales data\n",
    "\n",
    "legend = best position"
   ]
  },
  {
   "cell_type": "markdown",
   "metadata": {},
   "source": [
    "1.4. subplot4\n",
    "\n",
    "plot bar chart comparing facecream and facewash product sales data\n",
    "\n",
    "time to check out the documentation :)\n",
    "\n",
    "since x is comparing two bars, you have to adjust the x slightly for both bars\n",
    "\n",
    "x label = month\n",
    "\n",
    "y label = number of units sold\n",
    "\n",
    "title = facewash and facecream\n",
    "\n",
    "legend = upper center, column of 2\n",
    "\n",
    "put some gridlines for easy comparison\n",
    "\n",
    "to add some flavor, overlay the average of all products on this plot, so we know facecream and facewash is not doing very well!"
   ]
  },
  {
   "cell_type": "code",
   "execution_count": null,
   "metadata": {},
   "outputs": [],
   "source": [
    "f, ax = plt.subplots(2, 2, figsize=(15, 10), sharex=True)\n",
    "\n",
    "#subplot 1\n",
    "ax1 = ax[0, 0]\n",
    "ax1.plot(month, total_profit, 'or')\n",
    "\n",
    "from sklearn.gaussian_process import GaussianProcessRegressor as GP\n",
    "gp = GP().fit(month[:, np.newaxis], total_profit)\n",
    "\n",
    "xfit = np.linspace(1, 12, 1000)\n",
    "yfit = gp.predict(xfit[:, np.newaxis])\n",
    "\n",
    "# Visualize the result\n",
    "ax1.plot(xfit, yfit, '-', color='gray')   #fitted by guassian\n",
    "\n",
    "ax1.title.set_text(\"Company profit per month\")\n",
    "ax1.set_ylabel(\"sold units\")\n",
    "ax1.set_ylim(100000, 450000)\n",
    "ax1.set_xticks(month)  #set one time will influence others since sharex=True\n",
    "\n",
    "ax1.annotate('market realization', xy=(6.2, 220000), xytext=(3, 400000),  #xytext ---> xy\n",
    "            arrowprops=dict(arrowstyle=\"->\"))\n",
    "\n",
    "#subplot2\n",
    "ax2 = ax[0, 1]\n",
    "ax2.set_ylabel(\"sales units in number\")\n",
    "ax2.title.set_text(\"Sales data\")\n",
    "for col in df.columns[1:-2]:\n",
    "    ax2.plot(month, df[col], marker='o', linewidth=3, label=col)\n",
    "ax2.legend(loc='upper center', ncol=3, prop={'size': 9})\n",
    "\n",
    "average = df[df.columns[1:-2]].mean(axis=1)\n",
    "ax2.plot(month, average, 'm--')\n",
    "ax2.text(10, 5000, \"Average\", color=\"magenta\")\n",
    "\n",
    "#subplot3\n",
    "ax3 = ax[1, 0]\n",
    "ax3.scatter(month, df['toothpaste'], label=\"Tooth paste sales\")\n",
    "ax3.grid(True, linewidth= 1, linestyle=\"--\")\n",
    "ax3.set_ylabel(\"number of units sold\")\n",
    "ax3.title.set_text(\"Tooth paste sales data\")\n",
    "ax3.legend(loc='best')\n",
    "ax3.set_xlabel(\"month\")\n",
    "\n",
    "#subplot4\n",
    "ax4 = ax[1, 1]\n",
    "ax4.bar([a - 0.25 for a in month], df['facecream'], width= 0.25, label = 'Face Cream sales data', align='edge')\n",
    "ax4.bar([a for a in month], df['facewash'], width= 0.25, label = 'Face Wash sales data', align='edge')\n",
    "ax4.set_ylabel('Sales units in number')\n",
    "ax4.legend(loc='upper center', ncol=2)\n",
    "ax4.title.set_text('Facewash and facecream')\n",
    "ax4.grid(True, linewidth= 1, linestyle=\"--\")\n",
    "ax4.plot(month, average, 'm--')\n",
    "ax4.text(4, 4000, \"Average of all prods.\", color=\"magenta\")\n",
    "ax4.set_xlabel(\"month\")"
   ]
  },
  {
   "cell_type": "markdown",
   "metadata": {},
   "source": [
    "2. Continue from above\n",
    "\n",
    "\n",
    "Create a separate histogram plot showing distribution of profit range with this range profit_range = [150000, 175000, 200000, 225000, 250000, 300000, 350000]"
   ]
  },
  {
   "cell_type": "code",
   "execution_count": null,
   "metadata": {},
   "outputs": [],
   "source": [
    "plt.figure(figsize = (10, 5))\n",
    "profit_range = [150000, 175000, 200000, 225000, 250000, 300000, 350000]\n",
    "plt.hist(df['total_profit'], profit_range, label = 'Profit data')\n",
    "plt.xlabel('profit range in dollar')\n",
    "plt.ylabel('count')\n",
    "plt.legend(loc='upper left')\n",
    "plt.xticks(profit_range)\n",
    "plt.title('Profit data')"
   ]
  },
  {
   "cell_type": "markdown",
   "metadata": {},
   "source": [
    "3. let's try to perform a linear regression on the profit, with x = month and y = total profit\n",
    "\n",
    "plot the actual values using scatter\n",
    "\n",
    "plot the fitted line, along with error bar where yerr = yactual - ypred\n",
    "\n",
    "instead of using gp, use sckitlearn.LinearRegression\n",
    "\n",
    "last, print the R^2 with 3 significant digits (e.g., 0.502)and write it on any place on the graph"
   ]
  },
  {
   "cell_type": "code",
   "execution_count": null,
   "metadata": {},
   "outputs": [],
   "source": [
    "from sklearn.linear_model import LinearRegression as LR\n",
    "from sklearn.metrics import r2_score\n",
    "\n",
    "y = df['total_profit']\n",
    "X = df['month_number'].values.reshape((len(df), 1)) #.values access the underlying numpy to allow for reshaping to (samples, features) shape\n",
    "\n",
    "reg = LR().fit(X, total_profit)\n",
    "y_preds = reg.predict(X)\n",
    "\n",
    "plt.text(1.5, 450000, f\"$R^2$ = {r2_score(y, y_preds):.3f}\")\n",
    "\n",
    "plt.scatter(X, y, color='black')\n",
    "plt.plot(X, y_preds)\n",
    "plt.errorbar(X, y, yerr=y-y_preds, fmt='.r')"
   ]
  },
  {
   "cell_type": "markdown",
   "metadata": {},
   "source": [
    "4.  Apply K means library from sklearn with n_clusters=4, and plot a scatter plot with colors based on their grouping.\n",
    "also plot the centers using cluster_centers_"
   ]
  },
  {
   "cell_type": "code",
   "execution_count": null,
   "metadata": {
    "tags": []
   },
   "outputs": [],
   "source": [
    "from sklearn.datasets import make_blobs\n",
    "X, y_true = make_blobs(n_samples=500, centers=3,\n",
    "                       cluster_std=3, random_state=42)\n",
    "\n",
    "# Your code here\n",
    "\n",
    "#let's make a simple plot first\n",
    "print(\"Simple plot\")\n",
    "plt.scatter(X[:, 0], X[:, 1])\n",
    "plt.show()  #if it is not the last command, use plt.show() to explicitly show the diagram\n",
    "\n",
    "#let's do some kmean clustering (I did not teach yet what is this, but basically is a unsupervised\n",
    "#algorithm for perform clustering (grouping))\n",
    "from sklearn.cluster import KMeans\n",
    "kmeans = KMeans(n_clusters=3)\n",
    "kmeans.fit(X)\n",
    "y_kmeans = kmeans.predict(X)\n",
    "centers = kmeans.cluster_centers_  #return x y coordinates of n_clusters center. (here the shape is 3 , 2)\n",
    "\n",
    "print(\"Plot applying kmeans\")\n",
    "plt.scatter(X[:, 0], X[:, 1], c=y_kmeans, cmap='spring')\n",
    "plt.scatter(centers[:, 0], centers[:, 1], c='gray', s=100, alpha=0.8)"
   ]
  },
  {
   "cell_type": "markdown",
   "metadata": {},
   "source": [
    "5. apply ridge regression with degrees, 1 to 5 and plot using these x and f(x)\n",
    "\n",
    "print their r^2 on the graph"
   ]
  },
  {
   "cell_type": "code",
   "execution_count": null,
   "metadata": {},
   "outputs": [],
   "source": [
    "import numpy as np\n",
    "import matplotlib.pyplot as plt\n",
    "\n",
    "from sklearn.linear_model import Ridge\n",
    "from sklearn.preprocessing import PolynomialFeatures\n",
    "from sklearn.pipeline import make_pipeline\n",
    "\n",
    "x = np.linspace(0, 10, 30)\n",
    "X = x[:, np.newaxis]\n",
    "y = x**2 * np.cos(x) + 105\n",
    "\n",
    "# Your code here\n",
    "\n",
    "plt.scatter(x, y, label=\"y actual\")\n",
    "\n",
    "for ix, deg in enumerate([1, 2, 3, 4, 5]):\n",
    "    model = make_pipeline(PolynomialFeatures(deg), Ridge())\n",
    "    model.fit(X, y)\n",
    "    y_preds = model.predict(X)\n",
    "    plt.text(3, ix*10, f\"$R^2$ = {model.score(X, y):.3f} (deg: {deg}) \")\n",
    "    plt.plot(x, y_preds,label=\"deg %d\" % deg)\n",
    "\n",
    "plt.legend()"
   ]
  },
  {
   "cell_type": "markdown",
   "metadata": {},
   "source": [
    "6. predit using LogisticRegression\n",
    "\n",
    "to add some flavor, learn how to plot the decision boundary using plt.pcolormesh\n",
    "\n",
    "in order to generate Z for input to plt.pcolormesh, use np.meshgrid which will generate all possible x and y"
   ]
  },
  {
   "cell_type": "code",
   "execution_count": null,
   "metadata": {},
   "outputs": [],
   "source": [
    "from sklearn import datasets\n",
    "from sklearn.linear_model import LogisticRegression\n",
    "\n",
    "iris = datasets.load_iris()\n",
    "X = iris.data[:, :2]  #so this can be nicely plot using x1 and x2\n",
    "y = iris.target  #a reminder that there are 3 classes, e.g., Versicolor\n",
    "\n",
    "# Your code here\n",
    "\n",
    "model = LogisticRegression().fit(X, y)\n",
    "\n",
    "x_min, x_max = X[:, 0].min(), X[:, 0].max()\n",
    "y_min, y_max = X[:, 1].min(), X[:, 1].max()\n",
    "\n",
    "xx, yy = np.meshgrid(np.arange(x_min, x_max, 0.01),  #0.01 indicates the resolution of how precise is our coloring\n",
    "                     np.arange(y_min, y_max, 0.01))\n",
    "\n",
    "# first ravel into a list of x and y coordinates, then use column_stack to pair all x and y, then predict\n",
    "Z = model.predict(np.column_stack((xx.ravel(), yy.ravel())))\n",
    "Z = Z.reshape(xx.shape)  #put this back into xx shape\n",
    "plt.pcolormesh(xx, yy, Z, cmap=\"viridis\")  #use pcolormesh to plot the colormesh\n",
    "\n",
    "#plot the actual points, with color specifying the actual y class\n",
    "plt.scatter(X[:, 0], X[:, 1], c=y,\n",
    "            edgecolor='black', cmap=\"viridis\")\n",
    "plt.title(\"Logistic regression on iris dataset\")"
   ]
  },
  {
   "cell_type": "markdown",
   "metadata": {},
   "source": [
    "7. this one is simple, seaborn has a very useful pairplot function\n",
    "\n",
    "first understand why pairplot is useful - write one or two short sentences\n",
    "\n",
    "then attempt to apply pairplot with the iris dataset\n",
    "\n",
    "reminder to check what pairplot accepts, so you can prepare the data in that correct format\n",
    "\n",
    "you may also want to read what sklearn return for dataset"
   ]
  },
  {
   "cell_type": "code",
   "execution_count": null,
   "metadata": {},
   "outputs": [],
   "source": [
    "import seaborn as sns\n",
    "sklearn_dataset_to_pandas = pd.DataFrame(data= np.c_[iris['data'], iris['target']],\n",
    "                     columns= iris['feature_names'] + ['target'])\n",
    "sns.pairplot(sklearn_dataset_to_pandas, kind=\"scatter\", hue=\"target\")\n",
    "\n",
    "\n",
    "#pairplot is useful to examine relationships, before actually drilling to the data\n",
    "#it is probably a golden rule, i.e., visualization and understanding the data will greatly increase \n",
    "#the chance of your success in applying ML.\n",
    "\n",
    "#for example, we can see thaat speal length, petal length, and petal width have a clear distinct distribution\n",
    "#with targets, indicating a good choice for features (X)"
   ]
  },
  {
   "cell_type": "markdown",
   "metadata": {},
   "source": [
    "8. Make a scatter plot with histograms above and right of the scatter plot along with the cdf curve (Hint: use hist-type(step))\n",
    "\n",
    "Next, find the correlation and p-value using pearson correlation, and print the results on the graph"
   ]
  },
  {
   "cell_type": "code",
   "execution_count": null,
   "metadata": {},
   "outputs": [],
   "source": [
    "import matplotlib.pyplot as plt\n",
    "import matplotlib.gridspec as gs\n",
    "import numpy as np\n",
    "\n",
    "mu, sigma = 0, 0.1 # mean and standard deviation\n",
    "np.random.seed(42)\n",
    "x = np.random.normal(mu, sigma, 1000)\n",
    "y = np.random.randn(1000)\n",
    "\n",
    "#pearson correlation\n",
    "from scipy import stats\n",
    "r, p = stats.pearsonr(x, y)\n",
    "\n",
    "fig = plt.figure(figsize=(12,8))\n",
    "grid = gs.GridSpec(4, 4)\n",
    "main = plt.subplot(grid[1:4, :3])\n",
    "tophist = plt.subplot(grid[0, :3], sharex=main)\n",
    "righthist = plt.subplot(grid[1:4, 3:], sharey=main)\n",
    "\n",
    "#main plot\n",
    "main.scatter(x, y, marker='o')\n",
    "main.set_xlabel(\"x\")\n",
    "main.set_ylabel(\"y\")\n",
    "main.text(-0.33, 2.8, f\"pearson r: {r:.2f}\")\n",
    "main.text(-0.33, 2.6, f\"p-value: {p:.2f}\")\n",
    "\n",
    "color='orangered'\n",
    "\n",
    "#top plot\n",
    "tophist.hist(x, bins=30)\n",
    "tophist.set_ylabel('freq')\n",
    "#https://matplotlib.org/3.1.1/gallery/subplots_axes_and_figures/two_scales.html\n",
    "topcdf = tophist.twinx()  #create new axes but share the same x axis\n",
    "topcdf.hist(x,bins=100,cumulative=True,histtype='step',density=True,color=color)\n",
    "#normalized hist using density set to True\n",
    "topcdf.tick_params(axis='y', colors=color)\n",
    "topcdf.set_ylabel('cdf',color=color)\n",
    "\n",
    "#right plot\n",
    "righthist.hist(y,bins=30,orientation='horizontal')\n",
    "righthist.set_xlabel('freq')\n",
    "rightcdf = righthist.twiny()  #create new axes but share the same y axis\n",
    "#normalized hist using density set to True\n",
    "rightcdf.hist(y,bins=100,cumulative=True,histtype='step',density=True,color=color,orientation='horizontal')\n",
    "rightcdf.tick_params(axis='x', colors=color)\n",
    "rightcdf.set_xlabel('cdf',color=color)"
   ]
  },
  {
   "cell_type": "markdown",
   "metadata": {},
   "source": [
    "9. Boxplot is commonly used in academic settings due to its compact format but with abundant information\n",
    "\n",
    "Attempt to create a boxplot of total_bills by days based on this dataset\n",
    "\n",
    "to add some challenge, attempt to add a scatterplot on top of the boxplot"
   ]
  },
  {
   "cell_type": "code",
   "execution_count": null,
   "metadata": {
    "tags": []
   },
   "outputs": [],
   "source": [
    "import seaborn as sns\n",
    "df = sns.load_dataset('tips')  #return pd dataframe\n",
    "\n",
    "# Your code here\n",
    "\n",
    "days = set(df['day']) \n",
    "print(days)  #possible days\n",
    "\n",
    "dfs = []  #list of dataframe\n",
    "for ix, day in enumerate(days):\n",
    "    day_df = df.loc[df['day'] == day, 'total_bill']  #shape (n_samples, )\n",
    "    #for boxplot later\n",
    "    dfs.append(day_df)\n",
    "    #plotting each scatterplot\n",
    "    #adding some random jitter for nice plot\n",
    "    x = np.random.normal(ix+1, 0.04, size=len(day_df))  #Sat = 1, Fri = 2, Sun = 3, Thur = 4\n",
    "    plt.plot(x, day_df, 'r.', alpha=0.2)\n",
    "    \n",
    "plt.boxplot(dfs, labels=days)  #list of (n_samples)\n",
    "plt.ylabel(\"Total Bill\")"
   ]
  },
  {
   "cell_type": "markdown",
   "metadata": {},
   "source": [
    "10. Common task is to initially compare machine learning algorithms as a spot checking process before fine-tuning hypteramaters\n",
    "\n",
    "Here we gonna use boxplot to compare the algorithms based on accuracy\n",
    "\n",
    "Note that there are many metrics you can use to compare algorithms, and not only accuracy that matters, e.g., time, learning curves, etc.\n",
    "\n",
    "Also note that it is silly to consider this result done. This is simply an exploratory process to check which model is viable, before fine-tuning\n",
    "\n",
    "- perform classification based on what we have imported\n",
    "- then plot the results using boxplot"
   ]
  },
  {
   "cell_type": "code",
   "execution_count": null,
   "metadata": {
    "tags": []
   },
   "outputs": [],
   "source": [
    "import pandas\n",
    "import matplotlib.pyplot as plt\n",
    "from sklearn import model_selection\n",
    "from sklearn.linear_model import LogisticRegression\n",
    "from sklearn.tree import DecisionTreeClassifier\n",
    "from sklearn.neighbors import KNeighborsClassifier\n",
    "from sklearn.discriminant_analysis import LinearDiscriminantAnalysis\n",
    "from sklearn.naive_bayes import GaussianNB\n",
    "from sklearn.svm import SVC\n",
    "from sklearn.preprocessing import StandardScaler\n",
    "\n",
    "# load dataset\n",
    "digits = datasets.load_digits()\n",
    "\n",
    "#perform classification based on what we have imported\n",
    "#then plot the results using boxplot\n",
    "\n",
    "# Your code here\n",
    "\n",
    "#most distanced based algorithms benefit from normalizing with mean 0 and unit std\n",
    "scaler = StandardScaler()\n",
    "X = scaler.fit(digits.data).transform(digits.data)\n",
    "y = digits.target\n",
    "\n",
    "# print(X.shape)  #verify is (n_samples, n_features)\n",
    "# print(y.shape)  #verify is (n_samples, )\n",
    "# print(\"Possible y: \", set(y))  #possible y\n",
    "\n",
    "# prepare models; I have put into a list so I can easily loop them\n",
    "models = []\n",
    "models.append(('LR', LogisticRegression(multi_class=\"multinomial\",\n",
    "                                       max_iter=500)))\n",
    "models.append(('LDA', LinearDiscriminantAnalysis()))\n",
    "models.append(('KNN', KNeighborsClassifier()))\n",
    "models.append(('DT', DecisionTreeClassifier()))\n",
    "models.append(('NB', GaussianNB()))\n",
    "models.append(('SVM', SVC()))\n",
    "\n",
    "# evaluate each model in turn\n",
    "results = []\n",
    "names = []\n",
    "scoring = 'accuracy'\n",
    "for name, model in models:  #e.g., name = LR, model = LogisticRegression()\n",
    "    kfold = model_selection.KFold(n_splits=10, random_state=None)\n",
    "    #list of 10 results doing cross validation for each model\n",
    "    cv_results = model_selection.cross_val_score(model, X, y, cv=kfold, scoring=scoring)\n",
    "    results.append(cv_results)\n",
    "    names.append(name)\n",
    "    msg = \"%s: %f (%f)\" % (name, cv_results.mean(), cv_results.std())\n",
    "    print(msg)\n",
    "    \n",
    "# boxplot algorithm comparison\n",
    "plt.boxplot(results, labels=names)\n",
    "plt.title(\"Comparing basic algorithms on MNIST dataset\")\n",
    "plt.show()\n"
   ]
  },
  {
   "cell_type": "markdown",
   "metadata": {},
   "source": [
    "11. Given two simple 2D vectors 'u' and 'v'. Represent them vectors as arrows."
   ]
  },
  {
   "cell_type": "code",
   "execution_count": null,
   "metadata": {},
   "outputs": [],
   "source": [
    "u = np.array([2, 5])\n",
    "v = np.array([3, 1])\n",
    "\n",
    "x_coords, y_coords = zip(u, v)\n",
    "plt.scatter(x_coords, y_coords, color=[\"r\",\"b\"])\n",
    "plt.axis([0, 9, 0, 6])\n",
    "plt.grid()\n",
    "plt.show()"
   ]
  },
  {
   "cell_type": "code",
   "execution_count": null,
   "metadata": {},
   "outputs": [],
   "source": [
    "#represent these vectors as arrows\n",
    "\n",
    "# Your code here\n",
    "\n",
    "def plot_vector2d(vector2d, origin=[0, 0], **options):\n",
    "    return plt.arrow(origin[0], origin[1], vector2d[0], vector2d[1],\n",
    "              head_width=0.2, head_length=0.3, length_includes_head=True,\n",
    "              **options)\n",
    "\n",
    "plot_vector2d(u, color=\"r\")\n",
    "plot_vector2d(v, color=\"b\")\n",
    "plt.axis([0, 9, 0, 6])\n",
    "plt.grid()\n",
    "plt.show()"
   ]
  },
  {
   "cell_type": "markdown",
   "metadata": {},
   "source": [
    "12. Given two simple 3D vectors 'a' and 'b'. Attempt to plot the 3d vectors"
   ]
  },
  {
   "cell_type": "code",
   "execution_count": null,
   "metadata": {},
   "outputs": [],
   "source": [
    "a = np.array([1, 2, 8])\n",
    "b = np.array([5, 6, 3])\n",
    "\n",
    "from mpl_toolkits.mplot3d import Axes3D\n",
    "\n",
    "subplot3d = plt.subplot(111, projection='3d')\n",
    "x_coords, y_coords, z_coords = zip(a,b)\n",
    "subplot3d.scatter(x_coords, y_coords, z_coords)\n",
    "subplot3d.set_zlim3d([0, 9])\n",
    "plt.show()"
   ]
  },
  {
   "cell_type": "code",
   "execution_count": null,
   "metadata": {},
   "outputs": [],
   "source": [
    "#attempt to plot the 3d vectors\n",
    "# Your code here\n",
    "\n",
    "def plot_vectors3d(ax, vectors3d, z0, **options):\n",
    "    for v in vectors3d:\n",
    "        x, y, z = v\n",
    "        ax.plot([x,x], [y,y], [z0, z], color=\"gray\", linestyle='dotted', marker=\".\")\n",
    "    x_coords, y_coords, z_coords = zip(*vectors3d)\n",
    "    ax.scatter(x_coords, y_coords, z_coords, **options)\n",
    "\n",
    "subplot3d = plt.subplot(111, projection='3d')\n",
    "subplot3d.set_zlim([0, 9])\n",
    "plot_vectors3d(subplot3d, [a,b], 0, color=(\"r\",\"b\"))\n",
    "plt.show()"
   ]
  },
  {
   "cell_type": "markdown",
   "metadata": {},
   "source": [
    "13. We have already seen that vectors can been represented as points or arrows in N-dimensional space. Is there a good graphical representation of matrices? Well you can simply see a matrix as a list of vectors, so plotting a matrix results in many points or arrows. For example, let's create a $2 \\times 4$ matrix `P` and plot it as points:"
   ]
  },
  {
   "cell_type": "code",
   "execution_count": null,
   "metadata": {},
   "outputs": [],
   "source": [
    "P = np.array([\n",
    "        [3.0, 4.0, 1.0, 4.6],\n",
    "        [0.2, 3.5, 2.0, 0.5]\n",
    "    ])\n",
    "x_coords_P, y_coords_P = P\n",
    "plt.scatter(x_coords_P, y_coords_P)\n",
    "plt.axis([0, 5, 0, 4])\n",
    "plt.show()"
   ]
  },
  {
   "cell_type": "markdown",
   "metadata": {},
   "source": [
    "Of course we could also have stored the same 4 vectors as row vectors instead of column vectors, resulting in a $4 \\times 2$ matrix (the transpose of $P$, in fact). It is really an arbitrary choice.\n",
    "\n",
    "Since the vectors are ordered, you can see the matrix as a path and represent it with connected dots:"
   ]
  },
  {
   "cell_type": "code",
   "execution_count": null,
   "metadata": {},
   "outputs": [],
   "source": [
    "plt.plot(x_coords_P, y_coords_P, \"bo\")  #point\n",
    "plt.plot(x_coords_P, y_coords_P, \"b--\") #line\n",
    "plt.axis([0, 5, 0, 4])\n",
    "plt.grid()\n",
    "plt.show()"
   ]
  },
  {
   "cell_type": "markdown",
   "metadata": {},
   "source": [
    "Or you can represent it as a polygon: matplotlib's `Polygon` class expects an $n \\times 2$ NumPy array, not a $2 \\times n$ array, so we just need to give it $P^T$:"
   ]
  },
  {
   "cell_type": "code",
   "execution_count": null,
   "metadata": {},
   "outputs": [],
   "source": [
    "from matplotlib.patches import Polygon\n",
    "plt.gca().add_artist(Polygon(P.T, alpha=0.2))\n",
    "plt.axis([0, 5, 0, 4])\n",
    "plt.grid()\n",
    "plt.show()"
   ]
  },
  {
   "cell_type": "markdown",
   "metadata": {},
   "source": [
    "Now, imagine this following transformations:"
   ]
  },
  {
   "cell_type": "code",
   "execution_count": null,
   "metadata": {},
   "outputs": [],
   "source": [
    "H = np.array([\n",
    "        [ 0.5, -0.2, 0.2, -0.1],\n",
    "        [ 0.4,  0.4, 1.5, 0.6]\n",
    "    ])\n",
    "\n",
    "#1. addition\n",
    "P_add = P + H\n",
    "\n",
    "#2. scalar multiplication\n",
    "P_scalar = 0.60 * P\n",
    "\n",
    "angle30 = 30 * np.pi / 180  # angle in radians\n",
    "angle120 = 120 * np.pi / 180\n",
    "V = np.array([\n",
    "        [np.cos(angle30), np.sin(angle30)],\n",
    "        [np.cos(angle120), np.sin(angle120)]\n",
    "    ])\n",
    "\n",
    "#3 dot product\n",
    "P_rotate =  V.dot(P)"
   ]
  },
  {
   "cell_type": "markdown",
   "metadata": {},
   "source": [
    "Please kindly plot the transformations and understand how each matrix operation is actually simply moving the shapes."
   ]
  },
  {
   "cell_type": "code",
   "execution_count": null,
   "metadata": {},
   "outputs": [],
   "source": [
    "# Your code here\n",
    "\n",
    "#copy from above\n",
    "P = np.array([\n",
    "        [3.0, 4.0, 1.0, 4.6],\n",
    "        [0.2, 3.5, 2.0, 0.5]\n",
    "    ])\n",
    "x_coords_P, y_coords_P = P\n",
    "\n",
    "H = np.array([\n",
    "        [ 0.5, -0.2, 0.2, -0.1],\n",
    "        [ 0.4,  0.4, 1.5, 0.6]\n",
    "    ])\n",
    "P_add = P + H\n",
    "\n",
    "P_scalar = 0.60 * P\n",
    "\n",
    "angle30 = 30 * np.pi / 180  # angle in radians\n",
    "angle120 = 120 * np.pi / 180\n",
    "V = np.array([\n",
    "        [np.cos(angle30), np.sin(angle30)],\n",
    "        [np.cos(angle120), np.sin(angle120)]\n",
    "    ])\n",
    "\n",
    "P_rotate =  V.dot(P)\n",
    "\n",
    "#transformations\n",
    "def plot_transformation(P_before, P_after, text_before, text_after, axis):\n",
    "    for vector_before, vector_after in zip(P_before.T, P_after.T):\n",
    "        plot_vector2d(vector_before, color=\"blue\", linestyle=\"--\")\n",
    "        plot_vector2d(vector_after, color=\"red\", linestyle=\"-\")\n",
    "    plt.gca().add_artist(Polygon(P_before.T, alpha=0.2))\n",
    "    plt.gca().add_artist(Polygon(P_after.T, alpha=0.3, color=\"r\"))\n",
    "    plt.text(P_before[0].mean(), P_before[1].mean(), text_before, fontsize=18, color=\"blue\")\n",
    "    plt.text(P_after[0].mean(), P_after[1].mean(), text_after, fontsize=18, color=\"red\")\n",
    "    plt.axis(axis)\n",
    "    plt.grid()\n",
    "    plt.show()\n",
    "\n",
    "    \n",
    "#adding is simply shifting\n",
    "plot_transformation(P, P_add, \"$P$\", \"$P+H$\", [-2, 6, -2, 4])\n",
    "\n",
    "#scalar multiplication simply make the size smaller or bigger\n",
    "plot_transformation(P, P_scalar, \"$P$\", \"$0.60*P$\", [-2, 6, -2, 4])\n",
    "\n",
    "#dot prodoct is translating based on what we dot\n",
    "plot_transformation(P, P_rotate, \"$P$\", \"$Rotate P$\", [-2, 6, -2, 4])\n"
   ]
  },
  {
   "cell_type": "code",
   "execution_count": 3,
   "metadata": {},
   "outputs": [],
   "source": [
    "import numpy as np"
   ]
  },
  {
   "cell_type": "code",
   "execution_count": 8,
   "metadata": {},
   "outputs": [],
   "source": [
    "xdata = np.array([1,3,5,6,8])"
   ]
  },
  {
   "cell_type": "code",
   "execution_count": 9,
   "metadata": {},
   "outputs": [
    {
     "name": "stdout",
     "output_type": "stream",
     "text": [
      "[1 3 5 6 8]\n",
      "(5,)\n"
     ]
    }
   ],
   "source": [
    "print(xdata)\n",
    "print(xdata.shape)"
   ]
  },
  {
   "cell_type": "code",
   "execution_count": 10,
   "metadata": {},
   "outputs": [
    {
     "data": {
      "text/plain": [
       "array([[1],\n",
       "       [3],\n",
       "       [5],\n",
       "       [6],\n",
       "       [8]])"
      ]
     },
     "execution_count": 10,
     "metadata": {},
     "output_type": "execute_result"
    }
   ],
   "source": [
    "xdata[:,np.newaxis]"
   ]
  },
  {
   "cell_type": "code",
   "execution_count": 11,
   "metadata": {},
   "outputs": [
    {
     "name": "stdout",
     "output_type": "stream",
     "text": [
      "(5,)\n"
     ]
    }
   ],
   "source": [
    "print(xdata.shape)"
   ]
  },
  {
   "cell_type": "code",
   "execution_count": 15,
   "metadata": {},
   "outputs": [],
   "source": [
    "import matplotlib.pyplot as plt"
   ]
  },
  {
   "cell_type": "code",
   "execution_count": 21,
   "metadata": {},
   "outputs": [
    {
     "data": {
      "image/png": "[encoded data removed]",
      "text/plain": [
       "<Figure size 432x288 with 6 Axes>"
      ]
     },
     "metadata": {},
     "output_type": "display_data"
    }
   ],
   "source": [
    "fig  = plt.figure()\n",
    "fig.subplots_adjust(hspace = 0.5,wspace = 1)\n",
    "for i in range (1,7):\n",
    "    ax = fig.add_subplot(2,3,i)\n",
    "    ax.text(0.5,0.5,str((2,3,i)),\n",
    "           fontsize = 18,\n",
    "           horizontalalignment = 'center',\n",
    "           bbox = dict(facecolor = 'red',\n",
    "                      alpha = 0.5))"
   ]
  },
  {
   "cell_type": "code",
   "execution_count": 24,
   "metadata": {},
   "outputs": [
    {
     "data": {
      "image/png": "[encoded data removed]",
      "text/plain": [
       "<Figure size 432x288 with 6 Axes>"
      ]
     },
     "metadata": {},
     "output_type": "display_data"
    }
   ],
   "source": [
    "fig  = plt.figure()\n",
    "fig.subplots_adjust(hspace = 0.5,wspace = 1)\n",
    "for i in range(1,7):\n",
    "    plt.subplot(2,3,i)\n",
    "    plt.text(0.5,0.5,str((2,3,i)),\n",
    "             fontsize = 18,horizontalalignment = 'center',\n",
    "             bbox=dict(facecolor = 'red',alpha = 0.5))"
   ]
  },
  {
   "cell_type": "code",
   "execution_count": null,
   "metadata": {},
   "outputs": [],
   "source": []
  }
 ],
 "metadata": {
  "kernelspec": {
   "display_name": "Python 3",
   "language": "python",
   "name": "python3"
  },
  "language_info": {
   "codemirror_mode": {
    "name": "ipython",
    "version": 3
   },
   "file_extension": ".py",
   "mimetype": "text/x-python",
   "name": "python",
   "nbconvert_exporter": "python",
   "pygments_lexer": "ipython3",
   "version": "3.8.3"
  }
 },
 "nbformat": 4,
 "nbformat_minor": 4
}
