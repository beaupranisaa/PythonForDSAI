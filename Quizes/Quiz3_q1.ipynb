{
 "cells": [
  {
   "cell_type": "markdown",
   "metadata": {},
   "source": [
    "# QUIZ 3 | [St121720] - [Pranisaa Charnparttaravanit]\n",
    "\n",
    "The quiz is designed to be completed in 120 minutes and they are all about Classification.\n",
    "The quiz will start at 1 PM 19th October 2020 till 3 PM 19th October 2020.\n",
    "\n",
    "- You may use puffer/jupyter.\n",
    "- You may use online resources.\n",
    "- You will not be graded if submit late.\n",
    "- You are not allowed to have a conversation with a human being. (A conversation with plants and pets is fine.)\n",
    "- *** Submit in PDF and jupyter notebook format ***\n",
    "- *** Write your student ID and student Name on the head of this file and save the file in this naming format. <code>quiz3_stid_name</code>***"
   ]
  },
  {
   "cell_type": "markdown",
   "metadata": {},
   "source": [
    "Given 2 datasets, perform a classification on both datasets and answer the followings question.\n",
    "\n",
    "1. plot the data using a scatter plot. (2 pt)\n",
    "2. Base on the data you saw, which method will you choose wo perform and why? (2 pts)\n",
    "3. Perform the classification from scratch. (4 pts)\n",
    "4. Is the choosen method yeild a good result? If not, why? (2 pts)"
   ]
  },
  {
   "cell_type": "markdown",
   "metadata": {},
   "source": [
    "# Dataset 1 (10 pts)"
   ]
  },
  {
   "cell_type": "code",
   "execution_count": 230,
   "metadata": {},
   "outputs": [],
   "source": [
    "dataset1 = [[5.86872887688642, 4.844472972110138, 0], [-0.4208844655871121, -0.05260713993470662, 1], [-0.2473984729406817, -1.0469978573346612, 1], [-0.05738148972322892, 1.5470221434198317, 1], [4.625558593459001, 7.494514263012874, 0], [6.5169961526271685, 3.852268156705962, 0], [4.092983687231127, 3.5776663598174876, 0], [-1.2496066348824304, 0.09088466944578819, 1], [-1.1636368068187315, 1.3720040647226568, 1], [-0.7268233526494329, 0.12274170085645614, 1], [4.4369244697593855, 4.318994584973826, 0], [1.6926982058264977, -0.988672143839002, 1], [0.6001450709228167, -0.03998294630233434, 1], [4.35079822758376, 7.573659075969559, 0], [5.047583262750321, 5.3372489669449354, 0], [4.513819563665287, 4.321895608793291, 0], [-1.0130120221741301, -0.863470950961961, 1], [0.5029715466126448, 0.10663130538627912, 1], [0.9214559709292851, -1.746689890688978, 1], [3.8478420490397336, 4.612832048477029, 0], [6.879641096097156, 3.3633460142238345, 0], [6.005490772879609, 4.914413595827339, 0], [-1.2330578856569847, -0.9656177050299058, 1], [-0.13468061651277516, 1.03810617801541, 1], [4.008639877067936, 4.072937079556984, 0], [5.398403018297669, 3.736572149688212, 0], [1.5246686432896097, 0.6105722281197823, 1], [-1.1708306397686032, -1.3300264253427079, 1], [6.299449942567574, 6.1993089608165395, 0], [-0.4476698576621315, -1.8054527700770984, 1], [5.915959146171872, 4.856938058447998, 0], [-1.8287603513463273, 2.4285027509280184, 1], [5.086578828934719, 5.7829132349978964, 0], [6.203561803579314, 3.6707489895009813, 0], [-1.168888893749488, 0.747756601350797, 1], [5.328102172271681, 4.403266185443739, 0], [-1.1763165243877993, -0.6808516756581301, 1], [3.43248883398772, 3.796881135495238, 0], [0.6141555296584834, 0.27743269089069894, 1], [5.725212889577948, 4.9321125108144175, 0], [0.5973822774265402, 1.9617936503065445, 1], [3.507512154078117, 3.2842326277638527, 0], [1.3022246523033203, -0.43659467237154514, 1], [2.002181417762108, 4.576241644272443, 0], [5.621044598384714, 4.384787265707061, 0], [1.1338834329307108, 0.02472877995636012, 1], [5.217572139895532, 4.525896073601684, 0], [-0.20681117379632996, 0.1384601370515838, 1], [5.114558863049666, 6.202526503009215, 0], [1.1366091524410695, 0.5679335026799804, 1], [0.08886147437778294, -0.5128136389022813, 1], [4.5360153154858445, 4.61726482769299, 0], [-0.8870164721563499, 0.37655126544127576, 1], [-0.9694009195690615, -0.9230645713403342, 1], [3.4404206044479118, 3.8893507584042073, 0], [-0.22175666905993854, -0.4531876368155215, 1], [5.063174561408647, 5.240119806619989, 0], [0.8613719154974241, -1.997324130262013, 1], [-0.07053991414676095, 0.8046254454701804, 1], [4.632812068527146, 5.932456458476209, 0], [4.675198392905628, 3.5799399047603426, 0], [4.605253629446481, 5.362733131354482, 0], [-0.12475066530937089, -1.4569261306274108, 1], [4.856374312040542, 6.433317427580881, 0], [1.0021026903834507, 0.16814852231824617, 1], [0.4914528931518962, 0.569746448312385, 1], [0.194502677844577, -0.019798912081169132, 1], [-1.4240756402619905, -0.9559021815389285, 1], [1.5684145154216533, 2.4504441817349996, 1], [0.962698655400843, -0.4983108570705896, 1], [7.023001020510447, 6.0436823219964, 0], [1.7321216669537134, -0.41124435240326845, 1], [1.626515803589293, -0.3249612874275077, 1], [4.544633262325565, 6.673847348704491, 0], [4.973423889236651, 5.546144443701159, 0], [1.289840346870775, 0.008150392698265129, 1], [3.9309260053071817, 3.7433477798953803, 0], [0.2201214445560417, 1.15688390166709, 1], [-0.9254029623806183, 0.18024478367098035, 1], [4.994638959965224, 4.956981320935806, 0], [-0.9931410081138106, 1.6631322176211436, 1], [6.99702134879382, 3.9988262134404087, 0], [5.650191436264274, 5.394687888671233, 0], [5.347743974605456, 3.3615382232388544, 0], [-0.661130936552747, -0.12936633762358815, 1], [4.468442050862541, 4.607238850822989, 0], [4.172530572647602, 5.031875105557426, 0], [3.482581715673294, 5.247732231491498, 0], [0.08114418672852877, 1.268179795839186, 1], [-1.1536764502488757, -0.5903273279204293, 1], [3.5416383914520395, 5.994443695967147, 0], [1.2476151995974325, -1.1935875914609004, 1], [4.846751544846402, 4.5357782470496275, 0], [4.41178802345963, 3.6507742561557603, 0], [-0.8514909300558106, -0.4686832460072525, 1], [2.192139424726278, 0.14552570690359878, 1], [-0.9914191509322753, 0.23288754225900404, 1], [3.813958377803176, 3.72339693926467, 0], [4.310143404785007, 6.36038411329839, 0], [1.366621073250975, -0.6892793130499782, 1], [5.996172323040739, 4.724764194583729, 0], [-0.13008451865714757, -0.06554550488064113, 1], [-0.5064879610177572, -0.6473122004536987, 1], [0.4793252118221234, -1.3499971675947922, 1], [4.38349291776571, 6.143547298378799, 0], [-0.8850152409230865, -0.5335408352605076, 1], [-1.261810120136438, 1.5107518504464406, 1], [4.566132178678033, 6.323929020740774, 0], [5.166694981006441, 4.709461319380639, 0], [0.4590239975682105, 1.5240553198154008, 1], [-0.38344505216858127, -0.8687626275221071, 1], [0.3205798021700346, 0.25652425433835824, 1], [5.915099381923754, 5.941000387461896, 0], [6.083114617357992, 2.902752660622685, 0], [4.58091131867266, 5.657696315564538, 0], [0.43550307537757565, 1.048818421742165, 1], [5.484054906873662, 5.509459901786194, 0], [-1.6837436612063712, 0.5568617353687416, 1], [6.1533286284008, 4.039690899641653, 0], [0.33105746336855124, -1.027352082034059, 1], [4.691021432135889, 3.9946864458405393, 0], [-0.3953299103788044, -0.16560477841249127, 1], [5.581420121934149, 6.417843423419999, 0], [4.60920519331435, 5.067358562744573, 0], [6.05871445175169, 5.495385459441166, 0], [6.287963398798919, 6.2403953298669785, 0], [4.827968700566044, 6.16489108015603, 0], [-0.6973563817625733, -0.5555511165670866, 1], [3.4736687658911674, 6.209620863225773, 0], [0.3546537652054631, 1.1203598666114574, 1], [5.840178471657525, 3.785969187081103, 0], [-0.13742246714492592, -0.5105805739735619, 1], [-0.2783501985612891, -0.09786918525250621, 1], [-0.6260990533389618, -0.05456764232882017, 1], [0.19981408910830506, 1.9109658057132595, 1], [0.3819481628821181, 0.46280744205623275, 1], [5.259746028723213, 4.497101876263743, 0], [5.711840480087973, 4.756457723370247, 0], [1.233522643519746, 1.452992562029412, 1], [0.3519459587564023, -0.7566603104553851, 1], [6.763795725610426, 4.819143617956257, 0], [3.8406048917112776, 5.2549451246585654, 0], [0.8574185940797718, -0.3681497597333188, 1], [0.8101961411889004, -0.2076800056228631, 1], [4.145796423177082, 5.920678816986379, 0], [3.4844818994368625, 4.24619084974167, 0], [4.67786654798369, 5.213114652155889, 0], [1.060788260976138, 0.6658789632774028, 1], [0.14536922552527223, -0.2970649103111126, 1], [-1.0911691860466797, -0.2384441793626743, 1], [6.176774992532625, 5.347540591393591, 0], [-0.03334976933585092, 0.6921001098595783, 1], [1.3920602811073055, 0.3870516681590481, 1], [2.6036480761325755, 5.797104766489486, 0], [0.10379563102370477, -0.6835873487655177, 1], [1.0255400749797543, 1.527213266516271, 1], [5.278566088992648, 4.886237849352065, 0], [4.285208557068092, 4.753634884331964, 0], [-0.7359509590320681, 0.4009869779318466, 1], [1.0469572028801117, -1.1227317604522125, 1], [5.201641034010129, 7.0064235949106335, 0], [0.3613246777487, -0.1939156333646613, 1], [2.051606739434497, 4.697840176676096, 0], [4.203038892024923, 5.476518228870041, 0], [2.5940134042145613, -1.7575894851912817, 1], [5.48817945599002, 4.202508817513209, 0], [-1.0118727824178326, -1.0312150842490182, 1], [-0.20515753990315644, 0.16681465909931834, 1], [-0.06560176156845621, 1.0792875845611498, 1], [3.6559995004461925, 3.192783612067859, 0], [6.469572329346544, 4.582284544164917, 0], [5.327593706820416, 5.784787502095223, 0], [5.0264315168243225, 5.762038749584434, 0], [4.0226325292926575, 4.962650074126504, 0], [1.015942290245807, -3.1225124337689563, 1], [4.402450932579724, 3.7068279615949384, 0], [-0.09494191836548978, -0.2629831872975732, 1], [1.7299794857408324, -1.2167239196713067, 1], [3.954660649059486, 4.643922723101988, 0], [6.444622740240444, 5.337461156583347, 0], [6.380319479760724, 4.126333871977988, 0], [4.531204866843587, 4.648314401172121, 0], [4.832306895492526, 3.360090580348017, 0], [5.2981626312462415, 5.017998739434197, 0], [-0.23526575289425236, -0.6661969223660048, 1], [-0.5571811685269749, 0.43550743626694916, 1], [-1.6326854149589862, -0.26890418969109364, 1], [5.301755815450674, 6.239405045117657, 0], [4.449431977356122, 4.92692247954637, 0], [-1.225620202058406, -0.013787441514761339, 1], [3.9305393542905995, 4.985356352883834, 0], [1.9884193413526514, 6.529949246342674, 0], [0.021793924094280433, -1.2573105226256927, 1], [4.719918442087673, 4.7748991883345635, 0], [5.290659915731317, 6.140558614600069, 0], [0.32866543748567234, 0.6431110707402851, 1], [-0.19126902103167479, -0.6727798347991925, 1], [2.3799503443141057, 0.1249601372949928, 1], [6.254777346559469, 4.393765942546201, 0], [5.482696075609562, 4.461088127415101, 0]]"
   ]
  },
  {
   "cell_type": "code",
   "execution_count": 231,
   "metadata": {},
   "outputs": [
    {
     "data": {
      "text/plain": [
       "<matplotlib.collections.PathCollection at 0x7fef7f86b9d0>"
      ]
     },
     "execution_count": 231,
     "metadata": {},
     "output_type": "execute_result"
    },
    {
     "data": {
      "image/png": "[encoded data removed]",
      "text/plain": [
       "<Figure size 432x288 with 1 Axes>"
      ]
     },
     "metadata": {
      "needs_background": "light"
     },
     "output_type": "display_data"
    }
   ],
   "source": [
    "# 1. plot the data using a scatter plot. (2 pt)\n",
    "import matplotlib.pyplot as plt\n",
    "import numpy as np\n",
    "x1,x2,y = zip(*dataset1)\n",
    "plt.scatter(x1,x2)"
   ]
  },
  {
   "cell_type": "code",
   "execution_count": 232,
   "metadata": {},
   "outputs": [],
   "source": [
    "# 2. Base on the data you saw, which method will you choose wo perform and why? (2 pts)\n"
   ]
  },
  {
   "cell_type": "markdown",
   "metadata": {},
   "source": [
    "from what i saw i would definitely use GNB because as shown above, the two groups of data set have two totally different distributions"
   ]
  },
  {
   "cell_type": "code",
   "execution_count": 233,
   "metadata": {},
   "outputs": [],
   "source": [
    "# 3. Perform the classification from scratch. (4 pts)"
   ]
  },
  {
   "cell_type": "code",
   "execution_count": 234,
   "metadata": {},
   "outputs": [
    {
     "name": "stdout",
     "output_type": "stream",
     "text": [
      "shapes of X_train, y_train\n",
      "(140, 2) (140,)\n",
      "shapes of X_test, y_test\n",
      "(60, 2) (60,)\n"
     ]
    }
   ],
   "source": [
    "x1 = np.asarray(x1).reshape(-1,1)\n",
    "x2 = np.asarray(x2).reshape(-1,1)\n",
    "X = np.concatenate((x1,x2),axis=1)\n",
    "y = np.asarray(y)\n",
    "\n",
    "from sklearn.model_selection import train_test_split\n",
    "\n",
    "X_train,X_test,y_train,y_test = train_test_split(X,y,test_size = 0.3)\n",
    "\n",
    "# double check the shapes\n",
    "assert X_train.shape[0] == y_train.shape[0]\n",
    "# assert len(X_train)  == len(y_train)\n",
    "assert X_test.shape[0] == y_test.shape[0]\n",
    "# assert len(X_test) == len(y_test)\n",
    "\n",
    "print('shapes of X_train, y_train')\n",
    "print(X_train.shape,y_train.shape)\n",
    "print('shapes of X_test, y_test')\n",
    "print(X_test.shape,y_test.shape)"
   ]
  },
  {
   "cell_type": "markdown",
   "metadata": {},
   "source": [
    "### GNB"
   ]
  },
  {
   "cell_type": "code",
   "execution_count": 235,
   "metadata": {},
   "outputs": [],
   "source": [
    "def mean_var(X_train, y_train):\n",
    "    n = X_train.shape[1]\n",
    "    mean = np.zeros((2, n))\n",
    "    std = np.zeros((2, n))\n",
    "    for label in [0, 1]:\n",
    "        mean[label, :] = X_train[y_train==label].mean(axis=0)\n",
    "        std[label, :] = X_train[y_train==label].std(axis=0)\n",
    "    return mean, std\n",
    "\n",
    "mean, std = mean_var(X_train, y_train)\n",
    "assert mean.shape == (2, X_train.shape[1])\n",
    "assert std.shape == (2, X_train.shape[1])"
   ]
  },
  {
   "cell_type": "code",
   "execution_count": 236,
   "metadata": {},
   "outputs": [],
   "source": [
    "def gaussian_pdf(X, mean, std):\n",
    "    left = 1/(np.sqrt(2*np.pi)*std)\n",
    "    e = (X-mean)**2 / (2* (std **2))\n",
    "    right = np.exp(-e)\n",
    "    return left*right"
   ]
  },
  {
   "cell_type": "code",
   "execution_count": 237,
   "metadata": {},
   "outputs": [
    {
     "name": "stdout",
     "output_type": "stream",
     "text": [
      "(60, 2)\n"
     ]
    }
   ],
   "source": [
    "likelihood0 = gaussian_pdf(X_test, mean[0, :], std[0, :])\n",
    "likelihood1 = gaussian_pdf(X_test, mean[1, :], std[0, :])\n",
    "\n",
    "print(likelihood0.shape)\n",
    "\n",
    "#pdf should have probability of each sample for each feature\n",
    "assert likelihood0.shape == (X_test.shape[0], X_test.shape[1]), \"Shape is wrong for pdf0!\"\n",
    "assert likelihood1.shape == (X_test.shape[0], X_test.shape[1]), \"Shape is wrong for pdf1!\""
   ]
  },
  {
   "cell_type": "code",
   "execution_count": 238,
   "metadata": {},
   "outputs": [
    {
     "name": "stdout",
     "output_type": "stream",
     "text": [
      "(60,)\n"
     ]
    }
   ],
   "source": [
    "#np.product\n",
    "# P(feature1|class0) * P(feature2|class0)\n",
    "total_likelihood0 = np.prod(likelihood0, axis=1)\n",
    "\n",
    "# P(feature1|class1) * P(feature2|class1)\n",
    "total_likelihood1 = np.prod(likelihood1, axis=1)\n",
    "\n",
    "print(total_likelihood0.shape)"
   ]
  },
  {
   "cell_type": "code",
   "execution_count": 239,
   "metadata": {},
   "outputs": [],
   "source": [
    "#probability for class 0 and 1\n",
    "m0 = len(X_train[y_train==0])\n",
    "m1 = len(X_train[y_train==1])\n",
    "prior0 = m0 / (m0 + m1)\n",
    "prior1 = m1 / (m0 + m1)\n",
    "\n",
    "assert prior0 + prior1 == 1, \"probability not equal 1\""
   ]
  },
  {
   "cell_type": "code",
   "execution_count": 240,
   "metadata": {},
   "outputs": [],
   "source": [
    "#P(class0) * P(feature1|class0) * P(feature2|class0)\n",
    "posterior0 = prior0 * total_likelihood0    \n",
    "#P(class1) * P(feature1|class1) * P(feature2|class1)\n",
    "posterior1 = prior1 * total_likelihood1"
   ]
  },
  {
   "cell_type": "code",
   "execution_count": null,
   "metadata": {},
   "outputs": [],
   "source": [
    "# 4. Is the choosen method yeild a good result? If not, why? (2 pts)"
   ]
  },
  {
   "cell_type": "code",
   "execution_count": 241,
   "metadata": {},
   "outputs": [
    {
     "name": "stdout",
     "output_type": "stream",
     "text": [
      "=========Average precision score=======\n",
      "1.0\n",
      "=========Classification report=======\n",
      "Report:                precision    recall  f1-score   support\n",
      "\n",
      "           0       1.00      1.00      1.00        27\n",
      "           1       1.00      1.00      1.00        33\n",
      "\n",
      "    accuracy                           1.00        60\n",
      "   macro avg       1.00      1.00      1.00        60\n",
      "weighted avg       1.00      1.00      1.00        60\n",
      "\n"
     ]
    }
   ],
   "source": [
    "yhat = 1 * posterior1 > posterior0\n",
    "    \n",
    "from sklearn.metrics import average_precision_score, classification_report\n",
    "print(\"=========Average precision score=======\")\n",
    "print(average_precision_score(y_test, yhat))\n",
    "print(\"=========Classification report=======\")\n",
    "print(\"Report: \", classification_report(y_test, yhat))"
   ]
  },
  {
   "cell_type": "markdown",
   "metadata": {},
   "source": [
    "Yes, the chosen method yields a good result. "
   ]
  },
  {
   "cell_type": "markdown",
   "metadata": {},
   "source": [
    "### LG (Testing)"
   ]
  },
  {
   "cell_type": "code",
   "execution_count": 242,
   "metadata": {},
   "outputs": [
    {
     "name": "stdout",
     "output_type": "stream",
     "text": [
      "shapes of X_train, y_train with DUMMY added\n",
      "(140, 3) (140,)\n",
      "shapes of X_test, y_test with DUMMY added\n",
      "(60, 3) (60,)\n"
     ]
    }
   ],
   "source": [
    "intercept = np.ones((X_train.shape[0], 1))\n",
    "X_train = np.concatenate((intercept, X_train), axis=1)  #add intercept\n",
    "intercept = np.ones((X_test.shape[0], 1))\n",
    "X_test = np.concatenate((intercept, X_test), axis=1)  #add intercept\n",
    "\n",
    "print('shapes of X_train, y_train with DUMMY added')\n",
    "print(X_train.shape,y_train.shape)\n",
    "print('shapes of X_test, y_test with DUMMY added')\n",
    "print(X_test.shape,y_test.shape)"
   ]
  },
  {
   "cell_type": "code",
   "execution_count": 243,
   "metadata": {},
   "outputs": [],
   "source": [
    "def sigmoid(z):   \n",
    "    return 1 / (1 + np.exp(-z))\n",
    "\n",
    "def get_yhat(X, theta):\n",
    "    return sigmoid(X @ theta)\n",
    "\n",
    "#loss = cost\n",
    "def get_loss(X,y,theta):\n",
    "    yhat = get_yhat(X,theta)\n",
    "    loss_new = -(np.sum(y * np.log(yhat) + (1 - y) * np.log(1 - yhat))) / y.shape[0]\n",
    "#     print(loss_new.shape)\n",
    "    return loss_new\n",
    "\n",
    "#for early stopping\n",
    "def delta_loss(loss_new, loss_old, tol):\n",
    "    return np.abs(loss_new - loss_old) < tol\n",
    "\n",
    "# for theta updating\n",
    "# error = h_theta(X,theta) - y\n",
    "def gradient(X,y,theta):\n",
    "    grad = X.T @ (get_yhat(X,theta)-y)#/y.shape[0] \n",
    "    return grad\n",
    "\n",
    "def gradient_descent(X_train,y_train,X_test,y_test,theta_initial,alpha,max_iter):\n",
    "    theta = theta_initial\n",
    "    tol = 0.001    \n",
    "    loss_history_train = []\n",
    "    loss_history_test = []\n",
    "    loss_old_train = np.inf\n",
    "    iter_stop = 0  \n",
    "    for i in range(max_iter):\n",
    "        # calculate costs\n",
    "        loss_new_train = get_loss(X_train,y_train,theta)\n",
    "        loss_test = get_loss(X_test,y_test,theta)        \n",
    "#         print(loss_new)\n",
    "        \n",
    "        # early stopping?\n",
    "#         if delta_loss(loss_new_train, loss_old_train,tol):\n",
    "#             diff = np.abs(loss_new_train - loss_old_train)\n",
    "# #             print(diff)\n",
    "#             iter_stop = i\n",
    "#             break\n",
    "        loss_old_train = loss_new_train\n",
    "#         print(loss_old.shape)\n",
    "        \n",
    "        if i%1000 == 0:\n",
    "            print(\"cost iter\",i,':',loss_old_train)\n",
    "        loss_history_train.append(loss_old_train)\n",
    "        loss_history_test.append(loss_test)\n",
    "        \n",
    "        \n",
    "        # cal grad to update theta\n",
    "        grad = gradient(X_train,y_train,theta)\n",
    "#         print(grad)\n",
    "        \n",
    "        # update theta\n",
    "        theta = theta - alpha* grad\n",
    "#         print('theta',theta)\n",
    "        \n",
    "    return loss_history_train,loss_history_test, theta, iter_stop#,diff"
   ]
  },
  {
   "cell_type": "code",
   "execution_count": 244,
   "metadata": {},
   "outputs": [
    {
     "name": "stdout",
     "output_type": "stream",
     "text": [
      "==============================\n",
      "Shape of theta:  (3,)\n",
      "==============================\n",
      "Initial theta:  [0. 0. 0.]\n"
     ]
    }
   ],
   "source": [
    "theta_initial = np.zeros(X_train.shape[1])\n",
    "# theta_initial = theta_initial.reshape(-1,1)\n",
    "# check shape of theta\n",
    "print(\"=\"*30)\n",
    "print(\"Shape of theta: \", theta_initial.shape)\n",
    "\n",
    "# initial theta\n",
    "print(\"=\"*30)\n",
    "print(\"Initial theta: \", theta_initial)"
   ]
  },
  {
   "cell_type": "code",
   "execution_count": 245,
   "metadata": {},
   "outputs": [],
   "source": [
    "alpha  = 0.001\n",
    "max_iter = 10000"
   ]
  },
  {
   "cell_type": "code",
   "execution_count": 246,
   "metadata": {},
   "outputs": [
    {
     "name": "stdout",
     "output_type": "stream",
     "text": [
      "cost iter 0 : 0.6931471805599454\n",
      "cost iter 1000 : 0.02057111718210502\n",
      "cost iter 2000 : 0.012347994200590663\n",
      "cost iter 3000 : 0.009239725748324835\n",
      "cost iter 4000 : 0.007546128404518666\n",
      "cost iter 5000 : 0.006459210478698312\n",
      "cost iter 6000 : 0.005692892045335729\n",
      "cost iter 7000 : 0.005118521180154497\n",
      "cost iter 8000 : 0.004669093455576957\n",
      "cost iter 9000 : 0.004306029744554323\n",
      "0\n"
     ]
    }
   ],
   "source": [
    "cost_history_train,cost_history_test,theta, iter_stop = gradient_descent(X_train,y_train,X_test,y_test,theta_initial,alpha = alpha ,max_iter = max_iter)\n",
    "print(iter_stop)"
   ]
  },
  {
   "cell_type": "code",
   "execution_count": 247,
   "metadata": {},
   "outputs": [
    {
     "data": {
      "text/plain": [
       "<matplotlib.legend.Legend at 0x7fef7ef50310>"
      ]
     },
     "execution_count": 247,
     "metadata": {},
     "output_type": "execute_result"
    },
    {
     "data": {
      "image/png": "[encoded data removed]",
      "text/plain": [
       "<Figure size 432x288 with 1 Axes>"
      ]
     },
     "metadata": {
      "needs_background": "light"
     },
     "output_type": "display_data"
    }
   ],
   "source": [
    "plt.plot(cost_history_train,'b', label=\"train data\")\n",
    "plt.plot(cost_history_test,'r', label=\"test data\")\n",
    "plt.xlabel(\"Iterations\")\n",
    "plt.ylabel(\"cost\")\n",
    "plt.title(\"Training cost over time\")\n",
    "plt.legend()"
   ]
  },
  {
   "cell_type": "code",
   "execution_count": 248,
   "metadata": {},
   "outputs": [
    {
     "name": "stdout",
     "output_type": "stream",
     "text": [
      "=========Average precision score=======\n",
      "1.0\n",
      "=========Classification report=======\n",
      "Report:                precision    recall  f1-score   support\n",
      "\n",
      "           0       1.00      1.00      1.00        27\n",
      "           1       1.00      1.00      1.00        33\n",
      "\n",
      "    accuracy                           1.00        60\n",
      "   macro avg       1.00      1.00      1.00        60\n",
      "weighted avg       1.00      1.00      1.00        60\n",
      "\n"
     ]
    }
   ],
   "source": [
    "from sklearn.metrics import average_precision_score, classification_report\n",
    "print(\"=========Average precision score=======\")\n",
    "print(average_precision_score(y_test, yhat))\n",
    "print(\"=========Classification report=======\")\n",
    "print(\"Report: \", classification_report(y_test, yhat))"
   ]
  },
  {
   "cell_type": "markdown",
   "metadata": {},
   "source": [
    "# Dataset 2 (10 pts) --> second file"
   ]
  },
  {
   "cell_type": "code",
   "execution_count": null,
   "metadata": {},
   "outputs": [],
   "source": []
  }
 ],
 "metadata": {
  "kernelspec": {
   "display_name": "Python 3",
   "language": "python",
   "name": "python3"
  },
  "language_info": {
   "codemirror_mode": {
    "name": "ipython",
    "version": 3
   },
   "file_extension": ".py",
   "mimetype": "text/x-python",
   "name": "python",
   "nbconvert_exporter": "python",
   "pygments_lexer": "ipython3",
   "version": "3.8.3"
  }
 },
 "nbformat": 4,
 "nbformat_minor": 4
}
