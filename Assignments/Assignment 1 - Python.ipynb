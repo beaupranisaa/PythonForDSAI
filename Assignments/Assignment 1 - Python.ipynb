{
 "cells": [
  {
   "cell_type": "code",
   "execution_count": null,
   "metadata": {},
   "outputs": [],
   "source": [
    "#=============Q1===============\n",
    "def is_palindrome(input):\n",
    "    return input == input[::-1] #return true when the reverse spelling(-1) is exactly the same as the original spelling\n",
    "\n",
    "print(is_palindrome(\"hannah\"))\n",
    "print(is_palindrome(\"beau\"))"
   ]
  },
  {
   "cell_type": "code",
   "execution_count": 2,
   "metadata": {},
   "outputs": [
    {
     "name": "stdout",
     "output_type": "stream",
     "text": [
      "3 second(s) remaining\n",
      "2 second(s) remaining\n",
      "1 second(s) remaining\n",
      "Time is up!\n"
     ]
    }
   ],
   "source": [
    "#=============Q2===============\n",
    "import time as t\n",
    "def countdown():\n",
    "    input = 3\n",
    "    while input >= 1:\n",
    "        print(input, end=\" second(s) remaining\\n\")\n",
    "        t.sleep(1)\n",
    "        input -= 1\n",
    "    print(\"Time is up!\")\n",
    "    \n",
    "countdown()"
   ]
  },
  {
   "cell_type": "code",
   "execution_count": 3,
   "metadata": {},
   "outputs": [
    {
     "data": {
      "text/plain": [
       "[1, 2, 3, 4, 5]"
      ]
     },
     "execution_count": 3,
     "metadata": {},
     "output_type": "execute_result"
    }
   ],
   "source": [
    "#=============Q3===============\n",
    "def removeDuplicates(input: list):\n",
    "    if not isinstance(input, list):\n",
    "        raise ValueError(f\"{input} is not a type of list.\")\n",
    "        \n",
    "    list_Q3 = []\n",
    "    for x in input:\n",
    "        if x not in list_Q3: # when x is different from the other elements, add to the list\n",
    "            list_Q3.append(x)\n",
    "    return list_Q3\n",
    "\n",
    "a = [1,1,2,2,3,3,4,4,5,5]\n",
    "\n",
    "removeDuplicates(a)"
   ]
  },
  {
   "cell_type": "code",
   "execution_count": 4,
   "metadata": {},
   "outputs": [
    {
     "data": {
      "text/plain": [
       "[1, 2, 3, 4, 5]"
      ]
     },
     "execution_count": 4,
     "metadata": {},
     "output_type": "execute_result"
    }
   ],
   "source": [
    "#===========Q3 New=============\n",
    "def removeDuplicates(input: list):\n",
    "    if not isinstance(input, list):\n",
    "        raise ValueError(f\"{input} is not a type of list.\")\n",
    "        \n",
    "    #list_Q3 = [x for x in input]\n",
    "    list_Q3 = list(set([x for x in input]))\n",
    "    return list_Q3\n",
    "\n",
    "a = [1,1,2,2,3,3,4,4,5,5]\n",
    "\n",
    "removeDuplicates(a)"
   ]
  },
  {
   "cell_type": "code",
   "execution_count": 5,
   "metadata": {},
   "outputs": [
    {
     "name": "stdout",
     "output_type": "stream",
     "text": [
      "Max value of the list:  5\n"
     ]
    }
   ],
   "source": [
    "#=============Q4===============\n",
    "def max(input: list):\n",
    "    if not isinstance(input, list):\n",
    "        raise ValueError(f\"{input} is not a type of list.\")\n",
    "        \n",
    "    max_value = 0\n",
    "    for x in input:\n",
    "        if x > max_value: # when x is more than max_value, max_value is replaced by x\n",
    "           max_value = x\n",
    "    return max_value\n",
    "\n",
    "print(\"Max value of the list: \", max(a))"
   ]
  },
  {
   "cell_type": "code",
   "execution_count": 6,
   "metadata": {},
   "outputs": [
    {
     "name": "stdout",
     "output_type": "stream",
     "text": [
      "Max value of the list:  5\n"
     ]
    }
   ],
   "source": [
    "#=============Q4 New==============\n",
    "def my_max(input: list):\n",
    "    if not isinstance(input, list):\n",
    "        raise ValueError(f\"{input} is not a type of list.\")\n",
    "    return max(input)\n",
    "\n",
    "a = [1,1,2,2,3,3,4,4,5,5]\n",
    "print(\"Max value of the list: \", my_max(a))"
   ]
  },
  {
   "cell_type": "code",
   "execution_count": 7,
   "metadata": {},
   "outputs": [
    {
     "name": "stdout",
     "output_type": "stream",
     "text": [
      "the sum of the elements of the list is  30\n",
      "the result is 14400\n"
     ]
    }
   ],
   "source": [
    "#=============Q5===============\n",
    "def my_sum(input: list):\n",
    "    if not isinstance(input, list):\n",
    "        raise ValueError(f\"{input} is not a type of list.\")\n",
    "    result_sum = 0\n",
    "    for x in input:\n",
    "        result_sum += x #keep adding result_sum with x\n",
    "    return result_sum\n",
    "\n",
    "print(\"the sum of the elements of the list is \", my_sum(a))\n",
    "\n",
    "def my_multiply(input: list):\n",
    "    if not isinstance(input, list):\n",
    "        raise ValueError(f\"{input} is not a type of list.\")\n",
    "    \n",
    "    result_multiply = 1\n",
    "    for x in input:\n",
    "        result_multiply *= x #keep multiplying result_multiply with x\n",
    "    return result_multiply\n",
    "\n",
    "a = [1,1,2,2,3,3,4,4,5,5]\n",
    "print(\"the result is\", my_multiply(a))\n"
   ]
  },
  {
   "cell_type": "code",
   "execution_count": 8,
   "metadata": {},
   "outputs": [
    {
     "name": "stdout",
     "output_type": "stream",
     "text": [
      "the result is  5\n"
     ]
    }
   ],
   "source": [
    "#=============Q6===============\n",
    "def factorial(input):\n",
    "    result_factorial = 1\n",
    "    if input == 0:\n",
    "        return result_factorial\n",
    "    else: \n",
    "        while input > 0:\n",
    "            result_factorial = result_factorial * input\n",
    "            input -= input #once result_factorials been multiplied by input, then subtract input by 1.\n",
    "    return result_factorial\n",
    "\n",
    "b=5\n",
    "print(\"the result is \", factorial(b))"
   ]
  },
  {
   "cell_type": "code",
   "execution_count": 9,
   "metadata": {},
   "outputs": [
    {
     "data": {
      "text/plain": [
       "[[0, 0, 0], [0, 0, 0]]"
      ]
     },
     "execution_count": 9,
     "metadata": {},
     "output_type": "execute_result"
    }
   ],
   "source": [
    "#=============Q7===============\n",
    "def matrix(n,m):\n",
    "    #matrix_Q7 = []\n",
    "    matrix_Q7 = [[0 for j in range(m)] for i in range(n)] #inner brackets are for column and the outer ones are for rows\n",
    "    return matrix_Q7\n",
    "\n",
    "matrix(2,3)"
   ]
  },
  {
   "cell_type": "code",
   "execution_count": 11,
   "metadata": {},
   "outputs": [
    {
     "data": {
      "text/plain": [
       "[[14, 14], [14, 14]]"
      ]
     },
     "execution_count": 11,
     "metadata": {},
     "output_type": "execute_result"
    }
   ],
   "source": [
    "#=============Q8===============\n",
    "def dot(A,B):\n",
    "    result = matrix(len(A), len(B[0]))\n",
    "\n",
    "    for i in range(len(A)): #2\n",
    "        for j in range(len(B[0])): #2\n",
    "             for k in range(len(B)): #3\n",
    "                 result[i][j] += A[i][k] * B[k][j] #sum each mulplication of (row by column) 2x3 3x2 --> 2x2\n",
    "    return result\n",
    "\n",
    "A = [[1,2,3], [1,2,3]]\n",
    "B = [[1,1], [2,2], [3,3]]\n",
    "\n",
    "dot(A,B)"
   ]
  },
  {
   "cell_type": "code",
   "execution_count": 12,
   "metadata": {},
   "outputs": [
    {
     "name": "stdout",
     "output_type": "stream",
     "text": [
      "[[0, 1, 4, 9, 16, 25, 36, 49, 64, 81], [1, 2, 5, 10, 17, 26, 37, 50, 65, 82], [4, 5, 8, 13, 20, 29, 40, 53, 68, 85], [9, 10, 13, 18, 25, 34, 45, 58, 73, 90], [16, 17, 20, 25, 32, 41, 52, 65, 80, 97]]\n"
     ]
    }
   ],
   "source": [
    "#=============Q9===============\n",
    "def answer_9():\n",
    "   a = matrix (5,10)\n",
    "   for i in range(len(a)): \n",
    "       for j in range(len(a[i])):\n",
    "           a[i][j] = i**2 + j**2 #cal for each element of the same row, once its finished then begin the next row\n",
    "   print(a)\n",
    "\n",
    "answer_9()\n"
   ]
  },
  {
   "cell_type": "code",
   "execution_count": null,
   "metadata": {},
   "outputs": [],
   "source": [
    "#=============Q10===============\n",
    "def answer_10():\n",
    "    result_Q10 = []\n",
    "    for x in range(2000,3201): # to include 3200 the loop, we must include 3201 in range()\n",
    "        if (x%7 == 0) and (x%5 >0): #no remainder when dividing by 7. Not a multiple of 5 --> remainer > 0\n",
    "            result_Q10.append(str(x))\n",
    "    print(','.join(result_Q10))\n",
    "answer_10()"
   ]
  },
  {
   "cell_type": "code",
   "execution_count": 13,
   "metadata": {},
   "outputs": [
    {
     "name": "stdout",
     "output_type": "stream",
     "text": [
      "{1: 1, 2: 4, 3: 9, 4: 16, 5: 25, 6: 36, 7: 49, 8: 64}\n"
     ]
    }
   ],
   "source": [
    "#=============Q11===============\n",
    "def answer_11(input):\n",
    "    d = dict()\n",
    "    for i in range(1,input+1): #since index starts with 0, +1 is required when defining range\n",
    "          d[i] = i**2\n",
    "    print(d)\n",
    "\n",
    "answer_11(8)"
   ]
  },
  {
   "cell_type": "code",
   "execution_count": 26,
   "metadata": {},
   "outputs": [
    {
     "name": "stdout",
     "output_type": "stream",
     "text": [
      "18,22,24\n"
     ]
    }
   ],
   "source": [
    "#=============Q12===============\n",
    "def answer_12(input):\n",
    "    if not isinstance(D, str):\n",
    "        raise ValueError(f\"{D} is not an instance of string\")\n",
    "    C = 50\n",
    "    H = 30\n",
    "\n",
    "    import math\n",
    "    result_Q11 = []\n",
    "    elements = [x for x in D.split(',')] #split string\n",
    "    for i in range(len(elements)):\n",
    "        result_Q11.append(str(int(round(math.sqrt(2*C*(int(elements[i])/H)))))) #string must be converted to int\n",
    "    \n",
    "    print(','.join(result_Q11))\n",
    "\n",
    "D = \"100,150,180\"\n",
    "answer_12(D)"
   ]
  },
  {
   "cell_type": "code",
   "execution_count": 28,
   "metadata": {},
   "outputs": [
    {
     "data": {
      "text/plain": [
       "'again and hello makes perfect practise world'"
      ]
     },
     "execution_count": 28,
     "metadata": {},
     "output_type": "execute_result"
    }
   ],
   "source": [
    "#=============Q13===============\n",
    "def answer_13(input: str):\n",
    "    if not isinstance(input, str):\n",
    "        raise ValueError(f\"{input} is not an instance of string\")\n",
    "    return \" \".join(sorted(set(list(input.split(\" \"))))) #split string, then remove duplicates using set, then sort alphabetically, join them with \" \"\n",
    "\n",
    "sentence = \"hello world and practise makes perfect and hello world again\"\n",
    "answer_13(sentence)                  "
   ]
  },
  {
   "cell_type": "code",
   "execution_count": 32,
   "metadata": {},
   "outputs": [
    {
     "name": "stdout",
     "output_type": "stream",
     "text": [
      "11106\n"
     ]
    }
   ],
   "source": [
    "#=============Q14===============\n",
    "def answer_14(input):\n",
    "    elements = []\n",
    "    result_Q14 = 0\n",
    "    for i in range(1,5): # til 5 because the max repeated number is 9999, which is 4 times\n",
    "         elements.append(int(str(input)*i )) #the repeated number increases as i increases\n",
    "         result_Q14 += elements[i-1] #-1 as index starts with 0\n",
    "    \n",
    "    return result_Q14\n",
    "    \n",
    "print(answer_14(9))"
   ]
  },
  {
   "cell_type": "code",
   "execution_count": 31,
   "metadata": {},
   "outputs": [
    {
     "data": {
      "text/plain": [
       "'1,3,5,7,9'"
      ]
     },
     "execution_count": 31,
     "metadata": {},
     "output_type": "execute_result"
    }
   ],
   "source": [
    "#=============Q15===============\n",
    "def answer_15(input: str):\n",
    "    if not isinstance(input, str):\n",
    "        raise ValueError(f\"{input} is not an instance of string\")\n",
    "    return \",\".join([x for x in values.split(\",\") if int(x)%2>0]) #remainder when divided by 2 --> odd numbers\n",
    "\n",
    "values = \"1,2,3,4,5,6,7,8,9\"\n",
    "answer_15(values)"
   ]
  },
  {
   "cell_type": "code",
   "execution_count": 33,
   "metadata": {},
   "outputs": [
    {
     "name": "stdout",
     "output_type": "stream",
     "text": [
      "ABd1234@1\n"
     ]
    }
   ],
   "source": [
    "#=============Q16===============\n",
    "input = \"ABd1234@1,a F1#,2w3E*,2We3345\"\n",
    "def answer_16(input):\n",
    "    import re\n",
    "    valid_passwords = []\n",
    "    passwords = [x for x in input.split(',')]\n",
    "    for i in range(0,len(passwords)):\n",
    "        \n",
    "        if (len(passwords[i])<6) or (len(passwords[i])>12): #if detected, continue with the next password option          \n",
    "            continue\n",
    "        if not re.search(\"[a-z]\", passwords[i]): #if detected, continue with the next password option           \n",
    "            continue\n",
    "        if not re.search(\"[A-Z]\", passwords[i]): #if detected, continue with the next password option\n",
    "            continue\n",
    "        if not re.search(\"[0-9]\", passwords[i]): #if detected, continue with the next password option\n",
    "            continue\n",
    "        if not re.search(\"[$#@]\", passwords[i]): #if detected, continue with the next password option\n",
    "            continue\n",
    "        valid_passwords.append(passwords[i])\n",
    "    return valid_passwords\n",
    "       \n",
    "print(*answer_16(input))"
   ]
  },
  {
   "cell_type": "code",
   "execution_count": 16,
   "metadata": {},
   "outputs": [
    {
     "data": {
      "text/plain": [
       "[('John', 20, 90),\n",
       " ('Jony', 17, 91),\n",
       " ('Jony', 17, 93),\n",
       " ('Json', 21, 85),\n",
       " ('Tom', 19, 80)]"
      ]
     },
     "execution_count": 16,
     "metadata": {},
     "output_type": "execute_result"
    }
   ],
   "source": [
    "#=============Q17===============\n",
    "def answer_17():\n",
    "    tom = \"Tom\",19,80\n",
    "    john = \"John\",20,90\n",
    "    johny = \"Jony\",17,91\n",
    "    jony = \"Jony\",17,93\n",
    "    json = \"Json\",21,85\n",
    "    \n",
    "    combine = [tom,john,johny,jony,json]\n",
    "    return sorted(combine, key = lambda x: (x[0],x[1],x[2])) \n",
    "\n",
    "answer_17()"
   ]
  },
  {
   "cell_type": "code",
   "execution_count": 19,
   "metadata": {},
   "outputs": [
    {
     "name": "stdout",
     "output_type": "stream",
     "text": [
      "how : 1\n",
      "too : 1\n",
      "much : 2\n",
      "hw : 1\n",
      "chaky : 1\n",
      "learning : 1\n",
      "is : 1\n",
      "will : 1\n",
      "perfect : 1\n",
      "? : 2\n",
      "makes : 1\n",
      "work : 1\n",
      "practise : 1\n",
      "with : 1\n",
      "python : 1\n"
     ]
    }
   ],
   "source": [
    "#=============Q18===============\n",
    "def answer_18(input: str):    \n",
    "    remove_characters = [\",\", \".\"]\n",
    "    for character in remove_characters:\n",
    "        input = input.replace(character,\"\") #remove , . first\n",
    "    words_set = [x for x in set(input.lower().split(\" \"))] #find unique words\n",
    "    words = [x for x in input.lower().split(\" \")] #split words by \" \", then make everything to be in lower case\n",
    "    for element in words_set:\n",
    "         print(element,\":\", words.count(element)) # count how many time a specific word appears\n",
    "a = \"How much HW is too much ? Chaky, Will ...practise makes perfect... work with learning Python ?\"\n",
    "answer_18(a)"
   ]
  },
  {
   "cell_type": "code",
   "execution_count": 39,
   "metadata": {},
   "outputs": [
    {
     "name": "stdout",
     "output_type": "stream",
     "text": [
      "1 1\n",
      "2 4\n",
      "3 9\n",
      "4 16\n",
      "5 25\n",
      "6 36\n",
      "7 49\n",
      "8 64\n",
      "9 81\n",
      "10 100\n",
      "11 121\n",
      "12 144\n",
      "13 169\n",
      "14 196\n",
      "15 225\n",
      "16 256\n",
      "17 289\n",
      "18 324\n",
      "19 361\n",
      "20 400\n"
     ]
    }
   ],
   "source": [
    "#=============Q19===============\n",
    "def answer_19():\n",
    "    dictionary = dict()\n",
    "    for i in range(1,21):\n",
    "        dictionary[i] = i**2 \n",
    "    for (x,y) in dictionary.items(): #items(): to extract both keys and values\n",
    "        print(x,y)\n",
    "answer_19()"
   ]
  },
  {
   "cell_type": "code",
   "execution_count": null,
   "metadata": {},
   "outputs": [],
   "source": [
    "#=============Q20===============\n",
    "def answer_20(input: list):\n",
    "    list_after = list(filter(lambda num: num%2 ==0,input))\n",
    "    return list(map(lambda num2: num2**2, list_after)) # after filtered, **2 each of the element in list_after using lambda\n",
    "    \n",
    "    \n",
    "input= [1,2,3,4,5,6,7,8,9,10]\n",
    "answer_20(input)"
   ]
  },
  {
   "cell_type": "code",
   "execution_count": null,
   "metadata": {},
   "outputs": [],
   "source": [
    "#=============Q21===============\n",
    "def answer_21():\n",
    "    try:\n",
    "        x = 5/0\n",
    "    except ZeroDivisionError as e:\n",
    "        print(\"Error: \", e)\n",
    "    else:\n",
    "        print(\"Dividing successfully!\")\n",
    "    finally: \n",
    "        print('Executed regardless error or not')\n",
    "\n",
    "answer_21()"
   ]
  },
  {
   "cell_type": "code",
   "execution_count": null,
   "metadata": {},
   "outputs": [],
   "source": [
    "#=============Q22===============\n",
    "def answer_22(age,*f_salary, name =\"N/A\",**kids):\n",
    "    total_salary = 0\n",
    "    for salary in f_salary:\n",
    "        total_salary += salary #sum up the salaries of the family members\n",
    "    print(f\"{name} has the age of {age} with family salary of {total_salary}\")\n",
    "    for x,y in kids.items(): #for each kid print .... \n",
    "        print(\"The school of {} is {}\".format(x,y)) #first {} belongs to x and second {} belongs to y\n",
    "\n",
    "answer_22(23,3000,4000,name='Beau',Human1=\"school1\",Human2=\"school2\")\n",
    "        "
   ]
  },
  {
   "cell_type": "code",
   "execution_count": null,
   "metadata": {},
   "outputs": [],
   "source": [
    "#=============Q23===============\n",
    "def f(x):\n",
    "    return x**2\n",
    "\n",
    "def answer_23(input,m):\n",
    "    k = len(input)\n",
    "    assert 1 <= k <= 7\n",
    "    assert 1 <= m <= 1000\n",
    "    all_possible_combi = []\n",
    "    for x1 in input[0]:\n",
    "        for x2 in input[1]:\n",
    "            for x3 in input[2]:\n",
    "                all_possible_combi.append((x1,x2,x3))\n",
    "    def eqt(elem_combi):\n",
    "        return (sum(map(lambda elem:elem**2, elem_combi)))%m\n",
    "    return max(list(map(eqt, all_possible_combi)))   \n",
    "   \n",
    "input = []\n",
    "input.append([2,5,4])\n",
    "input.append([3,7,8,9])\n",
    "input.append([5,5,7,8,9,10])\n",
    "m = 1000\n",
    "answer_23(input,m)"
   ]
  },
  {
   "cell_type": "code",
   "execution_count": null,
   "metadata": {},
   "outputs": [],
   "source": [
    "#=============Q24===============\n",
    "def answer_24(heads,legs):\n",
    "    import numpy as np\n",
    "    coeff = np.array([[1,1],[2,4]])\n",
    "    # chicken + rabbit = 35\n",
    "    # (2 x chicken) + (4 x rabbit) = 94\n",
    "    heads_legs = np.array([heads, legs])\n",
    "    answer = np.linalg.inv(coeff).dot(heads_legs)\n",
    "    print(answer)\n",
    "\n",
    "answer_24(35,94)"
   ]
  },
  {
   "cell_type": "code",
   "execution_count": 111,
   "metadata": {},
   "outputs": [
    {
     "name": "stdout",
     "output_type": "stream",
     "text": [
      "elements {18} is/are neighbor(s) of 12.\n",
      "elements {35} is/are neighbor(s) of 29.\n",
      "elements {25} is/are neighbor(s) of 31.\n",
      "elements {34} is/are neighbor(s) of 33.\n",
      "elements {3} is/are neighbor(s) of 4.\n",
      "elements {1} is/are neighbor(s) of 0.\n"
     ]
    },
    {
     "data": {
      "text/plain": [
       "[[12, 9, 6, 0, 23, 29],\n",
       " [31, 33, 8, 7, 15, 18],\n",
       " [14, 20, 5, 17, 11, 35],\n",
       " [21, 32, 1, 28, 26, 4],\n",
       " [24, 25, 19, 3, 30, 10],\n",
       " [34, 16, 22, 27, 2, 13]]"
      ]
     },
     "execution_count": 111,
     "metadata": {},
     "output_type": "execute_result"
    }
   ],
   "source": [
    "#=============Q25===============\n",
    "from itertools import chain\n",
    "from collections import Counter\n",
    "\n",
    "seqs_rule_a = [[3, 4, 4, 5, 6, 7]]\n",
    "seqs_rule_b = [[3, 9]]\n",
    "seqs_rule_c = [[22, 24, 0, 20, 7, 3], [1, 30, 18, 24, 13, 6]]\n",
    "\n",
    "def tester(seqs):\n",
    "    for index, seq in enumerate(seqs):\n",
    "        # Rule A: No duplication in sequence_i\n",
    "        assert hasDuplication(seq) == False, f\"A: {seq} has duplication.\"\n",
    "        # Rule B: No Neighbors of each element in seqeuence\n",
    "        assert hasNeighbors(seq) == False, f\"B: {seq} has neighbor.\"\n",
    "        if(index != 0): \n",
    "            prev_seq = seqs[index - 1]\n",
    "            assert hasDuplicationWithPrev(seq,prev_seq) == False, f\"C: {prev_seq} and {seq} has duplicaiton.\"\n",
    "    #examine rule d; should be roughly equal +-1\n",
    "    print(\"Counting: \", Counter(list(chain(*seqs))))\n",
    "def hasDuplication(seq):\n",
    "    # if number of member of set is not equal to list then it must have duplicate\n",
    "    return len(seq) != len(set(seq))\n",
    "\n",
    "def hasNeighbors(seq):\n",
    "    for elem in seq:\n",
    "        top = elem - 6\n",
    "        right = elem + 1\n",
    "        left = elem - 1\n",
    "        bottom = elem + 6\n",
    "        \n",
    "        neighbors = set({ top, bottom, left, right })\n",
    "        # element at most left\n",
    "        if(elem % 6 == 0):\n",
    "            neighbors = set({ top, bottom, right })\n",
    "        # element at most right\n",
    "        if(elem % 6 == 5):\n",
    "            neighbors = set({ top, bottom, left })\n",
    "\n",
    "        if( neighbors.intersection(set(seq)) != set() ):\n",
    "            print(f\"elements {neighbors.intersection(set(seq))} is/are neighbor(s) of {elem}.\")\n",
    "            return True\n",
    "    return False\n",
    "\n",
    "def hasDuplicationWithPrev(prev_seq, seq):\n",
    "    # the intersection between the two set must be an empty set\n",
    "    return set(prev_seq).intersection(set(seq)) != set()\n",
    "\n",
    "import random\n",
    "\n",
    "# seqs = []\n",
    "# n = 6 #list\n",
    "# k = 6 #elements\n",
    "\n",
    "def answer_25():\n",
    "    seqs = []\n",
    "    k = 6 #elements\n",
    "    n = 6 #list\n",
    "    num_elem = n*k\n",
    "    \n",
    "    import numpy as np\n",
    "    \n",
    "    \n",
    "    #print(matrix_elem)\n",
    "    def working():\n",
    "        matrix = []\n",
    "        matrix_elem = [i for i in range(0,num_elem)]\n",
    "        for i in range(0,n):\n",
    "            list_in_set = random.sample(matrix_elem,k)\n",
    "            for elem_used in list_in_set:\n",
    "                matrix_elem.remove(elem_used)\n",
    "            if hasDuplication(list_in_set):\n",
    "                pass\n",
    "            else:\n",
    "                matrix.append(list_in_set)  \n",
    "        return matrix \n",
    "    is_done= False\n",
    "    matrix=working()\n",
    "    while(not is_done):\n",
    "        \n",
    "        for i in range(len(matrix)):\n",
    "            if hasNeighbors(matrix[i]) or hasDuplicationWithPrev(matrix[i+1],matrix[i]):\n",
    "                matrix=working()\n",
    "        is_done=True\n",
    "    return matrix\n",
    "answer_25()\n",
    "    "
   ]
  },
  {
   "cell_type": "code",
   "execution_count": 118,
   "metadata": {},
   "outputs": [
    {
     "ename": "NameError",
     "evalue": "name 'unique_elem' is not defined",
     "output_type": "error",
     "traceback": [
      "\u001b[0;31m---------------------------------------------------------------------------\u001b[0m",
      "\u001b[0;31mNameError\u001b[0m                                 Traceback (most recent call last)",
      "\u001b[0;32m<ipython-input-118-9b4748fcfe45>\u001b[0m in \u001b[0;36m<module>\u001b[0;34m\u001b[0m\n\u001b[1;32m     76\u001b[0m \u001b[0;34m\u001b[0m\u001b[0m\n\u001b[1;32m     77\u001b[0m \u001b[0mis_done\u001b[0m\u001b[0;34m=\u001b[0m \u001b[0;32mFalse\u001b[0m\u001b[0;34m\u001b[0m\u001b[0;34m\u001b[0m\u001b[0m\n\u001b[0;32m---> 78\u001b[0;31m \u001b[0mmatrix\u001b[0m\u001b[0;34m=\u001b[0m\u001b[0mworking\u001b[0m\u001b[0;34m(\u001b[0m\u001b[0;34m)\u001b[0m\u001b[0;34m\u001b[0m\u001b[0;34m\u001b[0m\u001b[0m\n\u001b[0m\u001b[1;32m     79\u001b[0m \u001b[0mflag\u001b[0m \u001b[0;34m=\u001b[0m \u001b[0;36m0\u001b[0m\u001b[0;34m\u001b[0m\u001b[0;34m\u001b[0m\u001b[0m\n\u001b[1;32m     80\u001b[0m \u001b[0;34m\u001b[0m\u001b[0m\n",
      "\u001b[0;32m<ipython-input-115-4a687510e160>\u001b[0m in \u001b[0;36mworking\u001b[0;34m()\u001b[0m\n\u001b[1;32m     65\u001b[0m \u001b[0;32mdef\u001b[0m \u001b[0mworking\u001b[0m\u001b[0;34m(\u001b[0m\u001b[0;34m)\u001b[0m\u001b[0;34m:\u001b[0m\u001b[0;34m\u001b[0m\u001b[0;34m\u001b[0m\u001b[0m\n\u001b[1;32m     66\u001b[0m     \u001b[0mmatrix\u001b[0m \u001b[0;34m=\u001b[0m \u001b[0;34m[\u001b[0m\u001b[0;34m]\u001b[0m\u001b[0;34m\u001b[0m\u001b[0;34m\u001b[0m\u001b[0m\n\u001b[0;32m---> 67\u001b[0;31m     \u001b[0mmatrix_elem\u001b[0m \u001b[0;34m=\u001b[0m \u001b[0;34m[\u001b[0m\u001b[0mi\u001b[0m \u001b[0;32mfor\u001b[0m \u001b[0mi\u001b[0m \u001b[0;32min\u001b[0m \u001b[0mrange\u001b[0m\u001b[0;34m(\u001b[0m\u001b[0;36m0\u001b[0m\u001b[0;34m,\u001b[0m\u001b[0munique_elem\u001b[0m\u001b[0;34m)\u001b[0m\u001b[0;34m]\u001b[0m\u001b[0;34m\u001b[0m\u001b[0;34m\u001b[0m\u001b[0m\n\u001b[0m\u001b[1;32m     68\u001b[0m     \u001b[0;31m#print(matrix_elem)\u001b[0m\u001b[0;34m\u001b[0m\u001b[0;34m\u001b[0m\u001b[0;34m\u001b[0m\u001b[0m\n\u001b[1;32m     69\u001b[0m     \u001b[0;32mfor\u001b[0m \u001b[0mi\u001b[0m \u001b[0;32min\u001b[0m \u001b[0mrange\u001b[0m\u001b[0;34m(\u001b[0m\u001b[0;36m0\u001b[0m\u001b[0;34m,\u001b[0m\u001b[0mn\u001b[0m\u001b[0;34m)\u001b[0m\u001b[0;34m:\u001b[0m\u001b[0;34m\u001b[0m\u001b[0;34m\u001b[0m\u001b[0m\n",
      "\u001b[0;31mNameError\u001b[0m: name 'unique_elem' is not defined"
     ]
    }
   ],
   "source": [
    "#=============Q25 new===============\n",
    "from itertools import chain\n",
    "from collections import Counter\n",
    "\n",
    "seqs_rule_a = [[3, 4, 4, 5, 6, 7]]\n",
    "seqs_rule_b = [[3, 9]]\n",
    "seqs_rule_c = [[22, 24, 0, 20, 7, 3], [1, 30, 18, 24, 13, 6]]\n",
    "\n",
    "def tester(seqs):\n",
    "    for index, seq in enumerate(seqs):\n",
    "        # Rule A: No duplication in sequence_i\n",
    "        assert hasDuplication(seq) == False, f\"A: {seq} has duplication.\"\n",
    "        # Rule B: No Neighbors of each element in seqeuence\n",
    "        assert hasNeighbors(seq) == False, f\"B: {seq} has neighbor.\"\n",
    "        if(index != 0): \n",
    "            prev_seq = seqs[index - 1]\n",
    "            assert hasDuplicationWithPrev(seq,prev_seq) == False, f\"C: {prev_seq} and {seq} has duplicaiton.\"\n",
    "    #examine rule d; should be roughly equal +-1\n",
    "    #print(\"Counting: \", Counter(list(chain(*seqs))))\n",
    "def hasDuplication(seq):\n",
    "    # if number of member of set is not equal to list then it must have duplicate\n",
    "    return len(seq) != len(set(seq))\n",
    "\n",
    "def hasNeighbors(seq):\n",
    "    for elem in seq:\n",
    "        top = elem - 6\n",
    "        right = elem + 1\n",
    "        left = elem - 1\n",
    "        bottom = elem + 6\n",
    "        \n",
    "        neighbors = set({ top, bottom, left, right })\n",
    "        # element at most left\n",
    "        if(elem % 6 == 0):\n",
    "            neighbors = set({ top, bottom, right })\n",
    "        # element at most right\n",
    "        if(elem % 6 == 5):\n",
    "            neighbors = set({ top, bottom, left })\n",
    "\n",
    "        if( neighbors.intersection(set(seq)) != set() ):\n",
    "            #print(f\"elements {neighbors.intersection(set(seq))} is/are neighbor(s) of {elem}.\")\n",
    "            return True\n",
    "    return False\n",
    "\n",
    "def hasDuplicationWithPrev(prev_seq, seq):\n",
    "    # the intersection between the two set must be an empty set\n",
    "    return set(prev_seq).intersection(set(seq)) != set()\n",
    "\n",
    "import random\n",
    "\n",
    "# seqs = []\n",
    "# n = 6 #list\n",
    "# k = 6 #elements\n",
    "\n",
    "def answer_25():\n",
    "    seqs = []\n",
    "    k = 6 #elements\n",
    "    n = 10 #list\n",
    "    unique_elem = 36\n",
    "    num_elem = n*k\n",
    "    \n",
    "    #import numpy as np\n",
    "    \n",
    "    \n",
    "    #print(matrix_elem)\n",
    "    def working():\n",
    "        matrix = []\n",
    "        matrix_elem = [i for i in range(0,unique_elem)]\n",
    "        #print(matrix_elem)\n",
    "        for i in range(0,n):\n",
    "            list_in_set = random.sample(matrix_elem,k)\n",
    "            if hasDuplication(list_in_set):\n",
    "                pass\n",
    "            else:\n",
    "                matrix.append(list_in_set)  \n",
    "        return matrix \n",
    "    \n",
    "is_done= False\n",
    "matrix=working()\n",
    "flag = 0\n",
    "\n",
    "while(not is_done):\n",
    "    for i in range(len(matrix)):\n",
    "        if hasNeighbors(matrix[i]) or hasDuplicationWithPrev(matrix[i+1],matrix[i]):\n",
    "            flag += 1 \n",
    "            if flag == n:\n",
    "                return True\n",
    "\n",
    "\n",
    "\n",
    "\n",
    "answer_25()\n",
    "    "
   ]
  },
  {
   "cell_type": "code",
   "execution_count": null,
   "metadata": {},
   "outputs": [],
   "source": []
  },
  {
   "cell_type": "code",
   "execution_count": null,
   "metadata": {},
   "outputs": [],
   "source": []
  }
 ],
 "metadata": {
  "kernelspec": {
   "display_name": "Python 3",
   "language": "python",
   "name": "python3"
  },
  "language_info": {
   "codemirror_mode": {
    "name": "ipython",
    "version": 3
   },
   "file_extension": ".py",
   "mimetype": "text/x-python",
   "name": "python",
   "nbconvert_exporter": "python",
   "pygments_lexer": "ipython3",
   "version": "3.8.8"
  }
 },
 "nbformat": 4,
 "nbformat_minor": 4
}
