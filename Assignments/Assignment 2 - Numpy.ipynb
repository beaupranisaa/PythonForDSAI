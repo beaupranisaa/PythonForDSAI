{
 "cells": [
  {
   "cell_type": "markdown",
   "metadata": {},
   "source": [
    "# Assignment 2\n",
    "\n",
    "### Name: Pranisaa Charnparttaravanit ID: st121720"
   ]
  },
  {
   "cell_type": "code",
   "execution_count": 786,
   "metadata": {},
   "outputs": [],
   "source": [
    "import numpy as np\n",
    "from numpy import genfromtxt\n",
    "import math "
   ]
  },
  {
   "cell_type": "markdown",
   "metadata": {},
   "source": [
    "1. <code>np.array([True, 1, 2]) + np.array([3, 4, False]) == which one?\n",
    "    a. np.array([True, 1, 2, 3, 4, False])\n",
    "    b. np.array([4, 3, 0]) + np.array([0, 2, 2])\n",
    "    c. np.array([1, 1, 2]) + np.array([3, 4, -1])\n",
    "    d. np.array([0, 1, 2, 3, 4, 5])</code>"
   ]
  },
  {
   "cell_type": "markdown",
   "metadata": {},
   "source": [
    "#==============Q1==============#\\\n",
    "ANS: b"
   ]
  },
  {
   "cell_type": "markdown",
   "metadata": {},
   "source": [
    "2. Create a 2d array with 1 on the border and 0 inside"
   ]
  },
  {
   "cell_type": "code",
   "execution_count": 1257,
   "metadata": {
    "tags": []
   },
   "outputs": [
    {
     "data": {
      "text/plain": [
       "array([[1, 1, 1, 1, 1],\n",
       "       [1, 0, 0, 0, 1],\n",
       "       [1, 0, 0, 0, 1],\n",
       "       [1, 0, 0, 0, 1],\n",
       "       [1, 1, 1, 1, 1]])"
      ]
     },
     "execution_count": 1257,
     "metadata": {},
     "output_type": "execute_result"
    }
   ],
   "source": [
    "#==============Q2==============#\n",
    "n=5\n",
    "\n",
    "mtx = np.ones((n,n),dtype = int)\n",
    "mtx[1:n-1,1:n-1] = 0\n",
    "mtx"
   ]
  },
  {
   "cell_type": "markdown",
   "metadata": {},
   "source": [
    "3. somehow, your $y$ comes in 2D, as we know, in scikit learn, it needs a 1D $y$, in the shape of <code>(samples, )</code>.  Convert this $y$ into 1D\n",
    "<code>y = np.array([[3, 2, 3, 4, 5]])</code>"
   ]
  },
  {
   "cell_type": "code",
   "execution_count": 1258,
   "metadata": {
    "tags": []
   },
   "outputs": [
    {
     "name": "stdout",
     "output_type": "stream",
     "text": [
      "(1, 5)\n",
      "(5, 1)\n"
     ]
    }
   ],
   "source": [
    "#==============Q3==============#\n",
    "y = np.array([[3, 2, 3, 4, 5]])\n",
    "\n",
    "print(y.shape)\n",
    "y.reshape(-1,1)\n",
    "print(y.reshape(-1,1).shape)"
   ]
  },
  {
   "cell_type": "markdown",
   "metadata": {},
   "source": [
    "4. Given the following array\n",
    "<code>celsius_fahrenheit = np.array([10, 50, 15, 59, 5, 42])</code>.  Convert them to a 2d array with first col as celsius and second col as fahrenheit"
   ]
  },
  {
   "cell_type": "code",
   "execution_count": 1399,
   "metadata": {
    "tags": []
   },
   "outputs": [
    {
     "data": {
      "text/plain": [
       "array([[10, 50],\n",
       "       [15, 59],\n",
       "       [ 5, 42]])"
      ]
     },
     "execution_count": 1399,
     "metadata": {},
     "output_type": "execute_result"
    }
   ],
   "source": [
    "#==============Q4==============#\n",
    "celsius_fahrenheit = np.array([10, 50, 15, 59, 5, 42])\n",
    "\n",
    "# print(celsius_fahrenheit.shape)\n",
    "twod_c_f = celsius_fahrenheit.reshape(-1,2)\n",
    "twod_c_f"
   ]
  },
  {
   "cell_type": "markdown",
   "metadata": {},
   "source": [
    "5. Given the 3D temperature field and 1-D pressure coordinates below, calculate: $$T\\exp(P/1000)$$ You will need to use broadcasting to make the arrays compatible.\n",
    "\n",
    "<code>pressure = np.array([1000, 850, 500, 300])\n",
    "temps = np.linspace(20, 30, 24).reshape(4, 3, 2)\n",
    "print(temps.shape)</code>"
   ]
  },
  {
   "cell_type": "code",
   "execution_count": 1260,
   "metadata": {
    "tags": []
   },
   "outputs": [
    {
     "name": "stdout",
     "output_type": "stream",
     "text": [
      "Pressure shape:  (4,)\n",
      "(2, 3, 4)\n"
     ]
    },
    {
     "data": {
      "text/plain": [
       "array([[[54.36563657, 52.89636361, 41.57644944, 37.56128856],\n",
       "        [56.7293599 , 54.93083913, 43.01012011, 38.73507883],\n",
       "        [59.09308323, 56.96531466, 44.44379078, 39.90886909]],\n",
       "\n",
       "       [[55.54749823, 53.91360137, 42.29328477, 38.14818369],\n",
       "        [57.91122156, 55.94807689, 43.72695544, 39.32197396],\n",
       "        [60.27494489, 57.98255242, 45.16062611, 40.49576423]]])"
      ]
     },
     "execution_count": 1260,
     "metadata": {},
     "output_type": "execute_result"
    }
   ],
   "source": [
    "#==============Q5==============#\n",
    "pressure = np.array([1000, 850, 500, 300])\n",
    "temps = np.linspace(20, 30, 24).reshape(4, 3, 2)\n",
    "print(\"Pressure shape: \", pressure.shape)\n",
    "\n",
    "temps_trans = temps.T\n",
    "print(temps_trans.shape)\n",
    "(temps_trans)*np.exp(pressure/1000)"
   ]
  },
  {
   "cell_type": "markdown",
   "metadata": {},
   "source": [
    "6. Given following arrays: \n",
    "\n",
    "<code>array3d = np.array([[[ 0,  1,  2],\n",
    "                     [ 3,  4,  5],\n",
    "                     [ 6,  7,  8]],\n",
    "                    [[ 9, 10, 11],\n",
    "                     [12, 13, 14],\n",
    "                     [15, 16, 17]],\n",
    "                    [[18, 19, 20],\n",
    "                     [21, 22, 23],\n",
    "                     [24, 25, 26]]])\n",
    "</code>\n",
    "                      \n",
    "Index into the 3d array to produce the followings 4 arrays\n",
    "\n",
    "<code>array([[ 2,  5,  8],\n",
    "       [11, 14, 17],\n",
    "       [20, 23, 26]])\n",
    "array([[ 3,  4,  5],\n",
    "       [12, 13, 14]])\n",
    "array([2, 5])\n",
    "array([[11, 10,  9],\n",
    "       [14, 13, 12],\n",
    "       [17, 16, 15]])\n",
    "</code>"
   ]
  },
  {
   "cell_type": "code",
   "execution_count": 1400,
   "metadata": {
    "tags": []
   },
   "outputs": [
    {
     "data": {
      "text/plain": [
       "array([[11, 10,  9],\n",
       "       [14, 13, 12],\n",
       "       [17, 16, 15]])"
      ]
     },
     "execution_count": 1400,
     "metadata": {},
     "output_type": "execute_result"
    }
   ],
   "source": [
    "#==============Q6==============#\n",
    "array3d = np.array([[[ 0,  1,  2],\n",
    "                     [ 3,  4,  5],\n",
    "                     [ 6,  7,  8]],\n",
    "                    [[ 9, 10, 11],\n",
    "                     [12, 13, 14],\n",
    "                     [15, 16, 17]],\n",
    "                    [[18, 19, 20],\n",
    "                     [21, 22, 23],\n",
    "                     [24, 25, 26]]])\n",
    "\n",
    "array3d[:,:,2]\n",
    "array3d[[0,1],1,:]\n",
    "array3d[1,:,::-1]"
   ]
  },
  {
   "cell_type": "markdown",
   "metadata": {},
   "source": [
    "7. Given the following arrays:\n",
    "\n",
    "<code>#unit is power measured in volts (value is mock)\n",
    "eeg1 = np.array([[1, 19, 3], [3, 2, 10], [30, 2, 8]])\n",
    "marker1 = np.array(1)  #cat\n",
    "eeg2 = np.array([[3, 6, 9], [8, 2, 3], [4, 5, 9]])\n",
    "marker2 = np.array(2) #dog\n",
    "eeg3 = np.array([[1, 2, 10], [15, 2, 3], [6, 2, 1]])\n",
    "marker3 = np.array(1)  #cat\n",
    "all_eeg = []\n",
    "all_eeg.append([eeg1, marker1])\n",
    "all_eeg.append([eeg2, marker2])\n",
    "all_eeg.append([eeg3, marker3])\n",
    "all_eeg_numpy = np.array(all_eeg)\n",
    "print(\"All eeg numpy: \", all_eeg_numpy)\n",
    "print(\"All eeg numpy shape: \", all_eeg_numpy.shape)\n",
    "</code>\n",
    "\n",
    "Compare whether marker of 1 (i.e., cat) has an average power higher than 2 across all channels (i.e., dog). Use all_eeg_numpy, assuming that eeg and marker are not given.\n",
    "\n",
    "Hint: First you want to get eeg belonging to only 1 and 2.  Then perform np.mean across all eeg signals sharing same markers, then np mean across all channels, i.e., column wise."
   ]
  },
  {
   "cell_type": "code",
   "execution_count": 1404,
   "metadata": {
    "tags": []
   },
   "outputs": [
    {
     "name": "stdout",
     "output_type": "stream",
     "text": [
      "All eeg numpy:  [[array([[ 1, 19,  3],\n",
      "       [ 3,  2, 10],\n",
      "       [30,  2,  8]])\n",
      "  array(1)]\n",
      " [array([[3, 6, 9],\n",
      "       [8, 2, 3],\n",
      "       [4, 5, 9]]) array(2)]\n",
      " [array([[ 1,  2, 10],\n",
      "       [15,  2,  3],\n",
      "       [ 6,  2,  1]])\n",
      "  array(1)]]\n",
      "All eeg numpy shape:  (3, 2)\n",
      "eeg for cat:  [[array([[ 1, 19,  3],\n",
      "       [ 3,  2, 10],\n",
      "       [30,  2,  8]])\n",
      "  array(1)]\n",
      " [array([[ 1,  2, 10],\n",
      "       [15,  2,  3],\n",
      "       [ 6,  2,  1]])\n",
      "  array(1)]]\n",
      "eeg for dog:  [[array([[3, 6, 9],\n",
      "       [8, 2, 3],\n",
      "       [4, 5, 9]]) array(2)]]\n",
      "=======\n",
      "EEG marker 1 mean:  6.666666666666667\n",
      "===========\n",
      "EEG marker 2 mean:  5.444444444444445\n"
     ]
    }
   ],
   "source": [
    "#==============Q7==============#\n",
    "eeg1 = np.array([[1, 19, 3], [3, 2, 10], [30, 2, 8]])\n",
    "marker1 = np.array(1)  #cat\n",
    "eeg2 = np.array([[3, 6, 9], [8, 2, 3], [4, 5, 9]])\n",
    "marker2 = np.array(2) #dog\n",
    "eeg3 = np.array([[1, 2, 10], [15, 2, 3], [6, 2, 1]])\n",
    "marker3 = np.array(1)  #cat\n",
    "all_eeg = []\n",
    "all_eeg.append([eeg1, marker1])\n",
    "all_eeg.append([eeg2, marker2])\n",
    "all_eeg.append([eeg3, marker3])\n",
    "\n",
    "all_eeg_numpy = np.array(all_eeg)\n",
    "print(\"All eeg numpy: \", all_eeg_numpy)\n",
    "print(\"All eeg numpy shape: \", all_eeg_numpy.shape)\n",
    "                            \n",
    "#Cat                                                   \n",
    "# cat_mean2 = np.mean(all_eeg_numpy[signal_cat][1][0])\n",
    "# print(cat_mean1)\n",
    "# print(cat_mean2)\n",
    "# print((cat_mean1 + cat_mean2)/2)\n",
    "# # print(all_eeg_numpy[0,0])\n",
    "# # print(all_eeg_numpy[2,0])\n",
    "\n",
    "#cat\n",
    "signal_cat = all_eeg_numpy[:,1]==1\n",
    "print(\"eeg for cat: \",all_eeg_numpy[signal_cat])\n",
    "\n",
    "#dog\n",
    "signal_dog = all_eeg_numpy[:,1]==2\n",
    "print(\"eeg for dog: \", all_eeg_numpy[signal_dog])\n",
    "dog_mean = np.mean(all_eeg_numpy[signal_dog][0][0])\n",
    "\n",
    "print(\"=======\")\n",
    "print('EEG marker 1 mean: ',np.mean(np.sum(all_eeg_numpy[signal_cat][:,0]))/all_eeg_numpy[signal_cat].shape[0])\n",
    "print(\"===========\")\n",
    "print('EEG marker 2 mean: ',dog_mean)\n"
   ]
  },
  {
   "cell_type": "markdown",
   "metadata": {},
   "source": [
    "8. let $x$ be 111 points from 1 to 100, and y be $f(x)$ of $sin$, $cos$, $exp$ and $log$.  Construct $x$ and $y$.  Then use the following function to plot $x$, and $y$\n",
    "\n",
    "<code>import matplotlib as plt\n",
    "plt.plot(x,y )\n",
    "plt.title(\"Any title\",fontsize=16)</code>"
   ]
  },
  {
   "cell_type": "code",
   "execution_count": 1263,
   "metadata": {},
   "outputs": [
    {
     "data": {
      "image/png": "[encoded data removed]",
      "text/plain": [
       "<Figure size 720x360 with 4 Axes>"
      ]
     },
     "metadata": {
      "needs_background": "light"
     },
     "output_type": "display_data"
    }
   ],
   "source": [
    "#==============Q8==============#\n",
    "import matplotlib.pyplot as plt\n",
    "import numpy as np\n",
    "\n",
    "def plotgraph(p,x_series,y_series,function):\n",
    "    p.plot(x_series,y_series)\n",
    "    p.set_title(function)\n",
    "    p.set_xlabel('x')\n",
    "    p.set_ylabel('y')\n",
    "    \n",
    "x_series = np.linspace(1, 100, 111)\n",
    "y_series_sin = [math.sin(x) for x in x_series]\n",
    "y_series_cos = [math.cos(x) for x in x_series]\n",
    "y_series_exp = [math.exp(x) for x in x_series]\n",
    "y_series_log = [math.log(x) for x in x_series]\n",
    "\n",
    "fig, ax = plt.subplots(1,3)\n",
    "fig.set_figheight(5)\n",
    "fig.set_figwidth(10)\n",
    "fig.subplots_adjust(left=.2, bottom=None, right=None, top=None, wspace=.2, hspace=.5)\n",
    "plt1 = plt.subplot(2,2,1)\n",
    "plt2 = plt.subplot(2,2,2)\n",
    "plt3 = plt.subplot(2,2,3)\n",
    "plt4 = plt.subplot(2,2,4)\n",
    "\n",
    "plt1 = plotgraph(plt1,x_series,y_series_sin,'sine')\n",
    "plt2 = plotgraph(plt2,x_series,y_series_cos,'cosine')\n",
    "plt3 = plotgraph(plt3,x_series,y_series_exp,'expo')\n",
    "plt4 = plotgraph(plt4,x_series,y_series_log,'log')\n"
   ]
  },
  {
   "cell_type": "markdown",
   "metadata": {},
   "source": [
    "9. Let's compute distance between all pairs of X, Y, total of 10 points:\n",
    "\n",
    "<code>coordinates = np.random.rand(10, 2)\n",
    "X, Y = coordinates[:, 0], coordinates[:, 1]\n",
    "import matplotlib.pyplot as plt\n",
    "plt.scatter(X, Y, s=100)</code>\n",
    "\n",
    "Then, find the closest neighbor for the fourth points (index 3)"
   ]
  },
  {
   "cell_type": "code",
   "execution_count": 1265,
   "metadata": {
    "tags": []
   },
   "outputs": [
    {
     "name": "stdout",
     "output_type": "stream",
     "text": [
      "[[3 0]\n",
      " [9 5]\n",
      " [8 1]\n",
      " [0 9]\n",
      " [9 9]\n",
      " [9 6]\n",
      " [0 0]\n",
      " [5 3]\n",
      " [4 3]\n",
      " [2 9]]\n",
      "Nearest point for fourth point:  9\n"
     ]
    },
    {
     "data": {
      "image/png": "[encoded data removed]",
      "text/plain": [
       "<Figure size 432x288 with 1 Axes>"
      ]
     },
     "metadata": {
      "needs_background": "light"
     },
     "output_type": "display_data"
    }
   ],
   "source": [
    "#==============Q9==============#\n",
    "import numpy as np\n",
    "coordinates = np.random.randint(10, size = (10, 2))\n",
    "print(coordinates)\n",
    "X, Y = coordinates[:, 0], coordinates[:, 1]\n",
    "\n",
    "import matplotlib.pyplot as plt\n",
    "plt.scatter(X, Y, s=100)\n",
    "\n",
    "X_re=X.reshape(-1,1)\n",
    "diffX = (X-X_re)**2\n",
    "\n",
    "Y_re = Y.reshape(-1,1)\n",
    "diffY = (Y-Y_re)**2\n",
    "\n",
    "squared_dist =  diffX[3,:]+diffY[3,:]\n",
    "# print(squared_dist)\n",
    "elem_sort =np.argsort(squared_dist)\n",
    "# print(elem_sort)\n",
    "closest_4th_elem = elem_sort[1]\n",
    "print(\"Nearest point for fourth point: \",closest_4th_elem)"
   ]
  },
  {
   "cell_type": "markdown",
   "metadata": {},
   "source": [
    "10. given following vector\n",
    "<code>u = np.array([2, 5])</code>\n",
    "find the norm\n",
    "\n",
    "## Norm\n",
    "The norm of a vector $\\textbf{u}$, noted $\\left \\Vert \\textbf{u} \\right \\|$, is a measure of the length (a.k.a. the magnitude) of $\\textbf{u}$. There are multiple possible norms, but the most common one (and the only one we will discuss here) is the Euclidian norm, which is defined as:\n",
    "\n",
    "$\\left \\Vert \\textbf{u} \\right \\| = \\sqrt{\\sum_{i}{\\textbf{u}_i}^2}$\n",
    "\n",
    "We could implement this easily in pure python, recalling that $\\sqrt x = x^{\\frac{1}{2}}$"
   ]
  },
  {
   "cell_type": "code",
   "execution_count": 1270,
   "metadata": {
    "tags": []
   },
   "outputs": [
    {
     "name": "stdout",
     "output_type": "stream",
     "text": [
      "The norm of vector u:  5.385164807134504\n"
     ]
    }
   ],
   "source": [
    "#==============Q10==============#\n",
    "u = np.array([2, 5])\n",
    "\n",
    "sum_elem = 0\n",
    "for elem in u:\n",
    "    sum_elem += elem**2\n",
    "    \n",
    "print(\"The norm of vector u: \",math.sqrt(sum_elem))"
   ]
  },
  {
   "cell_type": "markdown",
   "metadata": {},
   "source": [
    "11. Given the following data, find the pairwise distance of X which is basically euclidean distance of each point to every point\n",
    "\n",
    "<code>\n",
    "X = np.arange(6).reshape((3, 2))\n",
    "print(\"Input data: \", X)\n",
    "</code>"
   ]
  },
  {
   "cell_type": "code",
   "execution_count": 1407,
   "metadata": {
    "tags": []
   },
   "outputs": [
    {
     "name": "stdout",
     "output_type": "stream",
     "text": [
      "Input data:  [[0 1]\n",
      " [2 3]\n",
      " [4 5]]\n",
      "[2 5]\n"
     ]
    },
    {
     "data": {
      "text/plain": [
       "5.385164807134504"
      ]
     },
     "execution_count": 1407,
     "metadata": {},
     "output_type": "execute_result"
    }
   ],
   "source": [
    "X = np.arange(6).reshape((3, 2))\n",
    "print(\"Input data: \", X)\n",
    "\n",
    "def vector_norm(vector):\n",
    "    squares = [element**2 for element in vector]\n",
    "    return (np.sum(squares))**0.5\n",
    "\n",
    "print(u)\n",
    "vector_norm(u)\n",
    "\n",
    "import numpy.linalg as LA\n",
    "LA.norm(u)"
   ]
  },
  {
   "cell_type": "markdown",
   "metadata": {},
   "source": [
    "12. <code>baseball = genfromtxt('resources/baseball.csv', delimiter=',',\n",
    "                      encoding=\"utf-8\", dtype=None)\n",
    "print(\"Fields: \", baseball[0])\n",
    "print(\"First name: \", baseball[1][0])\n",
    "print(\"First name: \", baseball[1][0], \" has a weight of\", \n",
    "      baseball[1][4]) </code>\n",
    "\n",
    "- find out all unique team\n",
    "- find out all unique position\n",
    "- average height by team and position (sorted descending)"
   ]
  },
  {
   "cell_type": "code",
   "execution_count": 973,
   "metadata": {},
   "outputs": [
    {
     "data": {
      "text/plain": [
       "array([], shape=(0, 1), dtype=int64)"
      ]
     },
     "execution_count": 973,
     "metadata": {},
     "output_type": "execute_result"
    }
   ],
   "source": [
    "# baseball = genfromtxt('baseball.csv', delimiter=',', encoding=\"utf-8\", dtype=None)\n",
    "# # baseball[0]\n",
    "# np.argwhere(baseball[1:,2]=='Catcher')"
   ]
  },
  {
   "cell_type": "code",
   "execution_count": 1408,
   "metadata": {
    "tags": []
   },
   "outputs": [
    {
     "name": "stdout",
     "output_type": "stream",
     "text": [
      "Fields:  ['\"Name\"' '\"Team\"' '\"Position\"' '\"Height\"' '\"Weight\"' '\"Age\"'\n",
      " '\"PosCategory\"']\n",
      "First name:  \"Adam_Donachie\"\n",
      "First name:  \"Adam_Donachie\"  has a weight of 180\n",
      "======Unique Teams=========\n",
      "unique teams:  {'\"SF\"', '\"ATL\"', '\"MLW\"', '\"ARZ\"', '\"BAL\"', '\"CWS\"', '\"SD\"', '\"COL\"', '\"SEA\"', '\"WAS\"', '\"ANA\"', '\"TB\"', '\"NYM\"', '\"CIN\"', '\"HOU\"', '\"DET\"', '\"CHC\"', '\"CLE\"', '\"MIN\"', '\"PHI\"', '\"BOS\"', '\"KC\"', '\"NYY\"', '\"FLA\"', '\"TEX\"', '\"STL\"', '\"LA\"', '\"OAK\"', '\"PIT\"', '\"TOR\"'}\n",
      "number of unique teams:  30\n",
      "======Unique Positions========\n",
      "unique positions:  {'\"First_Baseman\"', '\"Second_Baseman\"', '\"Outfielder\"', '\"Catcher\"', '\"Starting_Pitcher\"', '\"Third_Baseman\"', '\"Relief_Pitcher\"', '\"Shortstop\"'}\n",
      "number of unique position:  8\n",
      "======Ave Height=========\n",
      "Average height across all teams  73.6896551724138\n",
      "========Average height by team and position (sorted descending)=======\n",
      "\"First_Baseman\" : 74.0\n",
      "\"Second_Baseman\" : 71.36206896551724\n",
      "\"Outfielder\" : 73.01030927835052\n",
      "\"Catcher\" : 72.72368421052632\n",
      "\"Starting_Pitcher\" : 74.73181818181818\n",
      "\"Third_Baseman\" : 73.04444444444445\n",
      "\"Relief_Pitcher\" : 74.37460317460318\n",
      "\"Shortstop\" : 71.90384615384616\n"
     ]
    }
   ],
   "source": [
    "#==============Q12==============#\n",
    "baseball = genfromtxt('baseball.csv', delimiter=',', encoding=\"utf-8\", dtype=None)\n",
    "print(\"Fields: \", baseball[0])\n",
    "print(\"First name: \", baseball[1][0])\n",
    "print(\"First name: \", baseball[1][0], \" has a weight of\", baseball[1][4])\n",
    "\n",
    "baseball[baseball[:,:]==''] = ''\n",
    "\n",
    "print(\"======Unique Teams=========\")\n",
    "print(\"unique teams: \", set(baseball[1:,1])) #use set to find the unique elems\n",
    "print(\"number of unique teams: \", len(set(baseball[1:,1])))\n",
    "\n",
    "print(\"======Unique Positions========\")\n",
    "unique_pos = set(baseball[1:,2]) #use set to find the unique elems\n",
    "print(\"unique positions: \", set(baseball[1:,2]))\n",
    "print(\"number of unique position: \", len(set(baseball[1:,2])))\n",
    "\n",
    "print(\"======Ave Height=========\")\n",
    "print(\"Average height across all teams \", baseball[1:,3].astype(float).mean())\n",
    "\n",
    "print(\"========Average height by team and position (sorted descending)=======\")\n",
    "idx_position = []\n",
    "sum_height = 0\n",
    "for position in set(baseball[1:,2]):\n",
    "    idx = np.argwhere(baseball[1:,2]==position) #use argwhere to find the index-es\n",
    "    mean_h_pos= baseball[idx+1,3].astype(float).mean()\n",
    "    print(position,':', mean_h_pos)"
   ]
  },
  {
   "cell_type": "markdown",
   "metadata": {},
   "source": [
    "13. <code> fifa = genfromtxt('resources/fifa.csv', delimiter=',',\n",
    "                      encoding=\"utf-8\", dtype=None)\n",
    "print(\"Fields: \", fifa[0]) </code>\n",
    "\n",
    "we are scouts who want strikers/forward (A) with left foot, with height\n",
    "more than 190, with shooting over 75.  Basically, he should be able\n",
    "to both shoot and head!"
   ]
  },
  {
   "cell_type": "code",
   "execution_count": 1277,
   "metadata": {
    "tags": []
   },
   "outputs": [
    {
     "name": "stdout",
     "output_type": "stream",
     "text": [
      "Fields:  ['id' ' name' ' rating' ' position' ' height' ' foot' ' rare' ' pace'\n",
      " ' shooting' ' passing' ' dribbling' ' defending' ' heading' ' diving'\n",
      " ' handling' ' kicking' ' reflexes' ' speed' ' positioning']\n",
      "['0' '65' '54' ... '40' '48' '56']\n",
      "===========================================================\n",
      "[['106019' 'Adriano' '77' 'A' '190' 'Left' '0' '62' '80' '52' '71' '59'\n",
      "  '67' '' '' '' '' '' '']\n",
      " ['138384' 'Marc Janko' '75' 'A' '196' 'Left' '1' '38' '76' '47' '58'\n",
      "  '56' '65' '' '' '' '' '' '']\n",
      " ['178509' 'Olivier Giroud' '76' 'A' '192' 'Left' '1' '63' '77' '64' '67'\n",
      "  '60' '85' '' '' '' '' '' '']\n",
      " ['179752' 'Óscar Cardozo' '81' 'A' '192' 'Left' '1' '42' '85' '71' '73'\n",
      "  '63' '77' '' '' '' '' '' '']\n",
      " ['200647' 'Josip Iličić' '79' 'A' '190' 'Left' '1' '71' '81' '80' '81'\n",
      "  '64' '49' '' '' '' '' '' '']]\n"
     ]
    }
   ],
   "source": [
    "#==============Q13==============#\n",
    "fifa = genfromtxt('fifa.csv', delimiter=',', encoding=\"utf-8\", dtype=None)\n",
    "print(\"Fields: \", fifa[0])\n",
    "\n",
    "fifa_no_headers = fifa[1:,:]\n",
    "fifa_no_headers = np.char.lstrip(fifa_no_headers)\n",
    "fifa_no_headers[fifa_no_headers[:,8]==''] = 0\n",
    "\n",
    "print(fifa_no_headers[:,8])\n",
    "conditions = np.all([\n",
    "    np.char.strip(fifa_no_headers[:,3])==\"A\",\n",
    "    np.float32(fifa_no_headers[:,4])>=190, \n",
    "    np.char.strip(fifa_no_headers[:,5])=='Left',\n",
    "    np.float32(fifa_no_headers[:,8])>75], axis=0)\n",
    "\n",
    "# print(\"=\"*10)\n",
    "# print(fifa_no_headers[:,3]==\"A\")\n",
    "# print(np.float32(fifa_no_headers[:,4])>=190)\n",
    "# print(np.char.strip(fifa_no_headers[:,5])=='Left')\n",
    "# print(np.float32(fifa_no_headers[:,8])>75)\n",
    "# print(conditions)\n",
    "# print(fifa_no_headers[conditions])\n",
    "\n",
    "print(\"===========================================================\")\n",
    "fifa_A = fifa_no_headers[np.char.strip(fifa_no_headers[:,3])==\"A\"]\n",
    "fifa_190 = fifa_A[np.float32(fifa_A[:,4])>=190]\n",
    "fifa_Left = fifa_190[np.char.strip(fifa_190[:,5])=='Left']\n",
    "fifa_75 = fifa_Left[np.float32(fifa_Left[:,8])>75]\n",
    "print(fifa_75)\n"
   ]
  },
  {
   "cell_type": "markdown",
   "metadata": {},
   "source": [
    "14.Create a function that compute moving average using a sliding\n",
    "window over a list.  You may want to perform a bit of research what is moving average\n",
    "\n",
    "For example, <code>moving_average([1,2,5,10], n=2)</code> should produce\n",
    "        \n",
    "        [1.5 3.5 7.5]"
   ]
  },
  {
   "cell_type": "code",
   "execution_count": 1278,
   "metadata": {
    "tags": []
   },
   "outputs": [
    {
     "data": {
      "text/plain": [
       "[1.5, 3.5, 7.5]"
      ]
     },
     "execution_count": 1278,
     "metadata": {},
     "output_type": "execute_result"
    }
   ],
   "source": [
    "#==============Q14==============#\n",
    "data = [1, 2, 5, 10]\n",
    "n = 2\n",
    "moving_ave =[]\n",
    "def moving_average(data, n):\n",
    "    for i in range(0,len(data)-n+1):\n",
    "        moving_ave.append(np.mean(data[i:n+i]))\n",
    "    return moving_ave\n",
    "    \n",
    "moving_average(data,n)"
   ]
  },
  {
   "cell_type": "markdown",
   "metadata": {},
   "source": [
    "15. <code>#Read a digits image and split it up in different training examples\n",
    "import cv2\n",
    "import matplotlib.pyplot as plt\n",
    "img = cv2.imread('resources/digits.png', 0)\n",
    "plt.imshow(img)\n",
    "print(img.shape)</code>\n",
    "\n",
    "- first, our img is a numpy array, attempt to break into 100 letters \n",
    "\n",
    "- commonly, we break our dataset to training and testing set.  If our dataset is small, then probably testing should be around 30% then the rest is training set.  When our dataset is really big, 5% for testing set suffice.  Here our dataset is quite small, so attempt to break into 30% testing set, and 70% training set. Result should be X_train, X_test, y_train, y_test.  Code from scratch!"
   ]
  },
  {
   "cell_type": "code",
   "execution_count": 1417,
   "metadata": {},
   "outputs": [
    {
     "name": "stdout",
     "output_type": "stream",
     "text": [
      "==== random index row 0 ===\n",
      "[2 4 8 7 3 0 6 9 1 5]\n",
      "==== random index row 1 ===\n",
      "[1 7 8 2 3 0 9 4 5 6]\n",
      "==== random index row 2 ===\n",
      "[5 4 6 3 0 9 8 7 2 1]\n",
      "==== random index row 3 ===\n",
      "[4 9 6 5 7 1 0 2 8 3]\n",
      "==== random index row 4 ===\n",
      "[1 2 8 3 0 5 7 9 4 6]\n",
      "==== random index row 5 ===\n",
      "[1 9 5 3 4 2 6 8 0 7]\n",
      "==== random index row 6 ===\n",
      "[2 8 5 9 0 6 4 7 1 3]\n",
      "==== random index row 7 ===\n",
      "[4 5 2 1 0 6 7 8 9 3]\n",
      "==== random index row 8 ===\n",
      "[6 8 2 5 0 3 4 9 7 1]\n",
      "==== random index row 9 ===\n",
      "[2 5 3 4 9 8 6 7 1 0]\n",
      "Index pairs to obtain train data set:  [array([[255, 255, 228,  58,  97, 168, 255, 255],\n",
      "       [255, 255,  97,   0,   0,   0, 239, 255],\n",
      "       [255, 216,   0, 131, 247,  35, 239, 255],\n",
      "       [255, 216,   0, 255, 255,   0, 239, 255],\n",
      "       [255, 255,   0, 247, 255,  80, 149, 255],\n",
      "       [255, 255,  17, 131, 255,  58, 188, 255],\n",
      "       [255, 255, 131,  35, 131,  35, 247, 255],\n",
      "       [255, 255, 239,  80,  58, 216, 255, 255]], dtype=uint8), 0]\n",
      "Index pairs to obtain test data set:  [array([[255, 255, 114,  80, 114, 255, 255, 255],\n",
      "       [255, 228,   0,   0,   0, 216, 255, 255],\n",
      "       [255, 168,  17, 228, 149,  58, 255, 255],\n",
      "       [255, 149,  80, 255, 255,  35, 247, 255],\n",
      "       [255, 149,  80, 255, 255, 168, 149, 255],\n",
      "       [255, 202,  58, 255, 255, 216, 149, 255],\n",
      "       [255, 255,  35, 149, 255, 114, 149, 255],\n",
      "       [255, 255, 168,  80,  58,  80, 216, 255]], dtype=uint8), 0]\n"
     ]
    }
   ],
   "source": [
    "#==============Q15==============#\n",
    "import cv2\n",
    "import matplotlib.pyplot as plt\n",
    "import random\n",
    "\n",
    "#0 means gray scale\n",
    "img = cv2.imread('digits.png', 0)\n",
    "# plt.imshow(img)\n",
    "# print(img)\n",
    "\n",
    "\n",
    "#print(\"=======split images=======\") \n",
    "# img will be equally splitted into 100 pictures.\n",
    "h=10\n",
    "v=10\n",
    "split_img_h = np.split(img,(h),axis=0)\n",
    "split_img_v = []\n",
    "for i in range(len(split_img_h)):\n",
    "    split_img_v.append(np.split(split_img_h[i],v,axis=1))    \n",
    "#plt.imshow(split_img_h[1]) #if you were to run this code you would obtain a horizontal stripe of 1s\n",
    "#plt.imshow(split_img_v[3][0]) #if you were to run this code you would obtain an image of the first 3.\n",
    "\n",
    "data_train=[]\n",
    "data_test=[]\n",
    "percent_train = 0.7\n",
    "\n",
    "for n in train_idx_n:\n",
    "    idx_n = np.arange(0,h)\n",
    "    idx_m = np.arange(0,v)\n",
    "    random.shuffle(idx_m)\n",
    "    n_train = int(h)\n",
    "    n_test = n_train\n",
    "    train_idx_m = idx_m[0:m_train]\n",
    "    test_idx_m = idx_m[m_train:v+1]\n",
    "    print(\"==== random index\",\"row\", n, \"===\") #index 0-6 for train data set and index 7-9 for test data set\n",
    "    print(idx_m)\n",
    "    for m1 in train_idx_m:\n",
    "        m_train = int(v * percent_train)\n",
    "        data_train.append([split_img_v[n][m1],n])\n",
    "    for m2 in test_idx_m:\n",
    "        data_test.append([split_img_v[n][m2],n])\n",
    "\n",
    "# To obtain the train and test markers(y train and y test) and their corresponding x_train, x_test\n",
    "# Examples of the results, which are in the format of (x_train/x_test, marker)\n",
    "print(\"Index pairs to obtain train data set: \",data_train[0])\n",
    "print(\"Index pairs to obtain test data set: \",data_test[0])\n",
    "\n",
    "# To get the corresponding splitted images\n",
    "# for sample in data_train:\n",
    "#     print(sample[1], end=\"\")\n",
    "#     plt.imshow(sample[0])\n",
    "#     plt.show()\n"
   ]
  },
  {
   "cell_type": "markdown",
   "metadata": {},
   "source": [
    "### X = []\n",
    "#8 pixels for each letter since  80 pixels /10 letters = 8\n",
    "for i in range(0, img.shape[0], 8):\n",
    "    for j in range(0, img.shape[1], 8):\n",
    "        X.append(img[i:i+8, j:j+8])\n",
    "        \n",
    "X = np.array(X)\n",
    "        \n",
    "#view the first 0\n",
    "plt.imshow(X[2])\n"
   ]
  },
  {
   "cell_type": "markdown",
   "metadata": {},
   "source": [
    "16. Create a set of 100 points that follow the function   \n",
    "\n",
    "$$f(x) = 0.5x + 1$$\n",
    "\n",
    "- first, add gaussian white noise to the result using np.random.normal\n",
    "- second, use polyfit to fit the results in a line and plot them using\n",
    "  <code>\n",
    "import matplotlib.pyplot as plt\n",
    "plt.plot(X, y, 'b.')  #blue dots\n",
    "plt.plot(X, coeff[1] + coeff[0]*X, 'r')  #overlay the line</code>\n",
    "- third, perform linear regression with ordinary least squares using the closed-form expression matrix formula $$\\mathbf{w} = (\\mathbf{X}^{\\rm T}\\mathbf{X})^{-1} \\mathbf{X}^{\\rm T}\\mathbf{y}$$  See whether we can get back the coefficients 1 and 0.5.  FYI: To invert a matrix, use <code>np.linalg.inv</code>"
   ]
  },
  {
   "cell_type": "code",
   "execution_count": 1418,
   "metadata": {
    "tags": []
   },
   "outputs": [
    {
     "name": "stdout",
     "output_type": "stream",
     "text": [
      "[0.4500816  1.26220628]\n",
      "Weights: [1.26220628 0.4500816 ]\n"
     ]
    },
    {
     "data": {
      "image/png": "[encoded data removed]",
      "text/plain": [
       "<Figure size 432x288 with 1 Axes>"
      ]
     },
     "metadata": {
      "needs_background": "light"
     },
     "output_type": "display_data"
    }
   ],
   "source": [
    "#==============Q16==============#\n",
    "import matplotlib.pyplot as plt\n",
    "\n",
    "X = np.linspace(0,10,100)\n",
    "\n",
    "y = ((X * 0.5) + 1)+np.random.normal(0,1,100)\n",
    "plt.scatter(X,y)\n",
    "\n",
    "# plt.plot(X, y, 'b.')\n",
    "coeff = np.polyfit(X,y,1)\n",
    "print(coeff)\n",
    "plt.plot(X, coeff[1] + coeff[0]*X, 'r')\n",
    "X = X.reshape(-1,1)\n",
    "# print(X.shape)\n",
    "X = np.insert(X,0,1,axis =1)\n",
    "# print(X)\n",
    "\n",
    "w = np.linalg.inv(X.T.dot(X)).dot(X.T).dot(y)\n",
    "print(\"Weights:\", w)"
   ]
  },
  {
   "cell_type": "markdown",
   "metadata": {},
   "source": [
    "17. <code>iris = genfromtxt('resources/iris.csv', delimiter=',',\n",
    "                      encoding=\"utf-8\", dtype=None)\n",
    "iris_without_headers = np.array(iris[1:])\n",
    "species = iris_without_headers[:, 5]\n",
    "sepal_length = iris_without_headers[:, 1].astype(float)\n",
    "petal_length = iris_without_headers[:, 3].astype(float)\n",
    "print(\"Fields: \", iris[0]) </code>\n",
    "\n",
    "- calculate how many samples of data we have\n",
    "- get all unique species\n",
    "- compute the mean and std of sepal length of each species\n",
    "- retrieve data with sepal length less than 5, and petal length greater than 1.5\n",
    "- Check if any missing values in the whole data\n",
    "- find correlation between sepal and petal length\n",
    "- let's perform logistic regression.  For fun, implement from scratch!(Do not use scikit learn!).  Define X as sepal length and Y as 0, 1"
   ]
  },
  {
   "cell_type": "code",
   "execution_count": 1421,
   "metadata": {
    "tags": []
   },
   "outputs": [
    {
     "name": "stdout",
     "output_type": "stream",
     "text": [
      "Fields:  ['Id' 'SepalLengthCm' 'SepalWidthCm' 'PetalLengthCm' 'PetalWidthCm'\n",
      " 'Species']\n",
      "======== Number of samples ========\n",
      "Number of samples:  100\n",
      "======== Unique species ========\n",
      "Unique species:  {'Iris-virginica', 'Iris-setosa'}\n",
      "Number of unique species:  2\n",
      "======== Mean and std ========\n",
      "Mean of length:  5.797\n",
      "========  sepal < 5, and petal length > 1.5 ========\n",
      "Data with pepal length greater than 5:  [['12' '4.8' '3.4' '1.6' '0.2' 'Iris-setosa']\n",
      " ['25' '4.8' '3.4' '1.9' '0.2' 'Iris-setosa']\n",
      " ['30' '4.7' '3.2' '1.6' '0.2' 'Iris-setosa']\n",
      " ['31' '4.8' '3.1' '1.6' '0.2' 'Iris-setosa']\n",
      " ['107' '4.9' '2.5' '4.5' '1.7' 'Iris-virginica']]\n",
      "======== Missing data  ========\n",
      "0.0\n",
      "======== Correlation between sepal and petal length ========\n",
      "Correation of 0.9047958050294632 and p_value of 4.1155959453122893e-38\n"
     ]
    },
    {
     "data": {
      "image/png": "[encoded data removed]",
      "text/plain": [
       "<Figure size 720x360 with 1 Axes>"
      ]
     },
     "metadata": {
      "needs_background": "light"
     },
     "output_type": "display_data"
    }
   ],
   "source": [
    "#==============Q17==============#\n",
    "iris = genfromtxt('iris.csv', delimiter=',',\n",
    "                      encoding=\"utf-8\", dtype=None)\n",
    "\n",
    "iris_without_headers = np.array(iris[1:])\n",
    "species = iris_without_headers[:, 5]\n",
    "sepal_length = iris_without_headers[:, 1].astype(float)\n",
    "petal_length = iris_without_headers[:, 3].astype(float)\n",
    "petal_length1 = iris_without_headers[:, 3].astype(float)\n",
    "\n",
    "print(\"Fields: \", iris[0])\n",
    "print(\"=\"*8,\"Number of samples\",\"=\"*8)\n",
    "print(\"Number of samples: \",iris_without_headers.shape[0])\n",
    "print(\"=\"*8,\"Unique species\",\"=\"*8)\n",
    "print(\"Unique species: \",set(iris_without_headers[:,5]))\n",
    "print(\"Number of unique species: \",len(set(iris_without_headers[:,5])))\n",
    "print(\"=\"*8,\"Mean and std\",\"=\"*8)\n",
    "# print(\"Mean of length: \",iris_without_headers[:,1].astype(float).mean())\n",
    "print(\"Mean of length: \",np.mean(iris_without_headers[:,1].astype(float)))\n",
    "print(\"=\"*8,\" sepal < 5, and petal length > 1.5\",\"=\"*8)\n",
    "lengthlessthan = iris_without_headers[:,1].astype(float) < 5 \n",
    "iris_len_less = iris_without_headers[lengthlessthan]\n",
    "lengthgreaterthan = iris_len_less[:,3].astype(float) > 1.5 \n",
    "print(\"Data with pepal length greater than 5: \", iris_len_less[lengthgreaterthan])\n",
    "print(\"=\"*8,\"Missing data \",\"=\"*8)\n",
    "missing = np.isnan(sepal_length,petal_length).sum()\n",
    "print(missing)\n",
    "print(\"=\"*8,\"Correlation between sepal and petal length\",\"=\"*8)\n",
    "import scipy.stats\n",
    "a = scipy.stats.pearsonr(sepal_length,iris_without_headers[:, 3].astype(float)) \n",
    "print(f\"Correation of {corr} and p_value of {p_value}\")\n",
    "\n",
    "X = np.array([sepal_length])\n",
    "y = iris_without_headers[:, 5]\n",
    "\n",
    "idx_0 = np.where(y == 'Iris-virginica')\n",
    "idx_1 = np.where(y == 'Iris-setosa')\n",
    "# print(idx_0)\n",
    "ax = plt.gcf()\n",
    "ax.set_size_inches(10, 5, forward=True)\n",
    "plt.title('Distribution')\n",
    "plt.xlabel('Sepal length')\n",
    "plt.ylabel('Petal length')\n",
    "plt.grid(axis='both', alpha=.25)\n",
    "plt.scatter(sepal_length[idx_0], petal_length1[idx_0], s=30, c='r', marker='*', label='Iris-virginica')\n",
    "plt.scatter(sepal_length[idx_1], petal_length1[idx_1], s=30, c='b', marker='o', label='Iris-setosa')\n",
    "plt.legend()\n",
    "plt.show()\n"
   ]
  },
  {
   "cell_type": "code",
   "execution_count": 1427,
   "metadata": {},
   "outputs": [
    {
     "name": "stdout",
     "output_type": "stream",
     "text": [
      "(100,)\n",
      "Theta optimized: [  4.6219743  -11.96316415]\n",
      "Cost with optimized theta: 0.17553211845032682\n"
     ]
    },
    {
     "data": {
      "image/png": "[encoded data removed]",
      "text/plain": [
       "<Figure size 432x288 with 1 Axes>"
      ]
     },
     "metadata": {
      "needs_background": "light"
     },
     "output_type": "display_data"
    },
    {
     "data": {
      "image/png": "[encoded data removed]",
      "text/plain": [
       "<Figure size 360x360 with 1 Axes>"
      ]
     },
     "metadata": {
      "needs_background": "light"
     },
     "output_type": "display_data"
    },
    {
     "name": "stdout",
     "output_type": "stream",
     "text": [
      "I TRIED MY BEST, I just could NOT make the green line any LONGER\n",
      "Got test set soft R^2 0.8190, hard R^2 0.8000, accuracy 0.95\n",
      "loss:  0.17553211845032682\n"
     ]
    }
   ],
   "source": [
    "import random\n",
    "normalized_petal_length = (petal_length1 - np.min(petal_length1))/(np.max(petal_length1) - np.min(petal_length1))\n",
    "normalized_sepal_length = (sepal_length - np.min(sepal_length))/(np.max(sepal_length) - np.min(sepal_length))\n",
    "X = normalized_sepal_length[:, np.newaxis]\n",
    "\n",
    "\n",
    "# Partion data into training and test datasets\n",
    "X = X.reshape(-1,1)\n",
    "m,n = X.shape\n",
    "#insert dummy\n",
    "XX = np.insert(X, 0, 1, axis=1)\n",
    "XXX = np.asarray(XX,dtype = 'float64')\n",
    "\n",
    "# 1  = Iris-setosa and 0 = Iris-virginica\n",
    "for i in range(y.shape[0]):\n",
    "    if y[i] == 'Iris-setosa':\n",
    "        y[i] = 1\n",
    "    elif y[i] == 'Iris-virginica':\n",
    "         y[i] = 0\n",
    "\n",
    "#convert to float\n",
    "Y = np.asarray(y,dtype='float64')\n",
    "print(Y.shape)\n",
    "\n",
    "#Partitioning the data --> train and test\n",
    "idx = np.arange(0, m)\n",
    "random.shuffle(idx)\n",
    "percent_train = .6\n",
    "m_train = int(m * percent_train)\n",
    "train_idx = idx[0:m_train]\n",
    "test_idx = idx[m_train:]\n",
    "X_train = XXX[train_idx,:];\n",
    "X_test = XXX[test_idx,:];\n",
    "\n",
    "y_train = y[train_idx];\n",
    "y_test = y[test_idx];\n",
    "y_test = y_test.astype(float)\n",
    "\n",
    "\n",
    "#Initialize Theta\n",
    "theta_initial = np.array((0,0))\n",
    "theta_initial\n",
    "\n",
    "def sigmoid(z):   \n",
    "    return 1 / (1 + np.exp(-z))\n",
    "\n",
    "def h(X, theta):\n",
    "    return sigmoid(X @ theta)\n",
    "\n",
    "def grad_j(X, y, y_pred):\n",
    "    return X.T @ (y - y_pred) / X.shape[0] #normalizing grad for the grad vector\n",
    "    \n",
    "def j(theta, X, y):\n",
    "    \n",
    "    y_pred = h(X, theta)\n",
    "    error = (-y * np.log(y_pred)) - ((1 - y) * np.log(1 - y_pred))\n",
    "    cost = np.sum(error) / X.shape[0] #normalizing cost function\n",
    "    grad = grad_j(X, y, y_pred)\n",
    "    return cost, grad\n",
    "\n",
    "# print('Initial theta:', theta_initial)\n",
    "# print('Initial predictions:', h(XX, theta_initial)[0:5,:])\n",
    "# print('Targets:', y[0:5,:])\n",
    "\n",
    "\n",
    "def train(X, y, theta_initial, alpha, num_iters):\n",
    "    theta = theta_initial\n",
    "    j_history = []\n",
    "    for i in range(num_iters):\n",
    "        cost, grad = j(theta, X, y)\n",
    "        theta = theta + alpha * grad\n",
    "        j_history.append(cost)\n",
    "    return theta, j_history\n",
    "\n",
    "\n",
    "# Train\n",
    "\n",
    "alpha = .05\n",
    "num_iters = 10000\n",
    "theta, j_history = train(XXX, Y, theta_initial, alpha, num_iters)\n",
    "\n",
    "print(\"Theta optimized:\", theta)\n",
    "print(\"Cost with optimized theta:\", j_history[-1])\n",
    "\n",
    "plt.plot(j_history)\n",
    "plt.xlabel(\"Iteration\")\n",
    "plt.ylabel(\"$J(\\theta)$\")\n",
    "plt.title(\"Training cost over time with batch gradient descent (no normalization)\")\n",
    "\n",
    "def boundary_points(X, theta):\n",
    "    theta = theta.reshape(-1,1)\n",
    "    v_orthogonal = np.array([theta[0,0],theta[1,0]])\n",
    "    v_ortho_length = np.sqrt(v_orthogonal.T @ v_orthogonal)\n",
    "    dist_ortho = theta[0,0] / v_ortho_length\n",
    "    v_orthogonal = v_orthogonal / v_ortho_length\n",
    "    v_orthogonal = v_orthogonal.reshape(-1,1)\n",
    "    v_parallel = np.array([[-v_orthogonal[1,0]],[v_orthogonal[0,0]]])\n",
    "    projections = X @ v_parallel.reshape(-1,1)\n",
    "    proj_1 = min(projections)\n",
    "    proj_2 = max(projections)\n",
    "    point_1 = proj_1 * v_parallel - dist_ortho * v_orthogonal\n",
    "    point_2 = proj_2 * v_parallel - dist_ortho * v_orthogonal\n",
    "    return point_1, point_2\n",
    "\n",
    "#Plot\n",
    "\n",
    "fig1 = plt.figure(figsize=(5,5)) \n",
    "ax = plt.axes() \n",
    "ax.set_aspect(aspect = 'equal', adjustable = 'box')\n",
    "plt.title('Logistic regression boundary')\n",
    "plt.xlabel('normalized sepal length')\n",
    "plt.ylabel('normalized petal length')\n",
    "plt.grid(axis='both', alpha=.25)\n",
    "plt.scatter(normalized_sepal_length[idx_0], normalized_petal_length[idx_0], s=30, c='r', marker='*', label='Iris-virginica')\n",
    "plt.scatter(normalized_sepal_length[idx_1], normalized_petal_length[idx_1], s=30, c='b', marker='o', label='Iris-setosa')\n",
    "point_1, point_2 = boundary_points(XXX, theta)\n",
    "plt.plot([point_1[0,0], point_2[0,0]],[point_1[1,0], point_2[1,0]], 'g-')\n",
    "plt.legend(loc=0)\n",
    "plt.show()\n",
    "\n",
    "def r_squared(y, y_pred):\n",
    "    return 1 - np.square(y - y_pred).sum() / np.square(y - y.mean()).sum()\n",
    "\n",
    "y_test_pred_soft = h(X_test, theta)\n",
    "y_test_pred_hard = (y_test_pred_soft > 0.5).astype(int)\n",
    "\n",
    "test_rsq_soft = r_squared(y_test.astype(float), y_test_pred_soft.astype(float))\n",
    "test_rsq_hard = r_squared(y_test.astype(float), y_test_pred_hard.astype(float))\n",
    "test_acc = (y_test_pred_hard == y_test).astype(int).sum() / y_test.shape[0]\n",
    "\n",
    "print(\"I TRIED MY BEST, I just could NOT make the green line any LONGER\")\n",
    "print('Got test set soft R^2 %0.4f, hard R^2 %0.4f, accuracy %0.2f' % (test_rsq_soft, test_rsq_hard, test_acc))\n",
    "print('loss: ',j_history[-1])"
   ]
  },
  {
   "cell_type": "markdown",
   "metadata": {},
   "source": [
    "18. Implement a simple perceptron using Numpy on the given file and output the trained weights, attempt to measure the accuracy of this trained weights.  Use a simple stochastic gradient descent method in which the model make prediction at each training instance where error is calculated.  Then the model is updated in order to reduce the error for the next prediction.  This procedure can be used fo find the set of weights in a model that result in the smallest error.  The formula is as follows:\n",
    "\n",
    "<code>w = w + learning_rate * (expected - predicted) * x #for x\n",
    "w = w + learning_rate * (expected - predicted) #for bias</code>\n",
    "\n",
    "Here is the initial code:\n",
    "\n",
    "<code>data = np.genfromtxt('resources/perceptron.csv', delimiter=',', skip_header=1)\n",
    "X = data[:, :-1]\n",
    "y = data[:, -1]\n",
    "cond0 = y==0\n",
    "cond1 = y==1\n",
    "plt.plot(X[:,0][cond0], X[:,1][cond0], 'o', mec='r', mfc='none')\n",
    "plt.plot(X[:,0][cond1], X[:,1][cond1], 'o', mec='g', mfc='none')</code>\n"
   ]
  },
  {
   "cell_type": "code",
   "execution_count": 1398,
   "metadata": {
    "tags": []
   },
   "outputs": [
    {
     "name": "stdout",
     "output_type": "stream",
     "text": [
      "Accuracy:  1.0\n"
     ]
    },
    {
     "data": {
      "image/png": "[encoded data removed]",
      "text/plain": [
       "<Figure size 432x288 with 1 Axes>"
      ]
     },
     "metadata": {
      "needs_background": "light"
     },
     "output_type": "display_data"
    }
   ],
   "source": [
    "# Does not require splitting train-test set for simplicity\n",
    "data = np.genfromtxt('perceptron.csv', delimiter=',', skip_header=1)\n",
    "\n",
    "X = data[:, :-1]\n",
    "y = data[:, -1]\n",
    "\n",
    "#we can do this, because X and y has same length\n",
    "cond0 = y==0\n",
    "cond1 = y==1\n",
    "\n",
    "#mec: marker edge color; mfc: marker face color\n",
    "plt.plot(X[:,0][cond0], X[:,1][cond0], 'o', mec='r', mfc='none')\n",
    "plt.plot(X[:,0][cond1], X[:,1][cond1], 'o', mec='g', mfc='none')\n",
    "\n",
    "\n",
    "def predict(row, w):\n",
    "    #will be run for each training instance\n",
    "    #negative - classify as 0 class\n",
    "    if np.dot(w[1:], row) + w[0] < 0:\n",
    "        return 0\n",
    "    else:\n",
    "        return 1\n",
    "\n",
    "def get_preds(X, w):\n",
    "    preds = np.squeeze(np.dot(X, w[1:, np.newaxis]) + w[0])\n",
    "    return preds > 0 \n",
    "\n",
    "def fit(X, y):\n",
    "    num_feature = X.shape[1]\n",
    "    w = np.zeros(num_feature+1)  #bias, w1, w2\n",
    "    l_rate = 0.1\n",
    "    iteration = 1000\n",
    "    for i in range(iteration):\n",
    "        #loop through each X pairs\n",
    "        for j in range(X.shape[0]):\n",
    "            #predict using the w\n",
    "            ypred = predict(X[j], w)\n",
    "            yactual = y[j]\n",
    "            error = yactual - ypred\n",
    "            #Weights are updated based on the error the model made.\n",
    "            w[0] += l_rate * error  #updating bias\n",
    "            w[1:] += l_rate * error * X[j]  #updating w1, w2\n",
    "    return w\n",
    "                \n",
    "w = fit(X, y)\n",
    "pred = get_preds(X, w)\n",
    "print(\"Accuracy: \", (pred == y).mean())"
   ]
  }
 ],
 "metadata": {
  "kernelspec": {
   "display_name": "Python 3",
   "language": "python",
   "name": "python3"
  },
  "language_info": {
   "codemirror_mode": {
    "name": "ipython",
    "version": 3
   },
   "file_extension": ".py",
   "mimetype": "text/x-python",
   "name": "python",
   "nbconvert_exporter": "python",
   "pygments_lexer": "ipython3",
   "version": "3.8.8"
  }
 },
 "nbformat": 4,
 "nbformat_minor": 4
}
