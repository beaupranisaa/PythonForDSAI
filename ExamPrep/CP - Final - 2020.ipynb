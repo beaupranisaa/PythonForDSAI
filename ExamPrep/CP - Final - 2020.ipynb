{
 "cells": [
  {
   "cell_type": "markdown",
   "metadata": {},
   "source": [
    "# CP - Final - 2020\n",
    "\n",
    "## Instruction\n",
    "\n",
    "- Modify this file to be Final-<Your FirstName-[First Letter of Last Name]>, e.g., <code>Final-Chaklam-S.ipynb</code>\n",
    "- This exam accounts for 45% of the overall course assessment.\n",
    "- This exam is open-booked; open-internet.\n",
    "- You ARE NOT allowed to use sklearn or pytorch libraries, unless stated.\n",
    "- The completed exams shall be submitted at the Google Classroom\n",
    "- All code should be **complemented with comments**, unless it's really obvious.  **I and Joe reserve the privilege to give you zero for any part of the question where the benefit of doubt is not justified**\n",
    "\n",
    "## Examination Rules:\n",
    "- For **offline** students, you may leave the room temporarily with the approval and supervision of the proctors. No extra time will be added to the exam in such cases.\n",
    "- For **online** students, you are required to turn on your webcam during the entire period of the exam time\n",
    "- Students will be allowed to leave at the **earliest 45 minutes** after the exam has started\n",
    "- **All work should belong to you**.  A student should NOT engage in the following activities which proctors reserve the right to interpret any of such act as academic dishonesty without questioning:\n",
    "    - Chatting with any human beings physically or via online methods\n",
    "    - Plagiarism of any sort, i.e., copying from internet sources or friends.  **Both copee and copier shall be given a minimum penalty of zero mark for that particular question or the whole exam.**\n",
    "- No make-up exams are allowed.  Special considerations may be given upon a valid reason on unpredictable events such as accidents or serious sickness."
   ]
  },
  {
   "cell_type": "markdown",
   "metadata": {},
   "source": [
    "## Question 1 (22 pts)"
   ]
  },
  {
   "cell_type": "markdown",
   "metadata": {},
   "source": [
    "1). **Autoencoder**\n",
    "\n",
    "You shall implement autoencoder (NOT variational autoencoders) which shall serve the purpose of dimensionality reduction.  You shall use the Neural Network from scratch code of our class as base.  You are NOT allow to use pyTorch.\n",
    "\n",
    "a). Load the boston data from sklearn, and preprocessing it accordingly (1pt)\n",
    "\n",
    "b). The general architecture of the autoencoder is as follows (10pts):\n",
    "\n",
    "                        x = 13 --fc--> 7 --fc--> 3 --fc--> 7 --fc--> 13 = x'\n",
    "    \n",
    "Here fc stands for fully connected / dense layer.  I shall leave the activation, momentum, dropout, learning rate, epochs, number of layers and other parameters as open-ended for you to try out.  For those who don't quite understand what is this neural network does, it is simply squeezing 13 features (the original x) into 7 then to 3.  The left half is called the encoder.  Then from 3, it attempts to reconstruct to 7 and then to 13 (the reconstructed x').  The right half is called the decoder.  Thus the neural network is simply a dimensionality reduction machine. Note that we are NOT working on variational autoencoder in which the encoder splits out mu and sigma, and hence become a generative model.\n",
    "\n",
    "c). Define the loss function as the reconstruction loss, which is simply the the MSE (5pts)\n",
    "\n",
    "$$\\frac{1}{nm}\\sum\\limits_i^n\\sum\\limits_j^m (x_{ij} - x'_{ij})^2$$\n",
    "\n",
    "Here follows our course notation where $m$ is number of sample, and $n$ is number of features.  Note that since we are not working on variational autoencoder, we don't need to care about KL divergence.\n",
    "\n",
    "d). Execute the model, and print out the reconstruction loss.  Make sure they become smaller!  Also make sure to optimize the parameters (2pts)\n",
    "\n",
    "e). Perform predictions and compare (2pts):\n",
    "   - Using the output from a forward pass (see below) on the encoder (NOT the decoder) to predict y\n",
    "   \n",
    "       13 --fc--> 7 --fc--> 3\n",
    "       \n",
    "   \n",
    "   - Using the output from a sklearn PCA with n_components=3 to predict y\n",
    "    \n",
    "f). Which one is better?  Why? (2pts)\n",
    "    "
   ]
  },
  {
   "cell_type": "code",
   "execution_count": null,
   "metadata": {},
   "outputs": [],
   "source": []
  },
  {
   "cell_type": "markdown",
   "metadata": {},
   "source": [
    "## Question 2 (10 pts)\n",
    "#### Have you learned how to write a class?"
   ]
  },
  {
   "cell_type": "markdown",
   "metadata": {},
   "source": [
    "Imagine you have been employed as a programmer in a big named car company. Your company has an existing in-house program that helps them to create and design a new car. Their program works great, so you do not need to worry about touching the existing code. Happy day? Not yet.\n",
    "\n",
    "Now that they have hired you, your employer wants you to develop a new program that runs on python (because python is great). Your first task is to write a core class that models a generic car.\n",
    "\n",
    "A certain car has the following properties.\n",
    "- segment: {a, b, c, d}\n",
    "- style: {sedan, crossover, suv, truck}\n",
    "- body-color: {black, white, red, blue, yellow}\n",
    "- init-price: <need to calculate>\n",
    "\n",
    "Once the car has been designed (all the parameter is set), your model should report the initial price. The calculation is straightforward, it is the summation of each properties listed below.\n",
    "\n",
    "- segment \n",
    "  - a: 100\n",
    "  - b: 200\n",
    "  - c: 300\n",
    "  - d: 400\n",
    "- style\n",
    "  - sedan: 500\n",
    "  - crossover: 1000 \n",
    "  - suv: 1200\n",
    "  - truck: 700\n",
    "- body-color:\n",
    "  - black: 10\n",
    "  - white: 99\n",
    "  - red: 150\n",
    "  - blue: 20\n",
    "  - yellow: 20"
   ]
  },
  {
   "cell_type": "markdown",
   "metadata": {},
   "source": [
    "1. (1pt) Create a class name <code>Car</code>\n",
    "2. (1pt) Write a constructor with no argument.\n",
    "3. (2pts) Each properties must have a <code>get</code> and <code>set</code> method.\n",
    "4. (2pts) Do not forget to check the input in the <code>set</code> method. An error should be thrown when the input is out of range.\n",
    "5. (1pt) Write a <code>report</code> method that \"return\" a string of properties in the following format.\n",
    "segment:<segment\\>|style:<style\\>|body-color:<body-color\\>|init-price:<init-price\\>"
   ]
  },
  {
   "cell_type": "code",
   "execution_count": null,
   "metadata": {},
   "outputs": [],
   "source": [
    "# Your code here"
   ]
  },
  {
   "cell_type": "code",
   "execution_count": null,
   "metadata": {},
   "outputs": [],
   "source": [
    "# 6. (2pts) You get a point for passing this code section.\n",
    "vios = Car()\n",
    "vios.set_segment('b')\n",
    "vios.set_style('sedan')\n",
    "vios.set_body_color('black')\n",
    "\n",
    "assert vios.get_segment() == 'b'\n",
    "assert vios.get_style() == 'sedan'\n",
    "assert vios.get_body_color() == 'black'\n",
    "assert vios.get_init_price() == (200 + 500 + 10)\n",
    "assert vios.report() == \"segment:b|style:sedan|body-color:black|init-price:710\"\n",
    "\n",
    "print(\"Yay! 2pts\")"
   ]
  },
  {
   "cell_type": "code",
   "execution_count": null,
   "metadata": {},
   "outputs": [],
   "source": [
    "# 7. (1pt) Now, find a way to show that your vios.set_segment('the out of range input') is fully implemented without an error.\n",
    "# hint: try-except, unittest\n",
    "\n",
    "# Your code here"
   ]
  },
  {
   "cell_type": "markdown",
   "metadata": {},
   "source": [
    "## Question 3 (15 pts)"
   ]
  },
  {
   "cell_type": "markdown",
   "metadata": {},
   "source": [
    "The story continues from the previous question. Your company is now trying to adopt a fancier data analytic technique known as Machine Learning. Since your transcript from AIT indicates that you have gone through both ML by Dr. Matt and CP for DSAI by Dr. Chaklam, the task is assigned to your team.\n",
    "\n",
    "You have asked your teammate John and Dave from where ever they are from to collect sample data to perform a classification.\n",
    "\n",
    "Days pass by, you receive an email from Dave. \n",
    "\n",
    "=============================================\n",
    "\n",
    "Dear mate,\n",
    "\n",
    "John and I have uploaded the collected data into \"/Dataset\" folder [here](https://drive.google.com/drive/folders/1QgRtF2eCqayi1yCCKx-2-bkpRBlZaBxT?usp=sharing). The file is named after our name. I remember you told us that John has to collect dataset 1 and I have to collect dataset 2 so I labeled 2 on the last axis to help you in advance. No need to thank (wink wink).\n",
    "\n",
    "By the way, We saved the file in matlab format. I hope it will not cause you any problem since you are an expert from AIT right?\n",
    "\n",
    "sincerely,\n",
    "\n",
    "Dave\n",
    "\n",
    "Your teammate from where ever I am from\n",
    "\n",
    "=============================================\n",
    "\n",
    "\n",
    "1. (1pt) Locate the files and load them.\n",
    "- Hint: https://docs.scipy.org/doc/scipy/reference/tutorial/io.html\n",
    "2. (1pt) Verify the collecting period.\n",
    "3. (1pt) Verify the collected data shape.\n",
    "4. (2pts) Preprocess the data. (Fix the label) "
   ]
  },
  {
   "cell_type": "code",
   "execution_count": null,
   "metadata": {},
   "outputs": [],
   "source": [
    "# Your code here"
   ]
  },
  {
   "cell_type": "markdown",
   "metadata": {},
   "source": [
    "5. (1pt) Plot the data.   "
   ]
  },
  {
   "cell_type": "code",
   "execution_count": null,
   "metadata": {},
   "outputs": [],
   "source": [
    "# Your code here"
   ]
  },
  {
   "cell_type": "markdown",
   "metadata": {},
   "source": [
    "6. (2pts) Plan your strategy. What did you see? What are you going to do? Why?"
   ]
  },
  {
   "cell_type": "code",
   "execution_count": null,
   "metadata": {},
   "outputs": [],
   "source": [
    "# Your explanation Here"
   ]
  },
  {
   "cell_type": "markdown",
   "metadata": {},
   "source": [
    "7. (4pts) Develop a model."
   ]
  },
  {
   "cell_type": "code",
   "execution_count": null,
   "metadata": {},
   "outputs": [],
   "source": [
    "# Your code here"
   ]
  },
  {
   "cell_type": "markdown",
   "metadata": {},
   "source": [
    "8. (1pt) Show report."
   ]
  },
  {
   "cell_type": "code",
   "execution_count": null,
   "metadata": {},
   "outputs": [],
   "source": [
    "# Your report here"
   ]
  },
  {
   "cell_type": "markdown",
   "metadata": {},
   "source": [
    "9. (2pts) Is the result good. If not, Why?"
   ]
  },
  {
   "cell_type": "code",
   "execution_count": null,
   "metadata": {},
   "outputs": [],
   "source": [
    "# Your explanation Here"
   ]
  }
 ],
 "metadata": {
  "kernelspec": {
   "display_name": "Python 3",
   "language": "python",
   "name": "python3"
  },
  "language_info": {
   "codemirror_mode": {
    "name": "ipython",
    "version": 3
   },
   "file_extension": ".py",
   "mimetype": "text/x-python",
   "name": "python",
   "nbconvert_exporter": "python",
   "pygments_lexer": "ipython3",
   "version": "3.8.3"
  }
 },
 "nbformat": 4,
 "nbformat_minor": 4
}
