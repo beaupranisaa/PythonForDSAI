{
 "cells": [
  {
   "cell_type": "markdown",
   "metadata": {},
   "source": [
    "1). **The rabbit**: (5pts)\n",
    "\n",
    "Once upon a time, there is a father rabbit lives in a far away jungle. Everyday, the father rabbit has to go out and find some carrots for his family. In his family there are mother rabbit, grampa rabbit, sister rabbit, and his son. In total there are 5 rabbits to feed. In one day, the adult rabbits (himself, mother rabbit and sister rabbit) will eat 3 carrots while the elderly eat 2 carrots and baby rabbit eat 1 carrot.\n",
    "\n",
    "Unfortunately, the carrots are not easy to find. The father rabbit has to travel into the scary jungle and find some carrot then bring them back to the family before the sunset at 6PM.\n",
    "\n",
    "- Every 1 km, the rabbit will find 3 carrots.\n",
    "- The rabbit will use 1 hour to travel 1 km.\n",
    "\n",
    "In summary, in order to find the least number of carrot for each day, the rabbit will have to use (3 + 3 + 3 + 2 + 1)/3 =  4 hours. This mean that he has to leave the house at the latest 10AM (4 hours for go out and another 4 for comming back).\n",
    "\n",
    "This daily work has to be done exactly on time, leaving to late will cause whether his life or his family life. Would you like to help the rabbit?"
   ]
  },
  {
   "cell_type": "code",
   "execution_count": 1,
   "metadata": {},
   "outputs": [
    {
     "name": "stdout",
     "output_type": "stream",
     "text": [
      "YES\n"
     ]
    }
   ],
   "source": [
    "print('YES')"
   ]
  },
  {
   "cell_type": "markdown",
   "metadata": {},
   "source": [
    "Good to hear that young programmer!!\n",
    "\n",
    "What I have in mind is to build a clock that when the rabbit puts the number of (adult, elderly, young) rabbit, it will calculate how many hours is required for a travel. Of cause we have to make it as a function because the number of each rabbit type will change over the time.\n",
    "\n",
    "- Write a function <code>carrot</code> that takes three integers as an input in follow this format <code>(adult, elderly, young)</code> (1pt)\n",
    "- The function will calculate number of hour required for travelling a day. (1pt)\n",
    "- The function will also calcualte the time to leave. Think of it as an alarm clock for leaving the house (1pt)\n",
    "- The function will return a tuple (\\#hours, #time) (1pt)"
   ]
  },
  {
   "cell_type": "code",
   "execution_count": 2,
   "metadata": {},
   "outputs": [
    {
     "data": {
      "text/plain": [
       "(14.666666666666666, '3:20')"
      ]
     },
     "execution_count": 2,
     "metadata": {},
     "output_type": "execute_result"
    }
   ],
   "source": [
    "def carrot(adult, elderly, young):\n",
    "    hr =(((3*adult)+(2*elderly)+(1*young))/3)*2\n",
    "    \n",
    "    # ttl \n",
    "    alarm = 18 - hr\n",
    "    alarm_h = int(alarm)\n",
    "    alarm_m = int((alarm-alarm_h) * 60)\n",
    "    \n",
    "    if alarm_m < 10 :\n",
    "        alarm_m = str(alarm_m) + '0'\n",
    "\n",
    "    if alarm_h < 0 : \n",
    "        alarm_h += 24\n",
    "    return  hr, f'{alarm_h}:{alarm_m}'\n",
    "\n",
    "carrot(5, 2, 3)"
   ]
  },
  {
   "cell_type": "markdown",
   "metadata": {},
   "source": [
    "2). **Print the shape**: (16pts)\n",
    "\n",
    "- Write a function <code>square</code> that takes integer as an input. (1pt)\n",
    "- The function will return a string of * in the shape of a square with both width and height equal to the input interger. (2pts)"
   ]
  },
  {
   "cell_type": "code",
   "execution_count": 3,
   "metadata": {},
   "outputs": [
    {
     "data": {
      "text/plain": [
       "'\\nLevel: 3\\n***\\n***\\n***\\n\\nLevel: 5\\n*****\\n*****\\n*****\\n*****\\n*****\\n'"
      ]
     },
     "execution_count": 3,
     "metadata": {},
     "output_type": "execute_result"
    }
   ],
   "source": [
    "'''\n",
    "Level: 3\n",
    "***\n",
    "***\n",
    "***\n",
    "\n",
    "Level: 5\n",
    "*****\n",
    "*****\n",
    "*****\n",
    "*****\n",
    "*****\n",
    "'''"
   ]
  },
  {
   "cell_type": "code",
   "execution_count": 4,
   "metadata": {},
   "outputs": [
    {
     "name": "stdout",
     "output_type": "stream",
     "text": [
      "****\n",
      "****\n",
      "****\n",
      "****\n"
     ]
    }
   ],
   "source": [
    "def square(n):\n",
    "    for i in range(n):\n",
    "        print(\"*\"*n)\n",
    "\n",
    "# n = int(input(\"Enter a number of n: \"))\n",
    "square(4)"
   ]
  },
  {
   "cell_type": "markdown",
   "metadata": {},
   "source": [
    "- Write a function <code>triangle</code> that takes integer as an input. (1pt)\n",
    "- The function will return a string of * in the shape of a triangle with level equal to the input integer. (2pts)"
   ]
  },
  {
   "cell_type": "code",
   "execution_count": 5,
   "metadata": {},
   "outputs": [
    {
     "data": {
      "text/plain": [
       "'\\nLevel: 3\\n  *\\n **\\n***\\n\\nLevel: 5\\n    *\\n   **\\n  ***\\n ****\\n*****\\n'"
      ]
     },
     "execution_count": 5,
     "metadata": {},
     "output_type": "execute_result"
    }
   ],
   "source": [
    "'''\n",
    "Level: 3\n",
    "  *\n",
    " **\n",
    "***\n",
    "\n",
    "Level: 5\n",
    "    *\n",
    "   **\n",
    "  ***\n",
    " ****\n",
    "*****\n",
    "'''"
   ]
  },
  {
   "cell_type": "code",
   "execution_count": 6,
   "metadata": {},
   "outputs": [
    {
     "name": "stdout",
     "output_type": "stream",
     "text": [
      "      \n",
      "     *\n",
      "    **\n",
      "   ***\n",
      "  ****\n",
      " *****\n"
     ]
    }
   ],
   "source": [
    "def triangle(n):\n",
    "    for i in range(n+1):\n",
    "        print(\" \"*(n-i),\"*\"*i)\n",
    "# n = int(input(\"Enter a number of n: \"))\n",
    "triangle(5)"
   ]
  },
  {
   "cell_type": "markdown",
   "metadata": {},
   "source": [
    "- Write a function <code>pyramid</code> that takes integer as an input. (1pt)\n",
    "- The function will return the string of * in the shape of a pyramid with level equal to the input interger. (2pts)"
   ]
  },
  {
   "cell_type": "code",
   "execution_count": 7,
   "metadata": {},
   "outputs": [
    {
     "data": {
      "text/plain": [
       "' \\nLevel: 3 \\n  * \\n ***\\n*****\\n\\nLevel: 5\\n    *\\n   ***\\n  *****\\n *******\\n*********\\n'"
      ]
     },
     "execution_count": 7,
     "metadata": {},
     "output_type": "execute_result"
    }
   ],
   "source": [
    "''' \n",
    "Level: 3 \n",
    "  * \n",
    " ***\n",
    "*****\n",
    "\n",
    "Level: 5\n",
    "    *\n",
    "   ***\n",
    "  *****\n",
    " *******\n",
    "*********\n",
    "'''"
   ]
  },
  {
   "cell_type": "code",
   "execution_count": 8,
   "metadata": {},
   "outputs": [
    {
     "name": "stdout",
     "output_type": "stream",
     "text": [
      "   *\n",
      "  ***\n",
      " *****\n"
     ]
    }
   ],
   "source": [
    "def pyramid(n):\n",
    "    for i in range(0,n):\n",
    "        print(' '*(n-i)+'*'*(2*i+1))\n",
    "# n = int(input(\"Enter a number of n: \"))\n",
    "pyramid(3)"
   ]
  },
  {
   "cell_type": "markdown",
   "metadata": {},
   "source": [
    "Now, let's combine the three algorithms into one single class.\n",
    "- Create a class named <code>MyShape</code> that can do the followings\n",
    "    - Take two arguments during the class construction. The first one is an integer and the second one is a string. The names are <code>level</code> and <code>shape</code> (1pt)\n",
    "    - Check the input arguments whether the interger is in the range of \\[1,10\\] and string is in the set of {'squ','tri','pyr'}. Raise a <code>ValueError</code>. (2pts)\n",
    "    - Both attributes should be able to change via a set method **only**. <code>set\\[attrName\\]</code> (1pt)\n",
    "    - Of cause, the set method should check the out of range too. (1pt)\n",
    "    - To check the current setting, write a get method. <code>get\\[attrName\\]</code> (1pt)\n",
    "    - Print the shape with method <code>show</code>. It should return the string of the current shape with the correct level (1pt)"
   ]
  },
  {
   "cell_type": "code",
   "execution_count": 173,
   "metadata": {},
   "outputs": [
    {
     "data": {
      "text/plain": [
       "'\\nExample 1\\n\\n>>> ms = MyShape(2,\\'tri\\')\\n>>> ms.show()\\n *\\n**\\n>>> ms.setLevel(3)\\n>>> ms.setShape(\\'squ\\')\\n>>> ms.show()\\n***\\n***\\n***\\n>>> ms.setShape(\\'a\\')\\nTraceback (most recent call last):\\n  File \"<stdin>\", line 1, in <module>\\nValueError: ..........\\n>>>\\n'"
      ]
     },
     "execution_count": 173,
     "metadata": {},
     "output_type": "execute_result"
    }
   ],
   "source": [
    "'''\n",
    "Example 1\n",
    "\n",
    ">>> ms = MyShape(2,'tri')\n",
    ">>> ms.show()\n",
    " *\n",
    "**\n",
    ">>> ms.setLevel(3)\n",
    ">>> ms.setShape('squ')\n",
    ">>> ms.show()\n",
    "***\n",
    "***\n",
    "***\n",
    ">>> ms.setShape('a')\n",
    "Traceback (most recent call last):\n",
    "  File \"<stdin>\", line 1, in <module>\n",
    "ValueError: ..........\n",
    ">>>\n",
    "'''"
   ]
  },
  {
   "cell_type": "code",
   "execution_count": 231,
   "metadata": {},
   "outputs": [
    {
     "name": "stdout",
     "output_type": "stream",
     "text": [
      "*****\n",
      "*****\n",
      "*****\n",
      "*****\n",
      "*****\n",
      "      \n",
      "     *\n",
      "    **\n",
      "   ***\n",
      "  ****\n",
      " *****\n",
      "   *\n",
      "  ***\n",
      " *****\n"
     ]
    },
    {
     "ename": "ValueError",
     "evalue": "shape hello world is not in this class",
     "output_type": "error",
     "traceback": [
      "\u001b[0;31m---------------------------------------------------------------------------\u001b[0m",
      "\u001b[0;31mValueError\u001b[0m                                Traceback (most recent call last)",
      "\u001b[0;32m<ipython-input-231-480a7869b739>\u001b[0m in \u001b[0;36m<module>\u001b[0;34m\u001b[0m\n\u001b[1;32m     48\u001b[0m \u001b[0mms\u001b[0m\u001b[0;34m.\u001b[0m\u001b[0mshow\u001b[0m\u001b[0;34m(\u001b[0m\u001b[0;34m)\u001b[0m\u001b[0;34m\u001b[0m\u001b[0;34m\u001b[0m\u001b[0m\n\u001b[1;32m     49\u001b[0m \u001b[0;34m\u001b[0m\u001b[0m\n\u001b[0;32m---> 50\u001b[0;31m \u001b[0mms\u001b[0m \u001b[0;34m=\u001b[0m \u001b[0mMyShape\u001b[0m\u001b[0;34m(\u001b[0m\u001b[0;36m3\u001b[0m\u001b[0;34m,\u001b[0m\u001b[0;34m'hello world'\u001b[0m\u001b[0;34m)\u001b[0m\u001b[0;34m\u001b[0m\u001b[0;34m\u001b[0m\u001b[0m\n\u001b[0m",
      "\u001b[0;32m<ipython-input-231-480a7869b739>\u001b[0m in \u001b[0;36m__init__\u001b[0;34m(self, level, shape)\u001b[0m\n\u001b[1;32m      4\u001b[0m         \u001b[0mself\u001b[0m\u001b[0;34m.\u001b[0m\u001b[0mcheckcondlevel\u001b[0m\u001b[0;34m(\u001b[0m\u001b[0;34m)\u001b[0m\u001b[0;34m\u001b[0m\u001b[0;34m\u001b[0m\u001b[0m\n\u001b[1;32m      5\u001b[0m         \u001b[0mself\u001b[0m\u001b[0;34m.\u001b[0m\u001b[0mshape\u001b[0m \u001b[0;34m=\u001b[0m \u001b[0mshape\u001b[0m\u001b[0;34m\u001b[0m\u001b[0;34m\u001b[0m\u001b[0m\n\u001b[0;32m----> 6\u001b[0;31m         \u001b[0mself\u001b[0m\u001b[0;34m.\u001b[0m\u001b[0mcheckcondshape\u001b[0m\u001b[0;34m(\u001b[0m\u001b[0;34m)\u001b[0m\u001b[0;34m\u001b[0m\u001b[0;34m\u001b[0m\u001b[0m\n\u001b[0m\u001b[1;32m      7\u001b[0m \u001b[0;34m\u001b[0m\u001b[0m\n\u001b[1;32m      8\u001b[0m     \u001b[0;32mdef\u001b[0m \u001b[0mcheckcondlevel\u001b[0m\u001b[0;34m(\u001b[0m\u001b[0mself\u001b[0m\u001b[0;34m)\u001b[0m\u001b[0;34m:\u001b[0m\u001b[0;34m\u001b[0m\u001b[0;34m\u001b[0m\u001b[0m\n",
      "\u001b[0;32m<ipython-input-231-480a7869b739>\u001b[0m in \u001b[0;36mcheckcondshape\u001b[0;34m(self)\u001b[0m\n\u001b[1;32m     18\u001b[0m             \u001b[0;32mraise\u001b[0m \u001b[0mValueError\u001b[0m\u001b[0;34m(\u001b[0m\u001b[0;34mf\"{str} is not an instance of string\"\u001b[0m\u001b[0;34m)\u001b[0m\u001b[0;34m\u001b[0m\u001b[0;34m\u001b[0m\u001b[0m\n\u001b[1;32m     19\u001b[0m         \u001b[0;32mif\u001b[0m \u001b[0mself\u001b[0m\u001b[0;34m.\u001b[0m\u001b[0mshape\u001b[0m \u001b[0;32mnot\u001b[0m \u001b[0;32min\u001b[0m \u001b[0;34m[\u001b[0m\u001b[0;34m'squ'\u001b[0m\u001b[0;34m,\u001b[0m\u001b[0;34m'tri'\u001b[0m\u001b[0;34m,\u001b[0m\u001b[0;34m'pyr'\u001b[0m\u001b[0;34m]\u001b[0m\u001b[0;34m:\u001b[0m\u001b[0;34m\u001b[0m\u001b[0;34m\u001b[0m\u001b[0m\n\u001b[0;32m---> 20\u001b[0;31m             \u001b[0;32mraise\u001b[0m \u001b[0mValueError\u001b[0m\u001b[0;34m(\u001b[0m\u001b[0;34mf\"shape {self.shape} is not in this class\"\u001b[0m\u001b[0;34m)\u001b[0m\u001b[0;34m\u001b[0m\u001b[0;34m\u001b[0m\u001b[0m\n\u001b[0m\u001b[1;32m     21\u001b[0m         \u001b[0;32melse\u001b[0m\u001b[0;34m:\u001b[0m\u001b[0;34m\u001b[0m\u001b[0;34m\u001b[0m\u001b[0m\n\u001b[1;32m     22\u001b[0m             \u001b[0mself\u001b[0m\u001b[0;34m.\u001b[0m\u001b[0mshape\u001b[0m \u001b[0;34m=\u001b[0m \u001b[0mself\u001b[0m\u001b[0;34m.\u001b[0m\u001b[0mshape\u001b[0m\u001b[0;34m\u001b[0m\u001b[0;34m\u001b[0m\u001b[0m\n",
      "\u001b[0;31mValueError\u001b[0m: shape hello world is not in this class"
     ]
    }
   ],
   "source": [
    "class MyShape:\n",
    "    def __init__(self,level:int,shape:str):\n",
    "        self.level = level\n",
    "        self.checkcondlevel()\n",
    "        self.shape = shape\n",
    "        self.checkcondshape()\n",
    "        \n",
    "    def checkcondlevel(self):\n",
    "        if not isinstance(self.level,int):\n",
    "            raise ValueError(f\"{self.level} is not an instance of integer\")\n",
    "        elif self.level <1 or self.level > 10:\n",
    "            raise ValueError(f\"{self.level} is not in range\")\n",
    "        else:\n",
    "            self.level = self.level\n",
    "    \n",
    "    def checkcondshape(self):\n",
    "        if not isinstance(self.shape,str):\n",
    "            raise ValueError(f\"{str} is not an instance of string\")\n",
    "        if self.shape not in ['squ','tri','pyr']:\n",
    "            raise ValueError(f\"shape {self.shape} is not in this class\")\n",
    "        else:\n",
    "            self.shape = self.shape\n",
    "            \n",
    "    def show(self):\n",
    "        if self.shape == 'squ':\n",
    "            square(self.level)\n",
    "        if self.shape == 'tri':\n",
    "            triangle(self.level)\n",
    "        if self.shape == 'pyr':\n",
    "            pyramid(self.level)\n",
    "            \n",
    "    def setLevel(self,level):\n",
    "        self.level = level\n",
    "        self.checkcondlevel()\n",
    "        \n",
    "    def setShape(self,shape):\n",
    "        self.shape = shape\n",
    "        self.checkcondshape()\n",
    "            \n",
    "ms = MyShape(5,'squ')\n",
    "ms.show()\n",
    "\n",
    "ms = MyShape(5,'tri')\n",
    "ms.show()\n",
    "\n",
    "ms.setLevel(3)\n",
    "ms.setShape('pyr')\n",
    "ms.show()\n",
    "\n",
    "ms = MyShape(3,'hello world')"
   ]
  },
  {
   "cell_type": "markdown",
   "metadata": {},
   "source": [
    "2). **ML Skill**\n",
    "$$ y = ax + b $$\n",
    "The above equation is your favorite linear equation where <code>a,b</code> are the constant value indicate the slope and the offset of the line in the graph.\n",
    "\n",
    "We all know given and two points. $$ (x_1,y_1) (x_2,y_2) $$ you can find <code>a,b</code> very easy using Geometry \n",
    "\n",
    "$$ a = \\frac{y_2 - y_1}{x_2 - x_1} $$\n",
    "$$ b = y_i - ax_i$$\n",
    "\n",
    "Since we have learnt that using LinearRegression can find the value of the <code>a,b</code> too.\n",
    "\n",
    "Now, do the followings.\n",
    "\n",
    "- Write a function <code>drawLine</code> that takes two tuples as inputs.\n",
    "- Calculate <code>a,b</code> using Geometry.\n",
    "- Draw the first graph with scatter on the given two points and a line.\n",
    "- Calculate <code>a,b</code> using LinearRegression with Batch Gradient Descent.\n",
    "    - Generate 1000 sample data along the line.\n",
    "    - Regress on the data using LinearRegression-BatchGradientDescent\n",
    "- Draw the second graph with scatter on the given two points and a line.\n",
    "- Does both method yeild the same outcome? Which method runs faster? (use timeit)\n",
    "- What will happen if the data is normalize first? (draw another graph and timeit)\n",
    "- What will happen if the data is standardize first? (draw another graph and timeit)\n",
    "\n"
   ]
  },
  {
   "cell_type": "code",
   "execution_count": 257,
   "metadata": {},
   "outputs": [
    {
     "name": "stdout",
     "output_type": "stream",
     "text": [
      "a:  1.5555555555555556 b:  -0.5555555555555556\n"
     ]
    },
    {
     "data": {
      "image/png": "[encoded data removed]",
      "text/plain": [
       "<Figure size 432x288 with 1 Axes>"
      ]
     },
     "metadata": {
      "needs_background": "light"
     },
     "output_type": "display_data"
    }
   ],
   "source": [
    "import matplotlib.pyplot as plt\n",
    "import random\n",
    "import numpy as np\n",
    "import time\n",
    "def drawLine(X1,X2):\n",
    "    start_time = time.time()\n",
    "    x1,y1 = X1[0],X1[1]\n",
    "    x2,y2 = X2[0],X2[1]\n",
    "    a = (y2-y1)/(x2-x1)\n",
    "    b = y1 - a*x1\n",
    "    print('a: ',a,'b: ',b)\n",
    "    plt.plot((x1,x2),(y1,y2),'ro')\n",
    "    plt.plot((x1,x2),(y1,y2),'b-')\n",
    "    plt.grid()\n",
    "    plt.show()\n",
    "    end_time = time.time()\n",
    "    timetaken = end_time-start_time\n",
    "    return a,b,timetaken\n",
    "\n",
    "X1 = (1,1)\n",
    "X2 = (10,15)\n",
    "minX = min(X1[0],X2[0])\n",
    "maxX = max(X1[0],X2[0])\n",
    "\n",
    "a,b,time = drawLine(X1,X2)"
   ]
  },
  {
   "cell_type": "code",
   "execution_count": 258,
   "metadata": {},
   "outputs": [
    {
     "name": "stdout",
     "output_type": "stream",
     "text": [
      "shapes of X_train, y_train with DUMMY added\n",
      "(35, 2) (35, 1)\n",
      "shapes of X_test, y_test with DUMMY added\n",
      "(15, 2) (15, 1)\n"
     ]
    }
   ],
   "source": [
    "rng = np.random.RandomState(1)\n",
    "x=np.linspace(minX,maxX).reshape(-1,1)\n",
    "# x = 15*rng.rand(1000).reshape(-1,1)\n",
    "y = a*x + b\n",
    "\n",
    "from sklearn.model_selection import train_test_split\n",
    "\n",
    "x_train,x_test,y_train,y_test = train_test_split(x,y,test_size = 0.3)\n",
    "\n",
    "# add dummy at X_train\n",
    "intercept = np.ones((x_train.shape[0], 1))\n",
    "x_train = np.concatenate((intercept,x_train), axis=1)\n",
    "\n",
    "# add dummy at X_test\n",
    "intercept = np.ones((x_test.shape[0], 1))\n",
    "x_test = np.concatenate((intercept, x_test), axis=1)\n",
    "\n",
    "print('shapes of X_train, y_train with DUMMY added')\n",
    "print(x_train.shape,y_train.shape)\n",
    "print('shapes of X_test, y_test with DUMMY added')\n",
    "print(x_test.shape,y_test.shape)"
   ]
  },
  {
   "cell_type": "code",
   "execution_count": 259,
   "metadata": {},
   "outputs": [],
   "source": [
    "def get_yhat(X, theta):\n",
    "    return X @ theta\n",
    "\n",
    "def get_loss(X,y,theta):\n",
    "    yhat = get_yhat(X,theta)\n",
    "    loss_new = ((yhat - y)**2 / yhat.shape[0]).sum()\n",
    "    return loss_new\n",
    "\n",
    "def gradient(X,y,theta):\n",
    "    grad = X.T.dot(get_yhat(X,theta)-y)\n",
    "    return grad\n",
    "\n",
    "def gradient_descent(X_train,y_train,X_test,y_test,theta_initial,alpha,max_iter):\n",
    "    theta = theta_initial\n",
    "    loss_history_train = []\n",
    "    loss_history_test = []\n",
    "    loss_old_train = np.inf\n",
    "    iter_stop = 0  \n",
    "    for i in range(max_iter):\n",
    "        loss_new_train = get_loss(X_train,y_train,theta)\n",
    "        loss_test = get_loss(X_test,y_test,theta)        \n",
    "        loss_old_train = loss_new_train\n",
    "        \n",
    "        if i%100 == 0:\n",
    "            print(\"cost iter\",i,':',loss_old_train)\n",
    "            \n",
    "        loss_history_train.append(loss_old_train)\n",
    "        loss_history_test.append(loss_test)\n",
    "        grad = gradient(X_train,y_train,theta)        \n",
    "        theta = theta - alpha* grad   \n",
    "    return loss_history_train,loss_history_test, theta"
   ]
  },
  {
   "cell_type": "code",
   "execution_count": 260,
   "metadata": {},
   "outputs": [
    {
     "name": "stdout",
     "output_type": "stream",
     "text": [
      "==============================\n",
      "Shape of theta:  (2, 1)\n",
      "==============================\n",
      "Initial theta:  [[0.]\n",
      " [0.]]\n"
     ]
    }
   ],
   "source": [
    "theta_initial = np.zeros(x_train.shape[1])\n",
    "theta_initial = theta_initial.reshape(-1,1)\n",
    "# check shape of theta\n",
    "print(\"=\"*30)\n",
    "print(\"Shape of theta: \", theta_initial.shape)\n",
    "\n",
    "# initial theta\n",
    "print(\"=\"*30)\n",
    "print(\"Initial theta: \", theta_initial)"
   ]
  },
  {
   "cell_type": "code",
   "execution_count": 261,
   "metadata": {},
   "outputs": [],
   "source": [
    "alpha  = 0.0001\n",
    "max_iter = 1000"
   ]
  },
  {
   "cell_type": "code",
   "execution_count": 262,
   "metadata": {},
   "outputs": [
    {
     "name": "stdout",
     "output_type": "stream",
     "text": [
      "cost iter 0 : 79.12944606413996\n",
      "cost iter 100 : 0.11248954361669683\n",
      "cost iter 200 : 0.09659640895811739\n",
      "cost iter 300 : 0.08294874286801356\n",
      "cost iter 400 : 0.0712292932790815\n",
      "cost iter 500 : 0.06116563127557497\n",
      "cost iter 600 : 0.05252381818083143\n",
      "cost iter 700 : 0.045102967446927655\n",
      "cost iter 800 : 0.038730574870145786\n",
      "cost iter 900 : 0.033258508578999396\n"
     ]
    }
   ],
   "source": [
    "import timeit\n",
    "starttime = timeit.default_timer()\n",
    "cost_history_train,cost_history_test,theta_reg = gradient_descent(x_train,y_train,x_test,y_test,theta_initial,alpha = alpha ,max_iter = max_iter)\n",
    "timereg = timeit.default_timer()-starttime"
   ]
  },
  {
   "cell_type": "code",
   "execution_count": 263,
   "metadata": {},
   "outputs": [
    {
     "data": {
      "text/plain": [
       "<matplotlib.legend.Legend at 0x127a6b090>"
      ]
     },
     "execution_count": 263,
     "metadata": {},
     "output_type": "execute_result"
    },
    {
     "data": {
      "image/png": "[encoded data removed]",
      "text/plain": [
       "<Figure size 432x288 with 1 Axes>"
      ]
     },
     "metadata": {
      "needs_background": "light"
     },
     "output_type": "display_data"
    }
   ],
   "source": [
    "plt.plot(cost_history_train,'b', label=\"train data\")\n",
    "plt.plot(cost_history_test,'r', label=\"test data\")\n",
    "plt.xlabel(\"Iterations\")\n",
    "plt.ylabel(\"cost\")\n",
    "plt.title(\"Training cost over time\")\n",
    "plt.legend()"
   ]
  },
  {
   "cell_type": "code",
   "execution_count": 264,
   "metadata": {},
   "outputs": [
    {
     "name": "stdout",
     "output_type": "stream",
     "text": [
      "==============================\n",
      "Optimal Theta:  [[-0.19706189]\n",
      " [ 1.50281662]]\n",
      "==============================\n",
      "Cost with optimized theta:  0.028603100286328155\n"
     ]
    }
   ],
   "source": [
    "# theta, iter\n",
    "print(\"=\"*30)\n",
    "print(\"Optimal Theta: \", theta_reg)\n",
    "print(\"=\"*30)\n",
    "print(\"Cost with optimized theta: \", cost_history_train[-1])"
   ]
  },
  {
   "cell_type": "code",
   "execution_count": 265,
   "metadata": {},
   "outputs": [
    {
     "name": "stdout",
     "output_type": "stream",
     "text": [
      "========== Regression ==========\n",
      "a:  [1.50281662] b:  [-0.19706189]\n",
      "========== From part a ==========\n",
      "a:  1.5555555555555556 b:  -0.5555555555555556\n"
     ]
    }
   ],
   "source": [
    "print(\"=\"*10,'Regression',\"=\"*10)\n",
    "print('a: ',theta_reg[1],'b: ',theta_reg[0])\n",
    "print(\"=\"*10,'From part a',\"=\"*10)\n",
    "print('a: ',a,'b: ',b)"
   ]
  },
  {
   "cell_type": "code",
   "execution_count": 278,
   "metadata": {},
   "outputs": [
    {
     "name": "stdout",
     "output_type": "stream",
     "text": [
      "========== Regression ==========\n",
      "timetaken for regression:  0.05089177799982281\n",
      "========== Part a ==========\n",
      "timetaken for the first method:  0.355161190032959\n"
     ]
    }
   ],
   "source": [
    "print(\"=\"*10,'Regression',\"=\"*10)\n",
    "print('timetaken for regression: ', timereg)\n",
    "print(\"=\"*10,'Part a',\"=\"*10)\n",
    "print('timetaken for the first method: ', time)"
   ]
  },
  {
   "cell_type": "code",
   "execution_count": 267,
   "metadata": {},
   "outputs": [
    {
     "data": {
      "image/png": "[encoded data removed]",
      "text/plain": [
       "<Figure size 432x288 with 1 Axes>"
      ]
     },
     "metadata": {
      "needs_background": "light"
     },
     "output_type": "display_data"
    }
   ],
   "source": [
    "ypred = x_test @ theta_reg\n",
    "\n",
    "plt.plot(x_test[:,1],ypred,'b-')\n",
    "plt.xlim([minX-1,maxX+1])\n",
    "plt.plot((X1[0],X2[0]),(X1[1],X2[1]),'ro')\n",
    "plt.grid()\n"
   ]
  },
  {
   "cell_type": "markdown",
   "metadata": {},
   "source": [
    "#### Normalization"
   ]
  },
  {
   "cell_type": "code",
   "execution_count": 268,
   "metadata": {},
   "outputs": [
    {
     "name": "stdout",
     "output_type": "stream",
     "text": [
      "shapes of X_train, y_train with DUMMY added\n",
      "(35, 2) (35, 1)\n",
      "shapes of X_test, y_test with DUMMY added\n",
      "(15, 2) (15, 1)\n",
      "cost iter 0 : 0.734031602058813\n",
      "cost iter 100 : 0.08327634309673665\n",
      "cost iter 200 : 0.050777550045313334\n",
      "cost iter 300 : 0.03099427251938536\n",
      "cost iter 400 : 0.01891869879170975\n",
      "cost iter 500 : 0.01154784851845415\n",
      "cost iter 600 : 0.0070487302997604955\n",
      "cost iter 700 : 0.004302498319003966\n",
      "cost iter 800 : 0.002626216495424839\n",
      "cost iter 900 : 0.001603025165722392\n"
     ]
    }
   ],
   "source": [
    "#normalization\n",
    "x_norm = (x - np.min(x))/(np.max(x)-np.min(x))\n",
    "y_norm = (y-np.min(x))/(np.max(x)-np.min(y))\n",
    "\n",
    "from sklearn.model_selection import train_test_split\n",
    "\n",
    "x_train_n,x_test_n,y_train_n,y_test_n = train_test_split(x_norm,y_norm,test_size = 0.3)\n",
    "\n",
    "\n",
    "# add dummy at X_train\n",
    "intercept = np.ones((x_train_n.shape[0], 1))\n",
    "x_train_n = np.concatenate((intercept,x_train_n), axis=1)\n",
    "\n",
    "# add dummy at X_test\n",
    "intercept = np.ones((x_test_n.shape[0], 1))\n",
    "x_test_n = np.concatenate((intercept, x_test_n), axis=1)\n",
    "\n",
    "print('shapes of X_train, y_train with DUMMY added')\n",
    "print(x_train_n.shape,y_train_n.shape)\n",
    "print('shapes of X_test, y_test with DUMMY added')\n",
    "print(x_test_n.shape,y_test_n.shape)\n",
    "\n",
    "theta_initial_n = np.zeros(x_train_n.shape[1])\n",
    "theta_initial_n = theta_initial.reshape(-1,1)\n",
    "\n",
    "alpha = 0.001\n",
    "max_iter = 1000\n",
    "\n",
    "\n",
    "starttime = timeit.default_timer()\n",
    "cost_history_train_n,cost_history_test_n,theta_n= gradient_descent(x_train_n,y_train_n,x_test_n,y_test_n,theta_initial,alpha = alpha ,max_iter = max_iter)\n",
    "time_n = timeit.default_timer()-starttime"
   ]
  },
  {
   "cell_type": "code",
   "execution_count": 269,
   "metadata": {},
   "outputs": [
    {
     "data": {
      "text/plain": [
       "<matplotlib.legend.Legend at 0x127e51f10>"
      ]
     },
     "execution_count": 269,
     "metadata": {},
     "output_type": "execute_result"
    },
    {
     "data": {
      "image/png": "[encoded data removed]",
      "text/plain": [
       "<Figure size 432x288 with 1 Axes>"
      ]
     },
     "metadata": {
      "needs_background": "light"
     },
     "output_type": "display_data"
    }
   ],
   "source": [
    "plt.plot(cost_history_train_n,'b', label=\"train data\")\n",
    "plt.plot(cost_history_test_n,'r', label=\"test data\")\n",
    "plt.xlabel(\"Iterations\")\n",
    "plt.ylabel(\"cost\")\n",
    "plt.title(\"Training cost over time\")\n",
    "plt.legend()"
   ]
  },
  {
   "cell_type": "code",
   "execution_count": 270,
   "metadata": {},
   "outputs": [
    {
     "name": "stdout",
     "output_type": "stream",
     "text": [
      "==============================\n",
      "Optimal Theta:  [[0.05275793]\n",
      " [1.4501584 ]]\n",
      "==============================\n",
      "Cost with optimized theta:  0.0009833181552203\n"
     ]
    }
   ],
   "source": [
    "# theta, iter\n",
    "print(\"=\"*30)\n",
    "print(\"Optimal Theta: \", theta_n)\n",
    "print(\"=\"*30)\n",
    "print(\"Cost with optimized theta: \", cost_history_train_n[-1])"
   ]
  },
  {
   "cell_type": "code",
   "execution_count": 271,
   "metadata": {},
   "outputs": [
    {
     "name": "stdout",
     "output_type": "stream",
     "text": [
      "========== Regression stadardization ==========\n",
      "a:  [1.4501584] b:  [0.05275793]\n",
      "========== From part a ==========\n",
      "a:  1.5555555555555556 b:  -0.5555555555555556\n"
     ]
    }
   ],
   "source": [
    "print(\"=\"*10,'Regression stadardization',\"=\"*10)\n",
    "print('a: ',theta_n[1],'b: ',theta_n[0])\n",
    "print(\"=\"*10,'From part a',\"=\"*10)\n",
    "print('a: ',a,'b: ',b)"
   ]
  },
  {
   "cell_type": "code",
   "execution_count": 277,
   "metadata": {},
   "outputs": [
    {
     "name": "stdout",
     "output_type": "stream",
     "text": [
      "========== Regression ==========\n",
      "timetaken for regression_standardization:  0.0499510649997319\n",
      "========== Part a ==========\n",
      "timetaken for the first method:  0.355161190032959\n"
     ]
    }
   ],
   "source": [
    "print(\"=\"*10,'Regression',\"=\"*10)\n",
    "print('timetaken for regression_standardization: ', time_n)\n",
    "print(\"=\"*10,'Part a',\"=\"*10)\n",
    "print('timetaken for the first method: ', time)"
   ]
  },
  {
   "cell_type": "code",
   "execution_count": 273,
   "metadata": {},
   "outputs": [
    {
     "data": {
      "image/png": "[encoded data removed]",
      "text/plain": [
       "<Figure size 432x288 with 1 Axes>"
      ]
     },
     "metadata": {
      "needs_background": "light"
     },
     "output_type": "display_data"
    }
   ],
   "source": [
    "ypred_n = x_test @ theta_n\n",
    "\n",
    "plt.plot(x_test[:,1],ypred_n,'b-')\n",
    "plt.xlim([minX-1,maxX+1])\n",
    "plt.plot((X1[0],X2[0]),(X1[1],X2[1]),'ro')\n",
    "plt.grid()"
   ]
  },
  {
   "cell_type": "markdown",
   "metadata": {},
   "source": [
    "#### Standardization"
   ]
  },
  {
   "cell_type": "code",
   "execution_count": 274,
   "metadata": {},
   "outputs": [
    {
     "name": "stdout",
     "output_type": "stream",
     "text": [
      "shapes of X_train, y_train with DUMMY added\n",
      "(35, 2) (35, 1)\n",
      "shapes of X_test, y_test with DUMMY added\n",
      "(15, 2) (15, 1)\n",
      "cost iter 0 : 0.983536271651518\n",
      "cost iter 100 : 0.001014081149924832\n",
      "cost iter 200 : 1.3662298680020548e-06\n",
      "cost iter 300 : 2.0669655435768786e-09\n",
      "cost iter 400 : 3.2493324407099443e-12\n",
      "cost iter 500 : 5.166836140138578e-15\n",
      "cost iter 600 : 8.243112382862163e-18\n",
      "cost iter 700 : 1.3163408268119558e-20\n",
      "cost iter 800 : 2.1026611361760162e-23\n",
      "cost iter 900 : 3.3614659825813e-26\n"
     ]
    }
   ],
   "source": [
    "#standardization\n",
    "x_st = (x-np.mean(x, axis = 0))/np.std(x, axis = 0)\n",
    "y_st = (y-np.mean(y, axis = 0))/np.std(y, axis = 0)\n",
    "# print(x_st)\n",
    "\n",
    "from sklearn.model_selection import train_test_split\n",
    "\n",
    "x_train_st,x_test_st,y_train_st,y_test_st = train_test_split(x_st,y_st,test_size = 0.3)\n",
    "\n",
    "# add dummy at X_train\n",
    "intercept = np.ones((x_train_st.shape[0], 1))\n",
    "x_train_st = np.concatenate((intercept,x_train_st), axis=1)\n",
    "\n",
    "# add dummy at X_test\n",
    "intercept = np.ones((x_test_st.shape[0], 1))\n",
    "x_test_st = np.concatenate((intercept, x_test_st), axis=1)\n",
    "\n",
    "print('shapes of X_train, y_train with DUMMY added')\n",
    "print(x_train_st.shape,y_train_st.shape)\n",
    "print('shapes of X_test, y_test with DUMMY added')\n",
    "print(x_test_st.shape,y_test_st.shape)\n",
    "\n",
    "theta_initial_st = np.zeros(x_train_st.shape[1])\n",
    "theta_initial_st = theta_initial.reshape(-1,1)\n",
    "\n",
    "alpha = 0.001\n",
    "max_iter =1000\n",
    "\n",
    "starttime = timeit.default_timer()\n",
    "cost_history_train_st,cost_history_test_st,theta_st = gradient_descent(x_train_st,y_train_st,x_test_st,y_test_st,theta_initial,alpha = alpha ,max_iter = max_iter)\n",
    "time_st = timeit.default_timer()-starttime"
   ]
  },
  {
   "cell_type": "code",
   "execution_count": 275,
   "metadata": {},
   "outputs": [
    {
     "data": {
      "text/plain": [
       "<matplotlib.legend.Legend at 0x1280cd790>"
      ]
     },
     "execution_count": 275,
     "metadata": {},
     "output_type": "execute_result"
    },
    {
     "data": {
      "image/png": "[encoded data removed]",
      "text/plain": [
       "<Figure size 432x288 with 1 Axes>"
      ]
     },
     "metadata": {
      "needs_background": "light"
     },
     "output_type": "display_data"
    }
   ],
   "source": [
    "plt.plot(cost_history_train_st,'b', label=\"train data\")\n",
    "plt.plot(cost_history_test_st,'r', label=\"test data\")\n",
    "plt.xlabel(\"Iterations\")\n",
    "plt.ylabel(\"cost\")\n",
    "plt.title(\"Training cost over time\")\n",
    "plt.legend()"
   ]
  },
  {
   "cell_type": "code",
   "execution_count": 252,
   "metadata": {},
   "outputs": [
    {
     "name": "stdout",
     "output_type": "stream",
     "text": [
      "==============================\n",
      "Optimal Theta:  [[7.40086239e-15]\n",
      " [1.00000000e+00]]\n",
      "==============================\n",
      "Cost with optimized theta:  2.8425469722566156e-28\n"
     ]
    }
   ],
   "source": [
    "# theta, iter\n",
    "print(\"=\"*30)\n",
    "print(\"Optimal Theta: \", theta_st)\n",
    "print(\"=\"*30)\n",
    "print(\"Cost with optimized theta: \", cost_history_train_st[-1])"
   ]
  },
  {
   "cell_type": "code",
   "execution_count": 253,
   "metadata": {},
   "outputs": [
    {
     "name": "stdout",
     "output_type": "stream",
     "text": [
      "========== Regression stadardization ==========\n",
      "a:  [1.] b:  [7.40086239e-15]\n",
      "========== From part a ==========\n",
      "a:  1.5555555555555556 b:  -0.5555555555555556\n"
     ]
    }
   ],
   "source": [
    "print(\"=\"*10,'Regression stadardization',\"=\"*10)\n",
    "print('a: ',theta_st[1],'b: ',theta_st[0])\n",
    "print(\"=\"*10,'From part a',\"=\"*10)\n",
    "print('a: ',a,'b: ',b)"
   ]
  },
  {
   "cell_type": "code",
   "execution_count": 276,
   "metadata": {},
   "outputs": [
    {
     "name": "stdout",
     "output_type": "stream",
     "text": [
      "========== Regression ==========\n",
      "timetaken for regression_standardization:  0.07537492799929169\n",
      "========== Part a ==========\n",
      "timetaken for the first method:  0.355161190032959\n"
     ]
    }
   ],
   "source": [
    "print(\"=\"*10,'Regression',\"=\"*10)\n",
    "print('timetaken for regression_standardization: ', time_st)\n",
    "print(\"=\"*10,'Part a',\"=\"*10)\n",
    "print('timetaken for the first method: ', time)"
   ]
  },
  {
   "cell_type": "code",
   "execution_count": 255,
   "metadata": {},
   "outputs": [
    {
     "data": {
      "image/png": "[encoded data removed]",
      "text/plain": [
       "<Figure size 432x288 with 1 Axes>"
      ]
     },
     "metadata": {
      "needs_background": "light"
     },
     "output_type": "display_data"
    }
   ],
   "source": [
    "ypred_st = x_test @ theta_st\n",
    "\n",
    "plt.plot(x_test[:,1],ypred_st,'b-')\n",
    "plt.xlim([minX-1,maxX+1])\n",
    "plt.plot((X1[0],X2[0]),(X1[1],X2[1]),'ro')\n",
    "plt.grid()"
   ]
  },
  {
   "cell_type": "markdown",
   "metadata": {},
   "source": [
    "### Conclusion"
   ]
  },
  {
   "cell_type": "code",
   "execution_count": 256,
   "metadata": {},
   "outputs": [
    {
     "name": "stdout",
     "output_type": "stream",
     "text": [
      "================================================================================\n",
      "Optimal Theta with x:  [[-0.17270163]\n",
      " [ 1.50090921]]\n",
      "Optimal Theta with normalized x:  [[0.05859619]\n",
      " [1.43944528]]\n",
      "Optimal Theta with standardized x:  [[7.40086239e-15]\n",
      " [1.00000000e+00]]\n",
      "================================================================================\n",
      "Cost with optimized theta (x):  0.02944621605154688\n",
      "Cost with optimized theta: (normalized x)  0.0011485812571952363\n",
      "Cost with optimized theta (standardized x):  2.8425469722566156e-28\n",
      "================================================================================\n",
      "weights (x): a:  1.5555555555555556 b:  -0.5555555555555556\n",
      "weights (normalized x): a:  [1.43944528] b:  [0.05859619]\n",
      "weights (standardized x): a:  [1.] b:  [7.40086239e-15]\n",
      "================================================================================\n",
      "timetaken (x):  0.19234108924865723\n",
      "timetaken (normalized x):  0.05227390999971249\n",
      "timetaken (standardized x):  0.04290467600003467\n"
     ]
    }
   ],
   "source": [
    "print(\"=\"*80)\n",
    "print(\"Optimal Theta with x: \",theta_reg)\n",
    "print(\"Optimal Theta with normalized x: \", theta_n)\n",
    "print(\"Optimal Theta with standardized x: \", theta_st)\n",
    "print(\"=\"*80)\n",
    "print(\"Cost with optimized theta (x): \", cost_history_train[-1])\n",
    "print(\"Cost with optimized theta: (normalized x) \", cost_history_train_n[-1])\n",
    "print(\"Cost with optimized theta (standardized x): \", cost_history_train_st[-1])\n",
    "print(\"=\"*80)\n",
    "print(\"weights (x):\",'a: ',a,'b: ',b)\n",
    "print(\"weights (normalized x):\",'a: ',theta_n[1],'b: ',theta_n[0])\n",
    "print(\"weights (standardized x):\",'a: ',theta_st[1],'b: ',theta_st[0])\n",
    "print(\"=\"*80)\n",
    "print('timetaken (x): ', time)\n",
    "print('timetaken (normalized x): ', time_n)\n",
    "print('timetaken (standardized x): ', time_st)"
   ]
  },
  {
   "cell_type": "markdown",
   "metadata": {},
   "source": [
    "As shown above, the results are similar, but not exactly the same. "
   ]
  },
  {
   "cell_type": "markdown",
   "metadata": {},
   "source": [
    "1). **Exploratory Data Analysis**:\n",
    "- Load the data <code>\"howlongwelive.csv\"</code> to pandas and print the first 5 and last 5 rows of data  (1 or 0pt)\n",
    "\n",
    "- Print the shape, feature names, and summary (describe) of the data (1 or 0pt)\n",
    "\n",
    "- Check whether there is missing data. (1 or 0pt)\n",
    "\n",
    "- Fix all missing data using means or mode (1 or 0pt)  \n",
    "\n",
    "- Since Hepatatis B has a lot of nans, and highly correlate with Diptheria, simply drop column Hepatatis.  Also drop column Population since there are way too many nans (1 or 0pt)\n",
    "\n",
    "- If there are any features which are string and you want to use them as features, we need to convert them to int or float.  For now, convert <code>Status</code> to 0 or 1 (1 or 0pt)\n",
    "\n",
    "- Rename column <code>thinness_1-19_years</code> to <code>thinness_10-19_years</code> (1 or 0pt)\n",
    "\n",
    "- Perform a <code>groupby</code> country and plot their life expectancy.  Which country has the lowest/highest life expectancy? (1 or 0pt)\n",
    "\n",
    "- Plot average life expectancy of developed country vs. developing country.  (1 or 0pt)\n",
    "\n",
    "- Perform a t-test of life expectancy between developed and developing countries.  Is the result significant? (1 or 0pt)\n",
    "\n",
    "- Perform a <code>pairplot</code> to see which features are likely to have strong predictive power for life expectancy.  Identify the most 3 important features.  (1 or 0pt)\n",
    "\n",
    "- Perform a histogram of life expectancy.  Is it normal? (1 or 0pt)\n"
   ]
  },
  {
   "cell_type": "code",
   "execution_count": 280,
   "metadata": {},
   "outputs": [],
   "source": [
    "import numpy as np\n",
    "import pandas as pd\n",
    "import matplotlib.pyplot as plt\n",
    "import csv\n",
    "import random"
   ]
  },
  {
   "cell_type": "markdown",
   "metadata": {},
   "source": [
    "1. Load the data <code>\"howlongwelive.csv\"</code> to pandas and print the first 5 and last 5 rows of data  (1 or 0pt)"
   ]
  },
  {
   "cell_type": "code",
   "execution_count": 281,
   "metadata": {},
   "outputs": [
    {
     "name": "stdout",
     "output_type": "stream",
     "text": [
      "       Country  Year      Status  Life expectancy   Adult Mortality  \\\n",
      "0  Afghanistan  2015  Developing              65.0            263.0   \n",
      "1  Afghanistan  2014  Developing              59.9            271.0   \n",
      "2  Afghanistan  2013  Developing              59.9            268.0   \n",
      "3  Afghanistan  2012  Developing              59.5            272.0   \n",
      "4  Afghanistan  2011  Developing              59.2            275.0   \n",
      "\n",
      "   infant deaths  Alcohol  percentage expenditure  Hepatitis B  Measles   ...  \\\n",
      "0             62     0.01               71.279624         65.0      1154  ...   \n",
      "1             64     0.01               73.523582         62.0       492  ...   \n",
      "2             66     0.01               73.219243         64.0       430  ...   \n",
      "3             69     0.01               78.184215         67.0      2787  ...   \n",
      "4             71     0.01                7.097109         68.0      3013  ...   \n",
      "\n",
      "   Polio  Total expenditure  Diphtheria    HIV/AIDS         GDP  Population  \\\n",
      "0    6.0               8.16         65.0        0.1  584.259210  33736494.0   \n",
      "1   58.0               8.18         62.0        0.1  612.696514    327582.0   \n",
      "2   62.0               8.13         64.0        0.1  631.744976  31731688.0   \n",
      "3   67.0               8.52         67.0        0.1  669.959000   3696958.0   \n",
      "4   68.0               7.87         68.0        0.1   63.537231   2978599.0   \n",
      "\n",
      "    thinness  1-19 years   thinness 5-9 years  \\\n",
      "0                   17.2                 17.3   \n",
      "1                   17.5                 17.5   \n",
      "2                   17.7                 17.7   \n",
      "3                   17.9                 18.0   \n",
      "4                   18.2                 18.2   \n",
      "\n",
      "   Income composition of resources  Schooling  \n",
      "0                            0.479       10.1  \n",
      "1                            0.476       10.0  \n",
      "2                            0.470        9.9  \n",
      "3                            0.463        9.8  \n",
      "4                            0.454        9.5  \n",
      "\n",
      "[5 rows x 22 columns]\n",
      "       Country  Year      Status  Life expectancy   Adult Mortality  \\\n",
      "2933  Zimbabwe  2004  Developing              44.3            723.0   \n",
      "2934  Zimbabwe  2003  Developing              44.5            715.0   \n",
      "2935  Zimbabwe  2002  Developing              44.8             73.0   \n",
      "2936  Zimbabwe  2001  Developing              45.3            686.0   \n",
      "2937  Zimbabwe  2000  Developing              46.0            665.0   \n",
      "\n",
      "      infant deaths  Alcohol  percentage expenditure  Hepatitis B  Measles   \\\n",
      "2933             27     4.36                     0.0         68.0        31   \n",
      "2934             26     4.06                     0.0          7.0       998   \n",
      "2935             25     4.43                     0.0         73.0       304   \n",
      "2936             25     1.72                     0.0         76.0       529   \n",
      "2937             24     1.68                     0.0         79.0      1483   \n",
      "\n",
      "      ...  Polio  Total expenditure  Diphtheria    HIV/AIDS         GDP  \\\n",
      "2933  ...   67.0               7.13         65.0       33.6  454.366654   \n",
      "2934  ...    7.0               6.52         68.0       36.7  453.351155   \n",
      "2935  ...   73.0               6.53         71.0       39.8   57.348340   \n",
      "2936  ...   76.0               6.16         75.0       42.1  548.587312   \n",
      "2937  ...   78.0               7.10         78.0       43.5  547.358879   \n",
      "\n",
      "      Population   thinness  1-19 years   thinness 5-9 years  \\\n",
      "2933  12777511.0                    9.4                  9.4   \n",
      "2934  12633897.0                    9.8                  9.9   \n",
      "2935    125525.0                    1.2                  1.3   \n",
      "2936  12366165.0                    1.6                  1.7   \n",
      "2937  12222251.0                   11.0                 11.2   \n",
      "\n",
      "      Income composition of resources  Schooling  \n",
      "2933                            0.407        9.2  \n",
      "2934                            0.418        9.5  \n",
      "2935                            0.427       10.0  \n",
      "2936                            0.427        9.8  \n",
      "2937                            0.434        9.8  \n",
      "\n",
      "[5 rows x 22 columns]\n"
     ]
    }
   ],
   "source": [
    "df = pd.read_csv('howlongwelive.csv',delimiter=',')\n",
    "print(df.head())\n",
    "print(df.tail())"
   ]
  },
  {
   "cell_type": "markdown",
   "metadata": {},
   "source": [
    "2. Print the shape, feature names, and summary (describe) of the data (1 or 0pt)"
   ]
  },
  {
   "cell_type": "code",
   "execution_count": 282,
   "metadata": {},
   "outputs": [
    {
     "name": "stdout",
     "output_type": "stream",
     "text": [
      "============================== shape ==============================\n",
      "(2938, 22)\n",
      "============================== describe ==============================\n",
      "              Year  Life expectancy   Adult Mortality  infant deaths  \\\n",
      "count  2938.000000       2928.000000      2928.000000    2938.000000   \n",
      "mean   2007.518720         69.224932       164.796448      30.303948   \n",
      "std       4.613841          9.523867       124.292079     117.926501   \n",
      "min    2000.000000         36.300000         1.000000       0.000000   \n",
      "25%    2004.000000         63.100000        74.000000       0.000000   \n",
      "50%    2008.000000         72.100000       144.000000       3.000000   \n",
      "75%    2012.000000         75.700000       228.000000      22.000000   \n",
      "max    2015.000000         89.000000       723.000000    1800.000000   \n",
      "\n",
      "           Alcohol  percentage expenditure  Hepatitis B       Measles   \\\n",
      "count  2744.000000             2938.000000  2385.000000    2938.000000   \n",
      "mean      4.602861              738.251295    80.940461    2419.592240   \n",
      "std       4.052413             1987.914858    25.070016   11467.272489   \n",
      "min       0.010000                0.000000     1.000000       0.000000   \n",
      "25%       0.877500                4.685343    77.000000       0.000000   \n",
      "50%       3.755000               64.912906    92.000000      17.000000   \n",
      "75%       7.702500              441.534144    97.000000     360.250000   \n",
      "max      17.870000            19479.911610    99.000000  212183.000000   \n",
      "\n",
      "              BMI   under-five deaths         Polio  Total expenditure  \\\n",
      "count  2904.000000         2938.000000  2919.000000         2712.00000   \n",
      "mean     38.321247           42.035739    82.550188            5.93819   \n",
      "std      20.044034          160.445548    23.428046            2.49832   \n",
      "min       1.000000            0.000000     3.000000            0.37000   \n",
      "25%      19.300000            0.000000    78.000000            4.26000   \n",
      "50%      43.500000            4.000000    93.000000            5.75500   \n",
      "75%      56.200000           28.000000    97.000000            7.49250   \n",
      "max      87.300000         2500.000000    99.000000           17.60000   \n",
      "\n",
      "       Diphtheria      HIV/AIDS            GDP    Population  \\\n",
      "count  2919.000000  2938.000000    2490.000000  2.286000e+03   \n",
      "mean     82.324084     1.742103    7483.158469  1.275338e+07   \n",
      "std      23.716912     5.077785   14270.169342  6.101210e+07   \n",
      "min       2.000000     0.100000       1.681350  3.400000e+01   \n",
      "25%      78.000000     0.100000     463.935626  1.957932e+05   \n",
      "50%      93.000000     0.100000    1766.947595  1.386542e+06   \n",
      "75%      97.000000     0.800000    5910.806335  7.420359e+06   \n",
      "max      99.000000    50.600000  119172.741800  1.293859e+09   \n",
      "\n",
      "        thinness  1-19 years   thinness 5-9 years  \\\n",
      "count            2904.000000          2904.000000   \n",
      "mean                4.839704             4.870317   \n",
      "std                 4.420195             4.508882   \n",
      "min                 0.100000             0.100000   \n",
      "25%                 1.600000             1.500000   \n",
      "50%                 3.300000             3.300000   \n",
      "75%                 7.200000             7.200000   \n",
      "max                27.700000            28.600000   \n",
      "\n",
      "       Income composition of resources    Schooling  \n",
      "count                      2771.000000  2775.000000  \n",
      "mean                          0.627551    11.992793  \n",
      "std                           0.210904     3.358920  \n",
      "min                           0.000000     0.000000  \n",
      "25%                           0.493000    10.100000  \n",
      "50%                           0.677000    12.300000  \n",
      "75%                           0.779000    14.300000  \n",
      "max                           0.948000    20.700000  \n",
      "============================== columns ==============================\n",
      "Index(['Country', 'Year', 'Status', 'Life expectancy ', 'Adult Mortality',\n",
      "       'infant deaths', 'Alcohol', 'percentage expenditure', 'Hepatitis B',\n",
      "       'Measles ', ' BMI ', 'under-five deaths ', 'Polio', 'Total expenditure',\n",
      "       'Diphtheria ', ' HIV/AIDS', 'GDP', 'Population',\n",
      "       ' thinness  1-19 years', ' thinness 5-9 years',\n",
      "       'Income composition of resources', 'Schooling'],\n",
      "      dtype='object')\n"
     ]
    }
   ],
   "source": [
    "print(\"=\"*30,'shape',\"=\"*30)\n",
    "print(df.shape)\n",
    "print(\"=\"*30,'describe',\"=\"*30)\n",
    "print(df.describe())\n",
    "print(\"=\"*30,'columns',\"=\"*30)\n",
    "print(df.columns)"
   ]
  },
  {
   "cell_type": "markdown",
   "metadata": {},
   "source": [
    "3. Check whether there is missing data. (1 or 0pt)"
   ]
  },
  {
   "cell_type": "code",
   "execution_count": 283,
   "metadata": {},
   "outputs": [
    {
     "data": {
      "text/plain": [
       "Country                              0\n",
       "Year                                 0\n",
       "Status                               0\n",
       "Life expectancy                     10\n",
       "Adult Mortality                     10\n",
       "infant deaths                        0\n",
       "Alcohol                            194\n",
       "percentage expenditure               0\n",
       "Hepatitis B                        553\n",
       "Measles                              0\n",
       " BMI                                34\n",
       "under-five deaths                    0\n",
       "Polio                               19\n",
       "Total expenditure                  226\n",
       "Diphtheria                          19\n",
       " HIV/AIDS                            0\n",
       "GDP                                448\n",
       "Population                         652\n",
       " thinness  1-19 years               34\n",
       " thinness 5-9 years                 34\n",
       "Income composition of resources    167\n",
       "Schooling                          163\n",
       "dtype: int64"
      ]
     },
     "execution_count": 283,
     "metadata": {},
     "output_type": "execute_result"
    }
   ],
   "source": [
    "# missing data\n",
    "df.isnull().sum()"
   ]
  },
  {
   "cell_type": "markdown",
   "metadata": {},
   "source": [
    "4. Fix all missing data using means or mode (1 or 0pt)  "
   ]
  },
  {
   "cell_type": "code",
   "execution_count": 284,
   "metadata": {},
   "outputs": [
    {
     "data": {
      "text/plain": [
       "Country                            0\n",
       "Year                               0\n",
       "Status                             0\n",
       "Life expectancy                    0\n",
       "Adult Mortality                    0\n",
       "infant deaths                      0\n",
       "Alcohol                            0\n",
       "percentage expenditure             0\n",
       "Hepatitis B                        0\n",
       "Measles                            0\n",
       " BMI                               0\n",
       "under-five deaths                  0\n",
       "Polio                              0\n",
       "Total expenditure                  0\n",
       "Diphtheria                         0\n",
       " HIV/AIDS                          0\n",
       "GDP                                0\n",
       "Population                         0\n",
       " thinness  1-19 years              0\n",
       " thinness 5-9 years                0\n",
       "Income composition of resources    0\n",
       "Schooling                          0\n",
       "dtype: int64"
      ]
     },
     "execution_count": 284,
     "metadata": {},
     "output_type": "execute_result"
    }
   ],
   "source": [
    "df['Life expectancy '].fillna(df['Life expectancy '].mean(),inplace=True)\n",
    "df['Adult Mortality'].fillna(df['Adult Mortality'].mean(),inplace=True)\n",
    "df['Alcohol'].fillna(df['Alcohol'].mean(),inplace=True)\n",
    "df['Hepatitis B'].fillna(df['Hepatitis B'].mean(),inplace=True)\n",
    "df[' BMI '].fillna(df[' BMI '].mean(),inplace=True)\n",
    "df['Polio'].fillna(df['Polio'].mean(),inplace=True)\n",
    "df['Total expenditure'].fillna(df['Total expenditure'].mean(),inplace=True)\n",
    "df['Diphtheria '].fillna(df['Diphtheria '].mean(),inplace=True)\n",
    "df['GDP'].fillna(df['GDP'].mean(),inplace=True)\n",
    "df['Population'].fillna(df['Population'].mean(),inplace=True)\n",
    "df[' thinness  1-19 years'].fillna(df[' thinness  1-19 years'].mean(),inplace=True)\n",
    "df[' thinness 5-9 years'].fillna(df[' thinness 5-9 years'].mean(),inplace=True)\n",
    "df['Income composition of resources'].fillna(df['Income composition of resources'].mean(),inplace=True)\n",
    "df['Schooling'].fillna(df['Schooling'].mean(),inplace=True)\n",
    "df.isnull().sum()"
   ]
  },
  {
   "cell_type": "markdown",
   "metadata": {},
   "source": [
    "5. Since Hepatatis B has a lot of nans, and highly correlate with Diptheria, simply drop column Hepatatis.  Also drop column Population since there are way too many nans (1 or 0pt)"
   ]
  },
  {
   "cell_type": "code",
   "execution_count": 285,
   "metadata": {},
   "outputs": [
    {
     "data": {
      "text/html": [
       "<div>\n",
       "<style scoped>\n",
       "    .dataframe tbody tr th:only-of-type {\n",
       "        vertical-align: middle;\n",
       "    }\n",
       "\n",
       "    .dataframe tbody tr th {\n",
       "        vertical-align: top;\n",
       "    }\n",
       "\n",
       "    .dataframe thead th {\n",
       "        text-align: right;\n",
       "    }\n",
       "</style>\n",
       "<table border=\"1\" class=\"dataframe\">\n",
       "  <thead>\n",
       "    <tr style=\"text-align: right;\">\n",
       "      <th></th>\n",
       "      <th>Country</th>\n",
       "      <th>Year</th>\n",
       "      <th>Status</th>\n",
       "      <th>Life expectancy</th>\n",
       "      <th>Adult Mortality</th>\n",
       "      <th>infant deaths</th>\n",
       "      <th>Alcohol</th>\n",
       "      <th>percentage expenditure</th>\n",
       "      <th>Measles</th>\n",
       "      <th>BMI</th>\n",
       "      <th>...</th>\n",
       "      <th>Polio</th>\n",
       "      <th>Total expenditure</th>\n",
       "      <th>Diphtheria</th>\n",
       "      <th>HIV/AIDS</th>\n",
       "      <th>GDP</th>\n",
       "      <th>Population</th>\n",
       "      <th>thinness  1-19 years</th>\n",
       "      <th>thinness 5-9 years</th>\n",
       "      <th>Income composition of resources</th>\n",
       "      <th>Schooling</th>\n",
       "    </tr>\n",
       "  </thead>\n",
       "  <tbody>\n",
       "    <tr>\n",
       "      <th>0</th>\n",
       "      <td>Afghanistan</td>\n",
       "      <td>2015</td>\n",
       "      <td>Developing</td>\n",
       "      <td>65.0</td>\n",
       "      <td>263.0</td>\n",
       "      <td>62</td>\n",
       "      <td>0.01</td>\n",
       "      <td>71.279624</td>\n",
       "      <td>1154</td>\n",
       "      <td>19.1</td>\n",
       "      <td>...</td>\n",
       "      <td>6.0</td>\n",
       "      <td>8.16</td>\n",
       "      <td>65.0</td>\n",
       "      <td>0.1</td>\n",
       "      <td>584.259210</td>\n",
       "      <td>33736494.0</td>\n",
       "      <td>17.2</td>\n",
       "      <td>17.3</td>\n",
       "      <td>0.479</td>\n",
       "      <td>10.1</td>\n",
       "    </tr>\n",
       "    <tr>\n",
       "      <th>1</th>\n",
       "      <td>Afghanistan</td>\n",
       "      <td>2014</td>\n",
       "      <td>Developing</td>\n",
       "      <td>59.9</td>\n",
       "      <td>271.0</td>\n",
       "      <td>64</td>\n",
       "      <td>0.01</td>\n",
       "      <td>73.523582</td>\n",
       "      <td>492</td>\n",
       "      <td>18.6</td>\n",
       "      <td>...</td>\n",
       "      <td>58.0</td>\n",
       "      <td>8.18</td>\n",
       "      <td>62.0</td>\n",
       "      <td>0.1</td>\n",
       "      <td>612.696514</td>\n",
       "      <td>327582.0</td>\n",
       "      <td>17.5</td>\n",
       "      <td>17.5</td>\n",
       "      <td>0.476</td>\n",
       "      <td>10.0</td>\n",
       "    </tr>\n",
       "    <tr>\n",
       "      <th>2</th>\n",
       "      <td>Afghanistan</td>\n",
       "      <td>2013</td>\n",
       "      <td>Developing</td>\n",
       "      <td>59.9</td>\n",
       "      <td>268.0</td>\n",
       "      <td>66</td>\n",
       "      <td>0.01</td>\n",
       "      <td>73.219243</td>\n",
       "      <td>430</td>\n",
       "      <td>18.1</td>\n",
       "      <td>...</td>\n",
       "      <td>62.0</td>\n",
       "      <td>8.13</td>\n",
       "      <td>64.0</td>\n",
       "      <td>0.1</td>\n",
       "      <td>631.744976</td>\n",
       "      <td>31731688.0</td>\n",
       "      <td>17.7</td>\n",
       "      <td>17.7</td>\n",
       "      <td>0.470</td>\n",
       "      <td>9.9</td>\n",
       "    </tr>\n",
       "    <tr>\n",
       "      <th>3</th>\n",
       "      <td>Afghanistan</td>\n",
       "      <td>2012</td>\n",
       "      <td>Developing</td>\n",
       "      <td>59.5</td>\n",
       "      <td>272.0</td>\n",
       "      <td>69</td>\n",
       "      <td>0.01</td>\n",
       "      <td>78.184215</td>\n",
       "      <td>2787</td>\n",
       "      <td>17.6</td>\n",
       "      <td>...</td>\n",
       "      <td>67.0</td>\n",
       "      <td>8.52</td>\n",
       "      <td>67.0</td>\n",
       "      <td>0.1</td>\n",
       "      <td>669.959000</td>\n",
       "      <td>3696958.0</td>\n",
       "      <td>17.9</td>\n",
       "      <td>18.0</td>\n",
       "      <td>0.463</td>\n",
       "      <td>9.8</td>\n",
       "    </tr>\n",
       "    <tr>\n",
       "      <th>4</th>\n",
       "      <td>Afghanistan</td>\n",
       "      <td>2011</td>\n",
       "      <td>Developing</td>\n",
       "      <td>59.2</td>\n",
       "      <td>275.0</td>\n",
       "      <td>71</td>\n",
       "      <td>0.01</td>\n",
       "      <td>7.097109</td>\n",
       "      <td>3013</td>\n",
       "      <td>17.2</td>\n",
       "      <td>...</td>\n",
       "      <td>68.0</td>\n",
       "      <td>7.87</td>\n",
       "      <td>68.0</td>\n",
       "      <td>0.1</td>\n",
       "      <td>63.537231</td>\n",
       "      <td>2978599.0</td>\n",
       "      <td>18.2</td>\n",
       "      <td>18.2</td>\n",
       "      <td>0.454</td>\n",
       "      <td>9.5</td>\n",
       "    </tr>\n",
       "    <tr>\n",
       "      <th>...</th>\n",
       "      <td>...</td>\n",
       "      <td>...</td>\n",
       "      <td>...</td>\n",
       "      <td>...</td>\n",
       "      <td>...</td>\n",
       "      <td>...</td>\n",
       "      <td>...</td>\n",
       "      <td>...</td>\n",
       "      <td>...</td>\n",
       "      <td>...</td>\n",
       "      <td>...</td>\n",
       "      <td>...</td>\n",
       "      <td>...</td>\n",
       "      <td>...</td>\n",
       "      <td>...</td>\n",
       "      <td>...</td>\n",
       "      <td>...</td>\n",
       "      <td>...</td>\n",
       "      <td>...</td>\n",
       "      <td>...</td>\n",
       "      <td>...</td>\n",
       "    </tr>\n",
       "    <tr>\n",
       "      <th>2933</th>\n",
       "      <td>Zimbabwe</td>\n",
       "      <td>2004</td>\n",
       "      <td>Developing</td>\n",
       "      <td>44.3</td>\n",
       "      <td>723.0</td>\n",
       "      <td>27</td>\n",
       "      <td>4.36</td>\n",
       "      <td>0.000000</td>\n",
       "      <td>31</td>\n",
       "      <td>27.1</td>\n",
       "      <td>...</td>\n",
       "      <td>67.0</td>\n",
       "      <td>7.13</td>\n",
       "      <td>65.0</td>\n",
       "      <td>33.6</td>\n",
       "      <td>454.366654</td>\n",
       "      <td>12777511.0</td>\n",
       "      <td>9.4</td>\n",
       "      <td>9.4</td>\n",
       "      <td>0.407</td>\n",
       "      <td>9.2</td>\n",
       "    </tr>\n",
       "    <tr>\n",
       "      <th>2934</th>\n",
       "      <td>Zimbabwe</td>\n",
       "      <td>2003</td>\n",
       "      <td>Developing</td>\n",
       "      <td>44.5</td>\n",
       "      <td>715.0</td>\n",
       "      <td>26</td>\n",
       "      <td>4.06</td>\n",
       "      <td>0.000000</td>\n",
       "      <td>998</td>\n",
       "      <td>26.7</td>\n",
       "      <td>...</td>\n",
       "      <td>7.0</td>\n",
       "      <td>6.52</td>\n",
       "      <td>68.0</td>\n",
       "      <td>36.7</td>\n",
       "      <td>453.351155</td>\n",
       "      <td>12633897.0</td>\n",
       "      <td>9.8</td>\n",
       "      <td>9.9</td>\n",
       "      <td>0.418</td>\n",
       "      <td>9.5</td>\n",
       "    </tr>\n",
       "    <tr>\n",
       "      <th>2935</th>\n",
       "      <td>Zimbabwe</td>\n",
       "      <td>2002</td>\n",
       "      <td>Developing</td>\n",
       "      <td>44.8</td>\n",
       "      <td>73.0</td>\n",
       "      <td>25</td>\n",
       "      <td>4.43</td>\n",
       "      <td>0.000000</td>\n",
       "      <td>304</td>\n",
       "      <td>26.3</td>\n",
       "      <td>...</td>\n",
       "      <td>73.0</td>\n",
       "      <td>6.53</td>\n",
       "      <td>71.0</td>\n",
       "      <td>39.8</td>\n",
       "      <td>57.348340</td>\n",
       "      <td>125525.0</td>\n",
       "      <td>1.2</td>\n",
       "      <td>1.3</td>\n",
       "      <td>0.427</td>\n",
       "      <td>10.0</td>\n",
       "    </tr>\n",
       "    <tr>\n",
       "      <th>2936</th>\n",
       "      <td>Zimbabwe</td>\n",
       "      <td>2001</td>\n",
       "      <td>Developing</td>\n",
       "      <td>45.3</td>\n",
       "      <td>686.0</td>\n",
       "      <td>25</td>\n",
       "      <td>1.72</td>\n",
       "      <td>0.000000</td>\n",
       "      <td>529</td>\n",
       "      <td>25.9</td>\n",
       "      <td>...</td>\n",
       "      <td>76.0</td>\n",
       "      <td>6.16</td>\n",
       "      <td>75.0</td>\n",
       "      <td>42.1</td>\n",
       "      <td>548.587312</td>\n",
       "      <td>12366165.0</td>\n",
       "      <td>1.6</td>\n",
       "      <td>1.7</td>\n",
       "      <td>0.427</td>\n",
       "      <td>9.8</td>\n",
       "    </tr>\n",
       "    <tr>\n",
       "      <th>2937</th>\n",
       "      <td>Zimbabwe</td>\n",
       "      <td>2000</td>\n",
       "      <td>Developing</td>\n",
       "      <td>46.0</td>\n",
       "      <td>665.0</td>\n",
       "      <td>24</td>\n",
       "      <td>1.68</td>\n",
       "      <td>0.000000</td>\n",
       "      <td>1483</td>\n",
       "      <td>25.5</td>\n",
       "      <td>...</td>\n",
       "      <td>78.0</td>\n",
       "      <td>7.10</td>\n",
       "      <td>78.0</td>\n",
       "      <td>43.5</td>\n",
       "      <td>547.358879</td>\n",
       "      <td>12222251.0</td>\n",
       "      <td>11.0</td>\n",
       "      <td>11.2</td>\n",
       "      <td>0.434</td>\n",
       "      <td>9.8</td>\n",
       "    </tr>\n",
       "  </tbody>\n",
       "</table>\n",
       "<p>2938 rows × 21 columns</p>\n",
       "</div>"
      ],
      "text/plain": [
       "          Country  Year      Status  Life expectancy   Adult Mortality  \\\n",
       "0     Afghanistan  2015  Developing              65.0            263.0   \n",
       "1     Afghanistan  2014  Developing              59.9            271.0   \n",
       "2     Afghanistan  2013  Developing              59.9            268.0   \n",
       "3     Afghanistan  2012  Developing              59.5            272.0   \n",
       "4     Afghanistan  2011  Developing              59.2            275.0   \n",
       "...           ...   ...         ...               ...              ...   \n",
       "2933     Zimbabwe  2004  Developing              44.3            723.0   \n",
       "2934     Zimbabwe  2003  Developing              44.5            715.0   \n",
       "2935     Zimbabwe  2002  Developing              44.8             73.0   \n",
       "2936     Zimbabwe  2001  Developing              45.3            686.0   \n",
       "2937     Zimbabwe  2000  Developing              46.0            665.0   \n",
       "\n",
       "      infant deaths  Alcohol  percentage expenditure  Measles    BMI   ...  \\\n",
       "0                62     0.01               71.279624      1154   19.1  ...   \n",
       "1                64     0.01               73.523582       492   18.6  ...   \n",
       "2                66     0.01               73.219243       430   18.1  ...   \n",
       "3                69     0.01               78.184215      2787   17.6  ...   \n",
       "4                71     0.01                7.097109      3013   17.2  ...   \n",
       "...             ...      ...                     ...       ...    ...  ...   \n",
       "2933             27     4.36                0.000000        31   27.1  ...   \n",
       "2934             26     4.06                0.000000       998   26.7  ...   \n",
       "2935             25     4.43                0.000000       304   26.3  ...   \n",
       "2936             25     1.72                0.000000       529   25.9  ...   \n",
       "2937             24     1.68                0.000000      1483   25.5  ...   \n",
       "\n",
       "      Polio  Total expenditure  Diphtheria    HIV/AIDS         GDP  \\\n",
       "0       6.0               8.16         65.0        0.1  584.259210   \n",
       "1      58.0               8.18         62.0        0.1  612.696514   \n",
       "2      62.0               8.13         64.0        0.1  631.744976   \n",
       "3      67.0               8.52         67.0        0.1  669.959000   \n",
       "4      68.0               7.87         68.0        0.1   63.537231   \n",
       "...     ...                ...          ...        ...         ...   \n",
       "2933   67.0               7.13         65.0       33.6  454.366654   \n",
       "2934    7.0               6.52         68.0       36.7  453.351155   \n",
       "2935   73.0               6.53         71.0       39.8   57.348340   \n",
       "2936   76.0               6.16         75.0       42.1  548.587312   \n",
       "2937   78.0               7.10         78.0       43.5  547.358879   \n",
       "\n",
       "      Population   thinness  1-19 years   thinness 5-9 years  \\\n",
       "0     33736494.0                   17.2                 17.3   \n",
       "1       327582.0                   17.5                 17.5   \n",
       "2     31731688.0                   17.7                 17.7   \n",
       "3      3696958.0                   17.9                 18.0   \n",
       "4      2978599.0                   18.2                 18.2   \n",
       "...          ...                    ...                  ...   \n",
       "2933  12777511.0                    9.4                  9.4   \n",
       "2934  12633897.0                    9.8                  9.9   \n",
       "2935    125525.0                    1.2                  1.3   \n",
       "2936  12366165.0                    1.6                  1.7   \n",
       "2937  12222251.0                   11.0                 11.2   \n",
       "\n",
       "      Income composition of resources  Schooling  \n",
       "0                               0.479       10.1  \n",
       "1                               0.476       10.0  \n",
       "2                               0.470        9.9  \n",
       "3                               0.463        9.8  \n",
       "4                               0.454        9.5  \n",
       "...                               ...        ...  \n",
       "2933                            0.407        9.2  \n",
       "2934                            0.418        9.5  \n",
       "2935                            0.427       10.0  \n",
       "2936                            0.427        9.8  \n",
       "2937                            0.434        9.8  \n",
       "\n",
       "[2938 rows x 21 columns]"
      ]
     },
     "execution_count": 285,
     "metadata": {},
     "output_type": "execute_result"
    }
   ],
   "source": [
    "df.drop(columns = 'Population')\n",
    "df.drop(columns = 'Hepatitis B')"
   ]
  },
  {
   "cell_type": "markdown",
   "metadata": {},
   "source": [
    "6. If there are any features which are string and you want to use them as features, we need to convert them to int or float.  For now, convert <code>Status</code> to 0 or 1 (1 or 0pt)"
   ]
  },
  {
   "cell_type": "code",
   "execution_count": 286,
   "metadata": {},
   "outputs": [],
   "source": [
    "ixd_1 = np.where(df['Status'] == 'Developed')\n",
    "ixd_0 = np.where(df['Status']== 'Developing')\n",
    "for i in ixd_1:\n",
    "    df.iloc[i,2] = 1\n",
    "for i in ixd_0:\n",
    "    df.iloc[i,2] = 0"
   ]
  },
  {
   "cell_type": "markdown",
   "metadata": {},
   "source": [
    "7. Rename column <code>thinness_1-19_years</code> to <code>thinness_10-19_years</code> (1 or 0pt)"
   ]
  },
  {
   "cell_type": "code",
   "execution_count": 287,
   "metadata": {},
   "outputs": [
    {
     "data": {
      "text/html": [
       "<div>\n",
       "<style scoped>\n",
       "    .dataframe tbody tr th:only-of-type {\n",
       "        vertical-align: middle;\n",
       "    }\n",
       "\n",
       "    .dataframe tbody tr th {\n",
       "        vertical-align: top;\n",
       "    }\n",
       "\n",
       "    .dataframe thead th {\n",
       "        text-align: right;\n",
       "    }\n",
       "</style>\n",
       "<table border=\"1\" class=\"dataframe\">\n",
       "  <thead>\n",
       "    <tr style=\"text-align: right;\">\n",
       "      <th></th>\n",
       "      <th>Country</th>\n",
       "      <th>Year</th>\n",
       "      <th>Status</th>\n",
       "      <th>Life expectancy</th>\n",
       "      <th>Adult Mortality</th>\n",
       "      <th>infant deaths</th>\n",
       "      <th>Alcohol</th>\n",
       "      <th>percentage expenditure</th>\n",
       "      <th>Hepatitis B</th>\n",
       "      <th>Measles</th>\n",
       "      <th>...</th>\n",
       "      <th>Polio</th>\n",
       "      <th>Total expenditure</th>\n",
       "      <th>Diphtheria</th>\n",
       "      <th>HIV/AIDS</th>\n",
       "      <th>GDP</th>\n",
       "      <th>Population</th>\n",
       "      <th>thinness  1-19 years</th>\n",
       "      <th>thinness 5-9 years</th>\n",
       "      <th>Income composition of resources</th>\n",
       "      <th>Schooling</th>\n",
       "    </tr>\n",
       "  </thead>\n",
       "  <tbody>\n",
       "    <tr>\n",
       "      <th>0</th>\n",
       "      <td>Afghanistan</td>\n",
       "      <td>2015</td>\n",
       "      <td>0</td>\n",
       "      <td>65.0</td>\n",
       "      <td>263.0</td>\n",
       "      <td>62</td>\n",
       "      <td>0.01</td>\n",
       "      <td>71.279624</td>\n",
       "      <td>65.0</td>\n",
       "      <td>1154</td>\n",
       "      <td>...</td>\n",
       "      <td>6.0</td>\n",
       "      <td>8.16</td>\n",
       "      <td>65.0</td>\n",
       "      <td>0.1</td>\n",
       "      <td>584.259210</td>\n",
       "      <td>33736494.0</td>\n",
       "      <td>17.2</td>\n",
       "      <td>17.3</td>\n",
       "      <td>0.479</td>\n",
       "      <td>10.1</td>\n",
       "    </tr>\n",
       "    <tr>\n",
       "      <th>1</th>\n",
       "      <td>Afghanistan</td>\n",
       "      <td>2014</td>\n",
       "      <td>0</td>\n",
       "      <td>59.9</td>\n",
       "      <td>271.0</td>\n",
       "      <td>64</td>\n",
       "      <td>0.01</td>\n",
       "      <td>73.523582</td>\n",
       "      <td>62.0</td>\n",
       "      <td>492</td>\n",
       "      <td>...</td>\n",
       "      <td>58.0</td>\n",
       "      <td>8.18</td>\n",
       "      <td>62.0</td>\n",
       "      <td>0.1</td>\n",
       "      <td>612.696514</td>\n",
       "      <td>327582.0</td>\n",
       "      <td>17.5</td>\n",
       "      <td>17.5</td>\n",
       "      <td>0.476</td>\n",
       "      <td>10.0</td>\n",
       "    </tr>\n",
       "    <tr>\n",
       "      <th>2</th>\n",
       "      <td>Afghanistan</td>\n",
       "      <td>2013</td>\n",
       "      <td>0</td>\n",
       "      <td>59.9</td>\n",
       "      <td>268.0</td>\n",
       "      <td>66</td>\n",
       "      <td>0.01</td>\n",
       "      <td>73.219243</td>\n",
       "      <td>64.0</td>\n",
       "      <td>430</td>\n",
       "      <td>...</td>\n",
       "      <td>62.0</td>\n",
       "      <td>8.13</td>\n",
       "      <td>64.0</td>\n",
       "      <td>0.1</td>\n",
       "      <td>631.744976</td>\n",
       "      <td>31731688.0</td>\n",
       "      <td>17.7</td>\n",
       "      <td>17.7</td>\n",
       "      <td>0.470</td>\n",
       "      <td>9.9</td>\n",
       "    </tr>\n",
       "    <tr>\n",
       "      <th>3</th>\n",
       "      <td>Afghanistan</td>\n",
       "      <td>2012</td>\n",
       "      <td>0</td>\n",
       "      <td>59.5</td>\n",
       "      <td>272.0</td>\n",
       "      <td>69</td>\n",
       "      <td>0.01</td>\n",
       "      <td>78.184215</td>\n",
       "      <td>67.0</td>\n",
       "      <td>2787</td>\n",
       "      <td>...</td>\n",
       "      <td>67.0</td>\n",
       "      <td>8.52</td>\n",
       "      <td>67.0</td>\n",
       "      <td>0.1</td>\n",
       "      <td>669.959000</td>\n",
       "      <td>3696958.0</td>\n",
       "      <td>17.9</td>\n",
       "      <td>18.0</td>\n",
       "      <td>0.463</td>\n",
       "      <td>9.8</td>\n",
       "    </tr>\n",
       "    <tr>\n",
       "      <th>4</th>\n",
       "      <td>Afghanistan</td>\n",
       "      <td>2011</td>\n",
       "      <td>0</td>\n",
       "      <td>59.2</td>\n",
       "      <td>275.0</td>\n",
       "      <td>71</td>\n",
       "      <td>0.01</td>\n",
       "      <td>7.097109</td>\n",
       "      <td>68.0</td>\n",
       "      <td>3013</td>\n",
       "      <td>...</td>\n",
       "      <td>68.0</td>\n",
       "      <td>7.87</td>\n",
       "      <td>68.0</td>\n",
       "      <td>0.1</td>\n",
       "      <td>63.537231</td>\n",
       "      <td>2978599.0</td>\n",
       "      <td>18.2</td>\n",
       "      <td>18.2</td>\n",
       "      <td>0.454</td>\n",
       "      <td>9.5</td>\n",
       "    </tr>\n",
       "  </tbody>\n",
       "</table>\n",
       "<p>5 rows × 22 columns</p>\n",
       "</div>"
      ],
      "text/plain": [
       "       Country  Year Status  Life expectancy   Adult Mortality  infant deaths  \\\n",
       "0  Afghanistan  2015      0              65.0            263.0             62   \n",
       "1  Afghanistan  2014      0              59.9            271.0             64   \n",
       "2  Afghanistan  2013      0              59.9            268.0             66   \n",
       "3  Afghanistan  2012      0              59.5            272.0             69   \n",
       "4  Afghanistan  2011      0              59.2            275.0             71   \n",
       "\n",
       "   Alcohol  percentage expenditure  Hepatitis B  Measles   ...  Polio  \\\n",
       "0     0.01               71.279624         65.0      1154  ...    6.0   \n",
       "1     0.01               73.523582         62.0       492  ...   58.0   \n",
       "2     0.01               73.219243         64.0       430  ...   62.0   \n",
       "3     0.01               78.184215         67.0      2787  ...   67.0   \n",
       "4     0.01                7.097109         68.0      3013  ...   68.0   \n",
       "\n",
       "   Total expenditure  Diphtheria    HIV/AIDS         GDP  Population  \\\n",
       "0               8.16         65.0        0.1  584.259210  33736494.0   \n",
       "1               8.18         62.0        0.1  612.696514    327582.0   \n",
       "2               8.13         64.0        0.1  631.744976  31731688.0   \n",
       "3               8.52         67.0        0.1  669.959000   3696958.0   \n",
       "4               7.87         68.0        0.1   63.537231   2978599.0   \n",
       "\n",
       "    thinness  1-19 years   thinness 5-9 years  \\\n",
       "0                   17.2                 17.3   \n",
       "1                   17.5                 17.5   \n",
       "2                   17.7                 17.7   \n",
       "3                   17.9                 18.0   \n",
       "4                   18.2                 18.2   \n",
       "\n",
       "   Income composition of resources  Schooling  \n",
       "0                            0.479       10.1  \n",
       "1                            0.476       10.0  \n",
       "2                            0.470        9.9  \n",
       "3                            0.463        9.8  \n",
       "4                            0.454        9.5  \n",
       "\n",
       "[5 rows x 22 columns]"
      ]
     },
     "execution_count": 287,
     "metadata": {},
     "output_type": "execute_result"
    }
   ],
   "source": [
    "df.rename(columns={' thinness  1-19 years':' thinness  10-19 years'})\n",
    "df.head()"
   ]
  },
  {
   "cell_type": "markdown",
   "metadata": {},
   "source": [
    "8. Perform a <code>groupby</code> country and plot their life expectancy.  Which country has the lowest/highest life expectancy? (1 or 0pt)"
   ]
  },
  {
   "cell_type": "code",
   "execution_count": 288,
   "metadata": {},
   "outputs": [
    {
     "data": {
      "text/plain": [
       "<AxesSubplot:xlabel='Country'>"
      ]
     },
     "execution_count": 288,
     "metadata": {},
     "output_type": "execute_result"
    },
    {
     "data": {
      "image/png": "[encoded data removed]",
      "text/plain": [
       "<Figure size 432x288 with 1 Axes>"
      ]
     },
     "metadata": {
      "needs_background": "light"
     },
     "output_type": "display_data"
    }
   ],
   "source": [
    "df.groupby('Country')['Life expectancy '].mean().plot.bar()"
   ]
  },
  {
   "cell_type": "code",
   "execution_count": 289,
   "metadata": {},
   "outputs": [
    {
     "name": "stdout",
     "output_type": "stream",
     "text": [
      "Country\n",
      "Japan    82.5375\n",
      "Name: Life expectancy , dtype: float64\n",
      "Country\n",
      "Sierra Leone    46.1125\n",
      "Name: Life expectancy , dtype: float64\n"
     ]
    }
   ],
   "source": [
    "condmax = df.groupby('Country')['Life expectancy '].mean() == df.groupby('Country')['Life expectancy '].mean().max()\n",
    "condmin = df.groupby('Country')['Life expectancy '].mean() == df.groupby('Country')['Life expectancy '].mean().min()\n",
    "print(df.groupby('Country')['Life expectancy '].mean()[condmax])\n",
    "print(df.groupby('Country')['Life expectancy '].mean()[condmin])"
   ]
  },
  {
   "cell_type": "markdown",
   "metadata": {},
   "source": [
    "9. Plot average life expectancy of developed country vs. developing country."
   ]
  },
  {
   "cell_type": "code",
   "execution_count": 290,
   "metadata": {},
   "outputs": [
    {
     "data": {
      "text/plain": [
       "<BarContainer object of 2 artists>"
      ]
     },
     "execution_count": 290,
     "metadata": {},
     "output_type": "execute_result"
    },
    {
     "data": {
      "image/png": "[encoded data removed]",
      "text/plain": [
       "<Figure size 432x288 with 1 Axes>"
      ]
     },
     "metadata": {
      "needs_background": "light"
     },
     "output_type": "display_data"
    }
   ],
   "source": [
    "y = ('developing','developed')\n",
    "x = df.groupby('Status')['Life expectancy '].mean()\n",
    "plt.bar(y,x, width=0.6)"
   ]
  },
  {
   "cell_type": "code",
   "execution_count": 291,
   "metadata": {},
   "outputs": [
    {
     "data": {
      "text/plain": [
       "<matplotlib.legend.Legend at 0x121e70a90>"
      ]
     },
     "execution_count": 291,
     "metadata": {},
     "output_type": "execute_result"
    },
    {
     "data": {
      "image/png": "[encoded data removed]",
      "text/plain": [
       "<Figure size 432x288 with 1 Axes>"
      ]
     },
     "metadata": {
      "needs_background": "light"
     },
     "output_type": "display_data"
    }
   ],
   "source": [
    "developed = df[df['Status'] == 1]\n",
    "developing = df[df['Status'] == 0]\n",
    "developed.groupby('Year')['Life expectancy '].mean().plot(label = 'developed')\n",
    "developing.groupby('Year')['Life expectancy '].mean().plot(label = 'developing')\n",
    "plt.legend()"
   ]
  },
  {
   "cell_type": "markdown",
   "metadata": {},
   "source": [
    "10. Perform a t-test of life expectancy between developed and developing countries.  Is the result significant?"
   ]
  },
  {
   "cell_type": "code",
   "execution_count": 292,
   "metadata": {},
   "outputs": [
    {
     "name": "stdout",
     "output_type": "stream",
     "text": [
      "Ttest_indResult(statistic=-29.805188781530223, pvalue=9.034938663789684e-171)\n"
     ]
    }
   ],
   "source": [
    "from scipy import stats\n",
    "\n",
    "developped = df['Life expectancy '].loc[df['Status'] == 0]\n",
    "developping = df['Life expectancy '].loc[df['Status'] == 1]\n",
    "\n",
    "ind_test = stats.ttest_ind(developped, developping,equal_var = True, nan_policy = 'omit')\n",
    "print(ind_test)"
   ]
  },
  {
   "cell_type": "markdown",
   "metadata": {},
   "source": [
    "11. Perform a <code>pairplot</code> to see which features are likely to have strong predictive power for life expectancy.  Identify the most 3 important features. "
   ]
  },
  {
   "cell_type": "code",
   "execution_count": 293,
   "metadata": {},
   "outputs": [],
   "source": [
    "# # pair plot\n",
    "# #import seaborn as sns\n",
    "# #sns.pairplot(df,hue =\"Life expectancy \",diag_kind='auto')\n",
    "\n",
    "# import seaborn as sns\n",
    "\n",
    "# sns.pairplot(df,kind='reg')"
   ]
  },
  {
   "cell_type": "code",
   "execution_count": 294,
   "metadata": {},
   "outputs": [
    {
     "name": "stdout",
     "output_type": "stream",
     "text": [
      "Population                         0.019638\n",
      "Measles                            0.157574\n",
      "Year                               0.169623\n",
      "infant deaths                      0.196535\n",
      "Hepatitis B                        0.203771\n",
      "Total expenditure                  0.207981\n",
      "under-five deaths                  0.222503\n",
      "percentage expenditure             0.381791\n",
      "Alcohol                            0.391598\n",
      "GDP                                0.430493\n",
      "Polio                              0.461574\n",
      " thinness 5-9 years                0.466629\n",
      " thinness  1-19 years              0.472162\n",
      "Diphtheria                         0.475418\n",
      " HIV/AIDS                          0.556457\n",
      " BMI                               0.559255\n",
      "Income composition of resources    0.692483\n",
      "Adult Mortality                    0.696359\n",
      "Schooling                          0.715066\n",
      "Life expectancy                    1.000000\n",
      "Name: Life expectancy , dtype: float64\n"
     ]
    },
    {
     "data": {
      "text/plain": [
       "<AxesSubplot:>"
      ]
     },
     "execution_count": 294,
     "metadata": {},
     "output_type": "execute_result"
    },
    {
     "data": {
      "image/png": "[encoded data removed]",
      "text/plain": [
       "<Figure size 1440x1440 with 2 Axes>"
      ]
     },
     "metadata": {
      "needs_background": "light"
     },
     "output_type": "display_data"
    }
   ],
   "source": [
    "import seaborn as sns\n",
    "\n",
    "corrmat = df.corr()\n",
    "print(corrmat['Life expectancy '].abs().sort_values())\n",
    "top_corr_features = corrmat.index\n",
    "plt.figure(figsize = (20,20))\n",
    "sns.heatmap(df[top_corr_features].corr(),annot=True)"
   ]
  },
  {
   "cell_type": "markdown",
   "metadata": {},
   "source": [
    "12. Perform a histogram of life expectancy.  Is it normal? "
   ]
  },
  {
   "cell_type": "code",
   "execution_count": 295,
   "metadata": {},
   "outputs": [
    {
     "data": {
      "text/plain": [
       "(array([  4.,  50., 134., 229., 277., 405., 590., 819., 362.,  68.]),\n",
       " array([36.3 , 41.57, 46.84, 52.11, 57.38, 62.65, 67.92, 73.19, 78.46,\n",
       "        83.73, 89.  ]),\n",
       " <BarContainer object of 10 artists>)"
      ]
     },
     "execution_count": 295,
     "metadata": {},
     "output_type": "execute_result"
    },
    {
     "data": {
      "image/png": "[encoded data removed]",
      "text/plain": [
       "<Figure size 432x288 with 1 Axes>"
      ]
     },
     "metadata": {
      "needs_background": "light"
     },
     "output_type": "display_data"
    }
   ],
   "source": [
    "plt.hist(df['Life expectancy '])"
   ]
  },
  {
   "cell_type": "markdown",
   "metadata": {},
   "source": [
    "2). **Regression**\n",
    "- Prepare your <code>X</code> and <code>y</code> into Numpy array (you have to map from Pandas to numpy).  For X, prepare two versions of them.  For first <code>X_selected</code>, you have to choose the most 3 important features from above, and for second <code>X_all</code>, simply use all features (you may want to omit Country since they are categorical). Set <code>y</code> to life expectancy. (1 or 0pt)"
   ]
  },
  {
   "cell_type": "code",
   "execution_count": 296,
   "metadata": {},
   "outputs": [
    {
     "name": "stdout",
     "output_type": "stream",
     "text": [
      "(2938, 3)\n",
      "[[2015    0   65 ...   17    0   10]\n",
      " [2014    0   59 ...   17    0   10]\n",
      " [2013    0   59 ...   17    0    9]\n",
      " ...\n",
      " [2002    0   44 ...    1    0   10]\n",
      " [2001    0   45 ...    1    0    9]\n",
      " [2000    0   46 ...   11    0    9]]\n"
     ]
    }
   ],
   "source": [
    "# Regression\n",
    "\n",
    "X1 = df['Adult Mortality']\n",
    "X2 = df['Schooling']\n",
    "X3 = df['Income composition of resources']\n",
    "\n",
    "\n",
    "X_selection = np.concatenate((np.array(X1).reshape(-1,1),np.array(X2).reshape(-1,1)), axis = 1)\n",
    "X_selection =np.concatenate((X_selection,np.array(X3).reshape(-1,1)),axis=1)\n",
    "print(X_selection.shape)\n",
    "X_all = np.array(df.iloc[:,1:]).astype(int)\n",
    "# print(X_all[1,:])\n",
    "y = np.array(df['Life expectancy '])\n",
    "print(X_all)"
   ]
  },
  {
   "cell_type": "markdown",
   "metadata": {},
   "source": [
    "- Perform standardization using Numpy way (NOT sklearn way). (1 or 0pt)\n"
   ]
  },
  {
   "cell_type": "code",
   "execution_count": 297,
   "metadata": {},
   "outputs": [
    {
     "name": "stdout",
     "output_type": "stream",
     "text": [
      "[[ 0.79158632 -0.57993072 -0.72540055]\n",
      " [ 0.85607167 -0.61056961 -0.74005007]\n",
      " [ 0.83188966 -0.6412085  -0.7693491 ]\n",
      " ...\n",
      " [-0.73994077 -0.61056961 -0.97932554]\n",
      " [ 4.20124926 -0.6718474  -0.97932554]\n",
      " [ 4.03197521 -0.6718474  -0.94514333]]\n",
      "[[ 1.6217623  -0.45939851 -0.40107762 ...  2.80843346         nan\n",
      "  -0.46422416]\n",
      " [ 1.40498625 -0.45939851 -1.03026656 ...  2.80843346         nan\n",
      "  -0.46422416]\n",
      " [ 1.1882102  -0.45939851 -1.03026656 ...  2.80843346         nan\n",
      "  -0.77092319]\n",
      " ...\n",
      " [-1.19632639 -0.45939851 -2.60323893 ... -0.76195923         nan\n",
      "  -0.46422416]\n",
      " [-1.41310244 -0.45939851 -2.49837411 ... -0.76195923         nan\n",
      "  -0.77092319]\n",
      " [-1.62987849 -0.45939851 -2.39350928 ...  1.4695362          nan\n",
      "  -0.77092319]]\n"
     ]
    },
    {
     "name": "stderr",
     "output_type": "stream",
     "text": [
      "/Library/Frameworks/Python.framework/Versions/3.7/lib/python3.7/site-packages/ipykernel_launcher.py:3: RuntimeWarning: invalid value encountered in true_divide\n",
      "  This is separate from the ipykernel package so we can avoid doing imports until\n"
     ]
    }
   ],
   "source": [
    "X_selection = (X_selection-np.mean(X_selection, axis = 0))/np.std(X_selection, axis = 0)\n",
    "print(X_selection)\n",
    "X_all = (X_all-np.mean(X_all, axis = 0))/np.std(X_all, axis = 0)\n",
    "print(X_all)"
   ]
  },
  {
   "cell_type": "markdown",
   "metadata": {},
   "source": [
    "- Perform train-test split by using Numpy way (NOT sklearn way).  Use test size of 0.3.   (1 or 0pt)\n"
   ]
  },
  {
   "cell_type": "code",
   "execution_count": 298,
   "metadata": {},
   "outputs": [],
   "source": [
    "import random\n",
    "m, n = X_all.shape\n",
    "idx = np.arange(0, m)\n",
    "random.shuffle(idx)\n",
    "percent_train = .7\n",
    "m_train = int(m * percent_train)\n",
    "train_idx = idx[0:m_train]\n",
    "test_idx = idx[m_train:]\n",
    "X_sel_train = X_selection[train_idx,:]\n",
    "X_sel_test = X_selection[test_idx,:]\n",
    "X_all_train = X_all[train_idx,:]\n",
    "X_all_test = X_all[test_idx,:]\n",
    "\n",
    "y_train = y[train_idx]\n",
    "y_test = y[test_idx]"
   ]
  },
  {
   "cell_type": "markdown",
   "metadata": {},
   "source": [
    "- Perform assertion whether your splitting is correct accordingly (1 or 0pt)\n"
   ]
  },
  {
   "cell_type": "code",
   "execution_count": 299,
   "metadata": {},
   "outputs": [
    {
     "name": "stdout",
     "output_type": "stream",
     "text": [
      "shapes of X_train, y_train\n",
      "(2056, 21) (2056,)\n",
      "(2056, 3) (2056,)\n",
      "shapes of X_test, y_test\n",
      "(882, 21) (882,)\n",
      "(882, 3) (882,)\n"
     ]
    }
   ],
   "source": [
    "# double check the shapes\n",
    "assert X_all_train.shape[0] == y_train.shape[0]\n",
    "assert X_sel_train.shape[0] == y_train.shape[0]\n",
    "# assert len(X_train)  == len(y_train)\n",
    "assert X_all_test.shape[0] == y_test.shape[0]\n",
    "assert X_sel_test.shape[0] == y_test.shape[0]\n",
    "# assert len(X_test) == len(y_test)\n",
    "\n",
    "print('shapes of X_train, y_train')\n",
    "print(X_all_train.shape,y_train.shape)\n",
    "print(X_sel_train.shape,y_train.shape)\n",
    "print('shapes of X_test, y_test')\n",
    "print(X_all_test.shape,y_test.shape)\n",
    "print(X_sel_test.shape,y_test.shape)"
   ]
  },
  {
   "cell_type": "markdown",
   "metadata": {},
   "source": [
    "- Write a class <code>Regression(X, y, grad_method, max_iter, alpha, tol, decay, decay_iter, decay_rate, stop_delay_counter, verbose, lam, poly, poly_deg)</code> that can perform the followings:\n",
    "    - Mini-batch, Stochastic, and Batch Gradient Descent (each 2pts)\n",
    "    - Polynomial of degree k (2 or 0pt)\n",
    "    - Decay learning rate (1 or 0pt)\n",
    "        - Decay learning rate is a learning rate that becomes smaller after certian iteration. For example, after 5 iterations, the learning rate will reduce to 95% of the current learning rate.\n",
    "        - To implement it, simply multiply current learning rate with some constant <code>decay_rate</code>. For now, set it to 0.9\n",
    "    - Regularization with ridge (2 or 0pt)\n",
    "    - Must have at least four methods for <code>fit()</code> (i.e., for finding weights) <code>predict()</code> (i.e., for predicting X_test data), <code>score()</code> (i.e., for returning $r^2$ score), and <code>mse()</code> (return mse) (each 1pt)\n",
    "    - Accepts <code>X</code>, <code>y</code>, <code>grad_method</code> (default set to \"batch\"), <code>alpha</code> (learning rate), <code>max_iter</code>, <code>tol</code>, <code>decay</code> (whether to use decay learning rate; default set to False), <code>decay_iter</code> (after how many iterations will the decay apply), <code>stop_delay_counter</code> (this is the maximum number of times that decay the learning rate), <code>verbose</code> (default is set to False, whether model will display the Cost for each iteration), <code>lam</code> (this is the ridge regularization parameter), <code>poly</code> (default is set to False), and <code>poly_deg</code> (default is set to 2) (each 1/13pt)\n"
   ]
  },
  {
   "cell_type": "code",
   "execution_count": 300,
   "metadata": {},
   "outputs": [],
   "source": [
    "class Regression:\n",
    "    \n",
    "    def fit(self,X, y, max_iter, alpha, tol=1e-3, grad_method=\"batch\", decay=False, decay_iter=5, decay_rate=0.9, stop_delay_counter=5, verbose=False, lam=10, poly=False, poly_deg=2):\n",
    "        self.X = X\n",
    "#         self.X = self.intercept()\n",
    "        self.poly = poly\n",
    "        self.poly_deg = poly_deg\n",
    "        \n",
    "        if self.poly:\n",
    "            self.X = self.polynomial()\n",
    "            self.X = self.intercept()\n",
    "            self.theta = np.zeros(self.X.shape[1])\n",
    "        else:\n",
    "            self.X = self.intercept()\n",
    "            self.theta = np.zeros(self.X.shape[1])\n",
    "            \n",
    "        self.y = y\n",
    "        self.max_iter = max_iter\n",
    "        self.alpha = alpha\n",
    "        \n",
    "        self.tol = tol\n",
    "        \n",
    "        self.decay = decay\n",
    "        if self.decay:\n",
    "            self.decay_iter = decay_iter\n",
    "            self.decay_rate = decay_rate\n",
    "        else:\n",
    "            self.decay_iter = 0\n",
    "            self.decay_rate = 0         \n",
    "            \n",
    "        self.stop_delay_counter = stop_delay_counter\n",
    "        self.verbose = verbose\n",
    "        self.lam = lam\n",
    "        self.loss_old_train = np.inf\n",
    "        self.iter_stop = 0\n",
    "        \n",
    "        self.grad_method = grad_method\n",
    "        if self.grad_method == \"mini-batch\":\n",
    "            self.gradient_descent_mini()\n",
    "        elif self.grad_method == \"stochastic\":\n",
    "            self.gradient_descent_stochastic()\n",
    "        else:\n",
    "            self.gradient_descent_batch()\n",
    "    \n",
    "    def intercept(self):\n",
    "        intercept = np.ones((self.X.shape[0], 1)) \n",
    "        return np.concatenate((intercept, self.X), axis=1)\n",
    "        \n",
    "    def polynomial(self):\n",
    "        for i in range(1,self.poly_deg):\n",
    "            self.X = np.concatenate((self.X,self.X**(i+1)), axis = 1)\n",
    "        return self.X        \n",
    "\n",
    "    def delta_loss(self,loss_new_train):\n",
    "        return np.abs(loss_new_train - self.loss_old_train) < self.tol\n",
    "    \n",
    "    def decay_lrate(self,i):\n",
    "        return self.alpha * (1.0 / (1.0 + self.decay_rate * (i- self.decay_iter+1)))\n",
    "\n",
    "    def gradient_descent_batch(self): \n",
    "        for i in range(self.max_iter):\n",
    "            loss_history_train =[]\n",
    "            yhat = self.X @ self.theta\n",
    "            loss_new_train = ((yhat - self.y)**2 / yhat.shape[0]).sum()                 \n",
    "            if self.delta_loss(loss_new_train):\n",
    "                diff = np.abs(loss_new_train - self.loss_old_train)\n",
    "                iter_stop = i\n",
    "#                 print('iter stop: ',iter_stop)\n",
    "                break\n",
    "            self.loss_old_train = loss_new_train\n",
    "            loss_history_train.append(self.loss_old_train)\n",
    "            if self.verbose and i%10 == 0:\n",
    "                print(\"cost iter\",i,':',self.loss_old_train)\n",
    "                print('iter stop: ',iter_stop)\n",
    "            if self.decay_iter < i < self.stop_delay_counter:\n",
    "                grad = self.X.T.dot(yhat-self.y)\n",
    "                self.alpha = self.decay_lrate(i)\n",
    "                self.theta = self.theta - (self.alpha*(grad + self.lam*self.theta))\n",
    "#                 print('alpha <',i,self.alpha)\n",
    "            elif i > self.stop_delay_counter:\n",
    "                grad = self.X.T.dot(yhat-self.y)\n",
    "                self.theta = self.theta - (self.alpha*(grad + self.lam*self.theta))\n",
    "#                 print('alpha>',i,self.alpha)\n",
    "            else:\n",
    "                grad = self.X.T.dot(yhat-self.y)\n",
    "                self.theta = self.theta - (self.alpha*(grad + self.lam*self.theta))\n",
    "#                 print('alpha',i,self.alpha)\n",
    "        return loss_history_train, self.theta, self.iter_stop,diff\n",
    "\n",
    "    def gradient_descent_stochastic(self):  \n",
    "        for i in range(self.max_iter):\n",
    "            loss_history_train=[]\n",
    "            idx = np.random.randint(self.X.shape[0])\n",
    "            X_idx = self.X[idx,:].reshape(1,-1)\n",
    "            y_idx = self.y[idx] #sometimes iloc\n",
    "            yhat = X_idx @ self.theta\n",
    "            loss_new_train = (yhat - y_idx)**2\n",
    "            if self.delta_loss(loss_new_train):\n",
    "                diff = np.abs(loss_new_train - self.loss_old_train)\n",
    "                iter_stop = i\n",
    "#                 print('iter stop: ',iter_stop)\n",
    "                break\n",
    "            self.loss_old_train = loss_new_train\n",
    "            if self.verbose == True and i%5000 == 0:\n",
    "                print(\"cost iter\",i,':',self.loss_old_train)\n",
    "                print('iter stop: ',iter_stop)\n",
    "            loss_history_train.append(self.loss_old_train)\n",
    "            if self.decay_iter < i < self.stop_delay_counter:\n",
    "                grad = X_idx.T.dot(yhat-y_idx)\n",
    "                self.alpha = self.decay_lrate(i)\n",
    "                self.theta = self.theta - (self.alpha*(grad + self.lam*self.theta))\n",
    "#                 print('alpha <',i,self.alpha)\n",
    "            elif i > self.stop_delay_counter:\n",
    "                grad = X_idx.T.dot(yhat-y_idx)\n",
    "                self.theta = self.theta - (self.alpha*(grad + self.lam*self.theta))\n",
    "#                 print('alpha>',i,self.alpha)\n",
    "            else:\n",
    "                grad = X_idx.T.dot(yhat-y_idx)\n",
    "                self.theta = self.theta - (self.alpha*(grad + self.lam*self.theta))\n",
    "        return loss_history_train,self.theta, iter_stop, diff\n",
    "\n",
    "    def gradient_descent_mini(self):\n",
    "        loss_history_train = []\n",
    "        batch_train = int(0.1*self.X.shape[0])\n",
    "        idx = np.random.randint(self.X.shape[0])\n",
    "        for i in range(self.max_iter):\n",
    "            X_batch = self.X[idx:idx+batch_train]\n",
    "            y_batch = self.y[idx:idx+batch_train]\n",
    "            yhat = X_batch @ self.theta\n",
    "            loss_new_train = ((yhat - y_batch)**2/ yhat.shape[0]).sum()\n",
    "            if self.delta_loss(loss_new_train):\n",
    "                diff = np.abs(loss_new_train - self.loss_old_train)\n",
    "                iter_stop = i\n",
    "#                 print(\"iter stop: \",iter_stop)\n",
    "                break\n",
    "            self.loss_old_train = loss_new_train\n",
    "            if self.verbose == True and i%1000 == 0:\n",
    "                print(\"cost iter\",i,':',self.loss_old_train)\n",
    "                print('iter stop: ',iter_stop)\n",
    "            if self.decay_iter < i < self.stop_delay_counter:\n",
    "                grad = X_batch.T.dot(yhat-y_batch)\n",
    "                self.alpha = self.decay_lrate(i)\n",
    "                self.theta = self.theta - (self.alpha*(grad + self.lam*self.theta))\n",
    "#                 print('alpha <',i,self.alpha)\n",
    "            elif i > self.stop_delay_counter:\n",
    "                grad = X_batch.T.dot(yhat-y_batch)\n",
    "                self.theta = self.theta - (self.alpha*(grad + self.lam*self.theta))\n",
    "#                 print('alpha>',i,self.alpha)\n",
    "            else:\n",
    "                grad = X_batch.T.dot(yhat-y_batch)\n",
    "                self.theta = self.theta - (self.alpha*(grad + self.lam*self.theta))\n",
    "        return loss_history_train,self.theta, iter_stop, diff\n",
    "    \n",
    "    def predict(self,X):\n",
    "        self.X = X\n",
    "#         self.X = self.intercept()\n",
    "        if self.poly == True:\n",
    "            self.X = self.polynomial()\n",
    "            self.X = self.intercept()\n",
    "            return self.X @ self.theta\n",
    "            \n",
    "        else:\n",
    "            self.X = self.intercept()\n",
    "            return self.X @ self.theta\n",
    "        \n",
    "    def score(self,y_test,yhat):\n",
    "        return 1 - np.square(y_test - yhat).sum() / np.square(y_test - y_test.mean()).sum()\n",
    "    \n",
    "    def mse(self,y_test,yhat):\n",
    "        return ((yhat - y_test)**2 / yhat.shape[0]).sum()\n",
    "        "
   ]
  },
  {
   "cell_type": "code",
   "execution_count": 301,
   "metadata": {},
   "outputs": [
    {
     "name": "stdout",
     "output_type": "stream",
     "text": [
      "r2_score:  0.8054724796927528\n",
      "mse:  16.864080345512875\n",
      "theta:  [68.64947072 -2.03579133  0.6469045   7.01311586 -1.08674516 -0.36826492\n",
      "  1.98933718]\n"
     ]
    }
   ],
   "source": [
    "model = Regression()\n",
    "model.fit(X_sel_train, y_train, max_iter = 100000, alpha=0.0001, tol=1e-4, \n",
    "          grad_method=\"batch\", decay=False, decay_iter=5, decay_rate=0.9, \n",
    "          stop_delay_counter=10, verbose=False, lam=0.01, poly=True, poly_deg=2)\n",
    "\n",
    "yhat_batch = model.predict(X_sel_test)\n",
    "\n",
    "r2_score_batch = model.score(y_test,yhat_batch)\n",
    "mse_batch = model.mse(y_test,yhat_batch)\n",
    "print('r2_score: ',r2_score_batch)\n",
    "print('mse: ',mse_batch)\n",
    "print('theta: ',model.theta)"
   ]
  },
  {
   "cell_type": "code",
   "execution_count": 302,
   "metadata": {},
   "outputs": [
    {
     "name": "stdout",
     "output_type": "stream",
     "text": [
      "r2_score:  0.64573780791229\n",
      "mse sto:  30.71188108144553\n",
      "theta:  [66.95828084 -3.95229237  2.87183187  2.76296436]\n"
     ]
    }
   ],
   "source": [
    "model = Regression()\n",
    "model.fit(X_sel_train, y_train, max_iter = 120000, alpha=0.01, tol=1e-4, \n",
    "          grad_method=\"stochastic\", decay=True, decay_iter=5, decay_rate=0.9, \n",
    "          stop_delay_counter=10, verbose=False, lam=0.01, poly=False, poly_deg=2)\n",
    "#stop_delay_counter = 2000 kaputt\n",
    "\n",
    "yhat_sto = model.predict(X_sel_test)\n",
    "\n",
    "r2_score_sto = model.score(y_test,yhat_sto)\n",
    "mse_sto = model.mse(y_test,yhat_sto)\n",
    "print('r2_score: ',r2_score_sto)\n",
    "print('mse sto: ',mse_sto)\n",
    "print('theta: ',model.theta)"
   ]
  },
  {
   "cell_type": "markdown",
   "metadata": {},
   "source": [
    "- Create the following 3 models **from your class** (For any unspecified parameters, feel free to use any :D)"
   ]
  },
  {
   "cell_type": "markdown",
   "metadata": {},
   "source": [
    "1. For the first model, transform your feature using polynomial degree 3, then perform linear regression with batch gradient descent with early stopping of <code>tol</code> 1e-3  (1 or 0pt)"
   ]
  },
  {
   "cell_type": "code",
   "execution_count": 303,
   "metadata": {},
   "outputs": [
    {
     "name": "stdout",
     "output_type": "stream",
     "text": [
      "optimized theta:  [68.6501032  -2.03568522  0.6469287   7.01297542 -1.08687515 -0.36833841\n",
      "  1.9892407 ]\n",
      "r2_score:  0.805472053988959\n",
      "mse:  16.864117250846213\n",
      "theta:  [68.6501032  -2.03568522  0.6469287   7.01297542 -1.08687515 -0.36833841\n",
      "  1.9892407 ]\n"
     ]
    }
   ],
   "source": [
    "model = Regression()\n",
    "model.fit(X_sel_train, y_train, max_iter = 100000, alpha=0.0001, tol=1e-4, \n",
    "          grad_method=\"batch\", decay=False, decay_iter=5, decay_rate=0.9, \n",
    "          stop_delay_counter=10, verbose=False, lam=0, poly=True, poly_deg=2)\n",
    "#degree 3 doesnt work, runtime problem\n",
    "\n",
    "yhat_batch = model.predict(X_sel_test)\n",
    "\n",
    "r2_score_batch = model.score(y_test,yhat_batch)\n",
    "mse_batch = model.mse(y_test,yhat_batch)\n",
    "print('optimized theta: ',model.theta)\n",
    "print('r2_score: ',r2_score_batch)\n",
    "print('mse: ',mse_batch)\n",
    "print('theta: ',model.theta)"
   ]
  },
  {
   "cell_type": "markdown",
   "metadata": {},
   "source": [
    "2. For the second model, perform linear regression with mini-batch gradient desent with early stopping of <code>tol</code> 1e-3 (1 or 0pt)"
   ]
  },
  {
   "cell_type": "code",
   "execution_count": 304,
   "metadata": {},
   "outputs": [
    {
     "name": "stdout",
     "output_type": "stream",
     "text": [
      "optimized theta:  [68.61088677 -4.08120717  2.91965706  2.35378025]\n",
      "r2_score:  0.7102168834210228\n",
      "mse_mini:  25.122027736961446\n",
      "theta:  [68.61088677 -4.08120717  2.91965706  2.35378025]\n"
     ]
    }
   ],
   "source": [
    "model = Regression()\n",
    "model.fit(X_sel_train, y_train, max_iter = 10000, alpha=0.001, tol=1e-3, \n",
    "          grad_method=\"mini-batch\", decay=True, decay_iter=5, decay_rate=0.9, \n",
    "          stop_delay_counter=10, verbose=False, lam=0, poly=False, poly_deg=2)\n",
    "\n",
    "yhat_mini = model.predict(X_sel_test)\n",
    "\n",
    "r2_score_mini = model.score(y_test,yhat_mini)\n",
    "mse_mini = model.mse(y_test,yhat_mini)\n",
    "print('optimized theta: ',model.theta)\n",
    "print('r2_score: ',r2_score_mini)\n",
    "print('mse_mini: ', mse_mini)\n",
    "print('theta: ',model.theta)"
   ]
  },
  {
   "cell_type": "markdown",
   "metadata": {},
   "source": [
    "3. For the third model, perform ridge regression with stochastic gradient desent with early stopping of <code>tol</code> 1e-3 and <code>decay</code> set to True and <code>lam</code> to 1e-4 (1 or 0pt)"
   ]
  },
  {
   "cell_type": "code",
   "execution_count": 305,
   "metadata": {},
   "outputs": [
    {
     "name": "stdout",
     "output_type": "stream",
     "text": [
      "optimized theta:  [69.23629835 -3.91449856  3.63317356  2.45102657]\n",
      "r2_score:  0.7092471049415943\n",
      "mse sto:  25.206100274197322\n",
      "theta:  [69.23629835 -3.91449856  3.63317356  2.45102657]\n"
     ]
    }
   ],
   "source": [
    "model = Regression()\n",
    "model.fit(X_sel_train, y_train, max_iter = 120000, alpha=0.01, tol=1e-3, \n",
    "          grad_method=\"stochastic\", decay=False, decay_iter=5, decay_rate=0.9, \n",
    "          stop_delay_counter=10, verbose=False, lam=1e-4, poly=False, poly_deg=2)\n",
    "#stop_delay_counter = 2000 kaputt\n",
    "\n",
    "yhat_sto = model.predict(X_sel_test)\n",
    "\n",
    "r2_score_sto = model.score(y_test,yhat_sto)\n",
    "mse_sto = model.mse(y_test,yhat_sto)\n",
    "print('optimized theta: ',model.theta)\n",
    "print('r2_score: ',r2_score_sto)\n",
    "print('mse sto: ',mse_sto)\n",
    "print('theta: ',model.theta)"
   ]
  },
  {
   "cell_type": "markdown",
   "metadata": {},
   "source": [
    "- Create Lasso model from Sklearn with default parameters (1 or 0pt)\n"
   ]
  },
  {
   "cell_type": "code",
   "execution_count": 306,
   "metadata": {},
   "outputs": [
    {
     "name": "stdout",
     "output_type": "stream",
     "text": [
      "r2 score:  0.7045708346161066\n",
      "mse :  25.611497918509052\n",
      "theta:  69.15034396212083 [-3.5057941   2.82720083  1.92735088]\n"
     ]
    }
   ],
   "source": [
    "from sklearn.linear_model import Lasso\n",
    "from sklearn.metrics import mean_squared_error, r2_score\n",
    "import sklearn.model_selection as model_selection\n",
    "\n",
    "model = Lasso(fit_intercept = True)\n",
    "model.fit(X_sel_train, y_train)\n",
    "\n",
    "y_pred_lasso = model.predict(X_sel_test)\n",
    "\n",
    "r2_score_lasso = r2_score(y_test, y_pred_lasso)\n",
    "mse_lasso = mean_squared_error(y_test, y_pred_lasso)\n",
    "theta_lasso = model.coef_\n",
    "intercept = model.intercept_\n",
    "print('r2 score: ',r2_score_lasso)\n",
    "print('mse : ',mse_lasso)\n",
    "print('theta: ', intercept,theta_lasso)\n",
    "# coefficient doesn't include intercept"
   ]
  },
  {
   "cell_type": "markdown",
   "metadata": {},
   "source": [
    "- For these four models, using two different versions of X, perform a cross validation of 10 folds, comparing the four models * two versions of X.  Here you should implement cross validation. Report which one is the best candidate model (3pts for implement from scratch or 1pt for using sklearn)  \n",
    "    - Recall that in a 10 folds cross validation, you split your data into 10 even pieces.  Then you run 10 iterations, where in each iteration, you pick 1 of this piece as the validation set, and the rest as training set.  Once you reach the 10th iteration, you would have already exhaust all the 10 pieces as validation set.\n"
   ]
  },
  {
   "cell_type": "markdown",
   "metadata": {},
   "source": [
    "### 2 variations of X"
   ]
  },
  {
   "cell_type": "code",
   "execution_count": 307,
   "metadata": {},
   "outputs": [
    {
     "name": "stdout",
     "output_type": "stream",
     "text": [
      "============================== model: REGRESSION 1 ==============================\n",
      "scores\n",
      "[0.8003094631647704, 0.7397424154092866, 0.7891789722887785, 0.789580561028017, 0.8041639452237931, 0.8011219751081787, 0.77732537893448, 0.7759603512301142, 0.7310875417523397, 0.7715154732429396]\n",
      "ave score:  0.7779986077382697\n",
      "============================== model: REGRESSION 2 ==============================\n",
      "scores\n",
      "[0.7060125914290407, 0.643277184257228, 0.7166613958354695, 0.7218209057513771, 0.7062591581396742, 0.7484902363453558, 0.6978471978836474, 0.6293686198835727, 0.5612951938029311, 0.7223762678951293]\n",
      "ave score:  0.6853408751223427\n",
      "============================== model: REGRESSION 3 ==============================\n",
      "scores\n",
      "[0.49472912392920354, -11.24978877535567, -1.9390680629415993, 0.5525021991624895, -0.6110750547610071, -0.9150282944634396, 0.317900081937478, -2.6413488762349187, -1.1194575656143102, -0.42810438571502574]\n",
      "ave score:  -1.7538739610056802\n",
      "============================== model: Lasso ==============================\n",
      "scores\n",
      "[0.7083843677731749, 0.6371919519669345, 0.7031476090026907, 0.7129069977706044, 0.7104343066617997, 0.7374792163410059, 0.6942263159633354, 0.6402455186035405, 0.6250721945695454, 0.7198922311142988]\n",
      "ave score:  0.688898070976693\n"
     ]
    }
   ],
   "source": [
    "m1,n1 = X_sel_train.shape\n",
    "m2,n2 = X_all_train.shape\n",
    "assert m1 == m2\n",
    "cv = 10\n",
    "cv_size = int(np.ceil(m1/10))\n",
    "\n",
    "model1,model2,model3 = Regression(),Regression(),Regression()\n",
    "model4 = Lasso()\n",
    "\n",
    "param1 = {'max_iter': 100000,'alpha':0.0001,'tol':1e-4,'grad_method':'batch','decay': False,\n",
    "          'decay_iter':5, 'decay_rate':0.9, 'stop_delay_counter':10, 'verbose':False, 'lam':0, \n",
    "          'poly':True, 'poly_deg':2}\n",
    "\n",
    "param2 = {'max_iter': 10000,'alpha':0.001,'tol':1e-3,'grad_method':'mini-batch','decay': True,\n",
    "          'decay_iter':5, 'decay_rate':0.9, 'stop_delay_counter':10, 'verbose':False, 'lam':0, \n",
    "          'poly':False, 'poly_deg':2}\n",
    "\n",
    "param3 = {'max_iter': 120000,'alpha':0.01,'tol':1e-3,'grad_method':'stochastic','decay': True,\n",
    "          'decay_iter':5, 'decay_rate':0.9, 'stop_delay_counter':10, 'verbose':False, 'lam':1e-4, \n",
    "          'poly':False, 'poly_deg':2}\n",
    "param4 = {}\n",
    "\n",
    "# model1 = Regression().fit(X_sel_train,y_train,**param1)\n",
    "\n",
    "models  = [model1,model2,model3,model4]\n",
    "params = [param1,param2,param3,param4]\n",
    "modelnames = ['REGRESSION 1','REGRESSION 2','REGRESSION 3','Lasso']\n",
    "ave_scores = []\n",
    "\n",
    "for ix,model in enumerate(models):\n",
    "    print('='*30,f'model: {modelnames[ix]}','='*30)\n",
    "    score = []\n",
    "    for i in range(0,cv):\n",
    "        idx = []\n",
    "        X_sel_train_cv = X_sel_train[i*cv_size:(i*cv_size)+cv_size]\n",
    "        X_all_train_cv = X_all_train[i*cv_size:(i*cv_size)+cv_size]\n",
    "        y_train_cv = y_train[i*cv_size:(i*cv_size)+cv_size]\n",
    "        for j in range(0,X_sel_train.shape[0]):\n",
    "            if j not in range(i*cv_size,(i*cv_size)+cv_size):\n",
    "                idx.append(j)\n",
    "        X_sel_train_tcv = X_sel_train[idx]\n",
    "        X_all_train_tcv = X_all_train[idx]\n",
    "        y_train_tcv = y_train[idx]\n",
    "        model.fit(X_sel_train_tcv,y_train_tcv,**params[ix])\n",
    "        ypred = model.predict(X_sel_train_cv)\n",
    "        if ix == 3:\n",
    "            score.append(r2_score(y_train_cv,ypred))\n",
    "        else:\n",
    "            score.append(model.score(y_train_cv,ypred))\n",
    "    print('scores')\n",
    "    print(score)\n",
    "    ave_score = sum(score) / len(score)\n",
    "    print('ave score: ',ave_score)\n",
    "    ave_scores.append(ave_score)"
   ]
  },
  {
   "cell_type": "code",
   "execution_count": 308,
   "metadata": {},
   "outputs": [
    {
     "name": "stdout",
     "output_type": "stream",
     "text": [
      "==================== all average scores ====================\n",
      "[ 0.77799861  0.68534088 -1.75387396  0.68889807]\n",
      "==================== Best model ====================\n",
      "REGRESSION 1 with average scores of 0.7779986077382697\n"
     ]
    }
   ],
   "source": [
    "print('='*20,'all average scores','='*20)\n",
    "print(np.array(ave_scores))\n",
    "print('='*20,'Best model','='*20)\n",
    "print(modelnames[np.argmax(ave_scores)],'with average scores of', ave_scores[np.argmax(ave_scores)])"
   ]
  },
  {
   "cell_type": "markdown",
   "metadata": {},
   "source": [
    "- Using the best model, fit again with the training data.  Plot the weights using bar charts along the feature names.  Before you actually plot the weights, we need to multiply these weights by their feature standard deviation, so to reduce these weights to same unit of measure.  Interpret these weights and what they imply.  (For those who are curious why we need to multiply with std, you may read this > https://scikit-learn.org/stable/auto_examples/inspection/plot_linear_model_coefficient_interpretation.html#interpreting-coefficients-scale-matters  (2 or 0pt)   \n",
    "\n"
   ]
  },
  {
   "cell_type": "code",
   "execution_count": 309,
   "metadata": {},
   "outputs": [
    {
     "name": "stdout",
     "output_type": "stream",
     "text": [
      "(2056, 7)\n",
      "[ 0.         -2.04015063  0.65059194  7.01178657 -2.13188906 -0.65644866\n",
      "  3.80321785]\n"
     ]
    },
    {
     "data": {
      "image/png": "[encoded data removed]",
      "text/plain": [
       "<Figure size 432x288 with 1 Axes>"
      ]
     },
     "metadata": {
      "needs_background": "light"
     },
     "output_type": "display_data"
    }
   ],
   "source": [
    "model = Regression()\n",
    "model.fit(X_sel_train, y_train, max_iter = 100000, alpha=0.0001, tol=1e-4, \n",
    "          grad_method=\"batch\", decay=False, decay_iter=5, decay_rate=0.9, \n",
    "          stop_delay_counter=10, verbose=False, lam=0, poly=True, poly_deg=2)\n",
    "# print(model.theta)\n",
    "\n",
    "def intercept(X):\n",
    "    intercept = np.ones((X.shape[0], 1)) \n",
    "    return np.concatenate((intercept, X), axis=1)\n",
    "\n",
    "def polynomial(X,deg):\n",
    "    for i in range(1,deg):\n",
    "        X = np.concatenate((X,X**(i+1)), axis = 1)\n",
    "    return X \n",
    "\n",
    "X_sel_train_copy  = X_sel_train.copy()\n",
    "X_sel_train_copy = polynomial(X_sel_train_copy,2)\n",
    "X_sel_train_copy = intercept(X_sel_train_copy)\n",
    "print(X_sel_train_copy.shape)\n",
    "\n",
    "std = np.std(X_sel_train_copy,axis = 0)\n",
    "theta_std = model.theta * std\n",
    "\n",
    "\n",
    "#AM = Adult Mortality, S = Schooling, ICR = Income composition of resources\n",
    "#AM2 = Adult Mortality squared, S2 = Schooling squared,ICR2 = Income composition of resources squared.\n",
    "\n",
    "feature_names = ['bias','AM','S','ICR','AM2','S2','ICR2']\n",
    "plt.bar(feature_names,theta_std)\n",
    "print(theta_std)\n",
    "plt.title(\"standardized theta\")\n",
    "plt.show()\n",
    "\n",
    "# plt.bar(feature_names,model.theta)\n",
    "# print(model.theta)\n",
    "# plt.title(\"theta\")\n",
    "# plt.show()"
   ]
  },
  {
   "cell_type": "markdown",
   "metadata": {},
   "source": [
    "As shown above, the plot shows that ICR(income composition of resources), ICR^2 and AM( adult mortality) have the most impact on life expectancy."
   ]
  },
  {
   "cell_type": "markdown",
   "metadata": {},
   "source": [
    "- Perform predictions on testing data.  Print adjusted $r^2$ and mse. (1 or 0pt)\n"
   ]
  },
  {
   "cell_type": "code",
   "execution_count": 310,
   "metadata": {},
   "outputs": [
    {
     "name": "stdout",
     "output_type": "stream",
     "text": [
      "r2_score:  0.805472053988959\n",
      "mse:  16.864117250846213\n"
     ]
    }
   ],
   "source": [
    "yhat_batch = model.predict(X_sel_test)\n",
    "\n",
    "r2_score_batch = model.score(y_test,yhat_batch)\n",
    "mse_batch = model.mse(y_test,yhat_batch)\n",
    "print('r2_score: ',r2_score_batch)\n",
    "print('mse: ',mse_batch)"
   ]
  },
  {
   "cell_type": "markdown",
   "metadata": {},
   "source": [
    "- Plot the predicted values against actual values (1 or 0pt)"
   ]
  },
  {
   "cell_type": "code",
   "execution_count": 311,
   "metadata": {},
   "outputs": [
    {
     "data": {
      "image/png": "[encoded data removed]",
      "text/plain": [
       "<Figure size 432x288 with 1 Axes>"
      ]
     },
     "metadata": {
      "needs_background": "light"
     },
     "output_type": "display_data"
    }
   ],
   "source": [
    "plt.title('predict values vs actual values')\n",
    "plt.scatter(yhat_batch, y_test)\n",
    "plt.xlabel('y predict')\n",
    "plt.ylabel('y actual')\n",
    "plt.show()"
   ]
  },
  {
   "cell_type": "markdown",
   "metadata": {},
   "source": [
    "3). **Classification**\n",
    "\n",
    "- Change your y to discrete value.  Here split y into three class, {0, 1, 2}, where 0 belongs to low life expectancy group, and 2 for the high life expectancy group. (1 or 0pt)\n",
    "\n",
    "- Write a class for multinomial logistic regression with stochastic gradient descent. Must have at least six methods for <code>fit()</code> (i.e., for finding weights) <code>predict()</code> (i.e., for predicting X_test data), <code>accuracy()</code> (i.e., for returning accuracy score), <code>recall()</code>, <code>precision()</code>, and <code>f1()</code> (each 1pt)\n",
    "\n",
    "- Using the best X_train of the two suggested by the cross validation step, fit the data with your class.  (1 or 0pt)\n",
    "\n",
    "- Perform predictions on testing data.  Print accuracy, recall, precision, and f1_score from your class. (1 or 0pt)\n",
    "\n",
    "- Plot the decision boundary with the X_test data.  To plot this, you may want to choose only 2 features.  (1 or 0pt)\n"
   ]
  },
  {
   "cell_type": "code",
   "execution_count": 312,
   "metadata": {},
   "outputs": [],
   "source": [
    "y_train_classi =  pd.cut(y_train, bins= 3, labels=np.arange(3),right = False)"
   ]
  },
  {
   "cell_type": "code",
   "execution_count": 313,
   "metadata": {},
   "outputs": [],
   "source": [
    "y_test_classi = pd.cut(y_test, bins= 3, labels=np.arange(3),right = False)"
   ]
  },
  {
   "cell_type": "code",
   "execution_count": 314,
   "metadata": {},
   "outputs": [
    {
     "name": "stdout",
     "output_type": "stream",
     "text": [
      "(2056,)\n",
      "(2056, 3)\n",
      "(882,)\n",
      "(882, 3)\n"
     ]
    }
   ],
   "source": [
    "k = len(set(y_train_classi)) \n",
    "\n",
    "m = X_sel_train.shape[0]\n",
    "n = X_sel_train.shape[1]  \n",
    "\n",
    "y_train_encoded = np.zeros((m, k))\n",
    "for each_class in range(k):\n",
    "    cond = y_train_classi==each_class\n",
    "    y_train_encoded[np.where(cond), each_class] = 1\n",
    "print(y_train_classi.shape)\n",
    "print(y_train_encoded.shape)\n",
    "\n",
    "m1 = X_sel_test.shape[0] \n",
    "n1 = X_sel_test.shape[1]  \n",
    "\n",
    "y_test_encoded = np.zeros((m1,k))\n",
    "for each_class in range(k):\n",
    "    cond = y_test_classi==each_class\n",
    "    y_test_encoded [np.where(cond), each_class] = 1\n",
    "\n",
    "print(y_test_classi.shape)\n",
    "print(y_test_encoded.shape)"
   ]
  },
  {
   "cell_type": "code",
   "execution_count": 315,
   "metadata": {},
   "outputs": [],
   "source": [
    "import numpy as np\n",
    "from sklearn.metrics import average_precision_score, classification_report\n",
    "\n",
    "\n",
    "class Classification:\n",
    "    def fit(self,X,y,alpha,max_iter):\n",
    "        self.X = X\n",
    "        self.X = self.intercept()\n",
    "        \n",
    "        self.y = y\n",
    "        k = self.y.shape[1]\n",
    "        n = self.X.shape[1] \n",
    "        self.theta = np.random.rand(n, k)\n",
    "        self.alpha = alpha\n",
    "        self.max_iter = max_iter\n",
    "\n",
    "        for i in range(self.max_iter):\n",
    "            loss_history_train=[]\n",
    "            idx = np.random.randint(self.X.shape[0])\n",
    "            X_idx = self.X[idx,:].reshape(-1,k+1)\n",
    "            y_idx = self.y[idx] #sometimes iloc\n",
    "            yhat = self.h_theta(X_idx)       \n",
    "            cost_train, grad =  self.gradient(X_idx,yhat,y_idx)\n",
    "            if i % 1000 == 0:\n",
    "                print(f\"Cost at iteration {i}\", cost_train)\n",
    "            loss_history_train.append(cost_train)\n",
    "            self.theta = self.theta - self.alpha * grad\n",
    "        return loss_history_train, self.theta\n",
    "        \n",
    "    def gradient(self,X_idx,yhat,y_idx):\n",
    "        cost = -np.sum(y_idx*np.log(yhat))/yhat.shape[0]\n",
    "        error = yhat - y_idx\n",
    "        grad = self.softmax_grad(X_idx,error)\n",
    "        return cost, grad\n",
    "\n",
    "    def softmax(self,x):\n",
    "        return np.exp(x) / np.sum(np.exp(x), axis=1, keepdims=True)\n",
    "\n",
    "    def softmax_grad(self,X_idx,error):\n",
    "        return  X_idx.T @ error\n",
    "        \n",
    "    def h_theta(self,X_idx):\n",
    "        x = X_idx @ self.theta\n",
    "        return self.softmax(x)\n",
    "    \n",
    "    def intercept(self):\n",
    "        intercept = np.ones((self.X.shape[0], 1)) \n",
    "        return np.concatenate((intercept, self.X), axis=1)\n",
    "    \n",
    "    def predict(self,X_sel_test):\n",
    "        intercept = np.ones((X_sel_test.shape[0], 1)) \n",
    "        X_sel_test = np.concatenate((intercept, X_sel_test), axis=1)\n",
    "        yhat = X_sel_test @ self.theta\n",
    "        return self.softmax(yhat)\n",
    "    \n",
    "    def accuracy(self,ypred_hard,y_test_encoded):\n",
    "        return np.sum(ypred_hard == y_test_encoded)/(k*y_test_encoded.shape[0])\n",
    "    \n",
    "    def recall_prec_f1(self,ypred_hard,y_test_encoded):\n",
    "        return classification_report(ypred_hard,y_test_encoded)\n",
    "    \n",
    "#     def precision():\n",
    "    \n",
    "#     def f1():\n",
    "    \n",
    "    \n",
    "        "
   ]
  },
  {
   "cell_type": "code",
   "execution_count": 316,
   "metadata": {},
   "outputs": [
    {
     "name": "stdout",
     "output_type": "stream",
     "text": [
      "Cost at iteration 0 0.7571034974094939\n",
      "Cost at iteration 1000 0.8105481868603701\n",
      "Cost at iteration 2000 0.9429194678493703\n",
      "Cost at iteration 3000 1.900132301493365\n",
      "Cost at iteration 4000 1.053205774296806\n",
      "Cost at iteration 5000 0.7133129444801218\n",
      "Cost at iteration 6000 0.762741961957212\n",
      "Cost at iteration 7000 0.8252003518113913\n",
      "Cost at iteration 8000 2.8900787843160534\n",
      "Cost at iteration 9000 0.6341832068824989\n",
      "[[ 0.32775924  0.63430428  0.76748413]\n",
      " [ 0.58593382  0.92168813 -0.0095136 ]\n",
      " [ 0.96597983  0.32819589  0.36367698]\n",
      " [ 0.48040827  0.25394018  0.06035089]]\n"
     ]
    }
   ],
   "source": [
    "model = Classification()\n",
    "\n",
    "model.fit(X_sel_train,y_train_encoded,alpha = 0.00001,max_iter = 10000)\n",
    "print(model.theta)"
   ]
  },
  {
   "cell_type": "code",
   "execution_count": 317,
   "metadata": {},
   "outputs": [
    {
     "name": "stdout",
     "output_type": "stream",
     "text": [
      "0.6761148904006047\n"
     ]
    }
   ],
   "source": [
    "ypred_soft = model.predict(X_sel_test)\n",
    "ypred_hard = (ypred_soft > 0.5).astype(int)\n",
    "acc = model.accuracy(ypred_hard,y_test_encoded)\n",
    "print(acc)"
   ]
  },
  {
   "cell_type": "code",
   "execution_count": 318,
   "metadata": {},
   "outputs": [
    {
     "name": "stdout",
     "output_type": "stream",
     "text": [
      "=========Classification report=======\n",
      "              precision    recall  f1-score   support\n",
      "\n",
      "           0       0.00      0.00      0.00        61\n",
      "           1       0.37      0.72      0.48       174\n",
      "           2       0.18      0.53      0.26       158\n",
      "\n",
      "   micro avg       0.24      0.53      0.33       393\n",
      "   macro avg       0.18      0.42      0.25       393\n",
      "weighted avg       0.23      0.53      0.32       393\n",
      " samples avg       0.24      0.24      0.24       393\n",
      "\n"
     ]
    },
    {
     "name": "stderr",
     "output_type": "stream",
     "text": [
      "/Library/Frameworks/Python.framework/Versions/3.7/lib/python3.7/site-packages/sklearn/metrics/_classification.py:1221: UndefinedMetricWarning: Recall and F-score are ill-defined and being set to 0.0 in samples with no true labels. Use `zero_division` parameter to control this behavior.\n",
      "  _warn_prf(average, modifier, msg_start, len(result))\n"
     ]
    }
   ],
   "source": [
    "from sklearn.metrics import classification_report\n",
    "print(\"=========Classification report=======\")\n",
    "print(model.recall_prec_f1(ypred_hard,y_test_encoded))"
   ]
  },
  {
   "cell_type": "markdown",
   "metadata": {},
   "source": [
    "4). **Final verdict**\n",
    "\n",
    "- Attempt to do whatever ways - including sklearn or scratch - or change your features, or do feature enginnering such that your mse is lowest possible.  (0 to 5pts - following class normal distributions)"
   ]
  }
 ],
 "metadata": {
  "kernelspec": {
   "display_name": "Python 3",
   "language": "python",
   "name": "python3"
  },
  "language_info": {
   "codemirror_mode": {
    "name": "ipython",
    "version": 3
   },
   "file_extension": ".py",
   "mimetype": "text/x-python",
   "name": "python",
   "nbconvert_exporter": "python",
   "pygments_lexer": "ipython3",
   "version": "3.8.3"
  }
 },
 "nbformat": 4,
 "nbformat_minor": 4
}
