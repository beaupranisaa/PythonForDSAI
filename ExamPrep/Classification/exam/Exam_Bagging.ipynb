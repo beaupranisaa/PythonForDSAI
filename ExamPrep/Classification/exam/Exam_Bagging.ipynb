{
 "cells": [
  {
   "cell_type": "markdown",
   "metadata": {},
   "source": [
    "### Bagging \n",
    "#### gini"
   ]
  },
  {
   "cell_type": "code",
   "execution_count": 5,
   "metadata": {},
   "outputs": [],
   "source": [
    "import numpy as np\n",
    "import matplotlib.pyplot as plt"
   ]
  },
  {
   "cell_type": "code",
   "execution_count": 6,
   "metadata": {},
   "outputs": [
    {
     "name": "stdout",
     "output_type": "stream",
     "text": [
      "======= Train =======\n",
      "(398, 30) (398,)\n",
      "======= Test =======\n",
      "(171, 30) (171,)\n"
     ]
    }
   ],
   "source": [
    "from sklearn.datasets import load_iris\n",
    "from sklearn.datasets import load_breast_cancer\n",
    "from sklearn.model_selection import train_test_split\n",
    "from sklearn.metrics import classification_report\n",
    "from sklearn.datasets import make_blobs\n",
    "\n",
    "iris = load_breast_cancer()\n",
    "X = iris.data\n",
    "y = iris.target\n",
    "\n",
    "# X, y = make_blobs(n_samples=3000, centers=4,random_state=40, cluster_std=1.0)\n",
    "\n",
    "X_train, X_test, y_train, y_test = train_test_split(X, y,test_size=0.3, shuffle=True, random_state=42)\n",
    "\n",
    "print('======= Train =======')\n",
    "print(X_train.shape,y_train.shape)\n",
    "print('======= Test =======')\n",
    "print(X_test.shape,y_test.shape)"
   ]
  },
  {
   "cell_type": "code",
   "execution_count": 13,
   "metadata": {},
   "outputs": [
    {
     "name": "stdout",
     "output_type": "stream",
     "text": [
      "sample_size 318\n",
      "Tree 0 0.9314285714285714\n",
      "Tree 1 0.9213483146067416\n",
      "Tree 2 0.9\n",
      "Tree 3 0.8809523809523809\n",
      "Tree 4 0.96\n",
      "===== Average out of bag score =====\n",
      "0.9187458533975388\n",
      "              precision    recall  f1-score   support\n",
      "\n",
      "           0       0.97      0.89      0.93        63\n",
      "           1       0.94      0.98      0.96       108\n",
      "\n",
      "    accuracy                           0.95       171\n",
      "   macro avg       0.95      0.94      0.94       171\n",
      "weighted avg       0.95      0.95      0.95       171\n",
      "\n"
     ]
    }
   ],
   "source": [
    "import random, math\n",
    "from sklearn.tree import DecisionTreeClassifier\n",
    "from scipy import stats\n",
    "from sklearn.metrics import classification_report, accuracy_score\n",
    "\n",
    "from sklearn.tree import DecisionTreeClassifier\n",
    "import random\n",
    "from scipy import stats\n",
    "from sklearn.metrics import classification_report,accuracy_score\n",
    "\n",
    "class Bagging:\n",
    "    def __init__(self,B,bootstrap_ratio,with_no_replacement = True):\n",
    "        self.B = B\n",
    "        self.bootstrap_ratio = bootstrap_ratio #100% replacement\n",
    "        self.with_no_replacement = with_no_replacement\n",
    "        ##### criterion: 'gini','entropy'\n",
    "        self.tree_params = {'max_depth': 2, 'criterion':'gini', 'min_samples_split': 5}\n",
    "        self.models = [DecisionTreeClassifier(**self.tree_params) for _ in range(B)] # 5 different decision trees\n",
    "    \n",
    "    def fit(self,X,y):\n",
    "        m, n = X.shape\n",
    "        # print(m,n)\n",
    "\n",
    "        #sample size for each tree\n",
    "        sample_size = int(self.bootstrap_ratio * len(X))\n",
    "        print('sample_size',sample_size)\n",
    "\n",
    "        xsamples = np.zeros((self.B, sample_size, n)) \n",
    "        ysamples = np.zeros((self.B, sample_size))\n",
    "        '''\n",
    "        xsamples = (#trees, sample_size, features)\n",
    "        ysamples = (#trees, sample_size)\n",
    "        '''\n",
    "        \n",
    "        xsamples_oob = [] # list because length is not known\n",
    "        ysamples_oob = []\n",
    "        # print(ysamples.shape)\n",
    "\n",
    "#subsamples for each model\n",
    "        for i in range(self.B):\n",
    "            ##sampling with replacement; i.e., sample can occur more than once\n",
    "            # for the same predictor\n",
    "            oob_idx = []\n",
    "            idxes = []\n",
    "            for j in range(sample_size):\n",
    "                idx = random.randrange(m)   #<----with replacement #change so no repetition\n",
    "                if self.with_no_replacement:\n",
    "                    while idx in idxes:\n",
    "                        idx = random.randrange(m) \n",
    "                # print(idx)\n",
    "                # print('X_train',X_train[idx])\n",
    "                idxes.append(idx)\n",
    "                oob_idx.append(idx)\n",
    "                xsamples[i, j, :] = X[idx]\n",
    "                # print('xsamples',xsamples)\n",
    "                ysamples[i, j] = y[idx]\n",
    "            mask = np.zeros((m),dtype = bool)\n",
    "            mask[oob_idx] = True\n",
    "            xsamples_oob.append(X[~mask])\n",
    "            ysamples_oob.append(y[~mask])\n",
    "\n",
    "                # print('xsamples',xsamples.shape)\n",
    "                # print('ysamples',ysamples.shape)\n",
    "                # print('xsamples',xsamples[2,:])\n",
    "\n",
    "            #fitting each estimator\n",
    "        oob_score = 0\n",
    "        for i, model in enumerate(self.models):\n",
    "#             print(i)\n",
    "            _X = xsamples[i, :]\n",
    "#             print('_X',_X.shape)\n",
    "            _y = ysamples[i, :]\n",
    "#             print('_y',_y.shape)\n",
    "            model.fit(_X, _y)\n",
    "\n",
    "            #calculating oob score\n",
    "            _X_test = np.asarray(xsamples_oob[i])\n",
    "            _y_test = np.asarray(ysamples_oob[i])\n",
    "            yhat = model.predict(_X_test)\n",
    "            oob_score += accuracy_score(_y_test,yhat) # acc = _y_test,yhat #oob_score: sum of acc of all models\n",
    "        #     print('oob_score',oob_score)\n",
    "            print(f\"Tree {i}\",accuracy_score(_y_test,yhat))\n",
    "        self.avg_oob_score = oob_score/len(self.models)\n",
    "        print(\"===== Average out of bag score =====\")\n",
    "        print(self.avg_oob_score)\n",
    "\n",
    "#make prediction and return the probabilities\n",
    "    def predict(self,X): #<== X_test\n",
    "        predictions = np.zeros((self.B, X.shape[0])) #X_test.shape[0]\n",
    "        for i, model in enumerate(self.models):\n",
    "            yhat = model.predict(X)\n",
    "        #     print(yhat)\n",
    "            predictions[i, :] = yhat\n",
    "#         print(predictions)\n",
    "#         print(stats.mode(predictions)[0])\n",
    "        return stats.mode(predictions)[0][0]\n",
    "    \n",
    "# print(stats.mode(prediction))\n",
    "# print(xsamples.shape)\n",
    "# print(xsamples_oob)\n",
    "# print(ysamples_oob)\n",
    "# print(mask)\n",
    "# print(idxes)\n",
    "# print(oob_idx)\n",
    "\n",
    "model = Bagging(B=5, bootstrap_ratio =0.8,with_no_replacement = False )\n",
    "model.fit(X_train,y_train)\n",
    "yhat = model.predict(X_test)\n",
    "# print(yhat)\n",
    "print(classification_report(y_test, yhat))\n",
    "\n"
   ]
  },
  {
   "cell_type": "code",
   "execution_count": 14,
   "metadata": {},
   "outputs": [
    {
     "name": "stdout",
     "output_type": "stream",
     "text": [
      "sample_size 318\n",
      "Tree 0 0.8875\n",
      "Tree 1 0.9375\n",
      "Tree 2 0.9125\n",
      "Tree 3 0.9375\n",
      "Tree 4 0.8875\n",
      "===== Average out of bag score =====\n",
      "0.9125\n",
      "              precision    recall  f1-score   support\n",
      "\n",
      "           0       0.90      0.97      0.93        63\n",
      "           1       0.98      0.94      0.96       108\n",
      "\n",
      "    accuracy                           0.95       171\n",
      "   macro avg       0.94      0.95      0.94       171\n",
      "weighted avg       0.95      0.95      0.95       171\n",
      "\n"
     ]
    }
   ],
   "source": [
    "B= 5\n",
    "model = Bagging(B=5, bootstrap_ratio=0.8)\n",
    "model.fit(X_train, y_train)\n",
    "yhat = model.predict(X_test)\n",
    "print(classification_report(y_test, yhat))"
   ]
  },
  {
   "cell_type": "code",
   "execution_count": 15,
   "metadata": {},
   "outputs": [
    {
     "name": "stdout",
     "output_type": "stream",
     "text": [
      "              precision    recall  f1-score   support\n",
      "\n",
      "           0       0.89      0.92      0.91        63\n",
      "           1       0.95      0.94      0.94       108\n",
      "\n",
      "    accuracy                           0.93       171\n",
      "   macro avg       0.92      0.93      0.93       171\n",
      "weighted avg       0.93      0.93      0.93       171\n",
      "\n"
     ]
    }
   ],
   "source": [
    "from sklearn.tree import DecisionTreeClassifier\n",
    "from sklearn.ensemble import BaggingClassifier\n",
    "\n",
    "tree = DecisionTreeClassifier()\n",
    "\n",
    "'''\n",
    "To perform in sklearn, we can use the BaggingClassifier API.  \n",
    "Pasting can be done using BaggingClassifier< setting boostrap=False\n",
    "'''\n",
    "#n_estimators = 5 Bootstrap\n",
    "bag = BaggingClassifier(tree, n_estimators=5, max_samples=0.99)\n",
    "\n",
    "bag.fit(X_train, y_train)\n",
    "yhat = bag.predict(X_test)\n",
    "print(classification_report(y_test, yhat))"
   ]
  },
  {
   "cell_type": "code",
   "execution_count": 16,
   "metadata": {},
   "outputs": [
    {
     "name": "stdout",
     "output_type": "stream",
     "text": [
      "(398, 2)\n"
     ]
    },
    {
     "data": {
      "image/png": "[encoded data removed]",
      "text/plain": [
       "<Figure size 432x288 with 1 Axes>"
      ]
     },
     "metadata": {
      "needs_background": "light"
     },
     "output_type": "display_data"
    }
   ],
   "source": [
    "def plot_tree(model, X, y):\n",
    "    plt.grid()\n",
    "    plt.scatter(X[:, 0], X[:, 1], c=y, s=30)\n",
    "    xx, yy = np.meshgrid(np.linspace(np.min(X[:,0]), np.max(X[:,0]), num=200),\n",
    "                             np.linspace(np.min(X[:,1]), np.max(X[:,1]), num=200))\n",
    "#     print(xx.shape,yy.shape)\n",
    "#     print(X[:, 0].shape, X[:, 1].shape)\n",
    "    Z = model.predict(np.c_[xx.ravel(), yy.ravel()]).reshape(xx.shape)\n",
    "#     print(Z.shape)\n",
    "    # Create a color plot with the results\n",
    "    n_classes = len(set(y))\n",
    "    contours = plt.contourf(xx, yy, Z, alpha=0.2)\n",
    "\n",
    "# plot_tree(bag, X_train[:,:2], y_train)    \n",
    "    \n",
    "    \n",
    "    \n",
    "########### only 2 featuresssssssss\n",
    "bag = BaggingClassifier(tree, n_estimators=5, max_samples=0.99)\n",
    "bag.fit(X_train[:,:2], y_train)\n",
    "print(X_train[:,:2].shape)\n",
    "plot_tree(bag, X_train[:,:2], y_train)"
   ]
  },
  {
   "cell_type": "code",
   "execution_count": null,
   "metadata": {},
   "outputs": [],
   "source": []
  }
 ],
 "metadata": {
  "kernelspec": {
   "display_name": "Python 3",
   "language": "python",
   "name": "python3"
  },
  "language_info": {
   "codemirror_mode": {
    "name": "ipython",
    "version": 3
   },
   "file_extension": ".py",
   "mimetype": "text/x-python",
   "name": "python",
   "nbconvert_exporter": "python",
   "pygments_lexer": "ipython3",
   "version": "3.8.3"
  }
 },
 "nbformat": 4,
 "nbformat_minor": 4
}
