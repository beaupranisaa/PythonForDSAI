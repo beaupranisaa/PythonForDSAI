{
 "cells": [
  {
   "cell_type": "markdown",
   "metadata": {},
   "source": [
    "### Decision Tree"
   ]
  },
  {
   "cell_type": "code",
   "execution_count": 2,
   "metadata": {},
   "outputs": [],
   "source": [
    "import matplotlib.pyplot as plt\n",
    "import numpy as np\n",
    "from sklearn.datasets import make_blobs\n",
    "from sklearn.model_selection import train_test_split\n",
    "from sklearn.preprocessing import StandardScaler"
   ]
  },
  {
   "cell_type": "code",
   "execution_count": 3,
   "metadata": {},
   "outputs": [],
   "source": [
    "# class Node:\n",
    "#     def __init__(self,predicted_class):\n",
    "#         self.predicted_class = predicted_class\n",
    "#         self.feature_index = 0\n",
    "#         self.threshold = 0\n",
    "#         self.left = None\n",
    "#         self.right = None\n",
    "        \n",
    "# class DecisionTree:\n",
    "#     def __init__(self,max_depth = None):\n",
    "#         self.max_depth = max_depth\n",
    "    \n",
    "#     def fit(self,X,y):\n",
    "#         self.n_classes_ = len(set(y))\n",
    "# #         print('n_classes_',self.n_classes_)\n",
    "# #         print('y',y)\n",
    "#         self.n_features_ = X.shape[1]\n",
    "#         self.tree_ = self._grow_tree(X,y)\n",
    "    \n",
    "#     def predict(self,X):\n",
    "#         return [self._predict(inputs) for inputs in X]\n",
    "    \n",
    "#     def _best_split(self,X,y):\n",
    "#         m = y.size #X.shape[0]\n",
    "#         if m <= 1:\n",
    "#             return None,None\n",
    "    \n",
    "#         num_parent = [np.sum(y==c) for c in range(self.n_classes_)]\n",
    "# #         print('num parent',num_parent)\n",
    "#         best_gini = 1.0 - sum((n / m) ** 2 for n in num_parent)\n",
    "# #         print('best gini', best_gini)\n",
    "#         best_idx,best_thr = None,None\n",
    "        \n",
    "#         for idx in range(self.n_features_):\n",
    "#             thresholds,classes = zip(*sorted(zip(X[:,idx],y))) # sorted according to X and looop through features\n",
    "#             num_left = [0] *self.n_classes_\n",
    "#             num_right = num_parent.copy()\n",
    "#             for i in range(1,m):\n",
    "#                 c = classes[i-1]\n",
    "# #                 print('c',c)\n",
    "#                 num_left[c] += 1\n",
    "# #                 print('num left',num_left)\n",
    "#                 num_right[c] -= 1\n",
    "# #                 print('num right',num_right)\n",
    "#                 gini_left  = 1.0 - sum((num_left[x]/i)**2 for x in range(self.n_classes_))\n",
    "#                 gini_right = 1.0 - sum((num_right[x]/i)**2 for x in range(self.n_classes_))\n",
    "                \n",
    "#                 gini = (i * gini_left + (m - i) * gini_right) / m\n",
    "# #                 print('gini',gini)\n",
    "# #                 print('best gini',best_gini)\n",
    "# #                 print('thresholds[i]',thresholds[i])\n",
    "# #                 print('thresholds[i-1]',thresholds[i-1])\n",
    "                \n",
    "#                 if thresholds[i] == thresholds[i-1]:\n",
    "# #                     print('skip')\n",
    "#                     continue\n",
    "#                 if gini < best_gini:\n",
    "#                     best_gini = gini\n",
    "#                     best_idx = idx\n",
    "#                     best_thr = (thresholds[i] + thresholds[i-1])/2\n",
    "# #                     print('best feature',best_idx,'best threshold',best_thr)\n",
    "#         return best_idx, best_thr\n",
    "    \n",
    "#     def _grow_tree(self,X,y,depth=0):\n",
    "#         num_samples_per_class = [np.sum(y == i) for i in range(self.n_classes_)]\n",
    "# #         print('num_samples_per_class',num_samples_per_class)\n",
    "#         predicted_class = np.argmax(num_samples_per_class)\n",
    "#         node = Node(predicted_class = predicted_class)\n",
    "        \n",
    "#         if depth < self.max_depth:\n",
    "# #             print('depth', depth)\n",
    "#             idx,thr = self._best_split(X,y)\n",
    "#             if idx is not None:\n",
    "#                 indices_left = X[:,idx] < thr\n",
    "#                 X_left,y_left = X[indices_left],y[indices_left]\n",
    "#                 X_right,y_right = X[~indices_left], y[~indices_left]\n",
    "#                 node.feature_index = idx\n",
    "# #                 print('chosen feature',node.feature_index)\n",
    "#                 node.threshold = thr\n",
    "# #                 print('chosen threshold',node.threshold)\n",
    "#                 node.left = self._grow_tree(X_left,y_left,depth + 1)\n",
    "#                 node.right = self._grow_tree(X_right,y_right,depth+1)\n",
    "#         return node\n",
    "    \n",
    "#     def _predict(self, inputs):\n",
    "#         node = self.tree_\n",
    "#         while node.left:\n",
    "#             if inputs[node.feature_index] < node.threshold:\n",
    "#                 node = node.left\n",
    "#             else:\n",
    "#                 node  = node.right\n",
    "#         return node.predicted_class\n",
    "    \n",
    "# # if __name__ == \"__main__\":\n",
    "# #     import sys\n",
    "# #     from sklearn.datasets import load_iris\n",
    "\n",
    "# #     dataset = load_iris()\n",
    "# #     X, y = dataset.data, dataset.target\n",
    "# #     clf = DecisionTree(max_depth=10)\n",
    "# #     clf.fit(X, y)\n",
    "# #     print(clf.predict([[0, 0, 5, 1.5]]))                \n"
   ]
  },
  {
   "cell_type": "code",
   "execution_count": 34,
   "metadata": {},
   "outputs": [],
   "source": [
    "class Node:\n",
    "    def __init__(self, predicted_class):\n",
    "        self.predicted_class = predicted_class\n",
    "        self.feature_index = 0\n",
    "        self.threshold = 0\n",
    "        self.left = None\n",
    "        self.right = None\n",
    "\n",
    "\n",
    "class DecisionTree:\n",
    "    def __init__(self, max_depth=None):\n",
    "        self.max_depth = max_depth\n",
    "\n",
    "    def fit(self, X, y):\n",
    "        self.n_classes_ = len(set(y))\n",
    "        self.n_features_ = X.shape[1]\n",
    "        self.tree_ = self._grow_tree(X, y)\n",
    "\n",
    "    def predict(self, X):\n",
    "        return [self._predict(inputs) for inputs in X]\n",
    "\n",
    "    def _best_split(self, X, y):\n",
    "        m = y.size\n",
    "        if m <= 1:\n",
    "            return None, None\n",
    "        num_parent = [np.sum(y == c) for c in range(self.n_classes_)]\n",
    "        best_gini = 1.0 - sum((n / m) ** 2 for n in num_parent)\n",
    "        best_idx, best_thr = None, None\n",
    "        for idx in range(self.n_features_):\n",
    "            thresholds, classes = zip(*sorted(zip(X[:, idx], y)))\n",
    "            num_left = [0] * self.n_classes_\n",
    "            num_right = num_parent.copy()\n",
    "            for i in range(1, m):\n",
    "                c = classes[i - 1]\n",
    "                num_left[c] += 1\n",
    "                num_right[c] -= 1\n",
    "                gini_left = 1.0 - sum(\n",
    "                    (num_left[x] / i) ** 2 for x in range(self.n_classes_)\n",
    "                )\n",
    "                gini_right = 1.0 - sum(\n",
    "                    (num_right[x] / (m - i)) ** 2 for x in range(self.n_classes_)\n",
    "                )\n",
    "                gini = (i * gini_left + (m - i) * gini_right) / m\n",
    "                if thresholds[i] == thresholds[i - 1]:\n",
    "                    continue\n",
    "                if gini < best_gini:\n",
    "                    best_gini = gini\n",
    "                    best_idx = idx\n",
    "                    best_thr = (thresholds[i] + thresholds[i - 1]) / 2\n",
    "        return best_idx, best_thr\n",
    "\n",
    "    def _grow_tree(self, X, y, depth=0):\n",
    "        num_samples_per_class = [np.sum(y == i) for i in range(self.n_classes_)]\n",
    "        predicted_class = np.argmax(num_samples_per_class)\n",
    "        node = Node(predicted_class=predicted_class)\n",
    "        if depth < self.max_depth:\n",
    "            idx, thr = self._best_split(X, y)\n",
    "            if idx is not None:\n",
    "                indices_left = X[:, idx] < thr\n",
    "                X_left, y_left = X[indices_left], y[indices_left]\n",
    "                X_right, y_right = X[~indices_left], y[~indices_left]\n",
    "                node.feature_index = idx\n",
    "                node.threshold = thr\n",
    "                node.left = self._grow_tree(X_left, y_left, depth + 1)\n",
    "                node.right = self._grow_tree(X_right, y_right, depth + 1)\n",
    "        return node\n",
    "\n",
    "    def _predict(self, inputs):\n",
    "        node = self.tree_\n",
    "        while node.left:\n",
    "            if inputs[node.feature_index] < node.threshold:\n",
    "                node = node.left\n",
    "            else:\n",
    "                node = node.right\n",
    "        return node.predicted_class\n",
    "\n",
    "\n",
    "# if __name__ == \"__main__\":\n",
    "#     import sys\n",
    "#     from sklearn.datasets import load_iris\n",
    "\n",
    "#     dataset = load_iris()\n",
    "#     X, y = dataset.data, dataset.target\n",
    "#     clf = DecisionTree(max_depth=10)\n",
    "#     clf.fit(X, y)\n",
    "#     print(clf.predict([[0, 0, 5, 1.5]]))"
   ]
  },
  {
   "cell_type": "code",
   "execution_count": 35,
   "metadata": {},
   "outputs": [
    {
     "name": "stdout",
     "output_type": "stream",
     "text": [
      "<class 'numpy.ndarray'> <class 'numpy.ndarray'>\n",
      "(1050, 2) (450, 2) (1050,) (450,)\n"
     ]
    },
    {
     "data": {
      "text/plain": [
       "<matplotlib.collections.PathCollection at 0x7fc6f8c7fb80>"
      ]
     },
     "execution_count": 35,
     "metadata": {},
     "output_type": "execute_result"
    },
    {
     "data": {
      "image/png": "[encoded data removed]",
      "text/plain": [
       "<Figure size 360x360 with 1 Axes>"
      ]
     },
     "metadata": {
      "needs_background": "light"
     },
     "output_type": "display_data"
    }
   ],
   "source": [
    "X, y = make_blobs(n_samples=1500, cluster_std=[1.0, 1.0, 1.0], random_state=42)\n",
    "print(type(X),type(y))\n",
    "# X, y = make_blobs(n_samples=1500, centers=3,\n",
    "#                   random_state=0, cluster_std=1.0)\n",
    "\n",
    "# X, y = make_blobs(n_samples=3000, centers=4,\n",
    "#                   random_state=40, cluster_std=1.0)\n",
    "# X[:,0] = X[:,0]+100\n",
    "# X[:,1] = X[:,1]+100\n",
    "# X[[y==1]][:,0] = X[[y==1]][:,0] - 300\n",
    "# print(X.shape,y.shape)\n",
    "\n",
    "from sklearn.model_selection import train_test_split\n",
    "X_train, X_test, y_train,y_test = train_test_split(X,y,test_size=0.3, shuffle=True, random_state=42)\n",
    "print(X_train.shape,X_test.shape,y_train.shape,y_test.shape)\n",
    "# print(y_train)\n",
    "# print(y_test)\n",
    "\n",
    "figure = plt.figure(figsize=(5, 5))\n",
    "ax = plt.axes()  #get the instance of axes from plt\n",
    "\n",
    "ax.grid()\n",
    "ax.scatter(X[:, 0], X[:, 1], c=y)"
   ]
  },
  {
   "cell_type": "code",
   "execution_count": 36,
   "metadata": {},
   "outputs": [],
   "source": [
    "model = DecisionTree(max_depth = 3)\n",
    "model.fit(X_train,y_train)\n",
    "preds = model.predict(X_test)"
   ]
  },
  {
   "cell_type": "code",
   "execution_count": 37,
   "metadata": {},
   "outputs": [
    {
     "data": {
      "text/plain": [
       "<matplotlib.collections.PathCollection at 0x7fc6f8856760>"
      ]
     },
     "execution_count": 37,
     "metadata": {},
     "output_type": "execute_result"
    },
    {
     "data": {
      "image/png": "[encoded data removed]",
      "text/plain": [
       "<Figure size 360x360 with 1 Axes>"
      ]
     },
     "metadata": {
      "needs_background": "light"
     },
     "output_type": "display_data"
    }
   ],
   "source": [
    "figure = plt.figure(figsize=(5, 5))\n",
    "ax = plt.axes()  #get the instance of axes from plt\n",
    "# print(y_test)\n",
    "# print(preds)\n",
    "ax.grid()\n",
    "ax.scatter(X_test[:,0], X_test[:,1], c=preds)\n",
    "# ax.scatter(X_test[:, 0], X_test[:, 1], c=preds)"
   ]
  },
  {
   "cell_type": "markdown",
   "metadata": {},
   "source": [
    "### Sklearn"
   ]
  },
  {
   "cell_type": "code",
   "execution_count": 38,
   "metadata": {},
   "outputs": [
    {
     "name": "stdout",
     "output_type": "stream",
     "text": [
      "(200, 200)\n",
      "(200, 200)\n"
     ]
    },
    {
     "data": {
      "image/png": "[encoded data removed]",
      "text/plain": [
       "<Figure size 432x288 with 1 Axes>"
      ]
     },
     "metadata": {
      "needs_background": "light"
     },
     "output_type": "display_data"
    }
   ],
   "source": [
    "from sklearn.tree import DecisionTreeClassifier\n",
    "model = DecisionTreeClassifier().fit(X_train, y_train)\n",
    "\n",
    "def plot_tree(model, X, y):\n",
    "    plt.grid()\n",
    "    plt.scatter(X[:, 0], X[:, 1], c=y, s=30)\n",
    "    xx, yy = np.meshgrid(np.linspace(np.min(X[:,0]), np.max(X[:,0]), num=200),\n",
    "                             np.linspace(np.min(X[:,1]), np.max(X[:,1]), num=200))\n",
    "    print(xx.shape)\n",
    "    Z = model.predict(np.c_[xx.ravel(), yy.ravel()]).reshape(xx.shape)\n",
    "    print(Z.shape)\n",
    "    # Create a color plot with the results\n",
    "    n_classes = len(set(y))\n",
    "    contours = plt.contourf(xx, yy, Z, alpha=0.2)\n",
    "\n",
    "\n",
    "plot_tree(model, X_test, y_test)"
   ]
  },
  {
   "cell_type": "code",
   "execution_count": 39,
   "metadata": {},
   "outputs": [
    {
     "name": "stdout",
     "output_type": "stream",
     "text": [
      "[2 1 2 1 2 2 0 2 1 1 1 2 2 1 2 0 1 0 2 0 1 1 2 2 0 0 2 0 2 2 0 1 0 1 1 2 2\n",
      " 2 0 0 2 1 0 0 0 2 2 0 0 0 0 2 0 0 1 2 1 1 1 1 1 1 0 1 0 1 2 2 0 1 0 2 0 2\n",
      " 0 2 2 1 2 2 2 2 1 0 0 0 1 0 0 1 1 1 0 1 1 1 0 2 1 2 0 1 0 1 2 2 1 1 0 2 1\n",
      " 0 1 2 0 0 2 2 0 0 0 0 1 1 1 1 0 2 1 1 2 0 0 1 2 0 2 1 1 1 2 2 2 1 0 1 2 1\n",
      " 1 1 1 1 1 2 0 0 1 2 0 0 2 1 0 0 2 1 2 2 2 1 1 0 2 0 2 1 0 1 1 1 2 2 2 1 0\n",
      " 1 1 2 0 2 0 2 2 1 0 2 0 0 0 1 2 1 0 0 0 2 1 0 1 2 1 0 0 1 0 0 1 2 2 0 2 2\n",
      " 1 1 0 1 1 1 2 2 2 0 0 1 0 0 1 1 1 0 2 2 0 2 1 1 1 0 2 1 1 0 2 0 0 1 0 0 1\n",
      " 1 2 2 2 2 1 1 2 2 1 0 0 0 0 1 1 0 0 0 1 2 0 2 0 0 2 1 1 1 2 1 2 1 2 1 1 2\n",
      " 2 0 2 2 1 0 2 1 0 1 1 0 0 1 1 0 1 1 1 1 1 0 2 0 1 0 2 0 2 1 0 1 2 1 0 2 0\n",
      " 1 0 2 1 2 1 2 0 0 1 1 2 0 1 2 0 0 1 1 0 2 0 2 2 0 0 0 0 0 0 1 0 1 2 2 1 0\n",
      " 0 2 0 1 1 0 1 1 2 1 2 0 0 0 2 1 0 2 2 0 1 1 2 2 0 1 1 2 1 1 2 1 2 0 2 2 2\n",
      " 1 2 2 2 0 0 1 2 2 0 0 1 1 2 0 1 1 1 1 0 0 1 0 0 0 1 0 0 1 0 0 1 2 2 1 0 1\n",
      " 1 2 2 2 2 2]\n",
      "              precision    recall  f1-score   support\n",
      "\n",
      "           0       1.00      1.00      1.00       150\n",
      "           1       1.00      1.00      1.00       161\n",
      "           2       1.00      1.00      1.00       139\n",
      "\n",
      "    accuracy                           1.00       450\n",
      "   macro avg       1.00      1.00      1.00       450\n",
      "weighted avg       1.00      1.00      1.00       450\n",
      "\n"
     ]
    }
   ],
   "source": [
    "from sklearn.tree import DecisionTreeClassifier\n",
    "model = DecisionTreeClassifier()\n",
    "model.fit(X_train, y_train)\n",
    "#np.c_ = Translates slice objects to concatenation along the second axis.\n",
    "# Z = model.predict(np.c_[X_test[:,0], X_test[:,1]]).reshape(X_test[:,0].shape)\n",
    "Z = model.predict(X_test)\n",
    "print(Z)\n",
    "# print(np.c_[X_test[:,0], X_test[:,1]])\n",
    "\n",
    "from sklearn.metrics import classification_report\n",
    "print(classification_report(y_test, Z))"
   ]
  },
  {
   "cell_type": "code",
   "execution_count": 40,
   "metadata": {},
   "outputs": [
    {
     "name": "stdout",
     "output_type": "stream",
     "text": [
      "2\n"
     ]
    }
   ],
   "source": [
    "print(model.tree_.max_depth)"
   ]
  },
  {
   "cell_type": "code",
   "execution_count": null,
   "metadata": {},
   "outputs": [],
   "source": []
  },
  {
   "cell_type": "code",
   "execution_count": null,
   "metadata": {},
   "outputs": [],
   "source": []
  },
  {
   "cell_type": "code",
   "execution_count": null,
   "metadata": {},
   "outputs": [],
   "source": []
  },
  {
   "cell_type": "code",
   "execution_count": null,
   "metadata": {},
   "outputs": [],
   "source": []
  },
  {
   "cell_type": "code",
   "execution_count": null,
   "metadata": {},
   "outputs": [],
   "source": []
  },
  {
   "cell_type": "code",
   "execution_count": null,
   "metadata": {},
   "outputs": [],
   "source": []
  }
 ],
 "metadata": {
  "kernelspec": {
   "display_name": "Python 3",
   "language": "python",
   "name": "python3"
  },
  "language_info": {
   "codemirror_mode": {
    "name": "ipython",
    "version": 3
   },
   "file_extension": ".py",
   "mimetype": "text/x-python",
   "name": "python",
   "nbconvert_exporter": "python",
   "pygments_lexer": "ipython3",
   "version": "3.8.3"
  }
 },
 "nbformat": 4,
 "nbformat_minor": 4
}
