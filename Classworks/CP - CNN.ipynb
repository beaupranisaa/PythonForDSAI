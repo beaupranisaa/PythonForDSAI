{
 "cells": [
  {
   "cell_type": "markdown",
   "metadata": {},
   "source": [
    "## Convolutional Neural Network"
   ]
  },
  {
   "cell_type": "code",
   "execution_count": 82,
   "metadata": {},
   "outputs": [],
   "source": [
    "from second_version import *"
   ]
  },
  {
   "cell_type": "code",
   "execution_count": 83,
   "metadata": {},
   "outputs": [],
   "source": [
    "import numpy as np\n",
    "from numpy import ndarray"
   ]
  },
  {
   "cell_type": "code",
   "execution_count": 84,
   "metadata": {},
   "outputs": [],
   "source": [
    "## create some helper functions\n",
    "\n",
    "\n",
    "## check shape\n",
    "def assert_same_shape(A:ndarray, B:ndarray):\n",
    "    assert A.shape == B.shape\n",
    "    \n",
    "\n",
    "## check dimension\n",
    "def assert_dim(X:ndarray, dim:ndarray):\n",
    "    assert len(X.shape) == dim #<-- should be 4 for CBNN"
   ]
  },
  {
   "cell_type": "code",
   "execution_count": 85,
   "metadata": {},
   "outputs": [
    {
     "name": "stdout",
     "output_type": "stream",
     "text": [
      "(5,)\n",
      "(3,)\n"
     ]
    }
   ],
   "source": [
    "\n",
    "#Lets code padding for 1Ddata\n",
    "\n",
    "input_1d = np.array([1,2,3,4,5])#.reshape(-1,1) #<- put L num of zeros of both sides\n",
    "param_1d = np.array([1,1,1])#.reshape(-1,1) #<-- filters. <-- pyTorch\n",
    "print(input_1d.shape)\n",
    "print(param_1d.shape)"
   ]
  },
  {
   "cell_type": "code",
   "execution_count": 86,
   "metadata": {},
   "outputs": [],
   "source": [
    "def _pad_1d(input_:ndarray,padding: int) -> ndarray:\n",
    "    #padding =1 -> [0,1,2,3,4,5,0]\n",
    "    #padding =2 -> [0,0,1,2,3,4,5,0,0]\n",
    "#     padding = np.zeros(1)\n",
    "    zero = np.array([0])\n",
    "    zero = np.repeat(zero,padding)\n",
    "    return np.concatenate([zero,input_,zero])\n"
   ]
  },
  {
   "cell_type": "code",
   "execution_count": 87,
   "metadata": {},
   "outputs": [
    {
     "data": {
      "text/plain": [
       "array([0, 1, 2, 3, 4, 5, 0])"
      ]
     },
     "execution_count": 87,
     "metadata": {},
     "output_type": "execute_result"
    }
   ],
   "source": [
    "_pad_1d(input_1d,1)"
   ]
  },
  {
   "cell_type": "code",
   "execution_count": 91,
   "metadata": {},
   "outputs": [],
   "source": [
    "def conv_1d(input_: ndarray, param: ndarray) -> ndarray:\n",
    "    assert_dim(input_,1)\n",
    "    assert_dim(param,1)\n",
    "    \n",
    "    #pad tem first\n",
    "    #pad tem using (K-1)/2 -> K//2\n",
    "    \n",
    "    param_len = param.shape[0]\n",
    "    param_mid = param_len//2\n",
    "    input_pad = _pad_1d(input_,param_mid)\n",
    "    \n",
    "    #initialize some output [0,0,0,0,0]\n",
    "    output = np.zeros(input_.shape)\n",
    "    \n",
    "    for o in range(output.shape[0]):\n",
    "        for w in range(param_len):\n",
    "            output[o] += param[w] * input_pad[o+w]\n",
    "    assert_same_shape(input_,output)\n",
    "    \n",
    "    return output\n",
    "\n",
    "def conv_1d_sum(input_:ndarray, param:ndarray) -> ndarray:\n",
    "    output = conv_1d(input_,param)\n",
    "    return np.sum(output)\n"
   ]
  },
  {
   "cell_type": "code",
   "execution_count": 92,
   "metadata": {},
   "outputs": [],
   "source": [
    "# param_1d = param_1d.reshape(-1,1)\n",
    "# input_1d = input_1d.reshape(-1,1)\n",
    "# k = param_1d.shape[0]\n",
    "# a = param_1d.T @ input_1d[:k,:]\n",
    "# print(a)"
   ]
  },
  {
   "cell_type": "code",
   "execution_count": 93,
   "metadata": {},
   "outputs": [
    {
     "data": {
      "text/plain": [
       "39.0"
      ]
     },
     "execution_count": 93,
     "metadata": {},
     "output_type": "execute_result"
    }
   ],
   "source": [
    "conv_1d_sum(input_1d,param_1d)"
   ]
  },
  {
   "cell_type": "code",
   "execution_count": 94,
   "metadata": {},
   "outputs": [
    {
     "ename": "SyntaxError",
     "evalue": "invalid syntax (<ipython-input-94-c91e00e872fe>, line 18)",
     "output_type": "error",
     "traceback": [
      "\u001b[0;36m  File \u001b[0;32m\"<ipython-input-94-c91e00e872fe>\"\u001b[0;36m, line \u001b[0;32m18\u001b[0m\n\u001b[0;31m    for\u001b[0m\n\u001b[0m        ^\u001b[0m\n\u001b[0;31mSyntaxError\u001b[0m\u001b[0;31m:\u001b[0m invalid syntax\n"
     ]
    }
   ],
   "source": [
    "def _input_grad_1d(input_: ndarray, param:ndarray,grad:ndarray=None) -> ndarray:\n",
    "    \n",
    "    param_len = param.shape[0]\n",
    "    \n",
    "    param_mid = param_len//2\n",
    "    \n",
    "    if grad is None:\n",
    "        grad = np.ones_like(input_)\n",
    "    else:\n",
    "        assert_same_shape(input_,grad)\n",
    "    \n",
    "    #define grad [0,1,1,1,1,1,0]\n",
    "    grad = _pad_1d(grad,param_mid)\n",
    "    \n",
    "    #prepare the input grad - holder for input grad\n",
    "    input_grad = np.zeros_like(input_)\n",
    "    \n",
    "    for i in range(input_.shape[0]):\n",
    "        for p in range(param.shape[0]):\n",
    "            input_grad[i] += input_[] * param[p]\n",
    "    \n",
    "    #asswert same of input grad with input\n",
    "    \n",
    "    return input_grad #[2,3,3,3,2]\n",
    "\n"
   ]
  },
  {
   "cell_type": "code",
   "execution_count": null,
   "metadata": {},
   "outputs": [],
   "source": []
  }
 ],
 "metadata": {
  "kernelspec": {
   "display_name": "Python 3",
   "language": "python",
   "name": "python3"
  },
  "language_info": {
   "codemirror_mode": {
    "name": "ipython",
    "version": 3
   },
   "file_extension": ".py",
   "mimetype": "text/x-python",
   "name": "python",
   "nbconvert_exporter": "python",
   "pygments_lexer": "ipython3",
   "version": "3.8.8"
  }
 },
 "nbformat": 4,
 "nbformat_minor": 4
}
