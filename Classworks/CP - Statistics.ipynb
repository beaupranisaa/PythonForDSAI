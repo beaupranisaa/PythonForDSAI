{
 "cells": [
  {
   "cell_type": "code",
   "execution_count": 62,
   "metadata": {},
   "outputs": [],
   "source": [
    "#Statistics\n",
    "\n",
    "#A random variable\n",
    "\n",
    "#Motivation1\n",
    "#Human Computer Interaction\n",
    "#Experiments/Experimental Research\n",
    "#in computerscicne that involves users\n",
    "#so much is needed instatistic\n",
    "\n",
    "#Motivation2\n",
    "#A lot of algorithms (especially distace-based)\n",
    "#clustering, unsupervised plearning\n",
    "#require knowledge about distribution\n",
    "#Gaussian distribution -> Normal dist\n",
    "#upside down bell shape,# upside down u shape\n"
   ]
  },
  {
   "cell_type": "code",
   "execution_count": 63,
   "metadata": {},
   "outputs": [],
   "source": [
    "#A random variable\n",
    "#--> varibles with different outcomes\n",
    "#example, roll a dice, t is a randome variable. 1,2,3,4,5,6\n",
    "\n",
    "#random variables have two types\n",
    "#1. Discrete ->[1,2,3,4,5,6] not continuous, fixed values\n",
    "\n",
    "#2. continous -> infinite possible values\n",
    "# example heights between 0 and something\n",
    "\n"
   ]
  },
  {
   "cell_type": "code",
   "execution_count": 64,
   "metadata": {},
   "outputs": [],
   "source": [
    "#Mouthful/Verbose\n",
    "#Probability distribution\n",
    "#if i roll a dice 10 times, i get these results\n",
    "#which are [1,1,2,4,6,4,2,1,6,1]\n",
    "\n",
    "#plot the frequency graph\n",
    "#count how many 1s, 2s,3s and so on\n",
    "\n",
    "#probability distribution of discrete variables\n",
    "#discrete probability distribution\n",
    "#P(X = x_1) = p_i\n",
    "#P(X=1) = 4/10 = 0.4\n",
    "#P(X=2) = 2/10 = 0.2\n",
    "#P(X=2&X=3)\n",
    "\n",
    "#always between 0 and 1 for each i\n",
    "#p_1 + p_2 ..... = 1\n",
    "\n",
    "#discrete distribution\n",
    "#Bernoulli distribution\n",
    "#Binomial distribution\n",
    "#Poisson distribution\n",
    "\n",
    "\n",
    "#continuous distribution\n",
    "#probability of any single value is equal to 0\n",
    "#becuase we assume that outcomes are infinite \n",
    "#NOT VALID P(X=x_i) NOT VALIDDDDDDDDDDDDD\n",
    "#P(X > x_i); P(X<x_i) ; P(X_1 <x_i<X_2)\n",
    "#Something in range\n",
    "#Area under the curve --> integration\n",
    "#Must satisfy the following properties\n",
    "#1. the curve has no negative values (p(x) > 0 for all )\n",
    "#2. the total area under the curve is equal to 1\n",
    "#3. A curve meeting these requirements are called denxity curve\n",
    "\n",
    "#examples for continuous distribution\n",
    "# normal/gaussian, exponential, bet adistributions\n",
    "\n",
    "#CDF -> cumulative distribution function\n",
    "#getting a range of probabilities\n",
    "\n",
    "#Human heights -> normal distribution\n",
    "\n",
    "#image -> normal distribution -NOT DISCRETE!\n",
    "\n",
    "#shoppig behaviors -> discrete (buy or not buy) amount is conti\n",
    "\n",
    "#music -> continous -> normal distribution, exponential (EDM electronic dance music)\n",
    "\n",
    "#car crashes -> discrete -> Poisson distribution\n",
    "\n",
    "#when you do data science\n",
    "#top down or bottom up\n",
    "# top down, you assume the distribution and use this distribution to pick your correct algo\n",
    "# bottom up, when you dot know the distribution eg image, music, then you let the machine figure out the distribution for you\n",
    "\n",
    "\n",
    "#likelihood \n",
    "#probabilit yof a sample belonging to a distribution\n",
    "# eg. normal distirbution (mu, \\mu) (sigma, \\sigma)\n",
    "# xi put this xi into this normal distribution\n",
    "# output --> likelyhood how likely does this sample belong to this distribution\n"
   ]
  },
  {
   "cell_type": "code",
   "execution_count": 2,
   "metadata": {},
   "outputs": [],
   "source": [
    "# uniform distribution parameter= (a=start,b=end)\n",
    "\n",
    "from scipy.stats import uniform\n",
    "n = 10000\n",
    "a = 10\n",
    "width = 20 # b=30 a+width = b\n",
    "\n",
    "# rvs => stands for random variates\n",
    "# loc => location \n",
    "# n = number of values \n",
    "# you want this n to be equally distributed within the width 10 and 30\n",
    "data_uniform = uniform.rvs (loc =a, size = n, scale = width)\n"
   ]
  },
  {
   "cell_type": "code",
   "execution_count": 3,
   "metadata": {},
   "outputs": [
    {
     "data": {
      "text/plain": [
       "numpy.ndarray"
      ]
     },
     "execution_count": 3,
     "metadata": {},
     "output_type": "execute_result"
    }
   ],
   "source": [
    "type(data_uniform)"
   ]
  },
  {
   "cell_type": "code",
   "execution_count": 4,
   "metadata": {},
   "outputs": [
    {
     "data": {
      "text/plain": [
       "(1.0, 40.0)"
      ]
     },
     "execution_count": 4,
     "metadata": {},
     "output_type": "execute_result"
    },
    {
     "data": {
      "image/png": "[encoded data removed]",
      "text/plain": [
       "<Figure size 432x288 with 1 Axes>"
      ]
     },
     "metadata": {
      "needs_background": "light"
     },
     "output_type": "display_data"
    }
   ],
   "source": [
    "import matplotlib.pyplot as plt\n",
    "plt.hist(data_uniform, density = True) # densitiy = true will sum up all theprobability\n",
    "plt.xlim(1,40)\n",
    "\n",
    "# notce that 1/b-a = 0.05\n",
    "# 1/(20-10) = 0.05\n"
   ]
  },
  {
   "cell_type": "code",
   "execution_count": 5,
   "metadata": {},
   "outputs": [],
   "source": [
    "#normal distribution\n",
    "#Gaussian distribution\n",
    "\n",
    "#cov(X,X) = variance of X =(x-xbar)^2/N\n",
    "#cov(Y,Y) = variance of Y = (y-ybar)^2/N\n",
    "#cov(X,Y) = covariance of XY = (x-xbar)(y-ybar)/N"
   ]
  },
  {
   "cell_type": "code",
   "execution_count": 6,
   "metadata": {},
   "outputs": [
    {
     "data": {
      "text/plain": [
       "(array([0.0005032 , 0.00566102, 0.04214312, 0.15322482, 0.33098072,\n",
       "        0.37589144, 0.24845569, 0.08252503, 0.01635405, 0.00226441]),\n",
       " array([-4.17173034, -3.37681999, -2.58190963, -1.78699927, -0.99208892,\n",
       "        -0.19717856,  0.5977318 ,  1.39264215,  2.18755251,  2.98246286,\n",
       "         3.77737322]),\n",
       " <a list of 10 Patch objects>)"
      ]
     },
     "execution_count": 6,
     "metadata": {},
     "output_type": "execute_result"
    },
    {
     "data": {
      "image/png": "[encoded data removed]",
      "text/plain": [
       "<Figure size 432x288 with 1 Axes>"
      ]
     },
     "metadata": {
      "needs_background": "light"
     },
     "output_type": "display_data"
    }
   ],
   "source": [
    "from scipy.stats import norm\n",
    "\n",
    "#takes tw parameters/mu and/sigma\n",
    "#loc = mu sclae = sigma\n",
    "data_normal = norm.rvs (size = 10000,loc = 0,scale = 1)\n",
    "\n",
    "\n",
    "plt.hist(data_normal,density = True)"
   ]
  },
  {
   "cell_type": "code",
   "execution_count": 7,
   "metadata": {},
   "outputs": [],
   "source": [
    "#normal distribution 2 parameter = mean, std"
   ]
  },
  {
   "cell_type": "code",
   "execution_count": 8,
   "metadata": {},
   "outputs": [],
   "source": [
    "#68% of the data falls within ONE std from the mean\n",
    "#95% of the data falls within TWO std from the mean\n",
    "#95% confidence interval ==> within two std from the mean\n",
    "#normal distribution always have the mean of 0 and std of 1\n",
    "#std and var -> var is a squared of std var = std**2\n",
    "#how much of the sample vary\n",
    "#high std means => a lot of randomness\n",
    "#low std means => quite steady and consistant\n",
    "\n",
    "#compare two devices, whether which one is faster\n",
    "#1. Touch keyboard \n",
    "# mean speed = 20 wpm n=100\n",
    "#2. Gesture keyboard\n",
    "# mean speed = 15 wpm n=100\n",
    "\n",
    "#Can we say that touch is faster than gesture keyboard?\n",
    "\n",
    "#Now, more info,\n",
    "#std of touch std = 100\n",
    "#eg p1 = 1wpm, p2= 1wpm, p3 = 58wpm\n",
    "#std of gesture is 1\n",
    "#eg p1 = 14wpm, p2= 15wpm, p3 = 16wpm\n",
    "\n",
    "#No, we cannot say that Touch is faster because touch has a very high variance\n",
    "\n",
    "#Now if std of touch is changed to 1\n",
    "#then, we can say that Touch keyboard is faster\n",
    "\n",
    "#Now what if its\n",
    "#Touch : mean = 20wpm, std =1.2 n =100\n",
    "#Gesture: mean = 15wpm, std =1.0 n =100\n",
    "\n",
    "#Use T-test - comparing two means\n",
    "#Use ANOVA - comparing three of more means"
   ]
  },
  {
   "cell_type": "code",
   "execution_count": 9,
   "metadata": {},
   "outputs": [],
   "source": [
    "#Gamma Distribution\n",
    "#a type of continuous distribution\n",
    "#parameters beta, alpha, gamma function(factorial function)\n",
    "#is a family of exponential distribution\n",
    "#when alpha = 1, gamma distribution becomes exponential distribution"
   ]
  },
  {
   "cell_type": "code",
   "execution_count": 10,
   "metadata": {},
   "outputs": [
    {
     "data": {
      "text/plain": [
       "(array([ 14.,  89., 201., 264., 220., 135.,  58.,  14.,   4.,   1.]),\n",
       " array([18.10317108, 21.22748906, 24.35180704, 27.47612502, 30.600443  ,\n",
       "        33.72476098, 36.84907896, 39.97339693, 43.09771491, 46.22203289,\n",
       "        49.34635087]),\n",
       " <a list of 10 Patch objects>)"
      ]
     },
     "execution_count": 10,
     "metadata": {},
     "output_type": "execute_result"
    },
    {
     "data": {
      "image/png": "[encoded data removed]",
      "text/plain": [
       "<Figure size 432x288 with 1 Axes>"
      ]
     },
     "metadata": {
      "needs_background": "light"
     },
     "output_type": "display_data"
    }
   ],
   "source": [
    "from scipy.stats import gamma\n",
    "\n",
    "a = 20 # 'a' controls how fast the graph drops\n",
    "size = 1000\n",
    "loc = 10\n",
    "scale = 1 #how wide your distribution is\n",
    "\n",
    "data_gamma =gamma.rvs(a=a,size=size,loc=loc,scale=scale)\n",
    "\n",
    "plt.hist(data_gamma, density=False) #densitiy = false: the area under the curve is not equal to one - NOT NORMALIZED if prefere it to be normalized then dentisity = true\n",
    "\n"
   ]
  },
  {
   "cell_type": "code",
   "execution_count": 11,
   "metadata": {},
   "outputs": [],
   "source": [
    "#Exponential distribution\n",
    "# lambda = rate "
   ]
  },
  {
   "cell_type": "code",
   "execution_count": 12,
   "metadata": {},
   "outputs": [
    {
     "data": {
      "text/plain": [
       "(array([0.07191054, 0.03443408, 0.01811592, 0.00622303, 0.00373382,\n",
       "        0.00179776, 0.00110632, 0.00082974, 0.        , 0.00013829]),\n",
       " array([3.08350284e-02, 7.26204219e+00, 1.44932494e+01, 2.17244565e+01,\n",
       "        2.89556637e+01, 3.61868708e+01, 4.34180780e+01, 5.06492852e+01,\n",
       "        5.78804923e+01, 6.51116995e+01, 7.23429067e+01]),\n",
       " <a list of 10 Patch objects>)"
      ]
     },
     "execution_count": 12,
     "metadata": {},
     "output_type": "execute_result"
    },
    {
     "data": {
      "image/png": "[encoded data removed]",
      "text/plain": [
       "<Figure size 432x288 with 1 Axes>"
      ]
     },
     "metadata": {
      "needs_background": "light"
     },
     "output_type": "display_data"
    }
   ],
   "source": [
    "from scipy.stats import expon\n",
    "\n",
    "data_expon = expon.rvs(scale=10, loc=0,size=1000) #rvs random variance\n",
    "#lamda = 1/scale small lamda, then it takes longer to reach the bottom\n",
    "#inverse relationship with the scale\n",
    "#big lamda => drop quickly\n",
    "plt.hist(data_expon,density= True)"
   ]
  },
  {
   "cell_type": "code",
   "execution_count": 13,
   "metadata": {},
   "outputs": [],
   "source": [
    "#Poisson Distribution\n",
    "#Poisson distribution is a probability of observing k events in an interval\n",
    "#k is a number, and events is a type of event\n",
    "#probability of observing 10 crashes between 5 AM and 5 PM\n",
    "#probability of number of users using your website between X and Y"
   ]
  },
  {
   "cell_type": "code",
   "execution_count": 14,
   "metadata": {},
   "outputs": [],
   "source": [
    "#Poisson is a normal distribution in disguise when lambda is approching infinity\n",
    "# -> e^-lambda becomes very small \n",
    "#eg finding a dist of human height of the whoe world (human apparoaching infnity)"
   ]
  },
  {
   "cell_type": "code",
   "execution_count": 15,
   "metadata": {},
   "outputs": [
    {
     "data": {
      "text/plain": [
       "(array([0.00418182, 0.02690909, 0.07263636, 0.10540909, 0.10659091,\n",
       "        0.10045455, 0.026     , 0.00945455, 0.00222727, 0.00068182]),\n",
       " array([ 1. ,  3.2,  5.4,  7.6,  9.8, 12. , 14.2, 16.4, 18.6, 20.8, 23. ]),\n",
       " <a list of 10 Patch objects>)"
      ]
     },
     "execution_count": 15,
     "metadata": {},
     "output_type": "execute_result"
    },
    {
     "data": {
      "image/png": "[encoded data removed]",
      "text/plain": [
       "<Figure size 432x288 with 1 Axes>"
      ]
     },
     "metadata": {
      "needs_background": "light"
     },
     "output_type": "display_data"
    }
   ],
   "source": [
    "from scipy.stats import poisson\n",
    "data_poisson = poisson.rvs(mu = 10, size = 10000)\n",
    "# mu = lambda\n",
    "plt.hist(data_poisson, density = True)"
   ]
  },
  {
   "cell_type": "code",
   "execution_count": 16,
   "metadata": {},
   "outputs": [],
   "source": [
    "#Binomial distribution\n",
    "#binomial distribution is basically \n",
    "#probability of ONLY two outcomes eg coin H and T, exam pass or fail\n",
    "#binomial distribution\n",
    "#p => probability of successful outcome\n",
    "#1-p (not a parameter) -> prob of unsuccesesful outcome\n",
    "#k,n \n",
    "#toss the coin n times, what is the probability of k successes"
   ]
  },
  {
   "cell_type": "code",
   "execution_count": 17,
   "metadata": {},
   "outputs": [
    {
     "data": {
      "text/plain": [
       "(array([0.0011, 0.0106, 0.0457, 0.1223, 0.2068, 0.2432, 0.2003, 0.1151,\n",
       "        0.0449, 0.01  ]),\n",
       " array([ 0.,  1.,  2.,  3.,  4.,  5.,  6.,  7.,  8.,  9., 10.]),\n",
       " <a list of 10 Patch objects>)"
      ]
     },
     "execution_count": 17,
     "metadata": {},
     "output_type": "execute_result"
    },
    {
     "data": {
      "image/png": "[encoded data removed]",
      "text/plain": [
       "<Figure size 432x288 with 1 Axes>"
      ]
     },
     "metadata": {
      "needs_background": "light"
     },
     "output_type": "display_data"
    }
   ],
   "source": [
    "from scipy.stats import binom \n",
    "data_binom = binom.rvs(n=10,p=0.5, size =10000) #toss 10000 times, every 10 times how mny H and T\n",
    "plt.hist(data_binom,density = True)"
   ]
  },
  {
   "cell_type": "code",
   "execution_count": 81,
   "metadata": {},
   "outputs": [],
   "source": [
    "#binomial \n",
    "#eeg - angry vs sad \n",
    "#how do i generate number of images of angry vs sad\n",
    "#binomial distribution 0.5\n",
    "# 0 -> glob.glob(\"/**/*angry.jpg\")\n",
    "#for binomial distribution\n",
    "#when n --> infinity, this binomial distribution becomes normal distribution\n",
    "# p and q are not indefinitely small, around 0.5, binomial distribution also becomes normal distribution"
   ]
  },
  {
   "cell_type": "code",
   "execution_count": 82,
   "metadata": {},
   "outputs": [],
   "source": [
    "#if n = 1 \n",
    "#Bernoulli Distribution\n",
    "#scipy.stats.bernoulli"
   ]
  },
  {
   "cell_type": "code",
   "execution_count": 83,
   "metadata": {},
   "outputs": [],
   "source": [
    "#Recap\n",
    "#uniform\n",
    "#exponential\n",
    "#gamma\n",
    "#normal\n",
    "#poisson\n",
    "#binomial\n",
    "#bernoulli"
   ]
  },
  {
   "cell_type": "code",
   "execution_count": 84,
   "metadata": {},
   "outputs": [],
   "source": [
    "#Expolaratory Analysis and Inferential Satistics"
   ]
  },
  {
   "cell_type": "code",
   "execution_count": 85,
   "metadata": {},
   "outputs": [],
   "source": [
    "from sklearn.datasets import load_iris\n",
    "#there are 4 features - petal w h, sepal w h\n",
    "#there are 3 classes"
   ]
  },
  {
   "cell_type": "code",
   "execution_count": 86,
   "metadata": {},
   "outputs": [],
   "source": [
    "data = load_iris()"
   ]
  },
  {
   "cell_type": "code",
   "execution_count": 87,
   "metadata": {},
   "outputs": [
    {
     "data": {
      "text/plain": [
       "sklearn.utils.Bunch"
      ]
     },
     "execution_count": 87,
     "metadata": {},
     "output_type": "execute_result"
    }
   ],
   "source": [
    "type(data) # Bunch  -> a dictionary of np"
   ]
  },
  {
   "cell_type": "code",
   "execution_count": 88,
   "metadata": {},
   "outputs": [],
   "source": [
    "# data"
   ]
  },
  {
   "cell_type": "code",
   "execution_count": 89,
   "metadata": {},
   "outputs": [
    {
     "data": {
      "text/plain": [
       "array([[5.1, 3.5, 1.4, 0.2],\n",
       "       [4.9, 3. , 1.4, 0.2],\n",
       "       [4.7, 3.2, 1.3, 0.2],\n",
       "       [4.6, 3.1, 1.5, 0.2],\n",
       "       [5. , 3.6, 1.4, 0.2],\n",
       "       [5.4, 3.9, 1.7, 0.4],\n",
       "       [4.6, 3.4, 1.4, 0.3],\n",
       "       [5. , 3.4, 1.5, 0.2],\n",
       "       [4.4, 2.9, 1.4, 0.2],\n",
       "       [4.9, 3.1, 1.5, 0.1],\n",
       "       [5.4, 3.7, 1.5, 0.2],\n",
       "       [4.8, 3.4, 1.6, 0.2],\n",
       "       [4.8, 3. , 1.4, 0.1],\n",
       "       [4.3, 3. , 1.1, 0.1],\n",
       "       [5.8, 4. , 1.2, 0.2],\n",
       "       [5.7, 4.4, 1.5, 0.4],\n",
       "       [5.4, 3.9, 1.3, 0.4],\n",
       "       [5.1, 3.5, 1.4, 0.3],\n",
       "       [5.7, 3.8, 1.7, 0.3],\n",
       "       [5.1, 3.8, 1.5, 0.3],\n",
       "       [5.4, 3.4, 1.7, 0.2],\n",
       "       [5.1, 3.7, 1.5, 0.4],\n",
       "       [4.6, 3.6, 1. , 0.2],\n",
       "       [5.1, 3.3, 1.7, 0.5],\n",
       "       [4.8, 3.4, 1.9, 0.2],\n",
       "       [5. , 3. , 1.6, 0.2],\n",
       "       [5. , 3.4, 1.6, 0.4],\n",
       "       [5.2, 3.5, 1.5, 0.2],\n",
       "       [5.2, 3.4, 1.4, 0.2],\n",
       "       [4.7, 3.2, 1.6, 0.2],\n",
       "       [4.8, 3.1, 1.6, 0.2],\n",
       "       [5.4, 3.4, 1.5, 0.4],\n",
       "       [5.2, 4.1, 1.5, 0.1],\n",
       "       [5.5, 4.2, 1.4, 0.2],\n",
       "       [4.9, 3.1, 1.5, 0.2],\n",
       "       [5. , 3.2, 1.2, 0.2],\n",
       "       [5.5, 3.5, 1.3, 0.2],\n",
       "       [4.9, 3.6, 1.4, 0.1],\n",
       "       [4.4, 3. , 1.3, 0.2],\n",
       "       [5.1, 3.4, 1.5, 0.2],\n",
       "       [5. , 3.5, 1.3, 0.3],\n",
       "       [4.5, 2.3, 1.3, 0.3],\n",
       "       [4.4, 3.2, 1.3, 0.2],\n",
       "       [5. , 3.5, 1.6, 0.6],\n",
       "       [5.1, 3.8, 1.9, 0.4],\n",
       "       [4.8, 3. , 1.4, 0.3],\n",
       "       [5.1, 3.8, 1.6, 0.2],\n",
       "       [4.6, 3.2, 1.4, 0.2],\n",
       "       [5.3, 3.7, 1.5, 0.2],\n",
       "       [5. , 3.3, 1.4, 0.2],\n",
       "       [7. , 3.2, 4.7, 1.4],\n",
       "       [6.4, 3.2, 4.5, 1.5],\n",
       "       [6.9, 3.1, 4.9, 1.5],\n",
       "       [5.5, 2.3, 4. , 1.3],\n",
       "       [6.5, 2.8, 4.6, 1.5],\n",
       "       [5.7, 2.8, 4.5, 1.3],\n",
       "       [6.3, 3.3, 4.7, 1.6],\n",
       "       [4.9, 2.4, 3.3, 1. ],\n",
       "       [6.6, 2.9, 4.6, 1.3],\n",
       "       [5.2, 2.7, 3.9, 1.4],\n",
       "       [5. , 2. , 3.5, 1. ],\n",
       "       [5.9, 3. , 4.2, 1.5],\n",
       "       [6. , 2.2, 4. , 1. ],\n",
       "       [6.1, 2.9, 4.7, 1.4],\n",
       "       [5.6, 2.9, 3.6, 1.3],\n",
       "       [6.7, 3.1, 4.4, 1.4],\n",
       "       [5.6, 3. , 4.5, 1.5],\n",
       "       [5.8, 2.7, 4.1, 1. ],\n",
       "       [6.2, 2.2, 4.5, 1.5],\n",
       "       [5.6, 2.5, 3.9, 1.1],\n",
       "       [5.9, 3.2, 4.8, 1.8],\n",
       "       [6.1, 2.8, 4. , 1.3],\n",
       "       [6.3, 2.5, 4.9, 1.5],\n",
       "       [6.1, 2.8, 4.7, 1.2],\n",
       "       [6.4, 2.9, 4.3, 1.3],\n",
       "       [6.6, 3. , 4.4, 1.4],\n",
       "       [6.8, 2.8, 4.8, 1.4],\n",
       "       [6.7, 3. , 5. , 1.7],\n",
       "       [6. , 2.9, 4.5, 1.5],\n",
       "       [5.7, 2.6, 3.5, 1. ],\n",
       "       [5.5, 2.4, 3.8, 1.1],\n",
       "       [5.5, 2.4, 3.7, 1. ],\n",
       "       [5.8, 2.7, 3.9, 1.2],\n",
       "       [6. , 2.7, 5.1, 1.6],\n",
       "       [5.4, 3. , 4.5, 1.5],\n",
       "       [6. , 3.4, 4.5, 1.6],\n",
       "       [6.7, 3.1, 4.7, 1.5],\n",
       "       [6.3, 2.3, 4.4, 1.3],\n",
       "       [5.6, 3. , 4.1, 1.3],\n",
       "       [5.5, 2.5, 4. , 1.3],\n",
       "       [5.5, 2.6, 4.4, 1.2],\n",
       "       [6.1, 3. , 4.6, 1.4],\n",
       "       [5.8, 2.6, 4. , 1.2],\n",
       "       [5. , 2.3, 3.3, 1. ],\n",
       "       [5.6, 2.7, 4.2, 1.3],\n",
       "       [5.7, 3. , 4.2, 1.2],\n",
       "       [5.7, 2.9, 4.2, 1.3],\n",
       "       [6.2, 2.9, 4.3, 1.3],\n",
       "       [5.1, 2.5, 3. , 1.1],\n",
       "       [5.7, 2.8, 4.1, 1.3],\n",
       "       [6.3, 3.3, 6. , 2.5],\n",
       "       [5.8, 2.7, 5.1, 1.9],\n",
       "       [7.1, 3. , 5.9, 2.1],\n",
       "       [6.3, 2.9, 5.6, 1.8],\n",
       "       [6.5, 3. , 5.8, 2.2],\n",
       "       [7.6, 3. , 6.6, 2.1],\n",
       "       [4.9, 2.5, 4.5, 1.7],\n",
       "       [7.3, 2.9, 6.3, 1.8],\n",
       "       [6.7, 2.5, 5.8, 1.8],\n",
       "       [7.2, 3.6, 6.1, 2.5],\n",
       "       [6.5, 3.2, 5.1, 2. ],\n",
       "       [6.4, 2.7, 5.3, 1.9],\n",
       "       [6.8, 3. , 5.5, 2.1],\n",
       "       [5.7, 2.5, 5. , 2. ],\n",
       "       [5.8, 2.8, 5.1, 2.4],\n",
       "       [6.4, 3.2, 5.3, 2.3],\n",
       "       [6.5, 3. , 5.5, 1.8],\n",
       "       [7.7, 3.8, 6.7, 2.2],\n",
       "       [7.7, 2.6, 6.9, 2.3],\n",
       "       [6. , 2.2, 5. , 1.5],\n",
       "       [6.9, 3.2, 5.7, 2.3],\n",
       "       [5.6, 2.8, 4.9, 2. ],\n",
       "       [7.7, 2.8, 6.7, 2. ],\n",
       "       [6.3, 2.7, 4.9, 1.8],\n",
       "       [6.7, 3.3, 5.7, 2.1],\n",
       "       [7.2, 3.2, 6. , 1.8],\n",
       "       [6.2, 2.8, 4.8, 1.8],\n",
       "       [6.1, 3. , 4.9, 1.8],\n",
       "       [6.4, 2.8, 5.6, 2.1],\n",
       "       [7.2, 3. , 5.8, 1.6],\n",
       "       [7.4, 2.8, 6.1, 1.9],\n",
       "       [7.9, 3.8, 6.4, 2. ],\n",
       "       [6.4, 2.8, 5.6, 2.2],\n",
       "       [6.3, 2.8, 5.1, 1.5],\n",
       "       [6.1, 2.6, 5.6, 1.4],\n",
       "       [7.7, 3. , 6.1, 2.3],\n",
       "       [6.3, 3.4, 5.6, 2.4],\n",
       "       [6.4, 3.1, 5.5, 1.8],\n",
       "       [6. , 3. , 4.8, 1.8],\n",
       "       [6.9, 3.1, 5.4, 2.1],\n",
       "       [6.7, 3.1, 5.6, 2.4],\n",
       "       [6.9, 3.1, 5.1, 2.3],\n",
       "       [5.8, 2.7, 5.1, 1.9],\n",
       "       [6.8, 3.2, 5.9, 2.3],\n",
       "       [6.7, 3.3, 5.7, 2.5],\n",
       "       [6.7, 3. , 5.2, 2.3],\n",
       "       [6.3, 2.5, 5. , 1.9],\n",
       "       [6.5, 3. , 5.2, 2. ],\n",
       "       [6.2, 3.4, 5.4, 2.3],\n",
       "       [5.9, 3. , 5.1, 1.8]])"
      ]
     },
     "execution_count": 89,
     "metadata": {},
     "output_type": "execute_result"
    }
   ],
   "source": [
    "data.data # to only get data\n"
   ]
  },
  {
   "cell_type": "code",
   "execution_count": 90,
   "metadata": {},
   "outputs": [
    {
     "data": {
      "text/plain": [
       "['sepal length (cm)',\n",
       " 'sepal width (cm)',\n",
       " 'petal length (cm)',\n",
       " 'petal width (cm)']"
      ]
     },
     "execution_count": 90,
     "metadata": {},
     "output_type": "execute_result"
    }
   ],
   "source": [
    "data.feature_names"
   ]
  },
  {
   "cell_type": "code",
   "execution_count": 91,
   "metadata": {},
   "outputs": [],
   "source": [
    "import pandas as pd\n",
    "df = pd.DataFrame(data.data, columns = data.feature_names)"
   ]
  },
  {
   "cell_type": "code",
   "execution_count": 92,
   "metadata": {},
   "outputs": [],
   "source": [
    "df['target'] = pd.Series(data.target)"
   ]
  },
  {
   "cell_type": "code",
   "execution_count": 93,
   "metadata": {},
   "outputs": [
    {
     "data": {
      "text/html": [
       "<div>\n",
       "<style scoped>\n",
       "    .dataframe tbody tr th:only-of-type {\n",
       "        vertical-align: middle;\n",
       "    }\n",
       "\n",
       "    .dataframe tbody tr th {\n",
       "        vertical-align: top;\n",
       "    }\n",
       "\n",
       "    .dataframe thead th {\n",
       "        text-align: right;\n",
       "    }\n",
       "</style>\n",
       "<table border=\"1\" class=\"dataframe\">\n",
       "  <thead>\n",
       "    <tr style=\"text-align: right;\">\n",
       "      <th></th>\n",
       "      <th>sepal length (cm)</th>\n",
       "      <th>sepal width (cm)</th>\n",
       "      <th>petal length (cm)</th>\n",
       "      <th>petal width (cm)</th>\n",
       "      <th>target</th>\n",
       "    </tr>\n",
       "  </thead>\n",
       "  <tbody>\n",
       "    <tr>\n",
       "      <th>0</th>\n",
       "      <td>5.1</td>\n",
       "      <td>3.5</td>\n",
       "      <td>1.4</td>\n",
       "      <td>0.2</td>\n",
       "      <td>0</td>\n",
       "    </tr>\n",
       "    <tr>\n",
       "      <th>1</th>\n",
       "      <td>4.9</td>\n",
       "      <td>3.0</td>\n",
       "      <td>1.4</td>\n",
       "      <td>0.2</td>\n",
       "      <td>0</td>\n",
       "    </tr>\n",
       "    <tr>\n",
       "      <th>2</th>\n",
       "      <td>4.7</td>\n",
       "      <td>3.2</td>\n",
       "      <td>1.3</td>\n",
       "      <td>0.2</td>\n",
       "      <td>0</td>\n",
       "    </tr>\n",
       "    <tr>\n",
       "      <th>3</th>\n",
       "      <td>4.6</td>\n",
       "      <td>3.1</td>\n",
       "      <td>1.5</td>\n",
       "      <td>0.2</td>\n",
       "      <td>0</td>\n",
       "    </tr>\n",
       "    <tr>\n",
       "      <th>4</th>\n",
       "      <td>5.0</td>\n",
       "      <td>3.6</td>\n",
       "      <td>1.4</td>\n",
       "      <td>0.2</td>\n",
       "      <td>0</td>\n",
       "    </tr>\n",
       "  </tbody>\n",
       "</table>\n",
       "</div>"
      ],
      "text/plain": [
       "   sepal length (cm)  sepal width (cm)  petal length (cm)  petal width (cm)  \\\n",
       "0                5.1               3.5                1.4               0.2   \n",
       "1                4.9               3.0                1.4               0.2   \n",
       "2                4.7               3.2                1.3               0.2   \n",
       "3                4.6               3.1                1.5               0.2   \n",
       "4                5.0               3.6                1.4               0.2   \n",
       "\n",
       "   target  \n",
       "0       0  \n",
       "1       0  \n",
       "2       0  \n",
       "3       0  \n",
       "4       0  "
      ]
     },
     "execution_count": 93,
     "metadata": {},
     "output_type": "execute_result"
    }
   ],
   "source": [
    "df.head()"
   ]
  },
  {
   "cell_type": "code",
   "execution_count": 94,
   "metadata": {},
   "outputs": [
    {
     "data": {
      "text/html": [
       "<div>\n",
       "<style scoped>\n",
       "    .dataframe tbody tr th:only-of-type {\n",
       "        vertical-align: middle;\n",
       "    }\n",
       "\n",
       "    .dataframe tbody tr th {\n",
       "        vertical-align: top;\n",
       "    }\n",
       "\n",
       "    .dataframe thead th {\n",
       "        text-align: right;\n",
       "    }\n",
       "</style>\n",
       "<table border=\"1\" class=\"dataframe\">\n",
       "  <thead>\n",
       "    <tr style=\"text-align: right;\">\n",
       "      <th></th>\n",
       "      <th>sepal length (cm)</th>\n",
       "      <th>sepal width (cm)</th>\n",
       "      <th>petal length (cm)</th>\n",
       "      <th>petal width (cm)</th>\n",
       "      <th>target</th>\n",
       "    </tr>\n",
       "  </thead>\n",
       "  <tbody>\n",
       "    <tr>\n",
       "      <th>count</th>\n",
       "      <td>150.000000</td>\n",
       "      <td>150.000000</td>\n",
       "      <td>150.000000</td>\n",
       "      <td>150.000000</td>\n",
       "      <td>150.000000</td>\n",
       "    </tr>\n",
       "    <tr>\n",
       "      <th>mean</th>\n",
       "      <td>5.843333</td>\n",
       "      <td>3.057333</td>\n",
       "      <td>3.758000</td>\n",
       "      <td>1.199333</td>\n",
       "      <td>1.000000</td>\n",
       "    </tr>\n",
       "    <tr>\n",
       "      <th>std</th>\n",
       "      <td>0.828066</td>\n",
       "      <td>0.435866</td>\n",
       "      <td>1.765298</td>\n",
       "      <td>0.762238</td>\n",
       "      <td>0.819232</td>\n",
       "    </tr>\n",
       "    <tr>\n",
       "      <th>min</th>\n",
       "      <td>4.300000</td>\n",
       "      <td>2.000000</td>\n",
       "      <td>1.000000</td>\n",
       "      <td>0.100000</td>\n",
       "      <td>0.000000</td>\n",
       "    </tr>\n",
       "    <tr>\n",
       "      <th>25%</th>\n",
       "      <td>5.100000</td>\n",
       "      <td>2.800000</td>\n",
       "      <td>1.600000</td>\n",
       "      <td>0.300000</td>\n",
       "      <td>0.000000</td>\n",
       "    </tr>\n",
       "    <tr>\n",
       "      <th>50%</th>\n",
       "      <td>5.800000</td>\n",
       "      <td>3.000000</td>\n",
       "      <td>4.350000</td>\n",
       "      <td>1.300000</td>\n",
       "      <td>1.000000</td>\n",
       "    </tr>\n",
       "    <tr>\n",
       "      <th>75%</th>\n",
       "      <td>6.400000</td>\n",
       "      <td>3.300000</td>\n",
       "      <td>5.100000</td>\n",
       "      <td>1.800000</td>\n",
       "      <td>2.000000</td>\n",
       "    </tr>\n",
       "    <tr>\n",
       "      <th>max</th>\n",
       "      <td>7.900000</td>\n",
       "      <td>4.400000</td>\n",
       "      <td>6.900000</td>\n",
       "      <td>2.500000</td>\n",
       "      <td>2.000000</td>\n",
       "    </tr>\n",
       "  </tbody>\n",
       "</table>\n",
       "</div>"
      ],
      "text/plain": [
       "       sepal length (cm)  sepal width (cm)  petal length (cm)  \\\n",
       "count         150.000000        150.000000         150.000000   \n",
       "mean            5.843333          3.057333           3.758000   \n",
       "std             0.828066          0.435866           1.765298   \n",
       "min             4.300000          2.000000           1.000000   \n",
       "25%             5.100000          2.800000           1.600000   \n",
       "50%             5.800000          3.000000           4.350000   \n",
       "75%             6.400000          3.300000           5.100000   \n",
       "max             7.900000          4.400000           6.900000   \n",
       "\n",
       "       petal width (cm)      target  \n",
       "count        150.000000  150.000000  \n",
       "mean           1.199333    1.000000  \n",
       "std            0.762238    0.819232  \n",
       "min            0.100000    0.000000  \n",
       "25%            0.300000    0.000000  \n",
       "50%            1.300000    1.000000  \n",
       "75%            1.800000    2.000000  \n",
       "max            2.500000    2.000000  "
      ]
     },
     "execution_count": 94,
     "metadata": {},
     "output_type": "execute_result"
    }
   ],
   "source": [
    "df.describe()"
   ]
  },
  {
   "cell_type": "code",
   "execution_count": 95,
   "metadata": {},
   "outputs": [
    {
     "data": {
      "text/html": [
       "<div>\n",
       "<style scoped>\n",
       "    .dataframe tbody tr th:only-of-type {\n",
       "        vertical-align: middle;\n",
       "    }\n",
       "\n",
       "    .dataframe tbody tr th {\n",
       "        vertical-align: top;\n",
       "    }\n",
       "\n",
       "    .dataframe thead th {\n",
       "        text-align: right;\n",
       "    }\n",
       "</style>\n",
       "<table border=\"1\" class=\"dataframe\">\n",
       "  <thead>\n",
       "    <tr style=\"text-align: right;\">\n",
       "      <th></th>\n",
       "      <th>sepal length (cm)</th>\n",
       "      <th>sepal width (cm)</th>\n",
       "      <th>petal length (cm)</th>\n",
       "      <th>petal width (cm)</th>\n",
       "    </tr>\n",
       "    <tr>\n",
       "      <th>target</th>\n",
       "      <th></th>\n",
       "      <th></th>\n",
       "      <th></th>\n",
       "      <th></th>\n",
       "    </tr>\n",
       "  </thead>\n",
       "  <tbody>\n",
       "    <tr>\n",
       "      <th>0</th>\n",
       "      <td>5.006</td>\n",
       "      <td>3.428</td>\n",
       "      <td>1.462</td>\n",
       "      <td>0.246</td>\n",
       "    </tr>\n",
       "    <tr>\n",
       "      <th>1</th>\n",
       "      <td>5.936</td>\n",
       "      <td>2.770</td>\n",
       "      <td>4.260</td>\n",
       "      <td>1.326</td>\n",
       "    </tr>\n",
       "    <tr>\n",
       "      <th>2</th>\n",
       "      <td>6.588</td>\n",
       "      <td>2.974</td>\n",
       "      <td>5.552</td>\n",
       "      <td>2.026</td>\n",
       "    </tr>\n",
       "  </tbody>\n",
       "</table>\n",
       "</div>"
      ],
      "text/plain": [
       "        sepal length (cm)  sepal width (cm)  petal length (cm)  \\\n",
       "target                                                           \n",
       "0                   5.006             3.428              1.462   \n",
       "1                   5.936             2.770              4.260   \n",
       "2                   6.588             2.974              5.552   \n",
       "\n",
       "        petal width (cm)  \n",
       "target                    \n",
       "0                  0.246  \n",
       "1                  1.326  \n",
       "2                  2.026  "
      ]
     },
     "execution_count": 95,
     "metadata": {},
     "output_type": "execute_result"
    }
   ],
   "source": [
    "grouped_iris= df.groupby('target')\n",
    "grouped_iris.mean() # from here we cna see which feature is meaningful for our data eg petal width is meaningful for our model\n",
    "# select only meaningful ones for our model --> decrease the complication of the model\n",
    "# choose the one wth the most variance to be your component"
   ]
  },
  {
   "cell_type": "code",
   "execution_count": 96,
   "metadata": {},
   "outputs": [
    {
     "data": {
      "text/plain": [
       "target\n",
       "0    AxesSubplot(0.125,0.125;0.775x0.755)\n",
       "1    AxesSubplot(0.125,0.125;0.775x0.755)\n",
       "2    AxesSubplot(0.125,0.125;0.775x0.755)\n",
       "Name: petal width (cm), dtype: object"
      ]
     },
     "execution_count": 96,
     "metadata": {},
     "output_type": "execute_result"
    },
    {
     "data": {
      "image/png": "[encoded data removed]",
      "text/plain": [
       "<Figure size 432x288 with 1 Axes>"
      ]
     },
     "metadata": {
      "needs_background": "light"
     },
     "output_type": "display_data"
    }
   ],
   "source": [
    "grouped_iris['petal width (cm)'].hist() #cuz we think petal width is the best\n",
    "#choose the feature with the \"max variance\""
   ]
  },
  {
   "cell_type": "code",
   "execution_count": 97,
   "metadata": {},
   "outputs": [],
   "source": [
    "#over lapping of std between class 1 and 2 \n",
    "#but the mean is very different\n",
    "#statistically significant -> statistically different \n"
   ]
  },
  {
   "cell_type": "code",
   "execution_count": 98,
   "metadata": {},
   "outputs": [
    {
     "data": {
      "text/plain": [
       "<seaborn.axisgrid.PairGrid at 0x7f04c107f190>"
      ]
     },
     "execution_count": 98,
     "metadata": {},
     "output_type": "execute_result"
    },
    {
     "data": {
      "image/png": "[encoded data removed]",
      "text/plain": [
       "<Figure size 900x900 with 30 Axes>"
      ]
     },
     "metadata": {
      "needs_background": "light"
     },
     "output_type": "display_data"
    }
   ],
   "source": [
    "#matplotlib was made several years ago\n",
    "#seaborn was made more recently\n",
    "import seaborn as sns\n",
    "\n",
    "sns.pairplot(df,kind='reg')"
   ]
  },
  {
   "cell_type": "code",
   "execution_count": 99,
   "metadata": {},
   "outputs": [],
   "source": [
    "#check the shade, more shaded area  -> more error\n",
    "# there fore petal length and petal width are the best as your inputs for your model\n",
    "# the least shaded area"
   ]
  },
  {
   "cell_type": "code",
   "execution_count": 100,
   "metadata": {},
   "outputs": [
    {
     "data": {
      "text/plain": [
       "<matplotlib.legend.Legend at 0x7f04c0045d00>"
      ]
     },
     "execution_count": 100,
     "metadata": {},
     "output_type": "execute_result"
    },
    {
     "data": {
      "image/png": "[encoded data removed]",
      "text/plain": [
       "<Figure size 432x288 with 1 Axes>"
      ]
     },
     "metadata": {
      "needs_background": "light"
     },
     "output_type": "display_data"
    }
   ],
   "source": [
    "#Comparing dsitribution\n",
    "\n",
    "sl_setosa = df[df['target']==0]['sepal length (cm)']\n",
    "sl_virginica = df[df['target']==1]['sepal length (cm)']\n",
    "sl_versicolor = df[df['target']==2]['sepal length (cm)']\n",
    "plt.hist(sl_setosa,label='Setosa',alpha = 0.5)\n",
    "plt.hist(sl_virginica,label='Virginica',alpha = 0.5)\n",
    "plt.hist(sl_versicolor,label='Versicolor',alpha = 0.5)\n",
    "plt.legend()\n",
    "\n",
    "#convert serries -> number \".values\" and dataframe will be updated if you dont want it to change then '.copy()'"
   ]
  },
  {
   "cell_type": "code",
   "execution_count": 101,
   "metadata": {},
   "outputs": [],
   "source": [
    "#normality testing\n",
    "\n",
    "#testing normality-test whether the data is normal\n",
    "#if we want to use t-test, ANOVA, both of them relies on two parameters\n",
    "#mean and variance (std)\n",
    "#t-test, anov, MANOVA or any parametric methods assume that your data is normaly distributed!!!\n",
    "\n",
    "#how to check if its \"normal\"\n",
    "#1. use Histograme and your eyes\n",
    "#2. use qqplots and your eyes\n",
    "#3. use some test if we ar enot sure\n",
    "#   - Kolmogorov Smirnov\n",
    "#   - Shapiro\n"
   ]
  },
  {
   "cell_type": "code",
   "execution_count": 109,
   "metadata": {},
   "outputs": [
    {
     "data": {
      "text/plain": [
       "KstestResult(statistic=0.999991460094529, pvalue=7.476238875146382e-254)"
      ]
     },
     "execution_count": 109,
     "metadata": {},
     "output_type": "execute_result"
    }
   ],
   "source": [
    "#Kolmogorov Smirnov\n",
    "from scipy import stats\n",
    "kstest_sl_setosa = stats.kstest(sl_setosa, 'norm')\n",
    "\n",
    "#hypothesis testing \n",
    "#null hypothesis - something you think is a fact\n",
    "#the data is normal\n",
    "#alternative hypothesis -something you want to challenge\n",
    "#the data is NOT normal -> if p < alpha =0.05* or 0.01** or 0.001***\n",
    "#0.0001 is the best\n",
    "\n",
    "kstest_sl_setosa"
   ]
  },
  {
   "cell_type": "code",
   "execution_count": 110,
   "metadata": {},
   "outputs": [
    {
     "data": {
      "text/plain": [
       "(0.9776989221572876, 0.4595281183719635)"
      ]
     },
     "execution_count": 110,
     "metadata": {},
     "output_type": "execute_result"
    }
   ],
   "source": [
    "#shapiro \n",
    "\n",
    "shapiro_sl_setosa = stats.shapiro(sl_setosa)\n",
    "\n",
    "shapiro_sl_setosa\n",
    "#key value is less than 0.459 which is greater than 0.05\n",
    "#shapiro says that my data is normal\n",
    "#but ks says that my data is NOT normal\n"
   ]
  },
  {
   "cell_type": "code",
   "execution_count": 112,
   "metadata": {},
   "outputs": [],
   "source": [
    "#the difference between the two\n",
    "#ks is a general method that compares the expected dcf with given cdf\n",
    "#ks is basically comparing one empirical normal expected cdf \n",
    "#then ks compares the data cdf against this \"empirical\" cdf\n",
    "#the distance determines the p-values\n",
    "#the greater distance the smaller the p\n",
    "#cdf cumulative distribution function??\n",
    "\n",
    "#shapiro performs a normal testing on expected means, variances and covariances\n",
    "#Shapiro using the data, it constructs the ideal normal dsistribution\n",
    "#the best possible that it could have\n",
    "#compare your data against it\n",
    "\n",
    "#ks is more strict, more conservative\n",
    "#but shapiro is more flexible, base on your data\n",
    "\n",
    "# for large samples, Shapiro will be too sensitive and will reject the null hypothesis with even tiny deviations\n",
    "# if your data has even ONE outlier! it changes the mean, shapiro uses your data to compare\n",
    "\n",
    "# for small-medium size samples, maybe you could use shapiro\n",
    "# for large, definitely use ks!\n",
    "# 0-100 -> shapiro???\n",
    "\n",
    "# eg height of sample size of 2 would not be fair to  use ks, it will never be \"normal\""
   ]
  },
  {
   "cell_type": "code",
   "execution_count": 113,
   "metadata": {},
   "outputs": [],
   "source": [
    "#Assumptions for t-test, ANOVA, parametric test\n",
    "\n",
    "#1. Normality testing\n",
    "#2. Homogeneity of Variacne /Sphericity test (but more than two groups)\n",
    "# if you want to use a t-test, to compare two means\n",
    "# eg compare weights of chicken and duck\n",
    "# and i wan tto comparre the mean weight of chicken adn duck\n",
    "#if chicken weight is crownded around the mean 20 with var only 1\n",
    "#if duck weight is crowded around the mean 15 with variance 3\n",
    "#then we just cannot coompare them, they just dont belong to the same distribution \n",
    "# they cannot use the same distribution therefore they cannot be compared\n",
    "# distribution must be closely similar\n",
    "#means dont have to be the same, but have to be the same distribution\n",
    "# eg height of asian guys and height of European guys, they havet he same distribution just different  means"
   ]
  },
  {
   "cell_type": "code",
   "execution_count": 114,
   "metadata": {},
   "outputs": [],
   "source": [
    "#Barlett test\n",
    "#Null hypothesis - variance is equal\n",
    "#alternative hypothesis - variance is not homogeneous p < alpha\n",
    "# p = 0.8 Null hypothesis var is equal p > alpha\n",
    "# p = 0.0001 the var is not homogeneous"
   ]
  },
  {
   "cell_type": "code",
   "execution_count": 118,
   "metadata": {},
   "outputs": [
    {
     "data": {
      "text/plain": [
       "BartlettResult(statistic=2.094933311010139, pvalue=0.14778816016231236)"
      ]
     },
     "execution_count": 118,
     "metadata": {},
     "output_type": "execute_result"
    }
   ],
   "source": [
    "# from scipy import barlett\n",
    "\n",
    "b_sl_versicolor = stats.bartlett(sl_versicolor, sl_virginica)\n",
    "b_sl_versicolor\n",
    "#because p > 0.05 thus we failed to comfirm the alternative hypothesis"
   ]
  },
  {
   "cell_type": "code",
   "execution_count": 119,
   "metadata": {},
   "outputs": [],
   "source": [
    "#barlett test is alittle bit sensitive to less normal distribution\n",
    "#Thus,Levene is better alternatives"
   ]
  },
  {
   "cell_type": "code",
   "execution_count": 120,
   "metadata": {},
   "outputs": [
    {
     "data": {
      "text/plain": [
       "LeveneResult(statistic=1.024522457408365, pvalue=0.31394122352493925)"
      ]
     },
     "execution_count": 120,
     "metadata": {},
     "output_type": "execute_result"
    }
   ],
   "source": [
    "l_sl_versicolor = stats.levene(sl_versicolor,sl_virginica)\n",
    "l_sl_versicolor\n",
    "#levene p> 0.05 --> equal"
   ]
  },
  {
   "cell_type": "code",
   "execution_count": 121,
   "metadata": {},
   "outputs": [],
   "source": [
    "#T-tests\n",
    "#compare 2 means\n",
    "#paired or independent\n",
    "#within or between\n",
    "#oaured - your subject is exposed to both groups\n",
    "#independent - your subject iis only exposed to one group\n",
    "# --> these two means are related\n",
    "\n",
    "#ANOVA\n",
    "#compare 3 or more means\n"
   ]
  },
  {
   "cell_type": "code",
   "execution_count": 124,
   "metadata": {},
   "outputs": [
    {
     "name": "stdout",
     "output_type": "stream",
     "text": [
      "5.005999999999999\n",
      "6.587999999999998\n"
     ]
    }
   ],
   "source": [
    "#t-test\n",
    "#null hypothesis -> two means are the same\n",
    "#alternative h -> two means ARE NOT the same\n",
    "\n",
    "ind_test = stats.ttest_ind(sl_setosa, sl_versicolor,equal_var = True, nan_policy = 'omit')\n",
    "\n",
    "ind_test # p< 0.05 --> not the same\n",
    "print(sl_setosa.mean())\n",
    "print(sl_versicolor.mean())\n",
    "# they are really different"
   ]
  },
  {
   "cell_type": "code",
   "execution_count": 127,
   "metadata": {},
   "outputs": [
    {
     "name": "stdout",
     "output_type": "stream",
     "text": [
      "Ttest_relResult(statistic=-16.344145683358008, pvalue=1.789394192251355e-21)\n"
     ]
    }
   ],
   "source": [
    "paired_test = stats.ttest_rel(sl_setosa, sl_versicolor, nan_policy = 'omit')\n",
    "\n",
    "print(paired_test) #there are some dependency\n",
    "#p< 0.05 therefore it comfirms that their means are not the same"
   ]
  },
  {
   "cell_type": "code",
   "execution_count": 128,
   "metadata": {},
   "outputs": [],
   "source": [
    "# p-values tell you whether they are different\n",
    "#but they do not tell you how different they are\n",
    "# in order to know how much --> \"Effect Size\", eg cohen d,partial squared, partial eta-squared"
   ]
  },
  {
   "cell_type": "code",
   "execution_count": 131,
   "metadata": {},
   "outputs": [
    {
     "name": "stdout",
     "output_type": "stream",
     "text": [
      "RanksumsResult(statistic=-8.351862779116292, pvalue=6.71947003242093e-17)\n",
      "MannwhitneyuResult(statistic=38.5, pvalue=3.198349534698269e-17)\n",
      "WilcoxonResult(statistic=0.0, pvalue=1.0947696934612459e-09)\n"
     ]
    }
   ],
   "source": [
    "#What if i cannot use t-test\n",
    "# --> when it does not meet the two assumptions\n",
    "# -------> then we need to use 'non-parametric' tests\n",
    "# --> non-parametric tests use \"ranks\"\n",
    "\n",
    "#non-parametric tests cannot do posthoc test and cannot do interaction effect test\n",
    "\n",
    "# THEREFORE try to make your data normal\n"
   ]
  },
  {
   "cell_type": "code",
   "execution_count": 132,
   "metadata": {},
   "outputs": [
    {
     "name": "stdout",
     "output_type": "stream",
     "text": [
      "RanksumsResult(statistic=-8.351862779116292, pvalue=6.71947003242093e-17)\n",
      "MannwhitneyuResult(statistic=38.5, pvalue=3.198349534698269e-17)\n",
      "WilcoxonResult(statistic=0.0, pvalue=1.0947696934612459e-09)\n"
     ]
    }
   ],
   "source": [
    "#for comparing two means\n",
    "#1. Wilcoxon rank-sum\n",
    "ranksum =stats.ranksums(sl_setosa, sl_versicolor)\n",
    "print(ranksum)\n",
    "\n",
    "#2. Mann-Whitney U\n",
    "whitney =stats.mannwhitneyu(sl_setosa, sl_versicolor)\n",
    "print(whitney)\n",
    "\n",
    "#3. Wilconxon\n",
    "wil =stats.wilcoxon(sl_setosa, sl_versicolor)\n",
    "print(wil)"
   ]
  },
  {
   "cell_type": "code",
   "execution_count": 140,
   "metadata": {},
   "outputs": [
    {
     "name": "stdout",
     "output_type": "stream",
     "text": [
      "F_onewayResult(statistic=236.7350218138295, pvalue=6.892546060673548e-28)\n",
      "Multiple Comparison of Means - Tukey HSD, FWER=0.05\n",
      "=================================================\n",
      "group1 group2 meandiff p-adj lower  upper  reject\n",
      "-------------------------------------------------\n",
      "     0      1     0.93 0.001 0.6862 1.1738   True\n",
      "     0      2    1.582 0.001 1.3382 1.8258   True\n",
      "     1      2    0.652 0.001 0.4082 0.8958   True\n",
      "-------------------------------------------------\n",
      "KruskalResult(statistic=96.93743600064833, pvalue=8.91873433246198e-22)\n"
     ]
    }
   ],
   "source": [
    "#More than two groups?\n",
    "#ANOVA -meet assumptions\n",
    "#one way means one feature -one independent variable\n",
    "#twoway for two ind var\n",
    "#threeway for three features\n",
    "anova = stats.f_oneway(sl_setosa, sl_versicolor)\n",
    "print(anova)\n",
    "#do not know which one different from which one\n",
    "\n",
    "# common followup test = posthoc test\n",
    "# bonferroni, Tukey Kramer HSD\n",
    "\n",
    "from statsmodels.stats.multicomp import pairwise_tukeyhsd\n",
    "tukey = pairwise_tukeyhsd(df['sepal length (cm)'],df['target'])\n",
    "print(tukey)\n",
    "# assume that dist normal and var is homogeous\n",
    "\n",
    "#Kruskal-Wallis H - do not need assumption\n",
    "kruskal = stats.kruskal(sl_setosa,sl_versicolor, sl_virginica)\n",
    "print(kruskal)\n",
    "# cannot do posthoc"
   ]
  },
  {
   "cell_type": "code",
   "execution_count": null,
   "metadata": {},
   "outputs": [],
   "source": [
    "## READ Correlation \n",
    "#THEY ARE NOT cause and effect \n",
    "# correlation =relationsip between two things\n",
    "# eg as age goes up, IQ goes up onyl tells you that these two things are associated\n",
    "# like egg price goes up, IQ goes up\n",
    "# but it doesnt say that age makes IQ goes up\n",
    "# AGE -> LEARN -> IQ\n",
    "# regression (casuation)"
   ]
  }
 ],
 "metadata": {
  "kernelspec": {
   "display_name": "Python 3",
   "language": "python",
   "name": "python3"
  },
  "language_info": {
   "codemirror_mode": {
    "name": "ipython",
    "version": 3
   },
   "file_extension": ".py",
   "mimetype": "text/x-python",
   "name": "python",
   "nbconvert_exporter": "python",
   "pygments_lexer": "ipython3",
   "version": "3.8.3"
  }
 },
 "nbformat": 4,
 "nbformat_minor": 4
}
