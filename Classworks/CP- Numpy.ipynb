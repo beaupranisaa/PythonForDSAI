{
 "cells": [
  {
   "cell_type": "markdown",
   "metadata": {},
   "source": [
    "# CP: Numpy"
   ]
  },
  {
   "cell_type": "code",
   "execution_count": 1,
   "metadata": {},
   "outputs": [],
   "source": [
    "#What is numpy\n",
    "#is a very efficient pythong library or mulipulating vectors/matrices\n",
    "#numpy is much faster thann llython list\n"
   ]
  },
  {
   "cell_type": "code",
   "execution_count": 2,
   "metadata": {},
   "outputs": [
    {
     "data": {
      "text/plain": [
       "numpy.ndarray"
      ]
     },
     "execution_count": 2,
     "metadata": {},
     "output_type": "execute_result"
    }
   ],
   "source": [
    "import numpy as np\n",
    "list1 = [1,2,3,4]\n",
    "l_numpy=np.array(list1)\n",
    "l_numpy\n",
    "type(l_numpy)\n",
    "\n",
    "# you can use np.array putting the list inline\n"
   ]
  },
  {
   "cell_type": "code",
   "execution_count": 3,
   "metadata": {},
   "outputs": [
    {
     "name": "stdout",
     "output_type": "stream",
     "text": [
      "[1 2 3 4]\n"
     ]
    }
   ],
   "source": [
    "some_numpy = np.array([1,2,3,4])\n",
    "#what will happen if some are float, and some are integers\n",
    "#all will change to float\n",
    "#numpy has a fixed type\n",
    "\n",
    "print(some_numpy)\n",
    "\n",
    "#dtype = data type\n",
    "#np.dtype(some_numpy)"
   ]
  },
  {
   "cell_type": "code",
   "execution_count": 4,
   "metadata": {},
   "outputs": [
    {
     "data": {
      "text/plain": [
       "array([1., 2., 3., 4.], dtype=float32)"
      ]
     },
     "execution_count": 4,
     "metadata": {},
     "output_type": "execute_result"
    }
   ],
   "source": [
    "lista = [1,2,3,4]\n",
    "#dtype is defined by numpy -->float32, float64, int32, bool\n",
    "numpy_float = np.array(lista,dtype='float32')\n",
    "numpy_float"
   ]
  },
  {
   "cell_type": "code",
   "execution_count": 5,
   "metadata": {},
   "outputs": [
    {
     "data": {
      "text/plain": [
       "array([1, 2, 3, 4])"
      ]
     },
     "execution_count": 5,
     "metadata": {},
     "output_type": "execute_result"
    }
   ],
   "source": [
    "numpy_int = numpy_float.astype(int)\n",
    "numpy_int"
   ]
  },
  {
   "cell_type": "code",
   "execution_count": 6,
   "metadata": {},
   "outputs": [
    {
     "data": {
      "text/plain": [
       "(2, 2)"
      ]
     },
     "execution_count": 6,
     "metadata": {},
     "output_type": "execute_result"
    }
   ],
   "source": [
    "l_numpy_2d = np.array([[1,2],[3,4]])\n",
    "l_numpy_2d.shape #(2,2)\n",
    "l_numpy_2d.ndim #useful for checking dimension\n",
    "l_numpy_2d.shape[0] #2\n",
    "l_numpy_2d.shape[1] #2\n",
    "l_numpy_2d.size #total element\n",
    "\n",
    "len(l_numpy_2d) # not so useful\n",
    "#most important one is \n",
    "l_numpy_2d.shape\n"
   ]
  },
  {
   "cell_type": "code",
   "execution_count": 7,
   "metadata": {},
   "outputs": [
    {
     "data": {
      "text/plain": [
       "array([[2, 3, 4],\n",
       "       [4, 5, 6],\n",
       "       [6, 7, 8]])"
      ]
     },
     "execution_count": 7,
     "metadata": {},
     "output_type": "execute_result"
    }
   ],
   "source": [
    "#our fav list comprehension to create np array\n",
    "\n",
    "a = np.array([range(i,i+3)for i in [2,4,6]])\n",
    "a"
   ]
  },
  {
   "cell_type": "code",
   "execution_count": 8,
   "metadata": {},
   "outputs": [
    {
     "data": {
      "text/plain": [
       "array([0, 0, 0, 0, 0, 0, 0, 0, 0, 0])"
      ]
     },
     "execution_count": 8,
     "metadata": {},
     "output_type": "execute_result"
    }
   ],
   "source": [
    "#how to create empty numpy\n",
    "#for those who program a lot\n",
    "#count = 0\n",
    "#how do you do in numpy\n",
    "\n",
    "np.zeros(10,dtype =int)\n"
   ]
  },
  {
   "cell_type": "code",
   "execution_count": 9,
   "metadata": {},
   "outputs": [
    {
     "data": {
      "text/plain": [
       "array([[0, 0, 0],\n",
       "       [0, 0, 0]])"
      ]
     },
     "execution_count": 9,
     "metadata": {},
     "output_type": "execute_result"
    }
   ],
   "source": [
    "np.zeros((2,3),dtype =int) #zeros shape 2,3 is a tuple () needed in 2,3"
   ]
  },
  {
   "cell_type": "code",
   "execution_count": 10,
   "metadata": {},
   "outputs": [
    {
     "data": {
      "text/plain": [
       "array([[1., 1., 1.],\n",
       "       [1., 1., 1.]])"
      ]
     },
     "execution_count": 10,
     "metadata": {},
     "output_type": "execute_result"
    }
   ],
   "source": [
    "np.ones((2,3),dtype = float)"
   ]
  },
  {
   "cell_type": "code",
   "execution_count": 11,
   "metadata": {},
   "outputs": [
    {
     "data": {
      "text/plain": [
       "array([[3.14, 3.14],\n",
       "       [3.14, 3.14],\n",
       "       [3.14, 3.14],\n",
       "       [3.14, 3.14]])"
      ]
     },
     "execution_count": 11,
     "metadata": {},
     "output_type": "execute_result"
    }
   ],
   "source": [
    "#when to use 0 when to use 1\n",
    "#simple question\n",
    "#multiply -> np.ones\n",
    "#add -> np.zeros\n",
    "\n",
    "#what if i want to fill all values with some values\n",
    "np.full((4,2),3.14)\n"
   ]
  },
  {
   "cell_type": "code",
   "execution_count": 12,
   "metadata": {},
   "outputs": [
    {
     "data": {
      "text/plain": [
       "[<matplotlib.lines.Line2D at 0x7fd5aaf74d00>]"
      ]
     },
     "execution_count": 12,
     "metadata": {},
     "output_type": "execute_result"
    },
    {
     "data": {
      "image/png": "[encoded data removed]",
      "text/plain": [
       "<Figure size 432x288 with 1 Axes>"
      ]
     },
     "metadata": {
      "needs_background": "light"
     },
     "output_type": "display_data"
    }
   ],
   "source": [
    "#np.linspace\n",
    "#I want 10 values equally distributed between 0 and 1\n",
    "np.linspace(0,1,10) #(start,stop,how-many-values)\n",
    "#for plotting\n",
    "#plot all possible x values\n",
    "x= np.linspace(0,1,10000)\n",
    "y=2*x+1\n",
    "x.shape\n",
    "y.shape\n",
    "import matplotlib.pyplot as plt\n",
    "plt.plot(x,y) #plt.scatter"
   ]
  },
  {
   "cell_type": "code",
   "execution_count": 13,
   "metadata": {},
   "outputs": [
    {
     "data": {
      "text/plain": [
       "array([   10.,   100.,  1000., 10000.])"
      ]
     },
     "execution_count": 13,
     "metadata": {},
     "output_type": "execute_result"
    }
   ],
   "source": [
    "#logspace axis as log\n",
    "#chaky has money in his bank 10 baht -->log_10 1\n",
    "# ploy 100 --> log_10 2\n",
    "#Beau 100000000bht log_10 7\n",
    "\n",
    "np.logspace(1,4,4)\n",
    "\n",
    "#when your values are very far apart, but you wnana plot and make some sense\n"
   ]
  },
  {
   "cell_type": "code",
   "execution_count": 14,
   "metadata": {},
   "outputs": [
    {
     "data": {
      "text/plain": [
       "array([[0.29080847, 0.35770829, 0.91023417],\n",
       "       [0.13400307, 0.02475313, 0.88628528],\n",
       "       [0.5702604 , 0.87306615, 0.43193385]])"
      ]
     },
     "execution_count": 14,
     "metadata": {},
     "output_type": "execute_result"
    }
   ],
   "source": [
    "#random\n",
    "\n",
    "np.random.random((3,3)) #randomize value between 0 and 1 in shape of 3,3\n",
    "#make sure (3,3) IS a tuple\n",
    "#[0.0,1.0]\n",
    "#Include 0 but not 1\n",
    "\n",
    "np.random.rand(3,3) #rand does not need tuple"
   ]
  },
  {
   "cell_type": "code",
   "execution_count": 15,
   "metadata": {},
   "outputs": [
    {
     "data": {
      "text/plain": [
       "array([[ 0,  1,  2,  3],\n",
       "       [ 4,  5,  6,  7],\n",
       "       [ 8,  9, 10, 11]])"
      ]
     },
     "execution_count": 15,
     "metadata": {},
     "output_type": "execute_result"
    }
   ],
   "source": [
    "# 0 1 2 3 \n",
    "# 4 5 6 7 \n",
    "# 8 9 10 11\n",
    "\n",
    "np.arange(12)\n",
    "np.arange(12).reshape((3,4))\n",
    "#.reshape loves tuples\n",
    "# but i found that it is quite smart"
   ]
  },
  {
   "cell_type": "code",
   "execution_count": 16,
   "metadata": {},
   "outputs": [
    {
     "data": {
      "text/plain": [
       "array([[ 0,  1,  2,  3],\n",
       "       [ 4,  5,  6,  7],\n",
       "       [ 8,  9, 10, 11]])"
      ]
     },
     "execution_count": 16,
     "metadata": {},
     "output_type": "execute_result"
    }
   ],
   "source": [
    "np.arange(12).reshape(3,4) #works but chaky doesnt recommend Better to have a habit of putting tuples"
   ]
  },
  {
   "cell_type": "code",
   "execution_count": 17,
   "metadata": {},
   "outputs": [
    {
     "data": {
      "text/plain": [
       "array([[ 0,  1,  2,  3],\n",
       "       [ 4,  5,  6,  7],\n",
       "       [ 8,  9, 10, 11]])"
      ]
     },
     "execution_count": 17,
     "metadata": {},
     "output_type": "execute_result"
    }
   ],
   "source": [
    "np.arange(12).reshape(3,-1)# dont care how many columns, just rows. -1 means put the rest into column"
   ]
  },
  {
   "cell_type": "code",
   "execution_count": 18,
   "metadata": {},
   "outputs": [],
   "source": [
    "#np.arange(12).reshape(5,-1) # 5 cannot be divided by 12"
   ]
  },
  {
   "cell_type": "code",
   "execution_count": 19,
   "metadata": {},
   "outputs": [
    {
     "data": {
      "text/plain": [
       "array([[0, 5, 4, 4],\n",
       "       [4, 1, 6, 1],\n",
       "       [2, 1, 7, 2]])"
      ]
     },
     "execution_count": 19,
     "metadata": {},
     "output_type": "execute_result"
    }
   ],
   "source": [
    "np.random.randint(0,10,(3,4)) #include 0 but not 10"
   ]
  },
  {
   "cell_type": "code",
   "execution_count": 20,
   "metadata": {},
   "outputs": [
    {
     "name": "stdout",
     "output_type": "stream",
     "text": [
      "[[-6.30791658e-01 -3.41149000e-02  3.80909665e-01  7.59217494e-01\n",
      "  -3.91989173e-01  2.42937817e-01  1.53441197e+00  2.48506763e-01\n",
      "  -1.55390566e+00 -5.79497524e-01  4.07467564e-01  2.23244863e+00\n",
      "   1.32631295e+00 -5.10887977e-01  1.38479740e+00 -1.38000862e+00\n",
      "  -1.23505748e+00 -6.92343139e-01 -2.59485343e+00  1.34033967e+00\n",
      "   4.37134938e-01  4.41596934e-01  5.15478990e-01 -1.74989977e+00\n",
      "   6.22195044e-01  4.32867420e-01 -1.33530280e+00 -1.55816409e+00\n",
      "   3.61113568e-01 -3.89642141e-01 -2.62201307e-01 -5.20550669e-01\n",
      "  -1.69515437e+00  1.94154690e-01  2.51107812e-01  1.87362975e+00\n",
      "   2.48622697e-01 -6.30614093e-02  1.61606512e+00 -8.49288112e-01\n",
      "   1.07174118e-01  1.97291748e+00  5.81186778e-02 -3.59780250e-01\n",
      "  -6.19167504e-01 -2.51406131e-02 -5.19634858e-01  5.32394875e-01\n",
      "  -1.29072887e+00 -1.13122274e+00]\n",
      " [ 7.61819924e-01 -5.91123380e-01 -8.43442085e-01  9.71129845e-01\n",
      "  -9.86294482e-01 -1.51526404e-01  1.55634597e-01  1.98667895e-02\n",
      "  -1.20020368e+00 -6.85024087e-01 -8.23235736e-02 -2.38982329e+00\n",
      "  -5.93786050e-01  5.51647936e-02 -8.39500528e-01  2.07234044e-03\n",
      "   8.24970005e-01 -4.66524627e-02  1.64327189e+00 -7.93331688e-02\n",
      "   3.74428409e-01 -1.21029984e+00  7.19456165e-01  8.25101229e-01\n",
      "   3.15542572e-01  1.16639803e+00 -3.71205957e-01  8.35972731e-01\n",
      "  -1.65595242e-01  8.78350128e-01  9.76554476e-02  5.80633512e-01\n",
      "  -1.26678045e-01 -1.55428140e-01  1.13802484e+00  3.10111109e-01\n",
      "   3.31701898e-01 -3.31159255e-01 -4.96581641e-01 -2.78285999e-02\n",
      "  -1.66828560e-02  1.33030316e-01 -7.93638958e-01 -1.01327983e-01\n",
      "   1.14579599e+00 -1.09591597e+00  2.44291986e+00 -5.37258917e-01\n",
      "   8.13118752e-01 -3.86679174e-01]]\n"
     ]
    }
   ],
   "source": [
    "# also very useful method to create some distribution\n",
    "#let say i want 100 values, mean = 0, std 1, normal distribution\n",
    "#can np give me these 100 values\n",
    "\n",
    "#0 = mean, 1 =std, shape 2,50\n",
    "a = np.random.normal(0,1 ,(2,50))\n",
    "print(a)"
   ]
  },
  {
   "cell_type": "code",
   "execution_count": 21,
   "metadata": {},
   "outputs": [
    {
     "data": {
      "text/plain": [
       "array([[1., 0., 0.],\n",
       "       [0., 1., 0.],\n",
       "       [0., 0., 1.]])"
      ]
     },
     "execution_count": 21,
     "metadata": {},
     "output_type": "execute_result"
    }
   ],
   "source": [
    "#identity matrix\n",
    "np.eye(3)"
   ]
  },
  {
   "cell_type": "code",
   "execution_count": 22,
   "metadata": {},
   "outputs": [
    {
     "data": {
      "text/plain": [
       "array([[   10.,   100.,  1000., 10000.]])"
      ]
     },
     "execution_count": 22,
     "metadata": {},
     "output_type": "execute_result"
    }
   ],
   "source": [
    "#we did talk about\n",
    "#np.zeros\n",
    "#np.ones\n",
    "#np.full\n",
    "#np.empty\n",
    "\n",
    "np.empty((1,4))\n",
    "# np empty will take whatever values exist in that memory\n",
    "# not used often"
   ]
  },
  {
   "cell_type": "code",
   "execution_count": 23,
   "metadata": {},
   "outputs": [
    {
     "name": "stdout",
     "output_type": "stream",
     "text": [
      "----1----\n",
      "[5 5 9 5 0 9]\n",
      "----2----\n",
      "[[3 6 1 3]\n",
      " [3 6 4 7]\n",
      " [3 7 3 5]]\n",
      "----3----\n",
      "[[[5 1 1 5 3]\n",
      "  [5 3 2 7 1]\n",
      "  [3 8 2 6 4]\n",
      "  [2 9 7 6 0]]\n",
      "\n",
      " [[5 5 2 5 3]\n",
      "  [9 0 9 8 1]\n",
      "  [1 5 9 2 3]\n",
      "  [3 8 8 1 6]]\n",
      "\n",
      " [[0 0 2 7 1]\n",
      "  [3 2 7 7 6]\n",
      "  [0 9 6 9 2]\n",
      "  [1 0 8 1 9]]]\n"
     ]
    }
   ],
   "source": [
    "#indexing and sliceing\n",
    "x1 = np.random.randint(10,size=6) #1d\n",
    "x2 = np.random.randint(10,size=(3,4))\n",
    "x3 = np.random.randint(10,size = (3,4,5)) #3d\n",
    "print(\"----1----\")\n",
    "print(x1)\n",
    "print(\"----2----\")\n",
    "print(x2)\n",
    "print(\"----3----\")\n",
    "print(x3)"
   ]
  },
  {
   "cell_type": "code",
   "execution_count": 24,
   "metadata": {},
   "outputs": [
    {
     "name": "stdout",
     "output_type": "stream",
     "text": [
      "[5 5 9 5 0 9]\n"
     ]
    }
   ],
   "source": [
    "#indexing and slicing\n",
    "#how to get the values\n",
    "print(x1)"
   ]
  },
  {
   "cell_type": "code",
   "execution_count": 25,
   "metadata": {},
   "outputs": [
    {
     "data": {
      "text/plain": [
       "5"
      ]
     },
     "execution_count": 25,
     "metadata": {},
     "output_type": "execute_result"
    }
   ],
   "source": [
    "x1[0]"
   ]
  },
  {
   "cell_type": "code",
   "execution_count": 26,
   "metadata": {},
   "outputs": [
    {
     "data": {
      "text/plain": [
       "array([5, 5])"
      ]
     },
     "execution_count": 26,
     "metadata": {},
     "output_type": "execute_result"
    }
   ],
   "source": [
    "x1[0:2] #[starting:stop:step] [start,stop] does not include stop"
   ]
  },
  {
   "cell_type": "code",
   "execution_count": 27,
   "metadata": {},
   "outputs": [
    {
     "data": {
      "text/plain": [
       "array([0, 9])"
      ]
     },
     "execution_count": 27,
     "metadata": {},
     "output_type": "execute_result"
    }
   ],
   "source": [
    "x1[-2:]"
   ]
  },
  {
   "cell_type": "code",
   "execution_count": 28,
   "metadata": {},
   "outputs": [
    {
     "name": "stdout",
     "output_type": "stream",
     "text": [
      "[[3 6 1 3]\n",
      " [3 6 4 7]\n",
      " [3 7 3 5]]\n"
     ]
    }
   ],
   "source": [
    "print(x2)"
   ]
  },
  {
   "cell_type": "code",
   "execution_count": 29,
   "metadata": {},
   "outputs": [
    {
     "data": {
      "text/plain": [
       "array([3, 6, 1, 3])"
      ]
     },
     "execution_count": 29,
     "metadata": {},
     "output_type": "execute_result"
    }
   ],
   "source": [
    "x2[0]"
   ]
  },
  {
   "cell_type": "code",
   "execution_count": 30,
   "metadata": {},
   "outputs": [
    {
     "data": {
      "text/plain": [
       "3"
      ]
     },
     "execution_count": 30,
     "metadata": {},
     "output_type": "execute_result"
    }
   ],
   "source": [
    "x2[0,3] #, another dimension prefered way x2[0][3] also possible"
   ]
  },
  {
   "cell_type": "code",
   "execution_count": 31,
   "metadata": {},
   "outputs": [
    {
     "data": {
      "text/plain": [
       "3"
      ]
     },
     "execution_count": 31,
     "metadata": {},
     "output_type": "execute_result"
    }
   ],
   "source": [
    "x2[0,-1]"
   ]
  },
  {
   "cell_type": "code",
   "execution_count": 32,
   "metadata": {},
   "outputs": [
    {
     "data": {
      "text/plain": [
       "array([[1, 3],\n",
       "       [4, 7],\n",
       "       [3, 5]])"
      ]
     },
     "execution_count": 32,
     "metadata": {},
     "output_type": "execute_result"
    }
   ],
   "source": [
    "x2[:,-2:]"
   ]
  },
  {
   "cell_type": "code",
   "execution_count": 33,
   "metadata": {},
   "outputs": [
    {
     "data": {
      "text/plain": [
       "array([[5, 3, 7, 3],\n",
       "       [7, 4, 6, 3],\n",
       "       [3, 1, 6, 3]])"
      ]
     },
     "execution_count": 33,
     "metadata": {},
     "output_type": "execute_result"
    }
   ],
   "source": [
    "x2[::-1,::-1]"
   ]
  },
  {
   "cell_type": "code",
   "execution_count": 34,
   "metadata": {},
   "outputs": [
    {
     "data": {
      "text/plain": [
       "array([[6, 7],\n",
       "       [7, 5]])"
      ]
     },
     "execution_count": 34,
     "metadata": {},
     "output_type": "execute_result"
    }
   ],
   "source": [
    "x2[-2:,1::2]\n"
   ]
  },
  {
   "cell_type": "code",
   "execution_count": 35,
   "metadata": {},
   "outputs": [
    {
     "data": {
      "text/plain": [
       "array([[[5, 1, 1, 5, 3],\n",
       "        [5, 3, 2, 7, 1],\n",
       "        [3, 8, 2, 6, 4],\n",
       "        [2, 9, 7, 6, 0]],\n",
       "\n",
       "       [[5, 5, 2, 5, 3],\n",
       "        [9, 0, 9, 8, 1],\n",
       "        [1, 5, 9, 2, 3],\n",
       "        [3, 8, 8, 1, 6]],\n",
       "\n",
       "       [[0, 0, 2, 7, 1],\n",
       "        [3, 2, 7, 7, 6],\n",
       "        [0, 9, 6, 9, 2],\n",
       "        [1, 0, 8, 1, 9]]])"
      ]
     },
     "execution_count": 35,
     "metadata": {},
     "output_type": "execute_result"
    }
   ],
   "source": [
    "x3"
   ]
  },
  {
   "cell_type": "code",
   "execution_count": 36,
   "metadata": {},
   "outputs": [
    {
     "data": {
      "text/plain": [
       "array([[5, 1, 1, 5, 3],\n",
       "       [5, 3, 2, 7, 1],\n",
       "       [3, 8, 2, 6, 4],\n",
       "       [2, 9, 7, 6, 0]])"
      ]
     },
     "execution_count": 36,
     "metadata": {},
     "output_type": "execute_result"
    }
   ],
   "source": [
    "x3[0]"
   ]
  },
  {
   "cell_type": "code",
   "execution_count": 37,
   "metadata": {},
   "outputs": [
    {
     "data": {
      "text/plain": [
       "array([5, 3, 2, 7, 1])"
      ]
     },
     "execution_count": 37,
     "metadata": {},
     "output_type": "execute_result"
    }
   ],
   "source": [
    "x3[0,1] #first sheet second row"
   ]
  },
  {
   "cell_type": "code",
   "execution_count": 38,
   "metadata": {},
   "outputs": [
    {
     "data": {
      "text/plain": [
       "3"
      ]
     },
     "execution_count": 38,
     "metadata": {},
     "output_type": "execute_result"
    }
   ],
   "source": [
    "x3[0,1,1]"
   ]
  },
  {
   "cell_type": "code",
   "execution_count": 39,
   "metadata": {},
   "outputs": [
    {
     "data": {
      "text/plain": [
       "array([[5, 3],\n",
       "       [8, 1]])"
      ]
     },
     "execution_count": 39,
     "metadata": {},
     "output_type": "execute_result"
    }
   ],
   "source": [
    "x3[1,:2,-2:] # :2 start until 2, last 2 column til the end"
   ]
  },
  {
   "cell_type": "code",
   "execution_count": 40,
   "metadata": {},
   "outputs": [
    {
     "data": {
      "text/plain": [
       "array([[5, 5, 2, 5, 3],\n",
       "       [9, 0, 9, 8, 1],\n",
       "       [1, 5, 9, 2, 3],\n",
       "       [3, 8, 8, 1, 6]])"
      ]
     },
     "execution_count": 40,
     "metadata": {},
     "output_type": "execute_result"
    }
   ],
   "source": [
    "x3[1,:,:]"
   ]
  },
  {
   "cell_type": "code",
   "execution_count": 41,
   "metadata": {},
   "outputs": [
    {
     "data": {
      "text/plain": [
       "array([5, 5, 9, 5, 0, 9])"
      ]
     },
     "execution_count": 41,
     "metadata": {},
     "output_type": "execute_result"
    }
   ],
   "source": [
    "#slicing is  not a copy\n",
    "x1"
   ]
  },
  {
   "cell_type": "code",
   "execution_count": 42,
   "metadata": {},
   "outputs": [
    {
     "data": {
      "text/plain": [
       "array([5, 5])"
      ]
     },
     "execution_count": 42,
     "metadata": {},
     "output_type": "execute_result"
    }
   ],
   "source": [
    "a = x1[0:2]\n",
    "a"
   ]
  },
  {
   "cell_type": "markdown",
   "metadata": {},
   "source": [
    "a[0] = 99\n",
    "a"
   ]
  },
  {
   "cell_type": "code",
   "execution_count": 43,
   "metadata": {},
   "outputs": [
    {
     "data": {
      "text/plain": [
       "array([5, 5, 9, 5, 0, 9])"
      ]
     },
     "execution_count": 43,
     "metadata": {},
     "output_type": "execute_result"
    }
   ],
   "source": [
    "x1 #when you slice, your still working on the same object\n",
    "#why python/  nummpy still do like this\n",
    "#becuase sometimes you may have 6 mil rows\n",
    "#you want to d 1 mil rows at a time\n",
    "#you can use slicing"
   ]
  },
  {
   "cell_type": "code",
   "execution_count": 44,
   "metadata": {},
   "outputs": [],
   "source": [
    "some_copy = x1[0:2].copy()"
   ]
  },
  {
   "cell_type": "code",
   "execution_count": 45,
   "metadata": {},
   "outputs": [
    {
     "data": {
      "text/plain": [
       "array([19999999,        5])"
      ]
     },
     "execution_count": 45,
     "metadata": {},
     "output_type": "execute_result"
    }
   ],
   "source": [
    "some_copy[0] = 19999999\n",
    "some_copy"
   ]
  },
  {
   "cell_type": "code",
   "execution_count": 46,
   "metadata": {},
   "outputs": [
    {
     "data": {
      "text/plain": [
       "array([5, 5, 9, 5, 0, 9])"
      ]
     },
     "execution_count": 46,
     "metadata": {},
     "output_type": "execute_result"
    }
   ],
   "source": [
    "x1"
   ]
  },
  {
   "cell_type": "code",
   "execution_count": 47,
   "metadata": {},
   "outputs": [],
   "source": [
    "#deepcopy --> go and read\n",
    "#copy"
   ]
  },
  {
   "cell_type": "code",
   "execution_count": 48,
   "metadata": {},
   "outputs": [
    {
     "data": {
      "text/plain": [
       "(5,)"
      ]
     },
     "execution_count": 48,
     "metadata": {},
     "output_type": "execute_result"
    }
   ],
   "source": [
    "#reshaping\n",
    "#reshaping, just like shape, is prob one of the MOST important funciton you need to master\n",
    "#let say that sklearn --> lib for machine learning\n",
    "#and sklarn want s X to be of shape (num_samples,num_features)\n",
    "#X(n,m)\n",
    "\n",
    "X = np.array([11,22,33,44,55])\n",
    "X.shape\n",
    "\n",
    "#sklearn expects X to be of shape (n,m) NOT (n, )\n",
    "#therefore, we use reshape"
   ]
  },
  {
   "cell_type": "code",
   "execution_count": 49,
   "metadata": {},
   "outputs": [
    {
     "data": {
      "text/plain": [
       "(5, 1)"
      ]
     },
     "execution_count": 49,
     "metadata": {},
     "output_type": "execute_result"
    }
   ],
   "source": [
    "X.reshape(-1,1).shape #-->needs to know something eg num is 1"
   ]
  },
  {
   "cell_type": "code",
   "execution_count": 50,
   "metadata": {},
   "outputs": [
    {
     "data": {
      "text/plain": [
       "(5, 1)"
      ]
     },
     "execution_count": 50,
     "metadata": {},
     "output_type": "execute_result"
    }
   ],
   "source": [
    "X.reshape(X.shape[0],-1).shape # prefered method... i know X.shape[0],-1"
   ]
  },
  {
   "cell_type": "code",
   "execution_count": 51,
   "metadata": {},
   "outputs": [
    {
     "data": {
      "text/plain": [
       "(5, 1)"
      ]
     },
     "execution_count": 51,
     "metadata": {},
     "output_type": "execute_result"
    }
   ],
   "source": [
    "X.reshape(X.shape[0],1).shape #--> also needs toknow my num feature is 1"
   ]
  },
  {
   "cell_type": "code",
   "execution_count": 52,
   "metadata": {},
   "outputs": [
    {
     "data": {
      "text/plain": [
       "(5, 1)"
      ]
     },
     "execution_count": 52,
     "metadata": {},
     "output_type": "execute_result"
    }
   ],
   "source": [
    "#reshape is NOT in-place algorith\n",
    "X_reshape = X.reshape(5,1)\n",
    "\n",
    "X_reshape.shape"
   ]
  },
  {
   "cell_type": "code",
   "execution_count": 53,
   "metadata": {},
   "outputs": [],
   "source": [
    "# you can reshape your data\n",
    "#change some values\n",
    "#and perhaps use the old one without chaging the shape\n",
    "\n",
    "#.copy then x doesnt change ?/??"
   ]
  },
  {
   "cell_type": "code",
   "execution_count": 54,
   "metadata": {},
   "outputs": [
    {
     "name": "stdout",
     "output_type": "stream",
     "text": [
      "(10, 28, 28)\n",
      "(10, 784)\n"
     ]
    },
    {
     "data": {
      "text/plain": [
       "(2, 4, 3)"
      ]
     },
     "execution_count": 54,
     "metadata": {},
     "output_type": "execute_result"
    }
   ],
   "source": [
    "#2d -> 3d data\n",
    "X=np.random.random((10,28,28)) #28width 28 height 10,28,28 --> 10 groups of 28 X 28\n",
    "print(X.shape)\n",
    "\n",
    "#sklearn wants (num_sample,num_features)\n",
    "#but my X is a 28 pixels by 28 pixels and I have 10 images\n",
    "\n",
    "X_re = X.reshape(X.shape[0],-1)\n",
    "X_re_shape = X.reshape(X.shape[0],-1).shape \n",
    "# -1 = unknown, any no. of columns is ok, focus on getting the no. of row correctly\n",
    "# in this case X.shape[0]= 10 \n",
    "print(X_re_shape)\n",
    "\n",
    "#(n*i,k,j)@(k,i*n)\n",
    "\n",
    "#(n*i,j,k)@(k,i*n)\n",
    "\n",
    "#(n*i,j,k)@(k,i*n)\n",
    "\n",
    "#(n*i,j,k)@(k,i*n)\n",
    "\n",
    "#(j,n*i,k)@(k,i*n)\n",
    "\n",
    "#(j, )\n",
    "\n",
    "####### Example of transpose #######\n",
    "X=np.random.random((2,3,4)) # 2 groups of 3x4 matrix\n",
    "#shape = (2,3,4)\n",
    "np.transpose(X,(0,2,1)).shape \n",
    "#transpose => shape = (2,4,3)"
   ]
  },
  {
   "cell_type": "code",
   "execution_count": 55,
   "metadata": {},
   "outputs": [
    {
     "data": {
      "text/plain": [
       "(784, 10)"
      ]
     },
     "execution_count": 55,
     "metadata": {},
     "output_type": "execute_result"
    }
   ],
   "source": [
    "#2d to 3d data\n",
    "np.transpose(X_re,(1,0)).shape #from 10x782 to 782x10\n",
    "X_re.T.shape\n"
   ]
  },
  {
   "cell_type": "code",
   "execution_count": 56,
   "metadata": {},
   "outputs": [
    {
     "data": {
      "text/plain": [
       "(4, 4)"
      ]
     },
     "execution_count": 56,
     "metadata": {},
     "output_type": "execute_result"
    }
   ],
   "source": [
    "b = np.arange(16).reshape(4,4)\n",
    "b.shape"
   ]
  },
  {
   "cell_type": "code",
   "execution_count": 57,
   "metadata": {},
   "outputs": [
    {
     "data": {
      "text/plain": [
       "(16,)"
      ]
     },
     "execution_count": 57,
     "metadata": {},
     "output_type": "execute_result"
    }
   ],
   "source": [
    "b.ravel().shape"
   ]
  },
  {
   "cell_type": "code",
   "execution_count": 58,
   "metadata": {},
   "outputs": [
    {
     "data": {
      "text/plain": [
       "(1, 16)"
      ]
     },
     "execution_count": 58,
     "metadata": {},
     "output_type": "execute_result"
    }
   ],
   "source": [
    "b=np.arange(16).reshape(1,-1)\n",
    "b.shape"
   ]
  },
  {
   "cell_type": "code",
   "execution_count": 59,
   "metadata": {},
   "outputs": [
    {
     "name": "stdout",
     "output_type": "stream",
     "text": [
      "(16,)\n"
     ]
    }
   ],
   "source": [
    "a = np.squeeze(b) #squeeze will remove all dimension with 1\n",
    "print(a.shape)"
   ]
  },
  {
   "cell_type": "code",
   "execution_count": 60,
   "metadata": {},
   "outputs": [
    {
     "data": {
      "text/plain": [
       "(1, 3, 2)"
      ]
     },
     "execution_count": 60,
     "metadata": {},
     "output_type": "execute_result"
    }
   ],
   "source": [
    "#for LSTM or recurrent neural network/ sequential data\n",
    "X = np.array([\n",
    "    [11,22],\n",
    "    [33,44],\n",
    "    [55,66]\n",
    "])\n",
    "\n",
    "# in a time series analysis, we need 3 d data which is (sample, time-steps,features)\n",
    "#compared to 2d data-sklearn (sample, features)\n",
    "\n",
    "X.shape\n",
    "#map 2d data to 3d data\n",
    "X.reshape(1,X.shape[0],X.shape[1]).shape #(sample,time-step,features)"
   ]
  },
  {
   "cell_type": "code",
   "execution_count": 83,
   "metadata": {},
   "outputs": [
    {
     "name": "stdout",
     "output_type": "stream",
     "text": [
      "(2, 3) (1, 3)\n",
      "(3, 4) (3, 3)\n",
      "(3, 2, 3) (2, 2, 1)\n"
     ]
    }
   ],
   "source": [
    "#concatenation\n",
    "#combining x and y\n",
    "x = np.array([\n",
    "    [1,2,3],\n",
    "    [3,4,1],\n",
    "])\n",
    "y = np.array([\n",
    "    [3,2,1]\n",
    "])\n",
    "print(x.shape,y.shape)\n",
    "# print(y.shape)\n",
    "\n",
    "#np.concatenate\n",
    "np.concatenate((x,y),) #this receive a tuple\n",
    "\n",
    "#when you concatenate, you can ONLY concatenate along the axis\n",
    "#that is NOT the same, but other dimensions should be the same\n",
    "\n",
    "np.concatenate((x,y),axis=0)\n",
    "\n",
    "x = np.array([\n",
    "    [1,3,4,5],\n",
    "    [2,3,1,4],\n",
    "    [3,1,5,3]\n",
    "])\n",
    "\n",
    "y = np.array([\n",
    "    [2,1,4],\n",
    "    [1,3,4],\n",
    "    [1,9,3]\n",
    "])\n",
    "print(x.shape,y.shape) #first axis-es are the same 3 and 3, choose one that are not the same!\n",
    "np.concatenate((x,y),axis=1) #axis 1 4 and 3\n",
    "\n",
    "x = np.random.random((3,2,3))\n",
    "y = np.random.random((2,2,1))\n",
    "print(x.shape,y.shape)\n",
    "# np.concatenate((x,y),axis=2)"
   ]
  },
  {
   "cell_type": "code",
   "execution_count": 85,
   "metadata": {},
   "outputs": [
    {
     "data": {
      "text/plain": [
       "array([[11, 12, 11, 22],\n",
       "       [33, 44, 33, 44],\n",
       "       [55, 66, 55, 66]])"
      ]
     },
     "execution_count": 85,
     "metadata": {},
     "output_type": "execute_result"
    }
   ],
   "source": [
    "#vstack - np.concatenate axis = 0\n",
    "#hstack - np.concatenate axis = 1\n",
    "\n",
    "X = np.array([\n",
    "    [11,12],\n",
    "    [33,44],\n",
    "    [55,66]\n",
    "])\n",
    "\n",
    "Y = np.array([\n",
    "    [11,22],\n",
    "    [33,44],\n",
    "    [55,66]\n",
    "])\n",
    "# np.vstack((X,Y))\n",
    "# np.hstack((X,Y))\n",
    "# do i recommen to use?\n",
    "#no\n",
    "#np.concatenant can do most of the stuff"
   ]
  },
  {
   "cell_type": "code",
   "execution_count": 63,
   "metadata": {},
   "outputs": [
    {
     "data": {
      "text/plain": [
       "array([0, 1, 2, 3, 4, 5, 6, 7, 8, 9])"
      ]
     },
     "execution_count": 63,
     "metadata": {},
     "output_type": "execute_result"
    }
   ],
   "source": [
    "#splitting\n",
    "x = np.arange(10)\n",
    "x"
   ]
  },
  {
   "cell_type": "code",
   "execution_count": 64,
   "metadata": {},
   "outputs": [
    {
     "data": {
      "text/plain": [
       "[array([0, 1, 2, 3, 4]), array([5, 6, 7, 8, 9])]"
      ]
     },
     "execution_count": 64,
     "metadata": {},
     "output_type": "execute_result"
    }
   ],
   "source": [
    "#np.split\n",
    "#np.split(x,4) # cannot split 10 equally to 4\n",
    "np.split(x,2)"
   ]
  },
  {
   "cell_type": "code",
   "execution_count": 65,
   "metadata": {},
   "outputs": [
    {
     "data": {
      "text/plain": [
       "[array([0, 1, 2]), array([3, 4]), array([5, 6, 7, 8, 9])]"
      ]
     },
     "execution_count": 65,
     "metadata": {},
     "output_type": "execute_result"
    }
   ],
   "source": [
    "np.split(x,(3,5)) #position 3 and 5 #[:3], [3:5],[5:1]"
   ]
  },
  {
   "cell_type": "code",
   "execution_count": 66,
   "metadata": {},
   "outputs": [
    {
     "data": {
      "text/plain": [
       "array([ 0,  1,  2,  3,  4,  5,  6,  7,  8,  9, 10, 11, 12, 13, 14])"
      ]
     },
     "execution_count": 66,
     "metadata": {},
     "output_type": "execute_result"
    }
   ],
   "source": [
    "y = np.arange(15)\n",
    "y"
   ]
  },
  {
   "cell_type": "code",
   "execution_count": 67,
   "metadata": {},
   "outputs": [
    {
     "data": {
      "text/plain": [
       "[array([0, 1, 2]),\n",
       " array([3, 4]),\n",
       " array([ 5,  6,  7,  8,  9, 10, 11]),\n",
       " array([12, 13, 14])]"
      ]
     },
     "execution_count": 67,
     "metadata": {},
     "output_type": "execute_result"
    }
   ],
   "source": [
    "#try to split them evenly into 3 chucks\n",
    "np.split(y,3)\n",
    "#tru to split them so they look like:\n",
    "#[0,1,2],[3,4],[5,6,7,8,9,10,11],[12,13,14]\n",
    "np.split(y,(3,5,12))\n",
    "\n",
    "#note\n",
    "#split can be used in multidimension\n",
    "#hsplit - hstack (axis =1)\n",
    "#vsplit - vstack (axis =0)\n",
    "# ALWAYS specify axis-> easier to read for non-python coder\n"
   ]
  },
  {
   "cell_type": "code",
   "execution_count": 68,
   "metadata": {},
   "outputs": [
    {
     "data": {
      "text/plain": [
       "[1, 2, 3, 4, 5, 1, 1, -1, 5, 1]"
      ]
     },
     "execution_count": 68,
     "metadata": {},
     "output_type": "execute_result"
    }
   ],
   "source": [
    "#vectorization and broadcasting\n",
    "\n",
    "#1. shape/reshape\n",
    "#2. slicing/indexing/fancy indexing/ boolean masking\n",
    "#3. vectorization and broadcasting(vectorized when posible)\n",
    "\n",
    "a = [1,2,3,4,5]\n",
    "b = [1,1,-1,5,1]\n",
    "# This is not vectorization, python list does not support vectorization\n",
    "a+b"
   ]
  },
  {
   "cell_type": "code",
   "execution_count": 69,
   "metadata": {},
   "outputs": [
    {
     "data": {
      "text/plain": [
       "[2, 3, 2, 9, 6]"
      ]
     },
     "execution_count": 69,
     "metadata": {},
     "output_type": "execute_result"
    }
   ],
   "source": [
    "#vector addition\n",
    "#[2,3,2,9,6]\n",
    "[x+y for x,y in zip(a,b)]"
   ]
  },
  {
   "cell_type": "code",
   "execution_count": 70,
   "metadata": {},
   "outputs": [
    {
     "data": {
      "text/plain": [
       "array([2, 3, 2, 9, 6])"
      ]
     },
     "execution_count": 70,
     "metadata": {},
     "output_type": "execute_result"
    }
   ],
   "source": [
    "#by default, numpy does vectorization\n",
    "#numpy based on linear algebra, should be no for loop!\n",
    "x = np.array(a)\n",
    "y = np.array(b)\n",
    "x+y"
   ]
  },
  {
   "cell_type": "code",
   "execution_count": 71,
   "metadata": {},
   "outputs": [
    {
     "data": {
      "text/plain": [
       "array([ 0, -1, -2, -3, -4])"
      ]
     },
     "execution_count": 71,
     "metadata": {},
     "output_type": "execute_result"
    }
   ],
   "source": [
    "#1-a does not work because a is a vector\n",
    "1-x\n",
    "# x.shape = 1,5\n",
    "# 1. shape (1, )\n",
    "#it makes 1 into [1,1,1,1,1]-[2,3,2,9,6] it\"broadcats\" 1 to the szie of vecter x"
   ]
  },
  {
   "cell_type": "code",
   "execution_count": 72,
   "metadata": {},
   "outputs": [
    {
     "data": {
      "text/plain": [
       "array([ 1,  4,  9, 16, 25])"
      ]
     },
     "execution_count": 72,
     "metadata": {},
     "output_type": "execute_result"
    }
   ],
   "source": [
    "x**2"
   ]
  },
  {
   "cell_type": "code",
   "execution_count": 73,
   "metadata": {},
   "outputs": [
    {
     "data": {
      "text/plain": [
       "array([0.6, 0.7, 0.8, 0.9, 1. ])"
      ]
     },
     "execution_count": 73,
     "metadata": {},
     "output_type": "execute_result"
    }
   ],
   "source": [
    "(x+5)/10"
   ]
  },
  {
   "cell_type": "code",
   "execution_count": 74,
   "metadata": {},
   "outputs": [
    {
     "data": {
      "text/plain": [
       "array([3, 4, 5, 6, 7])"
      ]
     },
     "execution_count": 74,
     "metadata": {},
     "output_type": "execute_result"
    }
   ],
   "source": [
    "x +2"
   ]
  },
  {
   "cell_type": "code",
   "execution_count": 75,
   "metadata": {},
   "outputs": [
    {
     "name": "stdout",
     "output_type": "stream",
     "text": [
      "[3 2 5 1 4]\n"
     ]
    },
    {
     "data": {
      "text/plain": [
       "array([3, 1, 0, 4, 2])"
      ]
     },
     "execution_count": 75,
     "metadata": {},
     "output_type": "execute_result"
    }
   ],
   "source": [
    "np.add(x,2) \n",
    "#np.mod\n",
    "#np.subtract\n",
    "#np.add.reduce #sum\n",
    "\n",
    "x = np.arange(1,6)\n",
    "x\n",
    "np.add.reduce(x)\n",
    "np.sum(x)\n",
    "#np.mulitply.reduce(x) = dot prodyct = np.drod(x)\n",
    "\n",
    "np.add.accumulate(x)\n",
    "np.cumsum(x)\n",
    "\n",
    "np.multiply.accumulate(x)\n",
    "np.cumprod(x)\n",
    "\n",
    "np.min(x)\n",
    "np.argmin(x) #tell you the index\n",
    "np.random.seed(1)\n",
    "np.random.shuffle(x)\n",
    "print(x)\n",
    "np.min(x)\n",
    "np.argmin(x)\n",
    "\n",
    "np.argsort(x) # position of the sorted numbers IMPORTANT\n",
    "#nearest neighbors, manifold learningm clustering, distance based algorithm"
   ]
  },
  {
   "cell_type": "code",
   "execution_count": 76,
   "metadata": {},
   "outputs": [
    {
     "data": {
      "text/plain": [
       "array([1, 1])"
      ]
     },
     "execution_count": 76,
     "metadata": {},
     "output_type": "execute_result"
    }
   ],
   "source": [
    "#exercise\n",
    "x = np.array([\n",
    "    [4,2,3],\n",
    "    [2,1,4],\n",
    "])\n",
    "\n",
    "#argmin and argmax IMPORTANT take a look\n",
    "\n",
    "#multiply all elements by 2\n",
    "#return argsort indices\n",
    "#give me the first column\n",
    "#argsort ascending\n",
    "np.argsort(x*2,axis = 1)[:,0] #shape of x is 2x3 therefore a long rows axis = 1 compare [x,x,x]\n",
    "## nearest neighbours \n",
    "\n",
    "np.argmax(x, axis = 1) #position of max position of 4\n",
    "np.argmin(x,axis = 1)"
   ]
  },
  {
   "cell_type": "code",
   "execution_count": 77,
   "metadata": {},
   "outputs": [
    {
     "name": "stdout",
     "output_type": "stream",
     "text": [
      "[[1. 1. 1.]\n",
      " [1. 1. 1.]]\n",
      "[0 1 2]\n",
      "[[1. 2. 3.]\n",
      " [1. 2. 3.]]\n",
      "(3, 1)\n",
      "(3,)\n",
      "(3, 3)\n",
      "[[1. 1.]\n",
      " [1. 1.]\n",
      " [1. 1.]]  +  [0 1 2]\n",
      "(3, 2) (3,)\n"
     ]
    }
   ],
   "source": [
    "#Rules of braodcasting\n",
    "a = np.ones((2,3))\n",
    "b = np.arange(3)\n",
    "a.shape\n",
    "b.shape\n",
    "\n",
    "print(a)\n",
    "print(b)\n",
    "print(a+b)\n",
    "\n",
    "#can they be added\n",
    "#if so, what is the result\n",
    "\n",
    "a= np.arange(3).reshape((3,1))\n",
    "b = np.arange(3)\n",
    "\n",
    "print(a.shape)\n",
    "print(b.shape)\n",
    "print((a+b).shape)\n",
    "\n",
    "#cannot be added\n",
    "a = np.ones((3,2))\n",
    "b = np.arange(3)\n",
    "print(a, \" + \", b)\n",
    "print(a.shape,b.shape)\n",
    "\n",
    "\n"
   ]
  },
  {
   "cell_type": "code",
   "execution_count": 78,
   "metadata": {},
   "outputs": [
    {
     "data": {
      "text/plain": [
       "'\\nRule1: if two arrays differ in their no. of dimension, the shape of the one with fewer dimension\\nis padded with ones on its leading side(left)\\n\\nRule2: if there are any two dimensions that differ, change that dim to match another\\n\\nRule3: if the dimension still disagree, bybye(cannot be broadcasted)\\n\\n'"
      ]
     },
     "execution_count": 78,
     "metadata": {},
     "output_type": "execute_result"
    }
   ],
   "source": [
    "\n",
    "'''\n",
    "Rule1: if two arrays differ in their no. of dimension, the shape of the one with fewer dimension\n",
    "is padded with ones on its leading side(left)\n",
    "\n",
    "Rule2: if there are any two dimensions that differ, change that dim to match another\n",
    "\n",
    "Rule3: if the dimension still disagree, bybye(cannot be broadcasted)\n",
    "\n",
    "'''"
   ]
  },
  {
   "cell_type": "code",
   "execution_count": 79,
   "metadata": {},
   "outputs": [
    {
     "name": "stdout",
     "output_type": "stream",
     "text": [
      "(2, 3)\n",
      "(3, 3)\n",
      "[[1. 1.]\n",
      " [1. 1.]\n",
      " [1. 1.]]\n",
      "[[5]\n",
      " [5]\n",
      " [5]]\n",
      "[[6. 6.]\n",
      " [6. 6.]\n",
      " [6. 6.]]\n"
     ]
    }
   ],
   "source": [
    "a = np.ones((2,3))\n",
    "\n",
    "b = np.arange(3)\n",
    "\n",
    "#rule1: b is the one with few dimensions b is 1D, a has 2D\n",
    "# shape of b (3, ) --> (1,3)\n",
    "\n",
    "#rule2: both a and b are 2D but a has a shape of (2,3) b has a shape f (1,3)\n",
    "# b shape to (2,3). Thus, the result of a+b = (2,3)\n",
    "\n",
    "print((a+b).shape)\n",
    "\n",
    "a = np.ones((3,1))\n",
    "b = np.ones(3)\n",
    "#rule 1, b has few dimension, pad b with 1s (1,3)\n",
    "#rule 2, a(3,1) b(1,3) => a (3,3) b(3,3)\n",
    "#rule 3 (3,3) (3,3)\n",
    "#(3,3)\n",
    "print((a+b).shape)\n",
    "\n",
    "a = np.ones((3,2))\n",
    "b = np.ones(3)\n",
    "#rule 1 b => (1,3)\n",
    "#rule 2 a(3,2) b(1,3) ==> b(3,3)\n",
    "#rule 3 a(3,2) b(3,3) dimension still kaputt\n",
    "\n",
    "#Shapes dont match any rules, -->> reshape is return not replace\n",
    "a = np.ones((3,2))\n",
    "b = np.full(3,5).reshape(-1,1) #reshape(shape of what you want it to be) work with (3,1)\n",
    "\n",
    "print(a)\n",
    "print(b)\n",
    "print(a+b)\n",
    "\n"
   ]
  },
  {
   "cell_type": "code",
   "execution_count": 80,
   "metadata": {},
   "outputs": [
    {
     "name": "stdout",
     "output_type": "stream",
     "text": [
      "(2, 3, 4)\n",
      "(3, 4)\n",
      "(2, 3, 4)\n",
      "(3,)\n"
     ]
    }
   ],
   "source": [
    "x = np.arange(24).reshape(2,3,4)\n",
    "#x1 = np.arange(24)\n",
    "#print(x)\n",
    "print(x.shape)\n",
    "\n",
    "y = np.arange(12).reshape(3,4)\n",
    "#print(y)\n",
    "print(y.shape)\n",
    "\n",
    "#x+y \n",
    "#1. can they be added\n",
    "#Rule1: y should be padded -> (1,3,4)\n",
    "#Ruel2: y --> (2,3,4)\n",
    "#RUle3: it works!\n",
    "\n",
    "x = np.arange(24).reshape(2,3,4)\n",
    "x1 = np.arange(24)\n",
    "#print(x)\n",
    "print(x.shape)\n",
    "\n",
    "y = np.arange(3).reshape(3)\n",
    "#print(y)\n",
    "print(y.shape)\n",
    "\n",
    "#Rule 1: y --> (1,1,3)\n",
    "#Rule 2: y--> (2,3,3)\n",
    "#RUle 3: does not work\n",
    "\n",
    "#What are the 1d y that can be + with x\n",
    "#y = (4, )\n",
    "\n"
   ]
  },
  {
   "cell_type": "code",
   "execution_count": 81,
   "metadata": {},
   "outputs": [
    {
     "name": "stdout",
     "output_type": "stream",
     "text": [
      "(2, 3, 4)\n",
      "(12,)\n",
      "===y reshaped===\n",
      "[[ 0  1  2  3]\n",
      " [ 4  5  6  7]\n",
      " [ 8  9 10 11]]\n",
      "===x reshaped===\n",
      "(2, 12)\n",
      "[[ 0  2  4  6  8 10 12 14 16 18 20 22]\n",
      " [12 14 16 18 20 22 24 26 28 30 32 34]]\n"
     ]
    }
   ],
   "source": [
    "x = np.arange(24).reshape(2,3,4)\n",
    "y = np.arange(12).reshape(12) #reshape(same no. of elements)\n",
    "print(x.shape)\n",
    "print(y.shape)\n",
    "print(\"===y reshaped===\")\n",
    "y_reshaped = y.reshape(3,4)\n",
    "print(y_reshaped)\n",
    "x+y_reshaped\n",
    "print(\"===x reshaped===\")\n",
    "x_reshaped = x.reshape(2,12)\n",
    "#x_reshaped = x.reshape(x.shape[0],-1)\n",
    "print(x_reshaped.shape)\n",
    "print(x_reshaped+y)\n"
   ]
  },
  {
   "cell_type": "code",
   "execution_count": null,
   "metadata": {},
   "outputs": [],
   "source": [
    "#masking\n",
    "\n",
    "#shape; reshape\n",
    "#slicing\n",
    "#vvectorization / broadcasting (vectorized when possible)\n",
    "#matrix manipulations - I dont want to see any of you using for loops no i and j, use dot product!"
   ]
  },
  {
   "cell_type": "code",
   "execution_count": 87,
   "metadata": {},
   "outputs": [],
   "source": [
    "import numpy as np\n",
    "rng = np.random.RandomState(0) #now i have a random generator\n",
    "\n",
    "# rng is similar to np.random.seed(0)\n",
    "x = rng.randint(10,size = (3,4))"
   ]
  },
  {
   "cell_type": "code",
   "execution_count": 91,
   "metadata": {},
   "outputs": [
    {
     "data": {
      "text/plain": [
       "array([[5, 0, 3, 3],\n",
       "       [7, 9, 3, 5],\n",
       "       [2, 4, 7, 6]])"
      ]
     },
     "execution_count": 91,
     "metadata": {},
     "output_type": "execute_result"
    }
   ],
   "source": [
    "#masking \n",
    "x \n",
    "#what if i want all values that are less than 4\n",
    "#emptylist = []\n",
    "# if .......x[i] < 4\n",
    "#emptylist.append (x[i])\n",
    "#WRONG\n",
    "\n",
    "#USE MASKING"
   ]
  },
  {
   "cell_type": "code",
   "execution_count": 89,
   "metadata": {},
   "outputs": [
    {
     "data": {
      "text/plain": [
       "array([[False,  True,  True,  True],\n",
       "       [False, False,  True, False],\n",
       "       [ True, False, False, False]])"
      ]
     },
     "execution_count": 89,
     "metadata": {},
     "output_type": "execute_result"
    }
   ],
   "source": [
    "x<4"
   ]
  },
  {
   "cell_type": "code",
   "execution_count": 94,
   "metadata": {},
   "outputs": [
    {
     "data": {
      "text/plain": [
       "array([0, 3, 3, 9, 3, 6])"
      ]
     },
     "execution_count": 94,
     "metadata": {},
     "output_type": "execute_result"
    }
   ],
   "source": [
    "x[x<4]\n",
    "x[x%3==0]\n",
    "#x[np.isnan(x)]"
   ]
  },
  {
   "cell_type": "code",
   "execution_count": 95,
   "metadata": {},
   "outputs": [
    {
     "data": {
      "text/plain": [
       "array([0, 3, 3, 3, 2])"
      ]
     },
     "execution_count": 95,
     "metadata": {},
     "output_type": "execute_result"
    }
   ],
   "source": [
    "#readibility\n",
    "lessthanfour = x<4\n",
    "x[lessthanfour]"
   ]
  },
  {
   "cell_type": "code",
   "execution_count": 96,
   "metadata": {},
   "outputs": [
    {
     "data": {
      "text/plain": [
       "array([[0, 1],\n",
       "       [0, 2],\n",
       "       [0, 3],\n",
       "       [1, 2],\n",
       "       [2, 0]])"
      ]
     },
     "execution_count": 96,
     "metadata": {},
     "output_type": "execute_result"
    }
   ],
   "source": [
    "#know the position\n",
    "#argwhere returns the index in which the condsion is evaluated to be True\n",
    "np.argwhere(x<4) #row,col"
   ]
  },
  {
   "cell_type": "code",
   "execution_count": 97,
   "metadata": {},
   "outputs": [
    {
     "data": {
      "text/plain": [
       "array([[False,  True,  True,  True],\n",
       "       [False, False,  True, False],\n",
       "       [ True, False, False, False]])"
      ]
     },
     "execution_count": 97,
     "metadata": {},
     "output_type": "execute_result"
    }
   ],
   "source": [
    "x<4"
   ]
  },
  {
   "cell_type": "code",
   "execution_count": 98,
   "metadata": {},
   "outputs": [
    {
     "data": {
      "text/plain": [
       "5"
      ]
     },
     "execution_count": 98,
     "metadata": {},
     "output_type": "execute_result"
    }
   ],
   "source": [
    "np.sum(x<4)# F+T+T+T.........(F=0,T=1)\n"
   ]
  },
  {
   "cell_type": "code",
   "execution_count": 99,
   "metadata": {},
   "outputs": [
    {
     "data": {
      "text/plain": [
       "9"
      ]
     },
     "execution_count": 99,
     "metadata": {},
     "output_type": "execute_result"
    }
   ],
   "source": [
    "np.sum(x%3)"
   ]
  },
  {
   "cell_type": "code",
   "execution_count": 100,
   "metadata": {},
   "outputs": [
    {
     "data": {
      "text/plain": [
       "5"
      ]
     },
     "execution_count": 100,
     "metadata": {},
     "output_type": "execute_result"
    }
   ],
   "source": [
    "np.count_nonzero(x<4)"
   ]
  },
  {
   "cell_type": "code",
   "execution_count": 101,
   "metadata": {},
   "outputs": [
    {
     "data": {
      "text/plain": [
       "True"
      ]
     },
     "execution_count": 101,
     "metadata": {},
     "output_type": "execute_result"
    }
   ],
   "source": [
    "#np.any\n",
    "#np.any tries to evaluate whether ANY value actually meet the condition\n",
    "\n",
    "#is there any element in x that is equal to zero\n",
    "np.any(x==0)"
   ]
  },
  {
   "cell_type": "code",
   "execution_count": 102,
   "metadata": {},
   "outputs": [
    {
     "data": {
      "text/plain": [
       "False"
      ]
     },
     "execution_count": 102,
     "metadata": {},
     "output_type": "execute_result"
    }
   ],
   "source": [
    "# are all elements in x = to zero\n",
    "np.all(x==0)"
   ]
  },
  {
   "cell_type": "code",
   "execution_count": 103,
   "metadata": {},
   "outputs": [
    {
     "data": {
      "text/plain": [
       "False"
      ]
     },
     "execution_count": 103,
     "metadata": {},
     "output_type": "execute_result"
    }
   ],
   "source": [
    "#\"&\"\" \"and\", \"|\" or \"or\"\n",
    "\n",
    "np.any((x==0) & (x==2))"
   ]
  },
  {
   "cell_type": "code",
   "execution_count": 104,
   "metadata": {},
   "outputs": [
    {
     "name": "stdout",
     "output_type": "stream",
     "text": [
      "True\n",
      "True\n"
     ]
    }
   ],
   "source": [
    "# what is the different between \"&\" and \"an\"\n",
    "print(True & True)\n",
    "print(True and True)"
   ]
  },
  {
   "cell_type": "code",
   "execution_count": 105,
   "metadata": {},
   "outputs": [
    {
     "name": "stdout",
     "output_type": "stream",
     "text": [
      "0\n",
      "2\n"
     ]
    }
   ],
   "source": [
    "print(1 & 2) # what 1 & 2 are true\n",
    "print(1 and 2) # 1 and 2 are true between they are not zero"
   ]
  },
  {
   "cell_type": "code",
   "execution_count": 106,
   "metadata": {},
   "outputs": [
    {
     "data": {
      "text/plain": [
       "'0b101010'"
      ]
     },
     "execution_count": 106,
     "metadata": {},
     "output_type": "execute_result"
    }
   ],
   "source": [
    "bin(42)"
   ]
  },
  {
   "cell_type": "code",
   "execution_count": 107,
   "metadata": {},
   "outputs": [
    {
     "data": {
      "text/plain": [
       "'0b111011'"
      ]
     },
     "execution_count": 107,
     "metadata": {},
     "output_type": "execute_result"
    }
   ],
   "source": [
    "bin(59)"
   ]
  },
  {
   "cell_type": "code",
   "execution_count": 108,
   "metadata": {},
   "outputs": [
    {
     "data": {
      "text/plain": [
       "'0b101001'"
      ]
     },
     "execution_count": 108,
     "metadata": {},
     "output_type": "execute_result"
    }
   ],
   "source": [
    "# & does a bitwise comparison for the last digit 0 and 1 -> true and false --> true and false = 0\n",
    "bin(45 & 59)"
   ]
  },
  {
   "cell_type": "code",
   "execution_count": 111,
   "metadata": {},
   "outputs": [
    {
     "data": {
      "text/plain": [
       "'0b111011'"
      ]
     },
     "execution_count": 111,
     "metadata": {},
     "output_type": "execute_result"
    }
   ],
   "source": [
    "bin(42 and 59)"
   ]
  },
  {
   "cell_type": "code",
   "execution_count": null,
   "metadata": {},
   "outputs": [],
   "source": [
    "# leson learnt\n",
    "# & is useful to compare 0 and 1\n",
    "# & is useful to compare true and false\n",
    "# but & is not useful to compare integers, arrays or whatever"
   ]
  },
  {
   "cell_type": "code",
   "execution_count": 113,
   "metadata": {},
   "outputs": [
    {
     "name": "stdout",
     "output_type": "stream",
     "text": [
      "hello\n"
     ]
    }
   ],
   "source": [
    "#and is short-circuiting, but not &\n",
    "print('hello')"
   ]
  },
  {
   "cell_type": "code",
   "execution_count": 114,
   "metadata": {},
   "outputs": [
    {
     "data": {
      "text/plain": [
       "True"
      ]
     },
     "execution_count": 114,
     "metadata": {},
     "output_type": "execute_result"
    }
   ],
   "source": [
    "True or print('hello') #short circuiting --> print True and cut right away "
   ]
  },
  {
   "cell_type": "code",
   "execution_count": 117,
   "metadata": {},
   "outputs": [],
   "source": [
    "# & and | are not short-circuiting\n",
    "# True | print('hello')\n",
    "# show up error"
   ]
  },
  {
   "cell_type": "code",
   "execution_count": 119,
   "metadata": {},
   "outputs": [
    {
     "name": "stdout",
     "output_type": "stream",
     "text": [
      "[67 23 27 37 57 83 38  8 32 34]\n"
     ]
    }
   ],
   "source": [
    "#Fancy indexing --> define a list of index \n",
    "\n",
    "# nparray[0:]\n",
    "# nparray[nparray>1] masking\n",
    "# nparray[0,:,1:]\n",
    "# nparray[0][:][1:]\n",
    "\n",
    "import random\n",
    "a = np.random.randint(100,size =10)\n",
    "print(a)"
   ]
  },
  {
   "cell_type": "code",
   "execution_count": 120,
   "metadata": {},
   "outputs": [
    {
     "name": "stdout",
     "output_type": "stream",
     "text": [
      "67 37 83\n"
     ]
    }
   ],
   "source": [
    "print(a[0],a[3],a[5])"
   ]
  },
  {
   "cell_type": "code",
   "execution_count": 122,
   "metadata": {},
   "outputs": [
    {
     "name": "stdout",
     "output_type": "stream",
     "text": [
      "[67 37 83]\n"
     ]
    }
   ],
   "source": [
    "#fancy indexing\n",
    "print(a[ [0,3,5] ]) # PASS A LIST!!!!!!! "
   ]
  },
  {
   "cell_type": "code",
   "execution_count": null,
   "metadata": {},
   "outputs": [],
   "source": [
    "#print(a[0,3,5]) not a list inside it becomes slicing"
   ]
  },
  {
   "cell_type": "code",
   "execution_count": 124,
   "metadata": {},
   "outputs": [
    {
     "data": {
      "text/plain": [
       "array([[37,  8],\n",
       "       [57, 83]])"
      ]
     },
     "execution_count": 124,
     "metadata": {},
     "output_type": "execute_result"
    }
   ],
   "source": [
    "# the result follows the shape of the index\n",
    "\n",
    "ix= np.array([\n",
    "    [3,7],\n",
    "    [4,5]\n",
    "])\n",
    "\n",
    "a[ix] ### follows the shape of index!"
   ]
  },
  {
   "cell_type": "code",
   "execution_count": 128,
   "metadata": {},
   "outputs": [
    {
     "data": {
      "text/plain": [
       "array([[ 0,  1,  2,  3],\n",
       "       [ 4,  5,  6,  7],\n",
       "       [ 8,  9, 10, 11]])"
      ]
     },
     "execution_count": 128,
     "metadata": {},
     "output_type": "execute_result"
    }
   ],
   "source": [
    "X= np.arange(12).reshape((3,4))\n",
    "X"
   ]
  },
  {
   "cell_type": "code",
   "execution_count": 129,
   "metadata": {},
   "outputs": [
    {
     "data": {
      "text/plain": [
       "array([ 2,  5, 11])"
      ]
     },
     "execution_count": 129,
     "metadata": {},
     "output_type": "execute_result"
    }
   ],
   "source": [
    "row_ix = np.array([0,1,2])\n",
    "col_ix = np.array([2,1,3])\n",
    "\n",
    "X[row_ix, col_ix]"
   ]
  },
  {
   "cell_type": "code",
   "execution_count": 130,
   "metadata": {},
   "outputs": [
    {
     "data": {
      "text/plain": [
       "array([10,  8,  9])"
      ]
     },
     "execution_count": 130,
     "metadata": {},
     "output_type": "execute_result"
    }
   ],
   "source": [
    "X[2,[2,0,1]] # [2,0,1] index "
   ]
  },
  {
   "cell_type": "code",
   "execution_count": 134,
   "metadata": {},
   "outputs": [
    {
     "data": {
      "text/plain": [
       "array([ 6,  4, 10,  8])"
      ]
     },
     "execution_count": 134,
     "metadata": {},
     "output_type": "execute_result"
    }
   ],
   "source": [
    "#slicing + fancy dexing + masking\n",
    "#bad habit of writing code\n",
    "X[1:, [2,0,1]][X[1:,[2,0,1]]%2 ==0]"
   ]
  },
  {
   "cell_type": "code",
   "execution_count": 136,
   "metadata": {},
   "outputs": [
    {
     "name": "stdout",
     "output_type": "stream",
     "text": [
      "[ 6  4 10  8]\n"
     ]
    }
   ],
   "source": [
    "#Encourage you to write mask as a VARIALE\n",
    "Y= X[1:,[2,0,1]]\n",
    "mod2= Y[Y%2==0]\n",
    "print(mod2)"
   ]
  },
  {
   "cell_type": "code",
   "execution_count": 140,
   "metadata": {},
   "outputs": [
    {
     "data": {
      "text/plain": [
       "array([[[ 0,  1,  2],\n",
       "        [ 3,  4,  5],\n",
       "        [ 6,  7,  8],\n",
       "        [ 9, 10, 11]],\n",
       "\n",
       "       [[12, 13, 14],\n",
       "        [15, 16, 17],\n",
       "        [18, 19, 20],\n",
       "        [21, 22, 23]],\n",
       "\n",
       "       [[24, 25, 26],\n",
       "        [27, 28, 29],\n",
       "        [30, 31, 32],\n",
       "        [33, 34, 35]]])"
      ]
     },
     "execution_count": 140,
     "metadata": {},
     "output_type": "execute_result"
    }
   ],
   "source": [
    "#3d\n",
    "\n",
    "X =np.arange(36).reshape((3,4,3))\n",
    "X"
   ]
  },
  {
   "cell_type": "code",
   "execution_count": 141,
   "metadata": {},
   "outputs": [
    {
     "data": {
      "text/plain": [
       "array([[15, 16, 17],\n",
       "       [12, 13, 14],\n",
       "       [15, 16, 17]])"
      ]
     },
     "execution_count": 141,
     "metadata": {},
     "output_type": "execute_result"
    }
   ],
   "source": [
    "X[1,[1,0,1]]\n"
   ]
  },
  {
   "cell_type": "code",
   "execution_count": 142,
   "metadata": {},
   "outputs": [
    {
     "data": {
      "text/plain": [
       "array([17, 13, 16])"
      ]
     },
     "execution_count": 142,
     "metadata": {},
     "output_type": "execute_result"
    }
   ],
   "source": [
    "X[1,[1,0,1],[2,1,1]] "
   ]
  },
  {
   "cell_type": "code",
   "execution_count": 143,
   "metadata": {},
   "outputs": [
    {
     "data": {
      "text/plain": [
       "array([24, 27])"
      ]
     },
     "execution_count": 143,
     "metadata": {},
     "output_type": "execute_result"
    }
   ],
   "source": [
    "# give me 24 27\n",
    "X[2,[0,1],[0,0]] #X[2,[0,1],0]"
   ]
  },
  {
   "cell_type": "code",
   "execution_count": 144,
   "metadata": {},
   "outputs": [
    {
     "data": {
      "text/plain": [
       "array([13, 23])"
      ]
     },
     "execution_count": 144,
     "metadata": {},
     "output_type": "execute_result"
    }
   ],
   "source": [
    "# give me 13,23\n",
    "X[1,[0,3],[1,2]]"
   ]
  },
  {
   "cell_type": "code",
   "execution_count": 149,
   "metadata": {},
   "outputs": [
    {
     "data": {
      "text/plain": [
       "array([ 0, 35])"
      ]
     },
     "execution_count": 149,
     "metadata": {},
     "output_type": "execute_result"
    }
   ],
   "source": [
    "# 0 and 35\n",
    "X[[0,2],[0,3],[0,2]]"
   ]
  },
  {
   "cell_type": "code",
   "execution_count": null,
   "metadata": {},
   "outputs": [],
   "source": [
    "#passing indices\n",
    "# doesnt work"
   ]
  },
  {
   "cell_type": "code",
   "execution_count": 154,
   "metadata": {},
   "outputs": [
    {
     "data": {
      "text/plain": [
       "array([0, 1, 2, 3, 4, 5, 6, 7, 8, 9])"
      ]
     },
     "execution_count": 154,
     "metadata": {},
     "output_type": "execute_result"
    }
   ],
   "source": [
    "X= np.arange(10)\n",
    "X"
   ]
  },
  {
   "cell_type": "code",
   "execution_count": 156,
   "metadata": {},
   "outputs": [
    {
     "data": {
      "text/plain": [
       "array([6, 1, 2, 3, 4, 5, 6, 7, 8, 9])"
      ]
     },
     "execution_count": 156,
     "metadata": {},
     "output_type": "execute_result"
    }
   ],
   "source": [
    "X[[0,0]]=4,6\n",
    "X[0] =4\n",
    "X[0] = 6 \n",
    "X # X[0] is replaced by  6 and not 4"
   ]
  },
  {
   "cell_type": "code",
   "execution_count": 159,
   "metadata": {},
   "outputs": [
    {
     "data": {
      "text/plain": [
       "array([0., 0., 0., 0., 0., 0., 0., 0., 0., 0.])"
      ]
     },
     "execution_count": 159,
     "metadata": {},
     "output_type": "execute_result"
    }
   ],
   "source": [
    "# x = np.zeros(10)\n",
    "# x"
   ]
  },
  {
   "cell_type": "code",
   "execution_count": 162,
   "metadata": {},
   "outputs": [
    {
     "data": {
      "text/plain": [
       "array([0., 0., 1., 1., 1., 0., 0., 0., 0., 0.])"
      ]
     },
     "execution_count": 162,
     "metadata": {},
     "output_type": "execute_result"
    }
   ],
   "source": [
    "x = np.zeros(10)\n",
    "ix = [2,3,3,4,4,4]\n",
    "x[ix] += 1\n",
    "x\n",
    "# x[2] +=1 \n",
    "# x[3] +=1\n",
    "# x[3] +=1\n",
    "# x[4] +=1\n",
    "# x[4] +=1\n",
    "# x[4] +=1\n",
    "\n"
   ]
  },
  {
   "cell_type": "code",
   "execution_count": 163,
   "metadata": {},
   "outputs": [
    {
     "data": {
      "text/plain": [
       "array([0., 0., 1., 2., 3., 0., 0., 0., 0., 0.])"
      ]
     },
     "execution_count": 163,
     "metadata": {},
     "output_type": "execute_result"
    }
   ],
   "source": [
    "x = np.zeros(10)\n",
    "np.add.at(x,ix,1) #(input,index,value)\n",
    "x"
   ]
  },
  {
   "cell_type": "code",
   "execution_count": 167,
   "metadata": {},
   "outputs": [],
   "source": [
    "#Other useful stuffs about numpy\n",
    "#that noone talks about\n",
    "#but chaky wants to talk about\n",
    "#because chaky uses them alot\n",
    "\n",
    "#python sort\n",
    "#numpy sort\n",
    "\n",
    "py_list = list(range(100))\n",
    "random.shuffle(py_list) #shuffle is in-place\n",
    "\n",
    "numpy_list = np.arange(100)\n",
    "np.random.shuffle(numpy_list) #np.random.shuffle is also in place"
   ]
  },
  {
   "cell_type": "code",
   "execution_count": 168,
   "metadata": {},
   "outputs": [
    {
     "name": "stdout",
     "output_type": "stream",
     "text": [
      "460 ns ± 6.59 ns per loop (mean ± std. dev. of 7 runs, 1000000 loops each)\n"
     ]
    }
   ],
   "source": [
    "%timeit py_list.sort() #any pytho list will have a function sort\n"
   ]
  },
  {
   "cell_type": "code",
   "execution_count": 169,
   "metadata": {},
   "outputs": [
    {
     "name": "stdout",
     "output_type": "stream",
     "text": [
      "863 ns ± 43.3 ns per loop (mean ± std. dev. of 7 runs, 1000000 loops each)\n"
     ]
    }
   ],
   "source": [
    "%timeit numpy_list.sort() #any numpy list will have a function sort"
   ]
  },
  {
   "cell_type": "code",
   "execution_count": 170,
   "metadata": {},
   "outputs": [
    {
     "data": {
      "text/plain": [
       "array([1])"
      ]
     },
     "execution_count": 170,
     "metadata": {},
     "output_type": "execute_result"
    }
   ],
   "source": [
    "#np. digitize\n",
    "x = np.array([0.5])\n",
    "x\n",
    "bins = np.array([0,1,2,3])\n",
    "#bin1 <1\n",
    "#bin2 0 <= x <1\n",
    "#bin3 1 <= x <2\n",
    "#bin4 2 <= x <3\n",
    "#bin5 3 <= x <\n",
    "\n",
    "np.digitize(x,bins)\n"
   ]
  },
  {
   "cell_type": "code",
   "execution_count": 171,
   "metadata": {},
   "outputs": [
    {
     "data": {
      "text/plain": [
       "array([3, 3, 3, 3, 3])"
      ]
     },
     "execution_count": 171,
     "metadata": {},
     "output_type": "execute_result"
    }
   ],
   "source": [
    "#np.repeat\n",
    "np.repeat(3,5)\n",
    "#when you initialize your models\n",
    "#you know that your weights are some rando,m numbers"
   ]
  },
  {
   "cell_type": "code",
   "execution_count": 179,
   "metadata": {},
   "outputs": [
    {
     "data": {
      "text/plain": [
       "array([0, 0, 0, 0, 0, 0, 1, 0, 0, 1])"
      ]
     },
     "execution_count": 179,
     "metadata": {},
     "output_type": "execute_result"
    }
   ],
   "source": [
    "#np.random.binomial\n",
    "\n",
    "#binomial distribution -trails, probability\n",
    "#if i flip my coins 10 times,\n",
    "#i want to know the results now [0,1,0,0,1,0,0]\n",
    "\n",
    "flips = np.random.binomial(1,0.4,10) #probability of 1 is 0.6 then (1,0.6)probability of 0 = 0.4\n",
    "flips"
   ]
  },
  {
   "cell_type": "code",
   "execution_count": 183,
   "metadata": {},
   "outputs": [
    {
     "name": "stdout",
     "output_type": "stream",
     "text": [
      "0.2\n",
      "0.8\n"
     ]
    }
   ],
   "source": [
    "#give me the probability of 1 \n",
    "prob_1 = np.count_nonzero(flips)/len(flips)\n",
    "print(prob_1)\n",
    "#give me the probability of 0\n",
    "#prob_1 = np.count_nonzero(flips==0)/len(flips)\n",
    "prob_0 = 1-prob_1\n",
    "print(prob_0)"
   ]
  },
  {
   "cell_type": "code",
   "execution_count": 216,
   "metadata": {},
   "outputs": [
    {
     "name": "stdout",
     "output_type": "stream",
     "text": [
      "0\n",
      "3\n",
      "4\n",
      "[1. 0. 0. 2. 2. 0.]\n"
     ]
    }
   ],
   "source": [
    "eeg = np.array([\n",
    "    [2,4,3], #time 0 3 sensors measured in microvolts\n",
    "    [3,4,5], #time 1 3 sensors measured in micrvolts\n",
    "    [1,2,7], \n",
    "    [3,8,6],\n",
    "    [2,5,6],\n",
    "    [2,5,1],\n",
    "    [5,8,4]\n",
    "])\n",
    "\n",
    "#eeg timestamp\n",
    "eeg_ts = np.array([12089,12130,12239,12345,12367,12470])\n",
    "\n",
    "#marker == > event\n",
    "# 1  = angry images; 2 = sad images\n",
    "marker = np.array([1,2,2])\n",
    "marker_ts = np.array([12072,12321,12389])\n",
    "\n",
    "mapped_markers = np.zeros(len(eeg_ts))\n",
    "\n",
    "for each_marker_ix, each_marker_ts in enumerate(marker_ts):\n",
    "#     print(each_marker_ts) #12072,12321,12389\n",
    "    \n",
    "#     print(each_marker_ix) #0 1 2\n",
    "#    print(np.abs(each_marker_ts - eeg_ts))\n",
    "     ix = np.argmin(np.abs(each_marker_ts - eeg_ts))\n",
    "#      ix = np.argmin(each_marker_ts - eeg_ts) #vect - value = vect because of braodcasting\n",
    "     print(ix)\n",
    "     mapped_markers[ix] = marker[each_marker_ix]\n",
    "\n",
    "print(mapped_markers)"
   ]
  },
  {
   "cell_type": "code",
   "execution_count": 217,
   "metadata": {},
   "outputs": [
    {
     "name": "stdout",
     "output_type": "stream",
     "text": [
      "[0, 1, 2, 3, 4, 5]\n",
      "[12089 12130 12239 12345 12367 12470]\n"
     ]
    }
   ],
   "source": [
    "#polyfit\n",
    "\n",
    "#intuition\n",
    "#linear regression\n",
    "y_axis = list(range(len(eeg_ts)))\n",
    "y_axis\n",
    "\n",
    "print(y_axis)\n",
    "print(eeg_ts)"
   ]
  },
  {
   "cell_type": "code",
   "execution_count": 218,
   "metadata": {},
   "outputs": [
    {
     "data": {
      "text/plain": [
       "array([ 1.25681815e-02, -1.51753481e+02])"
      ]
     },
     "execution_count": 218,
     "metadata": {},
     "output_type": "execute_result"
    }
   ],
   "source": [
    "coeff = np.polyfit(eeg_ts,y_axis,1) #deg =1\n",
    "coeff"
   ]
  },
  {
   "cell_type": "code",
   "execution_count": 219,
   "metadata": {},
   "outputs": [
    {
     "data": {
      "text/plain": [
       "array([-0.03039388,  3.09908332,  3.95371966])"
      ]
     },
     "execution_count": 219,
     "metadata": {},
     "output_type": "execute_result"
    }
   ],
   "source": [
    "np.polyval(coeff, marker_ts)"
   ]
  },
  {
   "cell_type": "code",
   "execution_count": 220,
   "metadata": {},
   "outputs": [
    {
     "data": {
      "text/plain": [
       "array([0, 3, 4])"
      ]
     },
     "execution_count": 220,
     "metadata": {},
     "output_type": "execute_result"
    }
   ],
   "source": [
    "marker_ind = np.rint(np.polyval(coeff, marker_ts)).astype(int) #round to the nesrest integer\n",
    "marker_ind"
   ]
  },
  {
   "cell_type": "code",
   "execution_count": 221,
   "metadata": {},
   "outputs": [
    {
     "name": "stdout",
     "output_type": "stream",
     "text": [
      "[1. 0. 0. 2. 2. 0.]\n"
     ]
    }
   ],
   "source": [
    "mapped_markers = np.zeros(len(eeg_ts))\n",
    "mapped_markers[marker_ind] = marker\n",
    "\n",
    "print(mapped_markers)"
   ]
  },
  {
   "cell_type": "code",
   "execution_count": 222,
   "metadata": {},
   "outputs": [
    {
     "ename": "SyntaxError",
     "evalue": "positional argument follows keyword argument (<ipython-input-222-494714252e9d>, line 13)",
     "output_type": "error",
     "traceback": [
      "\u001b[0;36m  File \u001b[0;32m\"<ipython-input-222-494714252e9d>\"\u001b[0;36m, line \u001b[0;32m13\u001b[0m\n\u001b[0;31m    data = datasets.MINIST(root = 'data', download = True, transform)\u001b[0m\n\u001b[0m                                                           ^\u001b[0m\n\u001b[0;31mSyntaxError\u001b[0m\u001b[0;31m:\u001b[0m positional argument follows keyword argument\n"
     ]
    }
   ],
   "source": [
    "# # when reshape matters\n",
    "\n",
    "# import numpy as np\n",
    "# from torchvision import datasets #torchvision holds a lot of resouces by the pyTorch provider\n",
    "# import torchvision.transforms as transforms #transform data to tensor format\n",
    "# import matplotlib.pyplot as plt\n",
    "\n",
    "# #declaring a converter\n",
    "# transform = transforms.ToTensor()\n",
    "\n",
    "# #load some MNIST datasets\n",
    "# #MNIST consists of images of 0-9\n",
    "# data = datasets.MINIST(root = 'data', download = True, transform)"
   ]
  },
  {
   "cell_type": "code",
   "execution_count": null,
   "metadata": {},
   "outputs": [],
   "source": []
  }
 ],
 "metadata": {
  "kernelspec": {
   "display_name": "Python 3",
   "language": "python",
   "name": "python3"
  },
  "language_info": {
   "codemirror_mode": {
    "name": "ipython",
    "version": 3
   },
   "file_extension": ".py",
   "mimetype": "text/x-python",
   "name": "python",
   "nbconvert_exporter": "python",
   "pygments_lexer": "ipython3",
   "version": "3.8.3"
  }
 },
 "nbformat": 4,
 "nbformat_minor": 4
}
