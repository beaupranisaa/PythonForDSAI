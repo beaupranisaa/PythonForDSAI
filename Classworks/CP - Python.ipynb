{
 "cells": [
  {
   "cell_type": "markdown",
   "metadata": {},
   "source": [
    "## Linear Algebra Crash Course"
   ]
  },
  {
   "cell_type": "code",
   "execution_count": 43,
   "metadata": {},
   "outputs": [
    {
     "data": {
      "text/plain": [
       "[4, 2, 10.2]"
      ]
     },
     "execution_count": 43,
     "metadata": {},
     "output_type": "execute_result"
    }
   ],
   "source": [
    "#python list to create vectors\n",
    "[4,2,10.2]"
   ]
  },
  {
   "cell_type": "code",
   "execution_count": 44,
   "metadata": {},
   "outputs": [
    {
     "name": "stdout",
     "output_type": "stream",
     "text": [
      "[ 4.   2.  10.2]\n",
      "(3,)\n"
     ]
    }
   ],
   "source": [
    "#python list is very inefficient\n",
    "#each element actually holds a lot of info, e.g. like data type\n",
    "#python is built under C\n",
    "#python is a wrapper so 4 here is actually a manifestation of a lot of value inside C\n",
    "#TLDR: pything list sucks\n",
    "\n",
    "#numpy \n",
    "#numpy forces us to se only fixed type list\n",
    "#numpy-each element only holds minimal info\n",
    "\n",
    "import numpy as np\n",
    "house  = np.array([4,2,10.2])\n",
    "print(house)\n",
    "print(house.shape) #number of rows and columns\n",
    "\n",
    "#forget about rows and columns\n",
    "#because once its a 3d 4d ... there are no such things as rows and cols\n",
    "\n",
    "#house.shape(m_features, n_samples) ==>(3, )\n",
    "\n",
    "# house = np.array([4,2,10.2]).reshape(3,1) \n",
    "# house.shape\n"
   ]
  },
  {
   "cell_type": "code",
   "execution_count": 45,
   "metadata": {},
   "outputs": [
    {
     "data": {
      "text/plain": [
       "(3, 2)"
      ]
     },
     "execution_count": 45,
     "metadata": {},
     "output_type": "execute_result"
    }
   ],
   "source": [
    "X= np.array ([\n",
    "    [4,2],\n",
    "    [2,1],\n",
    "    [10.2,4]\n",
    "])\n",
    "X.shape #(m_features, n_samples)"
   ]
  },
  {
   "cell_type": "code",
   "execution_count": 46,
   "metadata": {},
   "outputs": [
    {
     "name": "stdout",
     "output_type": "stream",
     "text": [
      "[[12.   6. ]\n",
      " [ 6.   3. ]\n",
      " [30.6 12. ]]\n",
      "[[12.   6. ]\n",
      " [ 6.   3. ]\n",
      " [30.6 12. ]]\n"
     ]
    }
   ],
   "source": [
    "#scalar multiplication\n",
    "# $\\alpha --> alpha,beta,gamma,lambda\n",
    "# $$\\alpha$$ --> center\n",
    "#$$\\frac{1}{2}$$ -->1/2\n",
    "#$$\\Sigma$$ -->sum\n",
    "#$$\\Sigma_{i=1]^{n}......$$ -->sum\n",
    "#$$\\sigma$$ -->sigma std dev\n",
    "\n",
    "alpha= 3\n",
    "print(alpha*X)\n",
    "print(X*alpha)\n",
    "\n",
    "#scalar multiplication is commutative"
   ]
  },
  {
   "cell_type": "code",
   "execution_count": 47,
   "metadata": {},
   "outputs": [
    {
     "data": {
      "text/plain": [
       "(3,)"
      ]
     },
     "execution_count": 47,
     "metadata": {},
     "output_type": "execute_result"
    }
   ],
   "source": [
    "b = np.array([1,1,0.4])\n",
    "b.shape"
   ]
  },
  {
   "cell_type": "code",
   "execution_count": 48,
   "metadata": {},
   "outputs": [
    {
     "name": "stdout",
     "output_type": "stream",
     "text": [
      "X shape:  (3, 2)\n",
      "b shape:  (3,)\n"
     ]
    }
   ],
   "source": [
    "print(\"X shape: \",X.shape)\n",
    "print(\"b shape: \",b.shape)\n",
    "#cant be dot-producted --> transpose"
   ]
  },
  {
   "cell_type": "code",
   "execution_count": 49,
   "metadata": {},
   "outputs": [
    {
     "name": "stdout",
     "output_type": "stream",
     "text": [
      "X.T shape:  (2, 3)\n",
      "[[ 4.   2.  10.2]\n",
      " [ 2.   1.   4. ]]\n"
     ]
    }
   ],
   "source": [
    "print(\"X.T shape: \", X.T.shape)\n",
    "print(X.T)"
   ]
  },
  {
   "cell_type": "code",
   "execution_count": 50,
   "metadata": {},
   "outputs": [
    {
     "name": "stdout",
     "output_type": "stream",
     "text": [
      "[10.08  4.6 ]\n",
      "<class 'numpy.ndarray'>\n",
      "[10.08  4.6 ]\n",
      "[10.08  4.6 ]\n"
     ]
    },
    {
     "data": {
      "text/plain": [
       "array([10.08,  4.6 ])"
      ]
     },
     "execution_count": 50,
     "metadata": {},
     "output_type": "execute_result"
    }
   ],
   "source": [
    "#np.dot\n",
    "print(np.dot(X.T,b))\n",
    "\n",
    "#.dot\n",
    "#all np type have .dot\n",
    "print(type(X))\n",
    "print(X.T.dot(b))\n",
    "\n",
    "#@ (python3.5)\n",
    "print(X.T @ b) #matmul in a simple form\n",
    "\n",
    "#np.matmul matrix multiplication\n",
    "np.matmul(X.T,b)\n",
    "#np.matmul(X.T,3)\n",
    "#only matrix multiplication\n",
    "#. allows scalar, vector, matrix"
   ]
  },
  {
   "cell_type": "code",
   "execution_count": 51,
   "metadata": {},
   "outputs": [
    {
     "name": "stdout",
     "output_type": "stream",
     "text": [
      "(2, 3)\n",
      "(3,)\n",
      "(2,)\n",
      "(2, 1)\n",
      "b_shape1:  (3,)\n",
      "b_shape2:  (3, 1)\n"
     ]
    }
   ],
   "source": [
    "print(X.T.shape)\n",
    "print(b.shape)\n",
    "print((X.T @ b).shape)\n",
    "\n",
    "b_reshape = b.reshape(3,1)\n",
    "print((X.T @b_reshape).shape)\n",
    "#whether b should be shape(m_features, ) or (m_features, 1)\n",
    "#depend on your y\n",
    "#if your y is shape (n_samples, ) or (n_samples,1)\n",
    "\n",
    "#X shape is (2,3) @ (3, ) = (2, )\n",
    "b_shape1 = b.reshape(3, )\n",
    "print(\"b_shape1: \",b_shape1.shape)\n",
    "\n",
    "#X shape is (2,3) @ (3,1) = (2,1)\n",
    "b_shape2 = b.reshape(3,1)\n",
    "print(\"b_shape2: \",b_shape2.shape)\n",
    "\n",
    "#randomize values between [0,1] with the give shape\n",
    "yhat = np.random.rand(2, )\n",
    "\n",
    "#if your y_hat is this shape\n",
    "#make sure your b has no dimension \n",
    "\n",
    "yhat2 = np.random.rand(3,1)\n"
   ]
  },
  {
   "cell_type": "code",
   "execution_count": 52,
   "metadata": {},
   "outputs": [
    {
     "name": "stdout",
     "output_type": "stream",
     "text": [
      "11.0\n"
     ]
    }
   ],
   "source": [
    "x3 = np.array([3,2,15])\n",
    "\n",
    "#what is the price?\n",
    "print(x3.T@b)"
   ]
  },
  {
   "cell_type": "code",
   "execution_count": 53,
   "metadata": {},
   "outputs": [
    {
     "name": "stdout",
     "output_type": "stream",
     "text": [
      "38.599999999999994\n",
      "38.599999999999994\n"
     ]
    }
   ],
   "source": [
    "#basic properties of dot product\n",
    "# dot product refers to @ operations between two vectors\n",
    "# i am talking about vectors not matrix\n",
    "\n",
    "#commutaive law\n",
    "# u.v = v. u\n",
    "#$$ u \\cdot v = v\\cdot u $$\n",
    "\n",
    "u = np.array([4,2,10.2])\n",
    "v = np.array([1,2,3])\n",
    "\n",
    "print(u@v)\n",
    "print(v@u)\n",
    "\n",
    "#associative law (does not follow)\n",
    "#u.(v.w) != (u.v).w\n",
    "#dot product can only be possible between two vectors\n",
    "#Not between a vector and a scalar\n",
    "# u@(v@w)\n",
    "\n",
    "#distribution law\n",
    "#u.(v+w) = u.v + u.w"
   ]
  },
  {
   "cell_type": "code",
   "execution_count": 54,
   "metadata": {},
   "outputs": [
    {
     "name": "stdout",
     "output_type": "stream",
     "text": [
      "(2, 2)\n",
      "(3, 3)\n",
      "(2, 5)\n",
      "(2, 5)\n",
      "(3, 3)\n"
     ]
    }
   ],
   "source": [
    "#this is different for matrix multiplication\n",
    "#many dot products\n",
    "\n",
    "#NOT commutative law\n",
    "#whether left or right side matters\n",
    "#QR != RQ\n",
    "# Q (2,3) \n",
    "# R (3,2)\n",
    "# QR (2,2)\n",
    "# RQ (3,3)\n",
    "Q = np.random.rand(2,3)\n",
    "R = np.random.rand(3,2)\n",
    "print((Q@R).shape)\n",
    "print((R@Q).shape)\n",
    "\n",
    "#associative \n",
    "#order of operation does not matter\n",
    "#Q(RS) == (QR)S\n",
    "\n",
    "S = np.random.rand(2,5)\n",
    "print(((Q@R)@S).shape)\n",
    "print((Q@(R@S)).shape)\n",
    "\n",
    "#distrivutive\n",
    "#(Q+R)S =  QS + RS\n",
    "\n",
    "Q = np.random.rand(3,1)\n",
    "R = np.random.rand(3,1)\n",
    "S = np.random.rand(1, 3)\n",
    "\n",
    "print(((Q+R)@S).shape)\n",
    "#print(((Q@R) + (Q@S)).shape)\n"
   ]
  },
  {
   "cell_type": "code",
   "execution_count": 55,
   "metadata": {},
   "outputs": [],
   "source": [
    "# addition\n",
    "#A + B #A.shape = B.shape"
   ]
  },
  {
   "cell_type": "code",
   "execution_count": 56,
   "metadata": {},
   "outputs": [
    {
     "data": {
      "image/png": "[encoded data removed]",
      "text/plain": [
       "<Figure size 432x288 with 1 Axes>"
      ]
     },
     "metadata": {
      "needs_background": "light"
     },
     "output_type": "display_data"
    }
   ],
   "source": [
    "#vectors as arrows\n",
    "#arrow has two properties\n",
    "#direction\n",
    "#magnitude-length\n",
    "\n",
    "u = np.array([2,5])\n",
    "v = np.array([3,1])\n",
    "\n",
    "import matplotlib.pyplot as plt\n",
    "\n",
    "x,y = zip(u,v)\n",
    "plt.scatter(x,y,color = ['r','b'])\n",
    "plt.axis([0,9,0,6])\n",
    "plt.grid()"
   ]
  },
  {
   "cell_type": "code",
   "execution_count": 57,
   "metadata": {},
   "outputs": [],
   "source": [
    "def plot_arrow(vector2d, origin = [0,0], **options):\n",
    "    #**keyword arguments\n",
    "    return plt.arrow(origin[0], origin[1], vector2d[0], vector2d[1],head_width = 0.2, head_length = 0.3,length_includes_head=True)"
   ]
  },
  {
   "cell_type": "code",
   "execution_count": 58,
   "metadata": {},
   "outputs": [],
   "source": [
    "#plot_arrow(u,color='r')\n"
   ]
  },
  {
   "cell_type": "markdown",
   "metadata": {},
   "source": [
    "How about the length\n",
    "\n",
    "We can use L2-norm to find (Euclidean distance)\n",
    "\n",
    "u =[2,5]\n"
   ]
  },
  {
   "cell_type": "code",
   "execution_count": 59,
   "metadata": {},
   "outputs": [
    {
     "name": "stdout",
     "output_type": "stream",
     "text": [
      "4\n",
      "25\n"
     ]
    },
    {
     "data": {
      "text/plain": [
       "5.385164807134504"
      ]
     },
     "execution_count": 59,
     "metadata": {},
     "output_type": "execute_result"
    }
   ],
   "source": [
    "import math as math\n",
    "i = 0,1\n",
    "u_0 = 2 ** 2 #= 4\n",
    "print(u_0)\n",
    "\n",
    "u_1 = 5 ** 2 #= 25\n",
    "print(u_1)\n",
    "\n",
    "4+25 #= 29\n",
    "\n",
    "math.sqrt(29) #= 5.3\n"
   ]
  },
  {
   "cell_type": "code",
   "execution_count": 60,
   "metadata": {},
   "outputs": [
    {
     "name": "stdout",
     "output_type": "stream",
     "text": [
      "Vector:  [2 5]\n",
      "Squares:  [4, 25]\n",
      "Sum:  29\n",
      "Sum:  29\n",
      "Square root:  5.385164807134504\n"
     ]
    },
    {
     "data": {
      "text/plain": [
       "5.385164807134504"
      ]
     },
     "execution_count": 60,
     "metadata": {},
     "output_type": "execute_result"
    }
   ],
   "source": [
    "def norm(vector):\n",
    "    print(\"Vector: \", vector)\n",
    "    squares = [element **2 for element in vector]\n",
    "    print(\"Squares: \",squares)\n",
    "    print(\"Sum: \",sum(squares))\n",
    "    print(\"Sum: \",np.sum(squares))     # np sum is faster than python sum\n",
    "    sumofsquares = sum(squares)\n",
    "    print(\"Square root: \", np.sqrt(sumofsquares))\n",
    "   # print(\"Square root: \",  sumofsquares())\n",
    "    return sum(squares)**0.5\n",
    "norm(u)"
   ]
  },
  {
   "cell_type": "code",
   "execution_count": 61,
   "metadata": {},
   "outputs": [
    {
     "data": {
      "text/plain": [
       "5.385164807134504"
      ]
     },
     "execution_count": 61,
     "metadata": {},
     "output_type": "execute_result"
    }
   ],
   "source": [
    "import numpy.linalg as LA\n",
    "\n",
    "#help(LA.norm)\n",
    "LA.norm(u)"
   ]
  },
  {
   "cell_type": "code",
   "execution_count": 62,
   "metadata": {},
   "outputs": [
    {
     "data": {
      "text/plain": [
       "(0.0, 9.0, 0.0, 7.0)"
      ]
     },
     "execution_count": 62,
     "metadata": {},
     "output_type": "execute_result"
    },
    {
     "data": {
      "image/png": "[encoded data removed]",
      "text/plain": [
       "<Figure size 432x288 with 1 Axes>"
      ]
     },
     "metadata": {
      "needs_background": "light"
     },
     "output_type": "display_data"
    }
   ],
   "source": [
    "#addition\n",
    "#how does addition look like in arrow\n",
    "plot_arrow(u,color = 'r')\n",
    "plot_arrow(v,color = 'b')\n",
    "plot_arrow(v,origin = u,color = 'b')\n",
    "plot_arrow(u,origin = v, color = 'r')\n",
    "plot_arrow(u+v, color ='g')\n",
    "\n",
    "#text\n",
    "plt.text (0.7,3,\"u\")\n",
    "plt.text (1.8,0.2,\"v\")\n",
    "\n",
    "plt.axis([0,9,0,7])"
   ]
  },
  {
   "cell_type": "code",
   "execution_count": 63,
   "metadata": {},
   "outputs": [
    {
     "data": {
      "image/png": "[encoded data removed]",
      "text/plain": [
       "<Figure size 432x288 with 1 Axes>"
      ]
     },
     "metadata": {
      "needs_background": "light"
     },
     "output_type": "display_data"
    }
   ],
   "source": [
    "#scalar multipolication\n",
    "plot_arrow(v,color = \"b\")\n",
    "plot_arrow(v*1.5,color = \"r\")\n",
    "\n",
    "plt.axis([0,9,0,6])\n",
    "plt.grid()"
   ]
  },
  {
   "cell_type": "code",
   "execution_count": 64,
   "metadata": {},
   "outputs": [],
   "source": [
    "#scalar multiplication\n",
    "#commutative\n",
    "# u*lambda = lambda *u\n",
    "\n",
    "#associative\n",
    "# (lambda1*lambda2)*u = lambda1*(lambda2*u)\n",
    "\n",
    "#distributive"
   ]
  },
  {
   "cell_type": "code",
   "execution_count": 65,
   "metadata": {},
   "outputs": [
    {
     "data": {
      "text/plain": [
       "(0.0, 9.0, 0.0, 6.0)"
      ]
     },
     "execution_count": 65,
     "metadata": {},
     "output_type": "execute_result"
    },
    {
     "data": {
      "image/png": "[encoded data removed]",
      "text/plain": [
       "<Figure size 432x288 with 1 Axes>"
      ]
     },
     "metadata": {
      "needs_background": "light"
     },
     "output_type": "display_data"
    }
   ],
   "source": [
    "#uni vectors\n",
    "plot_arrow(u,color='r')\n",
    "##########\n",
    "\n",
    "plt.grid()\n",
    "plt.axis([0,9,0,6])"
   ]
  },
  {
   "cell_type": "code",
   "execution_count": 66,
   "metadata": {},
   "outputs": [
    {
     "data": {
      "text/plain": [
       "array([[4, 0, 0],\n",
       "       [0, 5, 0],\n",
       "       [0, 0, 6]])"
      ]
     },
     "execution_count": 66,
     "metadata": {},
     "output_type": "execute_result"
    }
   ],
   "source": [
    "#square matrix = row and column are the same\n",
    "#--> posible to find inverse, only square matrix can find inverse (Butnot all)\n",
    "#in many application like cnn convolutional neural network likes square matrices\n",
    "\n",
    "np.diag([4,5,6])\n",
    "\n"
   ]
  },
  {
   "cell_type": "code",
   "execution_count": 67,
   "metadata": {},
   "outputs": [
    {
     "name": "stdout",
     "output_type": "stream",
     "text": [
      "[[ 4.   2. ]\n",
      " [ 2.   1. ]\n",
      " [10.2  4. ]]\n"
     ]
    }
   ],
   "source": [
    "print(X)"
   ]
  },
  {
   "cell_type": "code",
   "execution_count": 68,
   "metadata": {},
   "outputs": [
    {
     "name": "stdout",
     "output_type": "stream",
     "text": [
      "(3, 2)\n",
      "[[ 4.   2. ]\n",
      " [ 2.   1. ]\n",
      " [10.2  4. ]]\n",
      "[[ 4.   2. ]\n",
      " [ 2.   1. ]\n",
      " [10.2  4. ]]\n"
     ]
    }
   ],
   "source": [
    "#X@? = X\n",
    "#?@X =X\n",
    "Im = np.eye(3) #3x3 m number of features\n",
    "In = np.eye(2) #2x2 n number of samples\n",
    "\n",
    "print (X.shape)\n",
    "\n",
    "print(X @ In)\n",
    "\n",
    "print(Im@X)"
   ]
  },
  {
   "cell_type": "code",
   "execution_count": 69,
   "metadata": {},
   "outputs": [
    {
     "data": {
      "image/png": "[encoded data removed]",
      "text/plain": [
       "<Figure size 432x288 with 1 Axes>"
      ]
     },
     "metadata": {
      "needs_background": "light"
     },
     "output_type": "display_data"
    }
   ],
   "source": [
    "#matrix operations\n",
    "#addition --> shifting\n",
    "\n",
    "from matplotlib.patches import Polygon\n",
    "\n",
    "P = np.array([\n",
    "    [3.0,4.0,1.0,4.6],\n",
    "    [0.2,3.5,2.0,0.5]\n",
    "])\n",
    "\n",
    "H = np.array([\n",
    "    [0.5, -.2, 0.2, -0.1],\n",
    "    [0.4,0.4,1.5,0.6]\n",
    "])\n",
    "\n",
    "P_moved = P + H\n",
    "\n",
    "plt.gca().add_artist(Polygon(P.T, alpha=0.2))\n",
    "plt.gca().add_artist(Polygon(P_moved.T,alpha = 0.3, color = \"r\"))\n",
    "\n",
    "plt.axis([0,5,0,4])\n",
    "plt.grid()\n"
   ]
  },
  {
   "cell_type": "code",
   "execution_count": 70,
   "metadata": {},
   "outputs": [],
   "source": [
    "#scalar multiplication\n",
    "def plot_transform(P_before, P_after,axis=[0,5,0,4]):\n",
    "    plt.gca().add_artist(Polygon(P_before.T,alpha=0.2))\n",
    "    plt.gca().add_artist(Polygon(P_after.T,alpha= 0.3,color=\"r\"))\n",
    "    plt.axis(axis)\n",
    "    plt.grid()\n"
   ]
  },
  {
   "cell_type": "code",
   "execution_count": 71,
   "metadata": {},
   "outputs": [
    {
     "data": {
      "image/png": "[encoded data removed]",
      "text/plain": [
       "<Figure size 432x288 with 1 Axes>"
      ]
     },
     "metadata": {
      "needs_background": "light"
     },
     "output_type": "display_data"
    }
   ],
   "source": [
    "P\n",
    "P_scaled = 0.6 * P\n",
    "plot_transform(P,P_scaled)"
   ]
  },
  {
   "cell_type": "code",
   "execution_count": 72,
   "metadata": {},
   "outputs": [
    {
     "name": "stdout",
     "output_type": "stream",
     "text": [
      "[[3.  4.  1.  4.6]\n",
      " [0.2 3.5 2.  0.5]]\n",
      "vector U [1 0]\n",
      "shape U (2,)\n",
      "[3.  4.  1.  4.6]\n"
     ]
    }
   ],
   "source": [
    "#transformations\n",
    "# F @ P ## always the LEFT side of what you want to transform\n",
    "# P is our given vector\n",
    "# F is the transformation\n",
    "# F can be any transformations that we want to achieve\n",
    "\n",
    "print(P)\n",
    "U = np.array([1,0])\n",
    "print(\"vector U\",U)\n",
    "print(\"shape U\",U.shape)\n",
    "print(U.dot(P))"
   ]
  },
  {
   "cell_type": "code",
   "execution_count": 73,
   "metadata": {},
   "outputs": [],
   "source": [
    "def plot_projection(U,P):\n",
    "    U_P = U.dot(P)\n",
    "    plt.gca().add_artist(Polygon(P.T,alpha = 0.2))\n",
    "    for vector, proj in zip(P.T,U_P.T):\n",
    "        print(vector)\n",
    "        print(proj)\n",
    "        proj_point = proj * U\n",
    "        print(proj_point)\n",
    "        #print(proj_point[0])     #[0])\n",
    "        #print(proj_point[1])  #print(proj_point[0][1])\n",
    "        plt.plot(proj_point[0], proj_point[1],\"ro\")\n",
    "        plt.plot([vector[0], proj_point[0]],[vector[1],proj_point[1]], \"r--\")\n",
    "    plt.axis([0,5,0,4])\n",
    "    plt.grid()\n",
    "    plt.show()"
   ]
  },
  {
   "cell_type": "code",
   "execution_count": 74,
   "metadata": {},
   "outputs": [
    {
     "name": "stdout",
     "output_type": "stream",
     "text": [
      "[3.  0.2]\n",
      "3.0\n",
      "[3. 0.]\n",
      "[4.  3.5]\n",
      "4.0\n",
      "[4. 0.]\n",
      "[1. 2.]\n",
      "1.0\n",
      "[1. 0.]\n",
      "[4.6 0.5]\n",
      "4.6\n",
      "[4.6 0. ]\n"
     ]
    },
    {
     "data": {
      "image/png": "[encoded data removed]",
      "text/plain": [
       "<Figure size 432x288 with 1 Axes>"
      ]
     },
     "metadata": {
      "needs_background": "light"
     },
     "output_type": "display_data"
    }
   ],
   "source": [
    "plot_projection(U,P)"
   ]
  },
  {
   "cell_type": "code",
   "execution_count": 75,
   "metadata": {},
   "outputs": [],
   "source": [
    "# rotation\n",
    "#rotation around z-axis\n",
    "#transformation matrix = [cos -sin]\n",
    "                       # [sin cos]\n",
    "import numpy as np\n",
    "def rotateZ(angle):\n",
    "    c = np.cos(np.radians(angle))\n",
    "    s = np.sin(np.radians(angle))\n",
    "    return np.array([[c,-s],\n",
    "                     [s,c]])"
   ]
  },
  {
   "cell_type": "code",
   "execution_count": 76,
   "metadata": {},
   "outputs": [
    {
     "data": {
      "image/png": "[encoded data removed]",
      "text/plain": [
       "<Figure size 432x288 with 1 Axes>"
      ]
     },
     "metadata": {
      "needs_background": "light"
     },
     "output_type": "display_data"
    }
   ],
   "source": [
    "P_rotated = rotateZ(30).dot(P)\n",
    "plot_transform(P,P_rotated,axis = [-2,6,0,6])"
   ]
  },
  {
   "cell_type": "code",
   "execution_count": 77,
   "metadata": {},
   "outputs": [
    {
     "data": {
      "image/png": "[encoded data removed]",
      "text/plain": [
       "<Figure size 432x288 with 1 Axes>"
      ]
     },
     "metadata": {
      "needs_background": "light"
     },
     "output_type": "display_data"
    }
   ],
   "source": [
    "F_shear = np.array([\n",
    "    [1,1.5],\n",
    "    [0,1]    #Original vector of y does not change\n",
    "])\n",
    "\n",
    "plot_transform(P,F_shear.dot(P),axis=[0,10,0,7])\n",
    "#plt.show()"
   ]
  },
  {
   "cell_type": "code",
   "execution_count": 78,
   "metadata": {},
   "outputs": [
    {
     "data": {
      "image/png": "[encoded data removed]",
      "text/plain": [
       "<Figure size 432x288 with 1 Axes>"
      ]
     },
     "metadata": {
      "needs_background": "light"
     },
     "output_type": "display_data"
    }
   ],
   "source": [
    "Square = np.array([\n",
    "    [0,0,1,1],\n",
    "    [0,1,1,0]\n",
    "])\n",
    "plot_transform(Square,F_shear.dot(Square), axis = [0,2.6,0,1.8])"
   ]
  },
  {
   "cell_type": "code",
   "execution_count": 79,
   "metadata": {},
   "outputs": [
    {
     "data": {
      "image/png": "[encoded data removed]",
      "text/plain": [
       "<Figure size 432x288 with 1 Axes>"
      ]
     },
     "metadata": {
      "needs_background": "light"
     },
     "output_type": "display_data"
    }
   ],
   "source": [
    "F_squeeze = np.array([\n",
    "    [1.5,0],\n",
    "    [0,1/1.5]\n",
    "])\n",
    "plot_transform(P,F_squeeze.dot(P), axis = [0,7,0,5])\n"
   ]
  },
  {
   "cell_type": "code",
   "execution_count": 80,
   "metadata": {},
   "outputs": [
    {
     "data": {
      "image/png": "[encoded data removed]",
      "text/plain": [
       "<Figure size 432x288 with 1 Axes>"
      ]
     },
     "metadata": {
      "needs_background": "light"
     },
     "output_type": "display_data"
    }
   ],
   "source": [
    "#Inverse\n",
    "F_inv_shear = LA.inv(F_shear) #LA = library\n",
    "P_sheared = F_shear.dot(P) #Transform P with shear\n",
    "P_unsheared = F_inv_shear.dot(P_sheared) #undo it\n",
    "\n",
    "plot_transform(P_sheared,P_unsheared , axis=[0,10,0,7])\n",
    "\n",
    "# M.M^-1 = M^-1.M\n",
    "# Does all M have inverse?\n",
    "# Not all, something is invertable => 1. square matrices R(nxn) 2.non-singular(full-rank) "
   ]
  },
  {
   "cell_type": "code",
   "execution_count": 81,
   "metadata": {},
   "outputs": [],
   "source": [
    "#### Singular matrix = no inv\n",
    "# A = np.array([\n",
    "#     [2,3],\n",
    "#     [4,6]\n",
    "# ])\n",
    "\n",
    "# LA.inv(A)"
   ]
  },
  {
   "cell_type": "code",
   "execution_count": 83,
   "metadata": {},
   "outputs": [
    {
     "data": {
      "image/png": "[encoded data removed]",
      "text/plain": [
       "<Figure size 432x288 with 1 Axes>"
      ]
     },
     "metadata": {
      "needs_background": "light"
     },
     "output_type": "display_data"
    }
   ],
   "source": [
    "#determinant\n",
    "#what is the purppose of determinant\n",
    "#1. Find whether it is invertible\n",
    "# if det  = 0, the matrix cannot be inversed\n",
    "#else, maybe, hopefully ok\n",
    "#determinant is the area\n",
    "\n",
    "LA.det(F_shear)\n",
    "# LA.det(A) #det  = 0 means not invertible\n",
    "\n",
    "#2. find the area of the transformation./ how much did you transform\n",
    "F_scale = np.array([\n",
    "    [0.5, 0],\n",
    "    [0, 0.5]\n",
    "])\n",
    "plot_transform(P,F_scale.dot(P), axis=[0,6,-1,4])\n"
   ]
  },
  {
   "cell_type": "code",
   "execution_count": 84,
   "metadata": {},
   "outputs": [
    {
     "data": {
      "text/plain": [
       "0.25"
      ]
     },
     "execution_count": 84,
     "metadata": {},
     "output_type": "execute_result"
    }
   ],
   "source": [
    "LA.det(F_scale) #find scale(enlarged etc)"
   ]
  },
  {
   "cell_type": "code",
   "execution_count": 85,
   "metadata": {},
   "outputs": [
    {
     "name": "stdout",
     "output_type": "stream",
     "text": [
      "[[1.  1.5]\n",
      " [0.  1. ]]\n"
     ]
    }
   ],
   "source": [
    "#Singular value decomposition\n",
    "\n",
    "# Any matrix M: R--> mxn in the world can be decomposed into \n",
    "#.U.Sigma.VT\n",
    "# Definition of Orthonormal - unit vectors that are orthogonal\n",
    "#Orthogonal - vectors are perpendicular\n",
    "# Orthognal -xT.y = 0 then x and y are orthogonal\n",
    "# examples x = [1]   y [0]\n",
    "#.             [0]     [-1]\n",
    "# U = [1 0]\n",
    "#     [0 -1] --> Orthogonal\n",
    "# orthonormal_U = 1/sqrt(2) [1 0]\n",
    "#                           [0  -1]\n",
    "# U is a orthonormal-orthogonal :R --> (mxn)\n",
    "# S is a diag R --> (mxn)\n",
    "# only values in the diagonal, but 0 elsewhere\n",
    "# V is also a orthogonal matrix R --> (nxn)\n",
    "#where U is orthonormal(unit 1)-orthogonal (perpendicular)\n",
    "\n",
    "U,S_diag, V_T = LA.svd(F_shear)\n",
    "print(F_shear)"
   ]
  },
  {
   "cell_type": "code",
   "execution_count": 86,
   "metadata": {},
   "outputs": [
    {
     "name": "stdout",
     "output_type": "stream",
     "text": [
      "[[ 0.89442719 -0.4472136 ]\n",
      " [ 0.4472136   0.89442719]]\n",
      "[2.  0.5]\n",
      "[[2.  0. ]\n",
      " [0.  0.5]]\n",
      "[[ 0.4472136   0.89442719]\n",
      " [-0.89442719  0.4472136 ]]\n"
     ]
    }
   ],
   "source": [
    "print(U)\n",
    "print(S_diag) \n",
    "print(np.diag(S_diag)) #np.diag will fill the zero\n",
    "print(V_T)\n",
    "\n",
    "S = np.diag(S_diag)"
   ]
  },
  {
   "cell_type": "code",
   "execution_count": 91,
   "metadata": {},
   "outputs": [
    {
     "data": {
      "image/png": "[encoded data removed]",
      "text/plain": [
       "<Figure size 432x288 with 1 Axes>"
      ]
     },
     "metadata": {
      "needs_background": "light"
     },
     "output_type": "display_data"
    }
   ],
   "source": [
    "#V is a rotation matrix\n",
    "V_apply = V_T.dot(Square)#V\n",
    "plot_transform(Square,V_apply,axis=[-0.5,3.5,-1.5,1.5])"
   ]
  },
  {
   "cell_type": "code",
   "execution_count": 92,
   "metadata": {},
   "outputs": [
    {
     "data": {
      "image/png": "[encoded data removed]",
      "text/plain": [
       "<Figure size 432x288 with 1 Axes>"
      ]
     },
     "metadata": {
      "needs_background": "light"
     },
     "output_type": "display_data"
    }
   ],
   "source": [
    "#S\n",
    "S_apply=S.dot(V_apply)\n",
    "plot_transform(V_apply,S_apply,axis=[-0.5,3.5,-1.5,1.5])"
   ]
  },
  {
   "cell_type": "code",
   "execution_count": 93,
   "metadata": {},
   "outputs": [
    {
     "data": {
      "image/png": "[encoded data removed]",
      "text/plain": [
       "<Figure size 432x288 with 1 Axes>"
      ]
     },
     "metadata": {
      "needs_background": "light"
     },
     "output_type": "display_data"
    }
   ],
   "source": [
    "#U\n",
    "U_apply = U.dot(S_apply)\n",
    "plot_transform(S_apply,U_apply,axis=[-0.5,3.5,-1.5,1.5])\n"
   ]
  },
  {
   "cell_type": "code",
   "execution_count": 94,
   "metadata": {},
   "outputs": [],
   "source": [
    "#V rotation matrix\n",
    "#Sigma scaling/squeezing matrix\n",
    "#U rotation matrix\n",
    "\n",
    "#any matrix can be decomposed into these three components\n",
    "#U is actually row space eigenvector\n",
    "#Sigma is actually eigenvalues\n",
    "#V is ctually col space eigenvectors\n"
   ]
  },
  {
   "cell_type": "code",
   "execution_count": null,
   "metadata": {},
   "outputs": [],
   "source": []
  }
 ],
 "metadata": {
  "kernelspec": {
   "display_name": "Python 3",
   "language": "python",
   "name": "python3"
  },
  "language_info": {
   "codemirror_mode": {
    "name": "ipython",
    "version": 3
   },
   "file_extension": ".py",
   "mimetype": "text/x-python",
   "name": "python",
   "nbconvert_exporter": "python",
   "pygments_lexer": "ipython3",
   "version": "3.8.3"
  }
 },
 "nbformat": 4,
 "nbformat_minor": 4
}
