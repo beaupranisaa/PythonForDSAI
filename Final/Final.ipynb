{
 "cells": [
  {
   "cell_type": "markdown",
   "metadata": {},
   "source": [
    "# CP - Final - 2020\n",
    "\n",
    "## Instruction\n",
    "\n",
    "- Modify this file to be Final-<Your FirstName-[First Letter of Last Name]>, e.g., <code>Final-Chaklam-S.ipynb</code>\n",
    "- This exam accounts for 45% of the overall course assessment.\n",
    "- This exam is open-booked; open-internet.\n",
    "- You ARE NOT allowed to use sklearn or pytorch libraries, unless stated.\n",
    "- The completed exams shall be submitted at the Google Classroom\n",
    "- All code should be **complemented with comments**, unless it's really obvious.  **I and Joe reserve the privilege to give you zero for any part of the question where the benefit of doubt is not justified**\n",
    "\n",
    "## Examination Rules:\n",
    "- For **offline** students, you may leave the room temporarily with the approval and supervision of the proctors. No extra time will be added to the exam in such cases.\n",
    "- For **online** students, you are required to turn on your webcam during the entire period of the exam time\n",
    "- Students will be allowed to leave at the **earliest 45 minutes** after the exam has started\n",
    "- **All work should belong to you**.  A student should NOT engage in the following activities which proctors reserve the right to interpret any of such act as academic dishonesty without questioning:\n",
    "    - Chatting with any human beings physically or via online methods\n",
    "    - Plagiarism of any sort, i.e., copying from internet sources or friends.  **Both copee and copier shall be given a minimum penalty of zero mark for that particular question or the whole exam.**\n",
    "- No make-up exams are allowed.  Special considerations may be given upon a valid reason on unpredictable events such as accidents or serious sickness."
   ]
  },
  {
   "cell_type": "code",
   "execution_count": 1,
   "metadata": {},
   "outputs": [],
   "source": [
    "import numpy as np\n",
    "import matplotlib.pyplot as plt"
   ]
  },
  {
   "cell_type": "markdown",
   "metadata": {},
   "source": [
    "## Question 1 (22 pts)"
   ]
  },
  {
   "cell_type": "markdown",
   "metadata": {},
   "source": [
    "1). **Autoencoder**\n",
    "\n",
    "You shall implement autoencoder (NOT variational autoencoders) which shall serve the purpose of dimensionality reduction.  You shall use the Neural Network from scratch code of our class as base.  You are NOT allow to use pyTorch.\n",
    "\n",
    "a). Load the boston data from sklearn, and preprocessing it accordingly (1pt)\n"
   ]
  },
  {
   "cell_type": "code",
   "execution_count": 137,
   "metadata": {},
   "outputs": [],
   "source": [
    "from neuralnet.second_version import *"
   ]
  },
  {
   "cell_type": "code",
   "execution_count": 138,
   "metadata": {},
   "outputs": [
    {
     "name": "stdout",
     "output_type": "stream",
     "text": [
      "shapes of X, y\n",
      "(506, 13) (506,)\n"
     ]
    }
   ],
   "source": [
    "from sklearn.datasets import load_boston\n",
    "import copy\n",
    "X,y = load_boston(return_X_y = True)\n",
    "print('shapes of X, y')\n",
    "print(X.shape,y.shape)"
   ]
  },
  {
   "cell_type": "code",
   "execution_count": 139,
   "metadata": {},
   "outputs": [
    {
     "name": "stdout",
     "output_type": "stream",
     "text": [
      "shapes of X_train, y_train\n",
      "(354, 13) (354, 1)\n",
      "shapes of X_test, y_test\n",
      "(152, 13) (152, 1)\n"
     ]
    }
   ],
   "source": [
    "from sklearn.model_selection import train_test_split\n",
    "\n",
    "X_train, X_test, y_train, y_test = train_test_split(X, y, \n",
    "                test_size=0.3, shuffle=True, random_state=42)\n",
    "\n",
    "#since our train function assumes y to be shape of (n, 1)\n",
    "y_train, y_test = y_train.reshape(-1, 1), y_test.reshape(-1, 1)\n",
    "\n",
    "# double check the shapes\n",
    "assert X_train.shape[0] == y_train.shape[0]\n",
    "# assert len(X_train)  == len(y_train)\n",
    "assert X_test.shape[0] == y_test.shape[0]\n",
    "# assert len(X_test) == len(y_test)\n",
    "\n",
    "print('shapes of X_train, y_train')\n",
    "print(X_train.shape,y_train.shape)\n",
    "print('shapes of X_test, y_test')\n",
    "print(X_test.shape,y_test.shape)\n",
    "\n"
   ]
  },
  {
   "cell_type": "code",
   "execution_count": 140,
   "metadata": {},
   "outputs": [],
   "source": [
    "from sklearn.preprocessing import StandardScaler\n",
    "scaler = StandardScaler()\n",
    "X_train = scaler.fit_transform(X_train)\n",
    "X_test = scaler.transform(X_test)"
   ]
  },
  {
   "cell_type": "markdown",
   "metadata": {},
   "source": [
    "b). The general architecture of the autoencoder is as follows (10pts):\n",
    "\n",
    "                        x = 13 --fc--> 7 --fc--> 3 --fc--> 7 --fc--> 13 = x'\n",
    "    \n",
    "Here fc stands for fully connected / dense layer.  I shall leave the activation, momentum, dropout, learning rate, epochs, number of layers and other parameters as open-ended for you to try out.  For those who don't quite understand what is this neural network does, it is simply squeezing 13 features (the original x) into 7 then to 3.  The left half is called the encoder.  Then from 3, it attempts to reconstruct to 7 and then to 13 (the reconstructed x').  The right half is called the decoder.  Thus the neural network is simply a dimensionality reduction machine. Note that we are NOT working on variational autoencoder in which the encoder splits out mu and sigma, and hence become a generative model.\n"
   ]
  },
  {
   "cell_type": "code",
   "execution_count": 6,
   "metadata": {},
   "outputs": [],
   "source": [
    "# model = NeuralNetwork(\n",
    "#     layers=[Dense(neurons=13, \n",
    "#                   activation=Sigmoid(),\n",
    "#                   weight_init=\"glorot\",\n",
    "#                   dropout=0.8),\n",
    "#             Dense(neurons=7, \n",
    "#                   activation=Sigmoid(),\n",
    "#                   weight_init=\"glorot\",\n",
    "#                   dropout=0.8),\n",
    "#             Dense(neurons=3, \n",
    "#                   activation=Sigmoid(),\n",
    "#                   weight_init=\"glorot\",\n",
    "#                   dropout=0.8),\n",
    "#             Dense(neurons=7, \n",
    "#                   activation=Sigmoid(),\n",
    "#                   weight_init=\"glorot\",\n",
    "#                   dropout=0.8),\n",
    "#             Dense(neurons=13, \n",
    "#                   activation=Linear(),\n",
    "#                   weight_init=\"glorot\")],\n",
    "#             loss = AutoEndMeanSquaredError(), \n",
    "# seed=20200720)"
   ]
  },
  {
   "cell_type": "markdown",
   "metadata": {},
   "source": [
    "c). Define the loss function as the reconstruction loss, which is simply the the MSE (5pts)\n",
    "\n",
    "$$\\frac{1}{nm}\\sum\\limits_i^n\\sum\\limits_j^m (x_{ij} - x'_{ij})^2$$\n",
    "\n",
    "Here follows our course notation where $m$ is number of sample, and $n$ is number of features.  Note that since we are not working on variational autoencoder, we don't need to care about KL divergence.\n",
    "    "
   ]
  },
  {
   "cell_type": "code",
   "execution_count": 7,
   "metadata": {},
   "outputs": [],
   "source": [
    "#Test code"
   ]
  },
  {
   "cell_type": "code",
   "execution_count": 141,
   "metadata": {},
   "outputs": [],
   "source": [
    "# a = np.full((4,2), 1)\n",
    "# b = np.full((4,2), 3)\n",
    "# print(a)\n",
    "# print(b)\n",
    "# print(a-b)\n",
    "# power = np.power((a-b),2)\n",
    "# print(power)\n",
    "# power = np.sum(power,axis = 1)\n",
    "# print('axis = 1',power)\n",
    "# power = np.sum(power,axis = 0)\n",
    "# print('axis = 0',power)"
   ]
  },
  {
   "cell_type": "markdown",
   "metadata": {},
   "source": [
    "### Override NeuralNetwork at trainer_batch specifically at batch_loss because we arer calculating loss between X_batch and the X_pred and not y"
   ]
  },
  {
   "cell_type": "code",
   "execution_count": 142,
   "metadata": {},
   "outputs": [],
   "source": [
    "#Neural Network\n",
    "class NeuralNetworkAutoEncoder(object):\n",
    "    def __init__(self, \n",
    "                 layers: List[Layer],\n",
    "                 loss: Loss,\n",
    "                 seed: int = 1):\n",
    "        self.layers = layers\n",
    "        self.loss = loss\n",
    "        self.seed = seed\n",
    "        if seed:\n",
    "            for layer in self.layers:\n",
    "                setattr(layer, \"seed\", self.seed)        \n",
    "  \n",
    "    def forward(self, X_batch: ndarray,\n",
    "                inference=False) ->  ndarray:   #<----added inference as param\n",
    "\n",
    "        X_out = X_batch\n",
    "        for layer in self.layers:\n",
    "            X_out = layer.forward(X_out, inference)  #<----added inference as param\n",
    "\n",
    "        return X_out\n",
    "    \n",
    "    def backward(self, loss_grad: ndarray):\n",
    "        grad = loss_grad\n",
    "        for layer in reversed(self.layers):\n",
    "            grad = layer.backward(grad)\n",
    "            \n",
    "            #you may wonder why I did not return anything\n",
    "            #it's because in Layer.backward, it is appending this value to param_grads to each layer\n",
    "            #this return \"grad\" is simply something it returns\n",
    "  \n",
    "    def train_batch(self,\n",
    "                    X_batch: ndarray,\n",
    "                    y_batch: ndarray,\n",
    "                    inference: bool = False) -> float:  #<-----added inference as param\n",
    "\n",
    "        prediction = self.forward(X_batch, inference)  #<----added inference as param\n",
    "\n",
    "        batch_loss = self.loss.forward(prediction, X_batch)  ##################### changed to self.loss.forward(prediction, X_batch)\n",
    "        loss_grad = self.loss.backward()\n",
    "\n",
    "        self.backward(loss_grad)\n",
    "\n",
    "        return batch_loss\n",
    "    \n",
    "    def params(self):\n",
    "        #get the parameters for the network\n",
    "        #use for updating w and b\n",
    "        for layer in self.layers:\n",
    "            #equivalent for-loop yield\n",
    "            #yield is different from return is that\n",
    "            #it will return a sequence of values\n",
    "            yield from layer.params\n",
    "\n",
    "    def param_grads(self):\n",
    "        #get the gradient of the loss with respect to the parameters\n",
    "        #for the network\n",
    "        #use for updating w and b\n",
    "        for layer in self.layers:\n",
    "            yield from layer.param_grads"
   ]
  },
  {
   "cell_type": "markdown",
   "metadata": {},
   "source": [
    "### Override Trainer at evaluating test because we are calculating loss between X_test and the X_pred_test and not y_pred"
   ]
  },
  {
   "cell_type": "code",
   "execution_count": 143,
   "metadata": {},
   "outputs": [],
   "source": [
    "class TrainerAutoEncoder(object):\n",
    "    #NeuralNetwork and Optimizer as attributes\n",
    "    def __init__(self,\n",
    "                 net: NeuralNetwork,\n",
    "                 optim: Optimizer):\n",
    "        #Requires a neural network and an optimizer in order for \n",
    "        #training to occur. \n",
    "        self.net = net\n",
    "        self.optim = optim\n",
    "        self.best_loss = 1e9  #use for comparing the least amount of loss\n",
    "        \n",
    "        #Assign the neural network as an instance variable to \n",
    "        #the optimizer when the code runs\n",
    "        setattr(self.optim, 'net', self.net)\n",
    "    \n",
    "\n",
    "    # helper function for shuffling\n",
    "    def permute_data(self, X, y):\n",
    "        perm = np.random.permutation(X.shape[0])\n",
    "        return X[perm], y[perm]\n",
    "\n",
    "    # helper function for generating batches\n",
    "    def generate_batches(self,\n",
    "                         X: ndarray,\n",
    "                         y: ndarray,\n",
    "                         size: int = 32) -> Tuple[ndarray]:\n",
    "        #X and y should have same number of rows\n",
    "        assert X.shape[0] == y.shape[0]\n",
    "\n",
    "        N = X.shape[0]\n",
    "\n",
    "        for i in range(0, N, size):\n",
    "            X_batch, y_batch = X[i:i+size], y[i:i+size]\n",
    "            #return a generator that can be loop\n",
    "            yield X_batch, y_batch\n",
    "\n",
    "            \n",
    "    def fit(self, X_train: ndarray, y_train: ndarray,\n",
    "            X_test: ndarray, y_test: ndarray,\n",
    "            epochs: int=100,\n",
    "            eval_every: int=10,\n",
    "            batch_size: int=32,\n",
    "            seed: int = 20200720,\n",
    "            restart: bool = True):\n",
    "        \n",
    "        \n",
    "        setattr(self.optim, 'max_epochs', epochs)\n",
    "        self.optim._setup_decay()\n",
    "\n",
    "        np.random.seed(seed)\n",
    "        \n",
    "        #for resetting\n",
    "        if restart:\n",
    "            for layer in self.net.layers:\n",
    "                layer.first = True\n",
    "\n",
    "            self.best_loss = 1e9\n",
    "        \n",
    "        #Fits the neural network on the training data for a certain \n",
    "        #number of epochs.\n",
    "        for e in range(epochs):\n",
    "            \n",
    "            if (e+1) % eval_every == 0:\n",
    "                \n",
    "                # for early stopping\n",
    "                # deepcopy is a hardcopy function that make sure it construct a new object (copy() is a shallow copy)\n",
    "                last_model = deepcopy(self.net)\n",
    "\n",
    "            X_train, y_train = self.permute_data(X_train, y_train)\n",
    "\n",
    "            batch_generator = self.generate_batches(X_train, y_train,\n",
    "                                                    batch_size)\n",
    "\n",
    "            for (X_batch, y_batch) in batch_generator:\n",
    "\n",
    "                self.net.train_batch(X_batch, y_batch)\n",
    "\n",
    "                self.optim.step()\n",
    "            \n",
    "            #Every \"eval_every\" epochs, it evaluated the neural network \n",
    "            #on the testing data.\n",
    "            if (e+1) % eval_every == 0:\n",
    "\n",
    "                test_preds = self.net.forward(X_test, inference=True) #<----inference   #<---make sure validation does not use dropout\n",
    "                loss = self.net.loss.forward(test_preds, X_test) ################## changed to self.net.loss.forward(test_preds, X_test)\n",
    "\n",
    "                if loss < self.best_loss:\n",
    "                    print(f\"Validation loss after {e+1} epochs is {loss:.3f}\")\n",
    "                    self.best_loss = loss\n",
    "                #if the validation loss is not lower, it stop and perform early stopping\n",
    "                else:\n",
    "                    print(f\"\"\"Loss increased after epoch {e+1}, final loss was {self.best_loss:.3f}, using the model from epoch {e+1-eval_every}\"\"\")\n",
    "                    self.net = last_model\n",
    "                    # ensure self.optim is still updating self.net\n",
    "                    setattr(self.optim, 'net', self.net)\n",
    "                    break\n",
    "            \n",
    "            #call this at the end of each epoch\n",
    "            if self.optim.final_lr:\n",
    "                self.optim._decay_lr() "
   ]
  },
  {
   "cell_type": "markdown",
   "metadata": {},
   "source": [
    "### Add Loss for Autoencoder"
   ]
  },
  {
   "cell_type": "code",
   "execution_count": 179,
   "metadata": {},
   "outputs": [],
   "source": [
    "class AutoEndMeanSquaredError(Loss):\n",
    "    def __init__(self):\n",
    "        super().__init__()\n",
    "\n",
    "    def _output(self) -> float:\n",
    "        loss = np.power((self.target - self.prediction),2)\n",
    "        loss = np.sum(loss, axis = 1)\n",
    "        loss = np.sum(loss,axis = 0)\n",
    "        return loss / (self.prediction.shape[0] * self.prediction.shape[1])\n",
    "\n",
    "    def _input_grad(self) -> ndarray:\n",
    "        grad = (self.prediction - self.target)\n",
    "        return 2.0 * grad / (self.prediction.shape[0] * self.prediction.shape[1])"
   ]
  },
  {
   "cell_type": "code",
   "execution_count": 180,
   "metadata": {},
   "outputs": [],
   "source": [
    "class Relu(Operation):\n",
    "    def __init__(self) -> None:\n",
    "        super().__init__()\n",
    "    \n",
    "    def _output(self, inference: bool) -> ndarray: \n",
    "        return np.maximum(0,self.input_)\n",
    "\n",
    "    def _input_grad(self, output_grad: ndarray) -> ndarray:\n",
    "        self.output[self.output <= 0] = 0\n",
    "        self.output[self.output > 0] = 1\n",
    "        return output_grad * self.output \n",
    "\n",
    "class LeakyRelu(Operation):\n",
    "    def __init__(self) -> None:\n",
    "        super().__init__()\n",
    "    \n",
    "    def _output(self, inference: bool) -> ndarray: \n",
    "        return np.maximum(0.2*self.input_,self.input_)\n",
    "\n",
    "    def _input_grad(self, output_grad: ndarray) -> ndarray:\n",
    "        dz = np.ones_like(self.output)\n",
    "        dz[self.output<0] = 0.2\n",
    "        return output_grad * dz\n"
   ]
  },
  {
   "cell_type": "markdown",
   "metadata": {},
   "source": [
    "d). Execute the model, and print out the reconstruction loss.  Make sure they become smaller!  Also make sure to optimize the parameters (2pts)"
   ]
  },
  {
   "cell_type": "code",
   "execution_count": 206,
   "metadata": {},
   "outputs": [],
   "source": [
    "model = NeuralNetworkAutoEncoder(\n",
    "    layers=[Dense(neurons=13, \n",
    "                  activation=Tanh(),\n",
    "                  weight_init=\"glorot\",\n",
    "                  dropout=0.9),\n",
    "            Dense(neurons=7, \n",
    "                  activation=Tanh(),\n",
    "                  weight_init=\"glorot\",\n",
    "                  dropout=0.9),\n",
    "            Dense(neurons=3, \n",
    "                  activation=Tanh(),\n",
    "                  weight_init=\"glorot\",\n",
    "                  dropout=0.9),\n",
    "            Dense(neurons=7, \n",
    "                  activation=Tanh(),\n",
    "                  weight_init=\"glorot\",\n",
    "                  dropout=0.8),\n",
    "            Dense(neurons=13, \n",
    "                  activation=Linear(),\n",
    "                  weight_init=\"glorot\")],\n",
    "            loss = AutoEndMeanSquaredError(), \n",
    "seed=20200720)"
   ]
  },
  {
   "cell_type": "code",
   "execution_count": 207,
   "metadata": {},
   "outputs": [
    {
     "name": "stdout",
     "output_type": "stream",
     "text": [
      "Validation loss after 1 epochs is 1.041\n",
      "Validation loss after 2 epochs is 1.037\n",
      "Validation loss after 3 epochs is 1.034\n",
      "Validation loss after 4 epochs is 1.032\n",
      "Validation loss after 5 epochs is 1.031\n",
      "Validation loss after 6 epochs is 1.030\n",
      "Validation loss after 7 epochs is 1.029\n",
      "Validation loss after 8 epochs is 1.027\n",
      "Validation loss after 9 epochs is 1.025\n",
      "Validation loss after 10 epochs is 1.025\n",
      "Validation loss after 11 epochs is 1.024\n",
      "Validation loss after 12 epochs is 1.023\n",
      "Validation loss after 13 epochs is 1.021\n",
      "Validation loss after 14 epochs is 1.017\n",
      "Validation loss after 15 epochs is 1.014\n",
      "Validation loss after 16 epochs is 1.011\n",
      "Validation loss after 17 epochs is 1.007\n",
      "Validation loss after 18 epochs is 1.000\n",
      "Validation loss after 19 epochs is 0.990\n",
      "Validation loss after 20 epochs is 0.976\n",
      "Validation loss after 21 epochs is 0.957\n",
      "Validation loss after 22 epochs is 0.927\n",
      "Validation loss after 23 epochs is 0.881\n",
      "Validation loss after 24 epochs is 0.825\n",
      "Validation loss after 25 epochs is 0.765\n",
      "Validation loss after 26 epochs is 0.711\n",
      "Validation loss after 27 epochs is 0.666\n",
      "Validation loss after 28 epochs is 0.637\n",
      "Validation loss after 29 epochs is 0.620\n",
      "Validation loss after 30 epochs is 0.609\n",
      "Validation loss after 31 epochs is 0.600\n",
      "Validation loss after 32 epochs is 0.593\n",
      "Validation loss after 33 epochs is 0.587\n",
      "Validation loss after 34 epochs is 0.583\n",
      "Validation loss after 35 epochs is 0.581\n",
      "Validation loss after 36 epochs is 0.578\n",
      "Validation loss after 37 epochs is 0.576\n",
      "Validation loss after 38 epochs is 0.573\n",
      "Validation loss after 39 epochs is 0.571\n",
      "Validation loss after 40 epochs is 0.568\n",
      "Validation loss after 41 epochs is 0.564\n",
      "Validation loss after 42 epochs is 0.560\n",
      "Validation loss after 43 epochs is 0.558\n",
      "Validation loss after 44 epochs is 0.556\n",
      "Loss increased after epoch 45, final loss was 0.556, using the model from epoch 44\n",
      "========= Accuracy ========\n",
      "MSE:  0.6090755186513259\n",
      "r2 score:  0.39330733941019524\n"
     ]
    }
   ],
   "source": [
    "trainer = TrainerAutoEncoder(model,SGDMomentum(lr=0.01, momentum=0.9,final_lr=0.05, decay_type='exponential'))\n",
    "trainer.fit(X_train, y_train, X_test, y_test,\n",
    "            epochs = 100,\n",
    "            eval_every = 1,\n",
    "            seed=20200720,\n",
    "            batch_size=50)\n",
    "\n",
    "from sklearn.metrics import mean_squared_error\n",
    "from sklearn.metrics import r2_score\n",
    "\n",
    "def calc_accuracy_linear(model, X_test, y_test):    \n",
    "    #getting the accuracy score with testing data\n",
    "    preds = model.forward(X_test)\n",
    "    print(\"MSE: \", mean_squared_error(X_test, preds))\n",
    "    print(\"r2 score: \", r2_score(X_test, preds))\n",
    "\n",
    "print('========= Accuracy ========')\n",
    "calc_accuracy_linear(model, X_test, y_test)"
   ]
  },
  {
   "cell_type": "markdown",
   "metadata": {},
   "source": [
    "e). Perform predictions and compare (2pts):\n",
    "   - Using the output from a forward pass (see below) on the encoder (NOT the decoder) to predict y\n",
    "   \n",
    "       13 --fc--> 7 --fc--> 3\n",
    "       \n",
    "   \n",
    "   - Using the output from a sklearn PCA with n_components=3 to predict y\n"
   ]
  },
  {
   "cell_type": "code",
   "execution_count": 208,
   "metadata": {},
   "outputs": [],
   "source": [
    "model = NeuralNetwork(\n",
    "    layers=[Dense(neurons=13, \n",
    "                  activation=Tanh(),\n",
    "                  weight_init=\"glorot\",\n",
    "                  dropout=0.9),\n",
    "            Dense(neurons=7, \n",
    "                  activation=Tanh(),\n",
    "                  weight_init=\"glorot\",\n",
    "                  dropout=0.9),\n",
    "            Dense(neurons=3, \n",
    "                  activation=Tanh(),\n",
    "                  weight_init=\"glorot\",\n",
    "                  dropout=0.9),\n",
    "            Dense(neurons=1, \n",
    "                  activation=Linear(),\n",
    "                  weight_init=\"glorot\")],\n",
    "            loss = MeanSquaredError(), \n",
    "seed=20200720)"
   ]
  },
  {
   "cell_type": "code",
   "execution_count": 209,
   "metadata": {},
   "outputs": [
    {
     "name": "stdout",
     "output_type": "stream",
     "text": [
      "Validation loss after 10 epochs is 526.486\n",
      "Validation loss after 20 epochs is 446.929\n",
      "Validation loss after 30 epochs is 252.303\n",
      "Validation loss after 40 epochs is 84.044\n",
      "Validation loss after 50 epochs is 45.568\n",
      "Validation loss after 60 epochs is 26.214\n",
      "Loss increased after epoch 70, final loss was 26.214, using the model from epoch 60\n"
     ]
    }
   ],
   "source": [
    "trainer = Trainer(model,SGDMomentum(lr=0.00001, momentum=0.9,final_lr=0.05, decay_type='exponential'))\n",
    "trainer.fit(X_train, y_train, X_test, y_test,\n",
    "            epochs = 100,\n",
    "            eval_every = 10,\n",
    "            seed=20200720,\n",
    "            batch_size=50)\n",
    "\n",
    "preds = model.forward(X_test)"
   ]
  },
  {
   "cell_type": "code",
   "execution_count": 210,
   "metadata": {},
   "outputs": [
    {
     "name": "stdout",
     "output_type": "stream",
     "text": [
      "========= Accuracy ========\n",
      "MSE:  44.95388421113917\n",
      "r2 score:  0.39669820628784824\n"
     ]
    }
   ],
   "source": [
    "from sklearn.metrics import mean_squared_error\n",
    "from sklearn.metrics import r2_score\n",
    "\n",
    "def calc_accuracy_linear(model, X_test, y_test):    \n",
    "    #getting the accuracy score with testing data\n",
    "    preds = model.forward(X_test)\n",
    "    print(\"MSE: \", mean_squared_error(y_test, preds))\n",
    "    print(\"r2 score: \", r2_score(y_test, preds))\n",
    "    \n",
    "print('========= Accuracy ========')\n",
    "calc_accuracy_linear(model, X_test, y_test)"
   ]
  },
  {
   "cell_type": "markdown",
   "metadata": {},
   "source": [
    "#### PCA "
   ]
  },
  {
   "cell_type": "code",
   "execution_count": 212,
   "metadata": {},
   "outputs": [
    {
     "name": "stdout",
     "output_type": "stream",
     "text": [
      "(506, 13)\n",
      "(506, 3)\n"
     ]
    }
   ],
   "source": [
    "##### PCA with Sklearn\n",
    "from sklearn.decomposition import PCA\n",
    "boston = load_boston()\n",
    "pca = PCA(3)  # project to 3\n",
    "projected = pca.fit_transform(boston.data)\n",
    "print(boston.data.shape)\n",
    "print(projected.shape)"
   ]
  },
  {
   "cell_type": "code",
   "execution_count": 213,
   "metadata": {},
   "outputs": [
    {
     "name": "stdout",
     "output_type": "stream",
     "text": [
      "Validation loss after 1 epochs is 528.260\n",
      "Validation loss after 2 epochs is 517.280\n",
      "Validation loss after 3 epochs is 504.970\n",
      "Validation loss after 4 epochs is 492.093\n",
      "Validation loss after 5 epochs is 478.161\n",
      "Validation loss after 6 epochs is 462.885\n",
      "Validation loss after 7 epochs is 446.352\n",
      "Validation loss after 8 epochs is 429.491\n",
      "Validation loss after 9 epochs is 410.724\n",
      "Validation loss after 10 epochs is 390.383\n",
      "Validation loss after 11 epochs is 368.990\n",
      "Validation loss after 12 epochs is 346.546\n",
      "Validation loss after 13 epochs is 322.522\n",
      "Validation loss after 14 epochs is 298.300\n",
      "Validation loss after 15 epochs is 273.202\n",
      "Validation loss after 16 epochs is 247.610\n",
      "Validation loss after 17 epochs is 222.208\n",
      "Validation loss after 18 epochs is 197.663\n",
      "Validation loss after 19 epochs is 173.882\n",
      "Validation loss after 20 epochs is 152.018\n",
      "Validation loss after 21 epochs is 131.843\n",
      "Validation loss after 22 epochs is 113.869\n",
      "Validation loss after 23 epochs is 98.961\n",
      "Validation loss after 24 epochs is 85.999\n",
      "Validation loss after 25 epochs is 75.915\n",
      "Validation loss after 26 epochs is 67.575\n",
      "Validation loss after 27 epochs is 61.397\n",
      "Validation loss after 28 epochs is 56.595\n",
      "Validation loss after 29 epochs is 52.552\n",
      "Validation loss after 30 epochs is 49.669\n",
      "Validation loss after 31 epochs is 47.600\n",
      "Validation loss after 32 epochs is 45.660\n",
      "Validation loss after 33 epochs is 44.261\n",
      "Validation loss after 34 epochs is 42.875\n",
      "Validation loss after 35 epochs is 41.827\n",
      "Validation loss after 36 epochs is 40.561\n",
      "Validation loss after 37 epochs is 39.147\n",
      "Validation loss after 38 epochs is 38.060\n",
      "Validation loss after 39 epochs is 36.448\n",
      "Validation loss after 40 epochs is 34.915\n",
      "Validation loss after 41 epochs is 33.694\n",
      "Validation loss after 42 epochs is 32.080\n",
      "Validation loss after 43 epochs is 30.764\n",
      "Validation loss after 44 epochs is 29.321\n",
      "Validation loss after 45 epochs is 27.938\n",
      "Validation loss after 46 epochs is 26.555\n",
      "Validation loss after 47 epochs is 26.235\n",
      "Validation loss after 48 epochs is 25.235\n",
      "Validation loss after 49 epochs is 24.137\n",
      "Validation loss after 50 epochs is 23.283\n",
      "Loss increased after epoch 51, final loss was 23.283, using the model from epoch 50\n"
     ]
    }
   ],
   "source": [
    "model = NeuralNetwork(\n",
    "    layers=[Dense(neurons=3, \n",
    "                  activation=Sigmoid(),\n",
    "                  weight_init=\"glorot\",\n",
    "                  dropout=0.8),\n",
    "            Dense(neurons=1, \n",
    "                  activation=Linear(),\n",
    "                  weight_init=\"glorot\")],\n",
    "            loss = MeanSquaredError(), \n",
    "seed=20200720)\n",
    "trainer = Trainer(model,SGDMomentum(lr=0.00001, momentum=0.9,final_lr=0.05, decay_type='exponential'))\n",
    "trainer.fit(X_train, y_train, X_test, y_test,\n",
    "            epochs = 100,\n",
    "            eval_every = 1,\n",
    "            seed=20200720,\n",
    "            batch_size=10)\n",
    "\n",
    "preds = model.forward(X_test)"
   ]
  },
  {
   "cell_type": "code",
   "execution_count": 214,
   "metadata": {},
   "outputs": [
    {
     "name": "stdout",
     "output_type": "stream",
     "text": [
      "========= Accuracy ========\n",
      "MSE:  31.11878266352059\n",
      "r2 score:  0.5823716297603367\n"
     ]
    }
   ],
   "source": [
    "from sklearn.metrics import mean_squared_error\n",
    "from sklearn.metrics import r2_score\n",
    "\n",
    "def calc_accuracy_linear(model, X_test, y_test):    \n",
    "    #getting the accuracy score with testing data\n",
    "    preds = model.forward(X_test)\n",
    "    print(\"MSE: \", mean_squared_error(y_test, preds))\n",
    "    print(\"r2 score: \", r2_score(y_test, preds))\n",
    "    \n",
    "print('========= Accuracy ========')\n",
    "calc_accuracy_linear(model, X_test, y_test)"
   ]
  },
  {
   "cell_type": "markdown",
   "metadata": {},
   "source": [
    "f). Which one is better?  Why? (2pts)"
   ]
  },
  {
   "cell_type": "markdown",
   "metadata": {},
   "source": [
    "PCA seems to perform better because PCA does not neglect any information, but only projected it to a specified dimension"
   ]
  },
  {
   "cell_type": "markdown",
   "metadata": {},
   "source": [
    "## Question 2 (10 pts)\n",
    "#### Have you learned how to write a class?"
   ]
  },
  {
   "cell_type": "code",
   "execution_count": 215,
   "metadata": {},
   "outputs": [
    {
     "name": "stdout",
     "output_type": "stream",
     "text": [
      "Yes :))))))))\n"
     ]
    }
   ],
   "source": [
    "print('Yes :))))))))')"
   ]
  },
  {
   "cell_type": "markdown",
   "metadata": {},
   "source": [
    "Imagine you have been employed as a programmer in a big named car company. Your company has an existing in-house program that helps them to create and design a new car. Their program works great, so you do not need to worry about touching the existing code. Happy day? Not yet.\n",
    "\n",
    "Now that they have hired you, your employer wants you to develop a new program that runs on python (because python is great). Your first task is to write a core class that models a generic car.\n",
    "\n",
    "A certain car has the following properties.\n",
    "- segment: {a, b, c, d}\n",
    "- style: {sedan, crossover, suv, truck}\n",
    "- body-color: {black, white, red, blue, yellow}\n",
    "- init-price: <need to calculate>\n",
    "\n",
    "Once the car has been designed (all the parameter is set), your model should report the initial price. The calculation is straightforward, it is the summation of each properties listed below.\n",
    "\n",
    "- segment \n",
    "  - a: 100\n",
    "  - b: 200\n",
    "  - c: 300\n",
    "  - d: 400\n",
    "- style\n",
    "  - sedan: 500\n",
    "  - crossover: 1000 \n",
    "  - suv: 1200\n",
    "  - truck: 700\n",
    "- body-color:\n",
    "  - black: 10\n",
    "  - white: 99\n",
    "  - red: 150\n",
    "  - blue: 20\n",
    "  - yellow: 20"
   ]
  },
  {
   "cell_type": "markdown",
   "metadata": {},
   "source": [
    "1. (1pt) Create a class name <code>Car</code>\n",
    "2. (1pt) Write a constructor with no argument.\n",
    "3. (2pts) Each properties must have a <code>get</code> and <code>set</code> method.\n",
    "4. (2pts) Do not forget to check the input in the <code>set</code> method. An error should be thrown when the input is out of range.\n",
    "5. (1pt) Write a <code>report</code> method that \"return\" a string of properties in the following format.\n",
    "segment:<segment\\>|style:<style\\>|body-color:<body-color\\>|init-price:<init-price\\>"
   ]
  },
  {
   "cell_type": "code",
   "execution_count": 228,
   "metadata": {},
   "outputs": [],
   "source": [
    "# Your code here\n",
    "class Car:\n",
    "    def __init__(self):\n",
    "        pass\n",
    "    \n",
    "    def set_segment(self,segment):\n",
    "        self.segment = segment\n",
    "        self.price_segment = 0\n",
    "        if self.segment == 'a':\n",
    "            self.price_segment = 100\n",
    "        elif self.segment == 'b':\n",
    "            self.price_segment = 200\n",
    "        elif self.segment == 'c':\n",
    "            self.price_segment = 300\n",
    "        if self.segment == 'd':\n",
    "            self.price_segment = 400\n",
    "        \n",
    "    def set_style(self,style):\n",
    "        self.style = style\n",
    "        self.price_style = 0\n",
    "        if self.style == 'sedan':\n",
    "            self.price_style = 500\n",
    "        elif self.style == 'crossover':\n",
    "            self.price_style = 1000\n",
    "        elif self.style == 'suv':\n",
    "            self.price_style = 1200\n",
    "        if self.style == 'truck':\n",
    "            self.price_style = 700\n",
    "        \n",
    "    def set_body_color(self, color):\n",
    "        self.color = color\n",
    "        self.price_color = 0\n",
    "        if self.color == 'black':\n",
    "            self.price_color = 10\n",
    "        elif self.color == 'white':\n",
    "            self.price_color = 99\n",
    "        elif self.color == 'red':\n",
    "            self.price_color = 150\n",
    "        elif self.color == 'blue':\n",
    "            self.price_color = 20  \n",
    "        if self.color == 'yellow':\n",
    "            self.price_color = 20\n",
    "            \n",
    "    def get_segment(self):\n",
    "        return self.segment\n",
    "    \n",
    "    def get_style(self):\n",
    "        return self.style\n",
    "    \n",
    "    def get_body_color(self):\n",
    "        return self.color\n",
    "    \n",
    "    def get_init_price(self):\n",
    "        self.total_price = (self.price_segment + self.price_style + self.price_color)\n",
    "        return (self.price_segment + self.price_style + self.price_color)\n",
    "    \n",
    "    def report(self):\n",
    "        return f\"segment:{self.segment}|style:{self.style}|body-color:{self.color}|init-price:{self.total_price}\""
   ]
  },
  {
   "cell_type": "code",
   "execution_count": 235,
   "metadata": {},
   "outputs": [],
   "source": [
    "# 6. (2pts) You get a point for passing this code section.\n",
    "vios = Car()\n",
    "vios.set_segment('b')\n",
    "vios.set_style('sedan')\n",
    "vios.set_body_color('black')\n",
    "\n",
    "assert vios.get_segment() == 'b'\n",
    "assert vios.get_style() == 'sedan'\n",
    "assert vios.get_body_color() == 'black'\n",
    "assert vios.get_init_price() == (200 + 500 + 10)\n",
    "assert vios.report() == \"segment:b|style:sedan|body-color:black|init-price:7\"\n",
    "\n",
    "# print(\"Yay! 2pts\")"
   ]
  },
  {
   "cell_type": "code",
   "execution_count": 66,
   "metadata": {},
   "outputs": [
    {
     "name": "stdout",
     "output_type": "stream",
     "text": [
      "Yay! 2pts\n"
     ]
    }
   ],
   "source": [
    "print(\"Yay! 2pts\")"
   ]
  },
  {
   "cell_type": "code",
   "execution_count": null,
   "metadata": {},
   "outputs": [],
   "source": [
    "# 7. (1pt) Now, find a way to show that your vios.set_segment('the out of range input') is fully implemented without an error.\n",
    "# hint: try-except, unittest\n",
    "\n",
    "\n",
    "\n",
    "# Your code here"
   ]
  },
  {
   "cell_type": "markdown",
   "metadata": {},
   "source": [
    "## Question 3 (15 pts)"
   ]
  },
  {
   "cell_type": "markdown",
   "metadata": {},
   "source": [
    "The story continues from the previous question. Your company is now trying to adopt a fancier data analytic technique known as Machine Learning. Since your transcript from AIT indicates that you have gone through both ML by Dr. Matt and CP for DSAI by Dr. Chaklam, the task is assigned to your team.\n",
    "\n",
    "You have asked your teammate John and Dave from where ever they are from to collect sample data to perform a classification.\n",
    "\n",
    "Days pass by, you receive an email from Dave. \n",
    "\n",
    "=============================================\n",
    "\n",
    "Dear mate,\n",
    "\n",
    "John and I have uploaded the collected data into \"/Dataset\" folder [here](https://drive.google.com/drive/folders/1QgRtF2eCqayi1yCCKx-2-bkpRBlZaBxT?usp=sharing). The file is named after our name. I remember you told us that John has to collect dataset 1 and I have to collect dataset 2 so I labeled 2 on the last axis to help you in advance. No need to thank (wink wink).\n",
    "\n",
    "By the way, We saved the file in matlab format. I hope it will not cause you any problem since you are an expert from AIT right?\n",
    "\n",
    "sincerely,\n",
    "\n",
    "Dave\n",
    "\n",
    "Your teammate from where ever I am from\n",
    "\n",
    "=============================================\n",
    "\n",
    "\n",
    "1. (1pt) Locate the files and load them.\n",
    "- Hint: https://docs.scipy.org/doc/scipy/reference/tutorial/io.html\n",
    "2. (1pt) Verify the collecting period.\n",
    "3. (1pt) Verify the collected data shape.\n",
    "4. (2pts) Preprocess the data. (Fix the label) "
   ]
  },
  {
   "cell_type": "code",
   "execution_count": 107,
   "metadata": {},
   "outputs": [],
   "source": [
    "# Your code here\n",
    "#1.\n",
    "import scipy.io\n",
    "john_mat = scipy.io.loadmat('John.mat')\n",
    "dave_mat = scipy.io.loadmat('Dave.mat')"
   ]
  },
  {
   "cell_type": "code",
   "execution_count": 108,
   "metadata": {},
   "outputs": [
    {
     "name": "stdout",
     "output_type": "stream",
     "text": [
      "John, collected period:  ['20201010-20201015']\n",
      "Dave, collected period:  ['20201010-20201015']\n"
     ]
    }
   ],
   "source": [
    "#2.\n",
    "print(\"John, collected period: \", john_mat['Collected Period'])\n",
    "print(\"Dave, collected period: \", dave_mat['Collected Period'])\n"
   ]
  },
  {
   "cell_type": "code",
   "execution_count": 109,
   "metadata": {},
   "outputs": [
    {
     "name": "stdout",
     "output_type": "stream",
     "text": [
      "John, shapes of data\n",
      "(50, 2)\n",
      "Dave, shapes of data\n",
      "(300, 3)\n"
     ]
    }
   ],
   "source": [
    "#3.\n",
    "# print(john_mat)\n",
    "data_john = john_mat['Data']\n",
    "data_dave = dave_mat['Data']\n",
    "# print(y.shape)\n",
    "print('John, shapes of data')\n",
    "print(data_john.shape)\n",
    "print('Dave, shapes of data')\n",
    "print(data_dave.shape)\n",
    "# print(data_dave)\n",
    "# print(data_dave)"
   ]
  },
  {
   "cell_type": "code",
   "execution_count": 110,
   "metadata": {},
   "outputs": [
    {
     "name": "stdout",
     "output_type": "stream",
     "text": [
      "(50, 3)\n"
     ]
    }
   ],
   "source": [
    "#4.\n",
    "john_label = np.zeros((data_john.shape[0],1))\n",
    "data_john = np.concatenate((data_john,john_label), axis = 1)\n",
    "print(data_john.shape)\n",
    "data_dave[data_dave[:,2]==2,2] = 1\n",
    "# print(data_john)\n",
    "# print(data_dave)"
   ]
  },
  {
   "cell_type": "markdown",
   "metadata": {},
   "source": [
    "5. (1pt) Plot the data.   "
   ]
  },
  {
   "cell_type": "code",
   "execution_count": 111,
   "metadata": {},
   "outputs": [
    {
     "data": {
      "text/plain": [
       "<matplotlib.legend.Legend at 0x7f94e31757c0>"
      ]
     },
     "execution_count": 111,
     "metadata": {},
     "output_type": "execute_result"
    },
    {
     "data": {
      "image/png": "[encoded data removed]",
      "text/plain": [
       "<Figure size 432x288 with 1 Axes>"
      ]
     },
     "metadata": {
      "needs_background": "light"
     },
     "output_type": "display_data"
    }
   ],
   "source": [
    "# Your code here\n",
    "plt.scatter(data_john[:,0],data_john[:,1], label ='john')\n",
    "plt.scatter(data_dave[:,0],data_dave[:,1], label ='dave')\n",
    "plt.legend()"
   ]
  },
  {
   "cell_type": "markdown",
   "metadata": {},
   "source": [
    "6. (2pts) Plan your strategy. What did you see? What are you going to do? Why?"
   ]
  },
  {
   "cell_type": "markdown",
   "metadata": {},
   "source": [
    "##### Your explanation Here\n",
    "As shown above, it is clear to see the imbalance between the two data collections where one of John's contains the relatively smaller amount of data than that one Dave's\n",
    "\n",
    "As for the strategy tackling such classification problem, i go for a model using randomforest method, since random forest has an effective method for estimating missing data and maintains the accuracy  when large proportion of the data are missing.\n",
    "It has methods for balancing errors in data set where classes arre imbalanced "
   ]
  },
  {
   "cell_type": "markdown",
   "metadata": {},
   "source": [
    "So, as for my tree_params, i added 'class_weight' : {0,1/7,1:6/7} as for the data collected by dave is 350 datapoints and one by John is 50 data points"
   ]
  },
  {
   "cell_type": "markdown",
   "metadata": {},
   "source": [
    "7. (4pts) Develop a model."
   ]
  },
  {
   "cell_type": "code",
   "execution_count": 125,
   "metadata": {},
   "outputs": [],
   "source": [
    "# Your code here\n",
    "import random, math\n",
    "from sklearn.tree import DecisionTreeClassifier\n",
    "from scipy import stats\n",
    "from sklearn.metrics import classification_report, accuracy_score\n",
    "\n",
    "class RandomForest:\n",
    "    def __init__(self, B, bootstrap_ratio, with_no_replacement=True):\n",
    "        self.B = B\n",
    "        self.bootstrap_ratio = bootstrap_ratio\n",
    "        self.with_no_replacement = with_no_replacement\n",
    "        ######### max_features = 'sqrt'\n",
    "        self.tree_params = {'max_depth': 2, 'max_features': 'sqrt','class_weight' : {0:1/7, 1:6/7}}\n",
    "        self.models = [DecisionTreeClassifier(**self.tree_params) for _ in range(B)]\n",
    "                \n",
    "    def fit(self, X, y):  #<---X_train, y_train\n",
    "        m, n = X.shape\n",
    "\n",
    "        #sample size for each tree\n",
    "        sample_size = int(self.bootstrap_ratio * len(X))\n",
    "\n",
    "        xsamples = np.zeros((B, sample_size, n))\n",
    "        ysamples = np.zeros((B, sample_size))\n",
    "\n",
    "        xsamples_oob = []  #use list because length is not known\n",
    "        ysamples_oob = []\n",
    "\n",
    "        #bootstrapping samples for each model\n",
    "        for i in range(self.B):\n",
    "            oob_idx = []\n",
    "            idxes = []\n",
    "            for j in range(sample_size):\n",
    "                idx = random.randrange(m)\n",
    "                if (self.with_no_replacement):\n",
    "                    while idx in idxes:\n",
    "                        idx = random.randrange(m)\n",
    "                idxes.append(idx)\n",
    "                oob_idx.append(idx)\n",
    "                xsamples[i, j, :] = X[idx]\n",
    "                ysamples[i, j] = y[idx]\n",
    "            mask = np.zeros((m), dtype=bool)\n",
    "            mask[oob_idx] = True\n",
    "            xsamples_oob.append(X[~mask])\n",
    "            ysamples_oob.append(y[~mask])\n",
    "    \n",
    "        #fitting each estimator\n",
    "        oob_score = 0\n",
    "        print(\"======Out of bag score for each tree======\")\n",
    "        for i, model in enumerate(self.models):\n",
    "            \n",
    "            _X = xsamples[i]\n",
    "            _y = ysamples[i]\n",
    "            model.fit(_X, _y)\n",
    "\n",
    "            #calculating oob score\n",
    "            _X_test = np.asarray(xsamples_oob[i])\n",
    "            _y_test = np.asarray(ysamples_oob[i])\n",
    "            yhat = model.predict(_X_test)\n",
    "            oob_score += accuracy_score(_y_test, yhat)\n",
    "            print(f\"Tree {i}\", accuracy_score(_y_test, yhat))\n",
    "        self.avg_oob_score = oob_score / len(self.models)\n",
    "        print(\"======Average out of bag score======\")\n",
    "        print(self.avg_oob_score)\n",
    "    \n",
    "    def predict(self, X): #<---X_test\n",
    "        #make prediction and return the probabilities\n",
    "        predictions = np.zeros((self.B, X.shape[0]))\n",
    "        for i, model in enumerate(self.models):\n",
    "            yhat = model.predict(X)\n",
    "            predictions[i, :] = yhat\n",
    "        return stats.mode(predictions)[0][0]"
   ]
  },
  {
   "cell_type": "code",
   "execution_count": 126,
   "metadata": {},
   "outputs": [
    {
     "name": "stdout",
     "output_type": "stream",
     "text": [
      "(350, 3)\n",
      "(350, 2)\n",
      "(350,)\n"
     ]
    }
   ],
   "source": [
    "data = np.concatenate((data_john,data_dave),axis = 0)\n",
    "print(data.shape)\n",
    "X = data[:,:2]\n",
    "y = data[:,2]\n",
    "print(X.shape)\n",
    "print(y.shape)"
   ]
  },
  {
   "cell_type": "code",
   "execution_count": 127,
   "metadata": {},
   "outputs": [
    {
     "name": "stdout",
     "output_type": "stream",
     "text": [
      "======= Train =======\n",
      "(245, 2) (245,)\n",
      "======= Test =======\n",
      "(105, 2) (105,)\n"
     ]
    }
   ],
   "source": [
    "# X, y = make_blobs(n_samples=3000, centers=4,random_state=40, cluster_std=1.0)\n",
    "\n",
    "X_train, X_test, y_train, y_test = train_test_split(X, y,test_size=0.3, shuffle=True, random_state=42)\n",
    "\n",
    "print('======= Train =======')\n",
    "print(X_train.shape,y_train.shape)\n",
    "print('======= Test =======')\n",
    "print(X_test.shape,y_test.shape)"
   ]
  },
  {
   "cell_type": "code",
   "execution_count": 128,
   "metadata": {},
   "outputs": [],
   "source": [
    "from sklearn.preprocessing import StandardScaler\n",
    "scaler = StandardScaler()\n",
    "X_train = scaler.fit_transform(X_train)\n",
    "X_test = scaler.transform(X_test)"
   ]
  },
  {
   "cell_type": "code",
   "execution_count": 129,
   "metadata": {},
   "outputs": [
    {
     "name": "stdout",
     "output_type": "stream",
     "text": [
      "======Out of bag score for each tree======\n",
      "Tree 0 0.9591836734693877\n",
      "Tree 1 0.9795918367346939\n",
      "Tree 2 0.8571428571428571\n",
      "Tree 3 1.0\n",
      "Tree 4 0.7959183673469388\n",
      "======Average out of bag score======\n",
      "0.9183673469387754\n"
     ]
    }
   ],
   "source": [
    "B= 5\n",
    "model = RandomForest(B=5, bootstrap_ratio=0.8)\n",
    "model.fit(X_train, y_train)\n",
    "yhat = model.predict(X_test)"
   ]
  },
  {
   "cell_type": "markdown",
   "metadata": {},
   "source": [
    "8. (1pt) Show report."
   ]
  },
  {
   "cell_type": "code",
   "execution_count": 130,
   "metadata": {},
   "outputs": [
    {
     "name": "stdout",
     "output_type": "stream",
     "text": [
      "              precision    recall  f1-score   support\n",
      "\n",
      "         0.0       1.00      1.00      1.00        16\n",
      "         1.0       1.00      1.00      1.00        89\n",
      "\n",
      "    accuracy                           1.00       105\n",
      "   macro avg       1.00      1.00      1.00       105\n",
      "weighted avg       1.00      1.00      1.00       105\n",
      "\n"
     ]
    }
   ],
   "source": [
    "print(classification_report(y_test, yhat))"
   ]
  },
  {
   "cell_type": "markdown",
   "metadata": {},
   "source": [
    "9. (2pts) Is the result good. If not, Why?"
   ]
  },
  {
   "cell_type": "markdown",
   "metadata": {},
   "source": [
    "Well, it seems like a good model. Each of the 5 trees result in high accuracy."
   ]
  },
  {
   "cell_type": "code",
   "execution_count": 131,
   "metadata": {},
   "outputs": [
    {
     "data": {
      "image/png": "[encoded data removed]",
      "text/plain": [
       "<Figure size 432x288 with 1 Axes>"
      ]
     },
     "metadata": {
      "needs_background": "light"
     },
     "output_type": "display_data"
    }
   ],
   "source": [
    "def plot_tree(model, X, y):\n",
    "    plt.grid()\n",
    "    plt.scatter(X[:, 0], X[:, 1], c=y, s=30)\n",
    "    xx, yy = np.meshgrid(np.linspace(np.min(X[:,0]), np.max(X[:,0]), num=200),\n",
    "                             np.linspace(np.min(X[:,1]), np.max(X[:,1]), num=200))\n",
    "#     print(xx.shape,yy.shape)\n",
    "#     print(X[:, 0].shape, X[:, 1].shape)\n",
    "    Z = model.predict(np.c_[xx.ravel(), yy.ravel()]).reshape(xx.shape)\n",
    "#     print(Z.shape)\n",
    "    # Create a color plot with the results\n",
    "    n_classes = len(set(y))\n",
    "    contours = plt.contourf(xx, yy, Z, alpha=0.2)\n",
    "\n",
    "# plot_tree(bag, X_train[:,:2], y_train)    \n",
    "    \n",
    "########### only 2 featuresssssssss\n",
    "plot_tree(model, X_test[:,:2], y_test)"
   ]
  },
  {
   "cell_type": "code",
   "execution_count": null,
   "metadata": {},
   "outputs": [],
   "source": []
  }
 ],
 "metadata": {
  "kernelspec": {
   "display_name": "Python 3",
   "language": "python",
   "name": "python3"
  },
  "language_info": {
   "codemirror_mode": {
    "name": "ipython",
    "version": 3
   },
   "file_extension": ".py",
   "mimetype": "text/x-python",
   "name": "python",
   "nbconvert_exporter": "python",
   "pygments_lexer": "ipython3",
   "version": "3.8.8"
  }
 },
 "nbformat": 4,
 "nbformat_minor": 4
}
